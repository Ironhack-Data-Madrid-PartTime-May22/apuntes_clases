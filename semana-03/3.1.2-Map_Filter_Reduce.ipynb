{
 "cells": [
  {
   "cell_type": "markdown",
   "id": "b55e5997",
   "metadata": {
    "toc": true
   },
   "source": [
    "<h1>Table of Contents<span class=\"tocSkip\"></span></h1>\n",
    "<div class=\"toc\"><ul class=\"toc-item\"><li><span><a href=\"#¿Qué-son?\" data-toc-modified-id=\"¿Qué-son?-1\"><span class=\"toc-item-num\">1&nbsp;&nbsp;</span>¿Qué son?</a></span></li><li><span><a href=\"#Map\" data-toc-modified-id=\"Map-2\"><span class=\"toc-item-num\">2&nbsp;&nbsp;</span>Map</a></span></li><li><span><a href=\"#Filter\" data-toc-modified-id=\"Filter-3\"><span class=\"toc-item-num\">3&nbsp;&nbsp;</span>Filter</a></span></li><li><span><a href=\"#Reduce\" data-toc-modified-id=\"Reduce-4\"><span class=\"toc-item-num\">4&nbsp;&nbsp;</span>Reduce</a></span></li></ul></div>"
   ]
  },
  {
   "cell_type": "markdown",
   "id": "a960ac21",
   "metadata": {},
   "source": [
    "# ¿Qué son?"
   ]
  },
  {
   "cell_type": "markdown",
   "id": "ac256c49",
   "metadata": {},
   "source": [
    "- Las tres funciones son funciones incorporadas aplicadas a iterables (listas, tuplas etc.), que realizan operaciones de mapeo, cálculo recursivo y filtrado en los iterables. \n",
    "\n",
    "\n",
    "- Brindan un enfoque más elegante y abreviado para nuestro código.\n",
    "\n",
    "\n",
    "- Estas tres funciones a menudo se usan junto con funciones lambda o *list comprehensions*. \n"
   ]
  },
  {
   "cell_type": "markdown",
   "id": "7d056621",
   "metadata": {},
   "source": [
    "\n",
    "![image.png](https://github.com/Ironhack-Data-Madrid-PartTime-Oct22/imagenes/blob/master/semana-3/MFR.png?raw=true)"
   ]
  },
  {
   "cell_type": "markdown",
   "id": "44a15767",
   "metadata": {},
   "source": [
    "# Map "
   ]
  },
  {
   "cell_type": "markdown",
   "id": "c040a374",
   "metadata": {},
   "source": [
    "Podemos utilizar la función map de Python para generar una nueva lista a partir de un iterable.\n",
    "\n",
    "Map es una función que toma como entrada un iterable y una función. Aplicará a cada elemento de la lista una acción  a través de esta función (o una lambda) y producirá una nueva lista con el mismo número de elementos. "
   ]
  },
  {
   "cell_type": "markdown",
   "id": "2e58fa88",
   "metadata": {},
   "source": [
    "```python\n",
    "# Sintaxis básica de map\n",
    "new_list = list(map(funcion, iterable))\n",
    "```\n",
    "\n",
    "📌 Los iterables pueden ser listas, tuplas o sets"
   ]
  },
  {
   "cell_type": "markdown",
   "id": "b3c2ce86",
   "metadata": {},
   "source": [
    "Podemos usar funciones que vengas predefinidas en Pyhton: "
   ]
  },
  {
   "cell_type": "code",
   "execution_count": 2,
   "id": "243b80f4",
   "metadata": {},
   "outputs": [],
   "source": [
    "lista_palabras = [\"brocoli\", \"jamon\", \"chorizo\", \"huevo\", \"zanahoria\", \"brocoli\"]"
   ]
  },
  {
   "cell_type": "markdown",
   "id": "ee566165",
   "metadata": {},
   "source": [
    "Queremos poner todos los elementos de nuestra lista en mayúscula\n"
   ]
  },
  {
   "cell_type": "code",
   "execution_count": 3,
   "id": "725cf0bd",
   "metadata": {},
   "outputs": [
    {
     "data": {
      "text/plain": [
       "['BROCOLI', 'JAMON', 'CHORIZO', 'HUEVO', 'ZANAHORIA', 'BROCOLI']"
      ]
     },
     "execution_count": 3,
     "metadata": {},
     "output_type": "execute_result"
    }
   ],
   "source": [
    "# rollo clasico\n",
    "\n",
    "mayus_lista = []\n",
    "\n",
    "for palabra in lista_palabras:\n",
    "    \n",
    "    mayus_lista.append(palabra.upper())\n",
    "    \n",
    "mayus_lista"
   ]
  },
  {
   "cell_type": "code",
   "execution_count": 4,
   "id": "4b68e54d",
   "metadata": {},
   "outputs": [
    {
     "data": {
      "text/plain": [
       "['BROCOLI', 'JAMON', 'CHORIZO', 'HUEVO', 'ZANAHORIA', 'BROCOLI']"
      ]
     },
     "execution_count": 4,
     "metadata": {},
     "output_type": "execute_result"
    }
   ],
   "source": [
    "# comprimido\n",
    "\n",
    "mayus_lista2 = [palabra.upper() for palabra in lista_palabras]\n",
    "\n",
    "mayus_lista2"
   ]
  },
  {
   "cell_type": "code",
   "execution_count": 7,
   "id": "cfc3e3bf",
   "metadata": {},
   "outputs": [
    {
     "data": {
      "text/plain": [
       "<method 'upper' of 'str' objects>"
      ]
     },
     "execution_count": 7,
     "metadata": {},
     "output_type": "execute_result"
    }
   ],
   "source": [
    "str.upper"
   ]
  },
  {
   "cell_type": "code",
   "execution_count": 8,
   "id": "cacdf1c5",
   "metadata": {},
   "outputs": [
    {
     "data": {
      "text/plain": [
       "<map at 0x105def940>"
      ]
     },
     "execution_count": 8,
     "metadata": {},
     "output_type": "execute_result"
    }
   ],
   "source": [
    "#map(funcion, iterable)\n",
    "\n",
    "map(str.upper, lista_palabras)"
   ]
  },
  {
   "cell_type": "code",
   "execution_count": 43,
   "id": "8825dc59",
   "metadata": {},
   "outputs": [
    {
     "data": {
      "text/plain": [
       "['BROCOLI', 'JAMON', 'CHORIZO', 'HUEVO', 'ZANAHORIA', 'BROCOLI']"
      ]
     },
     "execution_count": 43,
     "metadata": {},
     "output_type": "execute_result"
    }
   ],
   "source": [
    "mayus = list(map(str.upper, lista_palabras))\n",
    "\n",
    "mayus"
   ]
  },
  {
   "cell_type": "code",
   "execution_count": 42,
   "id": "d6adf409",
   "metadata": {},
   "outputs": [
    {
     "name": "stdout",
     "output_type": "stream",
     "text": [
      "BROCOLI\n",
      "JAMON\n",
      "CHORIZO\n",
      "HUEVO\n",
      "ZANAHORIA\n",
      "BROCOLI\n"
     ]
    }
   ],
   "source": [
    "for e in map(str.upper, lista_palabras):\n",
    "    print(e)"
   ]
  },
  {
   "cell_type": "code",
   "execution_count": 11,
   "id": "827f188b",
   "metadata": {},
   "outputs": [
    {
     "ename": "TypeError",
     "evalue": "descriptor 'upper' for 'str' objects doesn't apply to a 'int' object",
     "output_type": "error",
     "traceback": [
      "\u001b[0;31m---------------------------------------------------------------------------\u001b[0m",
      "\u001b[0;31mTypeError\u001b[0m                                 Traceback (most recent call last)",
      "Cell \u001b[0;32mIn[11], line 1\u001b[0m\n\u001b[0;32m----> 1\u001b[0m \u001b[38;5;28;43mlist\u001b[39;49m\u001b[43m(\u001b[49m\u001b[38;5;28;43mmap\u001b[39;49m\u001b[43m(\u001b[49m\u001b[38;5;28;43mstr\u001b[39;49m\u001b[38;5;241;43m.\u001b[39;49m\u001b[43mupper\u001b[49m\u001b[43m,\u001b[49m\u001b[43m \u001b[49m\u001b[43mlista_palabras\u001b[49m\u001b[38;5;241;43m+\u001b[39;49m\u001b[43m[\u001b[49m\u001b[38;5;241;43m0\u001b[39;49m\u001b[43m]\u001b[49m\u001b[43m)\u001b[49m\u001b[43m)\u001b[49m\n",
      "\u001b[0;31mTypeError\u001b[0m: descriptor 'upper' for 'str' objects doesn't apply to a 'int' object"
     ]
    }
   ],
   "source": [
    "list(map(str.upper, lista_palabras+[0]))"
   ]
  },
  {
   "cell_type": "code",
   "execution_count": 12,
   "id": "6912bebf",
   "metadata": {},
   "outputs": [
    {
     "data": {
      "text/plain": [
       "{'BROCOLI', 'CHORIZO', 'HUEVO', 'JAMON', 'ZANAHORIA'}"
      ]
     },
     "execution_count": 12,
     "metadata": {},
     "output_type": "execute_result"
    }
   ],
   "source": [
    "set(map(str.upper, lista_palabras))"
   ]
  },
  {
   "cell_type": "markdown",
   "id": "e699acd7",
   "metadata": {},
   "source": [
    "También podemos usar funciones que definamos nosotros. En este caso, queremos elevar al cuadrado todos los elementos de una lista de números\n"
   ]
  },
  {
   "cell_type": "code",
   "execution_count": 15,
   "id": "6bc3bf48",
   "metadata": {},
   "outputs": [
    {
     "data": {
      "text/plain": [
       "[3, 13, 24, 42, 20, 33, 41, 31, 21, 46, 47, 7, 32, 2, 36, 14, 43, 19, 22, 29]"
      ]
     },
     "execution_count": 15,
     "metadata": {},
     "output_type": "execute_result"
    }
   ],
   "source": [
    "import random\n",
    "\n",
    "numeros = random.sample(range(1, 50), 20)\n",
    "\n",
    "numeros"
   ]
  },
  {
   "cell_type": "code",
   "execution_count": 24,
   "id": "4dfd69f6",
   "metadata": {},
   "outputs": [],
   "source": [
    "# clasico\n",
    "\n",
    "def cuadrado(lista):\n",
    "    \n",
    "    resultado = []\n",
    "    \n",
    "    for elemento in lista:\n",
    "        \n",
    "        resultado.append(elemento**2)\n",
    "        \n",
    "    return resultado"
   ]
  },
  {
   "cell_type": "code",
   "execution_count": 25,
   "id": "fd4cdfd2",
   "metadata": {
    "scrolled": true
   },
   "outputs": [
    {
     "data": {
      "text/plain": [
       "[9,\n",
       " 169,\n",
       " 576,\n",
       " 1764,\n",
       " 400,\n",
       " 1089,\n",
       " 1681,\n",
       " 961,\n",
       " 441,\n",
       " 2116,\n",
       " 2209,\n",
       " 49,\n",
       " 1024,\n",
       " 4,\n",
       " 1296,\n",
       " 196,\n",
       " 1849,\n",
       " 361,\n",
       " 484,\n",
       " 841]"
      ]
     },
     "execution_count": 25,
     "metadata": {},
     "output_type": "execute_result"
    }
   ],
   "source": [
    "cuadrado(numeros)"
   ]
  },
  {
   "cell_type": "code",
   "execution_count": 26,
   "id": "c54894ae",
   "metadata": {},
   "outputs": [],
   "source": [
    "# para el map, la funcion es solo para un elemento\n",
    "\n",
    "def cuadrado_map(x):\n",
    "    \n",
    "    return x**2"
   ]
  },
  {
   "cell_type": "code",
   "execution_count": 27,
   "id": "c46f769d",
   "metadata": {},
   "outputs": [
    {
     "data": {
      "text/plain": [
       "[9,\n",
       " 169,\n",
       " 576,\n",
       " 1764,\n",
       " 400,\n",
       " 1089,\n",
       " 1681,\n",
       " 961,\n",
       " 441,\n",
       " 2116,\n",
       " 2209,\n",
       " 49,\n",
       " 1024,\n",
       " 4,\n",
       " 1296,\n",
       " 196,\n",
       " 1849,\n",
       " 361,\n",
       " 484,\n",
       " 841]"
      ]
     },
     "execution_count": 27,
     "metadata": {},
     "output_type": "execute_result"
    }
   ],
   "source": [
    "list(map(cuadrado_map, numeros))"
   ]
  },
  {
   "cell_type": "code",
   "execution_count": 28,
   "id": "86a2648f",
   "metadata": {},
   "outputs": [
    {
     "name": "stdout",
     "output_type": "stream",
     "text": [
      "CPU times: user 15 µs, sys: 1 µs, total: 16 µs\n",
      "Wall time: 17.9 µs\n"
     ]
    },
    {
     "data": {
      "text/plain": [
       "[9,\n",
       " 169,\n",
       " 576,\n",
       " 1764,\n",
       " 400,\n",
       " 1089,\n",
       " 1681,\n",
       " 961,\n",
       " 441,\n",
       " 2116,\n",
       " 2209,\n",
       " 49,\n",
       " 1024,\n",
       " 4,\n",
       " 1296,\n",
       " 196,\n",
       " 1849,\n",
       " 361,\n",
       " 484,\n",
       " 841]"
      ]
     },
     "execution_count": 28,
     "metadata": {},
     "output_type": "execute_result"
    }
   ],
   "source": [
    "%%time\n",
    "\n",
    "cuadrado(numeros)"
   ]
  },
  {
   "cell_type": "code",
   "execution_count": 29,
   "id": "507479ed",
   "metadata": {},
   "outputs": [
    {
     "name": "stdout",
     "output_type": "stream",
     "text": [
      "CPU times: user 5 µs, sys: 1e+03 ns, total: 6 µs\n",
      "Wall time: 9.3 µs\n"
     ]
    },
    {
     "data": {
      "text/plain": [
       "<map at 0x106086be0>"
      ]
     },
     "execution_count": 29,
     "metadata": {},
     "output_type": "execute_result"
    }
   ],
   "source": [
    "%%time\n",
    "\n",
    "map(cuadrado_map, numeros)"
   ]
  },
  {
   "cell_type": "code",
   "execution_count": 30,
   "id": "ab5fa550",
   "metadata": {},
   "outputs": [
    {
     "name": "stdout",
     "output_type": "stream",
     "text": [
      "CPU times: user 16 µs, sys: 1e+03 ns, total: 17 µs\n",
      "Wall time: 19.3 µs\n"
     ]
    },
    {
     "data": {
      "text/plain": [
       "[9,\n",
       " 169,\n",
       " 576,\n",
       " 1764,\n",
       " 400,\n",
       " 1089,\n",
       " 1681,\n",
       " 961,\n",
       " 441,\n",
       " 2116,\n",
       " 2209,\n",
       " 49,\n",
       " 1024,\n",
       " 4,\n",
       " 1296,\n",
       " 196,\n",
       " 1849,\n",
       " 361,\n",
       " 484,\n",
       " 841]"
      ]
     },
     "execution_count": 30,
     "metadata": {},
     "output_type": "execute_result"
    }
   ],
   "source": [
    "%%time\n",
    "\n",
    "# se pierde tiempo en la conversion a lista\n",
    "\n",
    "list(map(cuadrado_map, numeros))"
   ]
  },
  {
   "cell_type": "code",
   "execution_count": 31,
   "id": "453ccb8b",
   "metadata": {},
   "outputs": [],
   "source": [
    "mi_lambda = lambda x: x**2"
   ]
  },
  {
   "cell_type": "code",
   "execution_count": 33,
   "id": "b8977001",
   "metadata": {},
   "outputs": [
    {
     "name": "stdout",
     "output_type": "stream",
     "text": [
      "CPU times: user 16 µs, sys: 1 µs, total: 17 µs\n",
      "Wall time: 18.8 µs\n"
     ]
    },
    {
     "data": {
      "text/plain": [
       "[9,\n",
       " 169,\n",
       " 576,\n",
       " 1764,\n",
       " 400,\n",
       " 1089,\n",
       " 1681,\n",
       " 961,\n",
       " 441,\n",
       " 2116,\n",
       " 2209,\n",
       " 49,\n",
       " 1024,\n",
       " 4,\n",
       " 1296,\n",
       " 196,\n",
       " 1849,\n",
       " 361,\n",
       " 484,\n",
       " 841]"
      ]
     },
     "execution_count": 33,
     "metadata": {},
     "output_type": "execute_result"
    }
   ],
   "source": [
    "%%time\n",
    "\n",
    "list(map(mi_lambda, numeros))"
   ]
  },
  {
   "cell_type": "code",
   "execution_count": 45,
   "id": "4c5e1c93",
   "metadata": {},
   "outputs": [
    {
     "name": "stdout",
     "output_type": "stream",
     "text": [
      "CPU times: user 34 µs, sys: 1e+03 ns, total: 35 µs\n",
      "Wall time: 38.9 µs\n"
     ]
    },
    {
     "data": {
      "text/plain": [
       "[9, 169, 576, 1764, 400]"
      ]
     },
     "execution_count": 45,
     "metadata": {},
     "output_type": "execute_result"
    }
   ],
   "source": [
    "%%time\n",
    "\n",
    "cuad = list(map(lambda x: x**2, numeros))\n",
    "\n",
    "cuad[:5]"
   ]
  },
  {
   "cell_type": "code",
   "execution_count": 46,
   "id": "cac9c025",
   "metadata": {},
   "outputs": [
    {
     "data": {
      "text/plain": [
       "[307.15, 294.15, 273.15, 287.15, 238.14999999999998]"
      ]
     },
     "execution_count": 46,
     "metadata": {},
     "output_type": "execute_result"
    }
   ],
   "source": [
    "temps = [34, 21, 0, 14, -35]\n",
    "\n",
    "\n",
    "list(map(lambda x: x + 273.15, temps))"
   ]
  },
  {
   "cell_type": "markdown",
   "id": "85f66b31",
   "metadata": {},
   "source": [
    "🤔🤯 **Retito**, como lo haríamos con una lambda? 🤔🤯"
   ]
  },
  {
   "cell_type": "markdown",
   "id": "ec1c6d68",
   "metadata": {},
   "source": [
    "En el `map` podemos incluir varios iterables. Por ejemplo, tenemos dos listas y queremos elevar el primer número de una lista con el primer elemento de la segunda lista"
   ]
  },
  {
   "cell_type": "code",
   "execution_count": 47,
   "id": "50efc074",
   "metadata": {},
   "outputs": [],
   "source": [
    "lista1 = [1,2,3]\n",
    "lista2 = [4,5,6]"
   ]
  },
  {
   "cell_type": "code",
   "execution_count": 49,
   "id": "16167c3a",
   "metadata": {},
   "outputs": [
    {
     "data": {
      "text/plain": [
       "[(1, 4), (2, 5), (3, 6)]"
      ]
     },
     "execution_count": 49,
     "metadata": {},
     "output_type": "execute_result"
    }
   ],
   "source": [
    "list(zip(lista1, lista2))"
   ]
  },
  {
   "cell_type": "code",
   "execution_count": 50,
   "id": "f812ee5c",
   "metadata": {},
   "outputs": [
    {
     "data": {
      "text/plain": [
       "[1, 32, 729]"
      ]
     },
     "execution_count": 50,
     "metadata": {},
     "output_type": "execute_result"
    }
   ],
   "source": [
    "elevado = []\n",
    "\n",
    "for n1, n2 in zip(lista1, lista2):\n",
    "    elevado.append(n1 ** n2)\n",
    "    \n",
    "elevado"
   ]
  },
  {
   "cell_type": "code",
   "execution_count": 51,
   "id": "a00be13e",
   "metadata": {},
   "outputs": [],
   "source": [
    "def elevar(n1, n2):\n",
    "    \n",
    "    elevado = []\n",
    "\n",
    "    for n1, n2 in zip(lista1, lista2):\n",
    "        elevado.append(n1 ** n2)\n",
    "\n",
    "    return elevado"
   ]
  },
  {
   "cell_type": "code",
   "execution_count": 52,
   "id": "176d0740",
   "metadata": {},
   "outputs": [
    {
     "data": {
      "text/plain": [
       "[1, 32, 729]"
      ]
     },
     "execution_count": 52,
     "metadata": {},
     "output_type": "execute_result"
    }
   ],
   "source": [
    "elevar(n1, n2)"
   ]
  },
  {
   "cell_type": "code",
   "execution_count": 53,
   "id": "f11815b5",
   "metadata": {},
   "outputs": [],
   "source": [
    "def elevar(n1, n2):\n",
    "    return n1**n2"
   ]
  },
  {
   "cell_type": "code",
   "execution_count": 54,
   "id": "fe1d4b97",
   "metadata": {},
   "outputs": [
    {
     "data": {
      "text/plain": [
       "[1, 32, 729]"
      ]
     },
     "execution_count": 54,
     "metadata": {},
     "output_type": "execute_result"
    }
   ],
   "source": [
    "list(map(elevar, lista1, lista2))"
   ]
  },
  {
   "cell_type": "markdown",
   "id": "867e1d70",
   "metadata": {},
   "source": [
    "O incluso usando lambdas. Imaginas que queremos sumar los elementos de tres listas diferentes: \n"
   ]
  },
  {
   "cell_type": "code",
   "execution_count": 55,
   "id": "d1bb5841",
   "metadata": {},
   "outputs": [
    {
     "data": {
      "text/plain": [
       "<function __main__.<lambda>(n1, n2)>"
      ]
     },
     "execution_count": 55,
     "metadata": {},
     "output_type": "execute_result"
    }
   ],
   "source": [
    "lambda n1, n2: n1**n2"
   ]
  },
  {
   "cell_type": "code",
   "execution_count": 59,
   "id": "dbd09b70",
   "metadata": {},
   "outputs": [
    {
     "data": {
      "text/plain": [
       "[1, 32, 729]"
      ]
     },
     "execution_count": 59,
     "metadata": {},
     "output_type": "execute_result"
    }
   ],
   "source": [
    "list(map(lambda n1, n2: n1**n2, lista1, lista2))"
   ]
  },
  {
   "cell_type": "code",
   "execution_count": 60,
   "id": "65420c07",
   "metadata": {},
   "outputs": [
    {
     "ename": "TypeError",
     "evalue": "<lambda>() takes 1 positional argument but 2 were given",
     "output_type": "error",
     "traceback": [
      "\u001b[0;31m---------------------------------------------------------------------------\u001b[0m",
      "\u001b[0;31mTypeError\u001b[0m                                 Traceback (most recent call last)",
      "Cell \u001b[0;32mIn[60], line 1\u001b[0m\n\u001b[0;32m----> 1\u001b[0m \u001b[38;5;28;43mlist\u001b[39;49m\u001b[43m(\u001b[49m\u001b[38;5;28;43mmap\u001b[39;49m\u001b[43m(\u001b[49m\u001b[38;5;28;43;01mlambda\u001b[39;49;00m\u001b[43m \u001b[49m\u001b[43mn1\u001b[49m\u001b[43m:\u001b[49m\u001b[43m \u001b[49m\u001b[43mn1\u001b[49m\u001b[38;5;241;43m*\u001b[39;49m\u001b[38;5;241;43m*\u001b[39;49m\u001b[38;5;241;43m4\u001b[39;49m\u001b[43m,\u001b[49m\u001b[43m \u001b[49m\u001b[43mlista1\u001b[49m\u001b[43m,\u001b[49m\u001b[43m \u001b[49m\u001b[43mlista2\u001b[49m\u001b[43m)\u001b[49m\u001b[43m)\u001b[49m\n",
      "\u001b[0;31mTypeError\u001b[0m: <lambda>() takes 1 positional argument but 2 were given"
     ]
    }
   ],
   "source": [
    "list(map(lambda n1: n1**4, lista1, lista2))"
   ]
  },
  {
   "cell_type": "code",
   "execution_count": 64,
   "id": "4fcfae47",
   "metadata": {},
   "outputs": [
    {
     "data": {
      "text/plain": [
       "dict_items([(1, 3), (5, 6), (9, 3)])"
      ]
     },
     "execution_count": 64,
     "metadata": {},
     "output_type": "execute_result"
    }
   ],
   "source": [
    "dictio = {1: 3, 5: 6, 9: 3}\n",
    "\n",
    "dictio.items()"
   ]
  },
  {
   "cell_type": "code",
   "execution_count": 62,
   "id": "5f6819e0",
   "metadata": {},
   "outputs": [],
   "source": [
    "def elevar3(tupla):\n",
    "    \n",
    "    return tupla[0]**tupla[1]"
   ]
  },
  {
   "cell_type": "code",
   "execution_count": 63,
   "id": "86fc9808",
   "metadata": {},
   "outputs": [
    {
     "data": {
      "text/plain": [
       "[1, 15625, 729]"
      ]
     },
     "execution_count": 63,
     "metadata": {},
     "output_type": "execute_result"
    }
   ],
   "source": [
    "list(map(elevar3, dictio.items()))"
   ]
  },
  {
   "cell_type": "code",
   "execution_count": 65,
   "id": "c5edb59e",
   "metadata": {},
   "outputs": [
    {
     "data": {
      "text/plain": [
       "[1, 15625, 729]"
      ]
     },
     "execution_count": 65,
     "metadata": {},
     "output_type": "execute_result"
    }
   ],
   "source": [
    "list(map(lambda x: x[0]**x[1], dictio.items()))"
   ]
  },
  {
   "cell_type": "markdown",
   "id": "d7726bdc",
   "metadata": {},
   "source": [
    "# Filter "
   ]
  },
  {
   "cell_type": "markdown",
   "id": "898325c5",
   "metadata": {},
   "source": [
    "Literalmente filtra los elementos según una condición dada. \n",
    "\n",
    "La función comprueba una determinada condición y decide si cada uno de los elementos del iterable cumple la condición dada o no. Después de comprobar la condición, la función verifica verdadero o falso en consecuencia.\n",
    "\n",
    "\n",
    "```python\n",
    "# Sintaxis básica de filter. Es la misma que el map!!\n",
    "new_list = list(filter(funcion, iterable))\n",
    "```\n",
    "\n",
    "\n",
    "\n",
    "📌 El iterable puede ser listas, tuplas, sets"
   ]
  },
  {
   "cell_type": "markdown",
   "id": "0e9abfb4",
   "metadata": {},
   "source": [
    "Supongamos que tenemos una lista de números y queremos filtrar los números \"pequeños\". En este caso, pequeños significa números que son menores de 5. \n",
    "\n",
    "¿Cómo se aplica `filter` para obtener el resultado?"
   ]
  },
  {
   "cell_type": "code",
   "execution_count": 66,
   "id": "4159c197",
   "metadata": {},
   "outputs": [
    {
     "data": {
      "text/plain": [
       "[3, 13, 24, 42, 20, 33, 41, 31, 21, 46, 47, 7, 32, 2, 36, 14, 43, 19, 22, 29]"
      ]
     },
     "execution_count": 66,
     "metadata": {},
     "output_type": "execute_result"
    }
   ],
   "source": [
    "numeros"
   ]
  },
  {
   "cell_type": "code",
   "execution_count": 67,
   "id": "3f678bd6",
   "metadata": {},
   "outputs": [
    {
     "data": {
      "text/plain": [
       "[3, 2]"
      ]
     },
     "execution_count": 67,
     "metadata": {},
     "output_type": "execute_result"
    }
   ],
   "source": [
    "menores = []\n",
    "\n",
    "for n in numeros:\n",
    "    \n",
    "    if n<5:\n",
    "        menores.append(n)\n",
    "        \n",
    "menores"
   ]
  },
  {
   "cell_type": "code",
   "execution_count": 68,
   "id": "9208ca09",
   "metadata": {},
   "outputs": [],
   "source": [
    "def filtrar(n):\n",
    "    \n",
    "    if n<5:\n",
    "        return n"
   ]
  },
  {
   "cell_type": "code",
   "execution_count": 69,
   "id": "2856f5d9",
   "metadata": {},
   "outputs": [
    {
     "data": {
      "text/plain": [
       "[3, 2]"
      ]
     },
     "execution_count": 69,
     "metadata": {},
     "output_type": "execute_result"
    }
   ],
   "source": [
    "list(filter(filtrar, numeros))"
   ]
  },
  {
   "cell_type": "code",
   "execution_count": 70,
   "id": "49a7d59a",
   "metadata": {},
   "outputs": [
    {
     "data": {
      "text/plain": [
       "[3,\n",
       " None,\n",
       " None,\n",
       " None,\n",
       " None,\n",
       " None,\n",
       " None,\n",
       " None,\n",
       " None,\n",
       " None,\n",
       " None,\n",
       " None,\n",
       " None,\n",
       " 2,\n",
       " None,\n",
       " None,\n",
       " None,\n",
       " None,\n",
       " None,\n",
       " None]"
      ]
     },
     "execution_count": 70,
     "metadata": {},
     "output_type": "execute_result"
    }
   ],
   "source": [
    "list(map(filtrar, numeros))"
   ]
  },
  {
   "cell_type": "code",
   "execution_count": 71,
   "id": "0359c7b9",
   "metadata": {},
   "outputs": [
    {
     "data": {
      "text/plain": [
       "<function __main__.<lambda>(n)>"
      ]
     },
     "execution_count": 71,
     "metadata": {},
     "output_type": "execute_result"
    }
   ],
   "source": [
    "lambda n: n<5"
   ]
  },
  {
   "cell_type": "code",
   "execution_count": 73,
   "id": "a98e799a",
   "metadata": {},
   "outputs": [
    {
     "data": {
      "text/plain": [
       "False"
      ]
     },
     "execution_count": 73,
     "metadata": {},
     "output_type": "execute_result"
    }
   ],
   "source": [
    "(lambda n: n<5)(6)"
   ]
  },
  {
   "cell_type": "code",
   "execution_count": 75,
   "id": "86eb5b2c",
   "metadata": {},
   "outputs": [
    {
     "data": {
      "text/plain": [
       "[3, 2]"
      ]
     },
     "execution_count": 75,
     "metadata": {},
     "output_type": "execute_result"
    }
   ],
   "source": [
    "list(filter(lambda n: n<5, numeros))"
   ]
  },
  {
   "cell_type": "markdown",
   "id": "0fc58929",
   "metadata": {},
   "source": [
    "🤔🤯 **Nuevo Retito**, como lo haríamos con una lambda? 🤔🤯"
   ]
  },
  {
   "cell_type": "markdown",
   "id": "3aee6088",
   "metadata": {},
   "source": [
    "Tenemos una lista de números y tenemos que sacar los impares"
   ]
  },
  {
   "cell_type": "code",
   "execution_count": 79,
   "id": "8acc81f2",
   "metadata": {},
   "outputs": [],
   "source": [
    "def pares(n):\n",
    "    \n",
    "    return n%2==0"
   ]
  },
  {
   "cell_type": "code",
   "execution_count": 80,
   "id": "71a42d70",
   "metadata": {},
   "outputs": [
    {
     "data": {
      "text/plain": [
       "[24, 42, 20, 46, 32, 2, 36, 14, 22]"
      ]
     },
     "execution_count": 80,
     "metadata": {},
     "output_type": "execute_result"
    }
   ],
   "source": [
    "list(filter(pares, numeros))"
   ]
  },
  {
   "cell_type": "code",
   "execution_count": 81,
   "id": "f252e7d3",
   "metadata": {},
   "outputs": [
    {
     "data": {
      "text/plain": [
       "[24, 42, 20, 46, 32, 2, 36, 14, 22]"
      ]
     },
     "execution_count": 81,
     "metadata": {},
     "output_type": "execute_result"
    }
   ],
   "source": [
    "list(filter(lambda n: n%2==0, numeros))"
   ]
  },
  {
   "cell_type": "markdown",
   "id": "a70ca829",
   "metadata": {},
   "source": [
    "🌊💪 **EJERCICIO** 💪🌊\n",
    "\n",
    "Nos van a pasar una lista de palabras y sacar aquellas que tienen \"i\". "
   ]
  },
  {
   "cell_type": "code",
   "execution_count": 82,
   "id": "907cbbef",
   "metadata": {},
   "outputs": [
    {
     "data": {
      "text/plain": [
       "['brocoli', 'jamon', 'chorizo', 'huevo', 'zanahoria', 'brocoli']"
      ]
     },
     "execution_count": 82,
     "metadata": {},
     "output_type": "execute_result"
    }
   ],
   "source": [
    "lista_palabras"
   ]
  },
  {
   "cell_type": "code",
   "execution_count": 84,
   "id": "1c2c4ec0",
   "metadata": {},
   "outputs": [
    {
     "data": {
      "text/plain": [
       "False"
      ]
     },
     "execution_count": 84,
     "metadata": {},
     "output_type": "execute_result"
    }
   ],
   "source": [
    "'i' in 'jamon'"
   ]
  },
  {
   "cell_type": "code",
   "execution_count": 85,
   "id": "c72c70b1",
   "metadata": {},
   "outputs": [],
   "source": [
    "def con_la_i(palabra):\n",
    "    \n",
    "    return 'i' in palabra"
   ]
  },
  {
   "cell_type": "code",
   "execution_count": 86,
   "id": "2362be46",
   "metadata": {},
   "outputs": [
    {
     "data": {
      "text/plain": [
       "['brocoli', 'chorizo', 'zanahoria', 'brocoli']"
      ]
     },
     "execution_count": 86,
     "metadata": {},
     "output_type": "execute_result"
    }
   ],
   "source": [
    "list(filter(con_la_i, lista_palabras))"
   ]
  },
  {
   "cell_type": "code",
   "execution_count": 87,
   "id": "af47508c",
   "metadata": {},
   "outputs": [
    {
     "data": {
      "text/plain": [
       "['brocoli', 'chorizo', 'zanahoria', 'brocoli']"
      ]
     },
     "execution_count": 87,
     "metadata": {},
     "output_type": "execute_result"
    }
   ],
   "source": [
    "list(filter(lambda palabra: 'i' in palabra, lista_palabras))"
   ]
  },
  {
   "cell_type": "markdown",
   "id": "c46fc2f0",
   "metadata": {},
   "source": [
    "# Reduce "
   ]
  },
  {
   "cell_type": "markdown",
   "id": "8165e1df",
   "metadata": {},
   "source": [
    "Reduce toma una condición y aplica esa condición al iterable de manera que nuestra salida se \"reduce\" a un solo valor.\n",
    "\n",
    "En este caso necesitamos importarnos una librería\n",
    "\n",
    "```python\n",
    "from functools import reduce\n",
    "```\n",
    "\n",
    "\n",
    "\n",
    "```python\n",
    "# Sintaxis básica de reduce, igual que filter y map!\n",
    "new_list = reduce(funcion, iterable) # ⚠️ ojo que en este caso no hay que poner `list`\n",
    "```"
   ]
  },
  {
   "cell_type": "code",
   "execution_count": 88,
   "id": "95cc2211",
   "metadata": {},
   "outputs": [],
   "source": [
    "from functools import reduce"
   ]
  },
  {
   "cell_type": "markdown",
   "id": "43542a17",
   "metadata": {},
   "source": [
    "Queremos encontrar la suma de todos los valores de nuestra lista."
   ]
  },
  {
   "cell_type": "code",
   "execution_count": 90,
   "id": "9a4642c6",
   "metadata": {},
   "outputs": [
    {
     "name": "stdout",
     "output_type": "stream",
     "text": [
      "[95, 11, 90, 53, 67, 14, 76, 37, 63, 12, 44, 58, 70, 25, 78, 32, 66, 34, 21, 84]\n"
     ]
    }
   ],
   "source": [
    "lista_random = random.sample(range(1,100), 20)\n",
    "\n",
    "print(lista_random)"
   ]
  },
  {
   "cell_type": "code",
   "execution_count": 91,
   "id": "0eb78b9c",
   "metadata": {},
   "outputs": [
    {
     "data": {
      "text/plain": [
       "1030"
      ]
     },
     "execution_count": 91,
     "metadata": {},
     "output_type": "execute_result"
    }
   ],
   "source": [
    "sum(lista_random)"
   ]
  },
  {
   "cell_type": "code",
   "execution_count": 93,
   "id": "5e2a5c95",
   "metadata": {},
   "outputs": [],
   "source": [
    "def sumar(lista):\n",
    "    \n",
    "    resultado = 0\n",
    "    \n",
    "    for e in lista:\n",
    "        resultado += e\n",
    "        \n",
    "    return resultado"
   ]
  },
  {
   "cell_type": "code",
   "execution_count": 94,
   "id": "dc30eb6a",
   "metadata": {},
   "outputs": [
    {
     "data": {
      "text/plain": [
       "1030"
      ]
     },
     "execution_count": 94,
     "metadata": {},
     "output_type": "execute_result"
    }
   ],
   "source": [
    "sumar(lista_random)"
   ]
  },
  {
   "cell_type": "code",
   "execution_count": 95,
   "id": "aedb87f9",
   "metadata": {},
   "outputs": [],
   "source": [
    "def sumar2(a, b):\n",
    "    return a+b"
   ]
  },
  {
   "cell_type": "code",
   "execution_count": 96,
   "id": "c19d6cec",
   "metadata": {},
   "outputs": [
    {
     "data": {
      "text/plain": [
       "1030"
      ]
     },
     "execution_count": 96,
     "metadata": {},
     "output_type": "execute_result"
    }
   ],
   "source": [
    "reduce(sumar2, lista_random)"
   ]
  },
  {
   "cell_type": "code",
   "execution_count": 97,
   "id": "c1848f80",
   "metadata": {},
   "outputs": [],
   "source": [
    "# productorio\n",
    "\n",
    "\n",
    "def producto(a, b):\n",
    "    return a*b"
   ]
  },
  {
   "cell_type": "code",
   "execution_count": 98,
   "id": "be762ac2",
   "metadata": {},
   "outputs": [
    {
     "data": {
      "text/plain": [
       "438590633653735867729487462400000"
      ]
     },
     "execution_count": 98,
     "metadata": {},
     "output_type": "execute_result"
    }
   ],
   "source": [
    "reduce(producto, lista_random)"
   ]
  },
  {
   "cell_type": "code",
   "execution_count": 99,
   "id": "d051a431",
   "metadata": {},
   "outputs": [
    {
     "data": {
      "text/plain": [
       "438590633653735867729487462400000"
      ]
     },
     "execution_count": 99,
     "metadata": {},
     "output_type": "execute_result"
    }
   ],
   "source": [
    "reduce(lambda a,b: a*b, lista_random)"
   ]
  },
  {
   "cell_type": "code",
   "execution_count": 106,
   "id": "16949883",
   "metadata": {},
   "outputs": [],
   "source": [
    "# distintos tipo de dato, la clave esta en la funcion\n",
    "\n",
    "\n",
    "def prueba(elemento):\n",
    "    \n",
    "    if type(elemento)==str:\n",
    "        return elemento.upper()\n",
    "    else:\n",
    "        return elemento*2"
   ]
  },
  {
   "cell_type": "code",
   "execution_count": 107,
   "id": "9b39b5ab",
   "metadata": {},
   "outputs": [],
   "source": [
    "liusta = [1,2,3, 'hola', 'que tal', 0.14, 3.1416]"
   ]
  },
  {
   "cell_type": "code",
   "execution_count": 108,
   "id": "7175a0a5",
   "metadata": {},
   "outputs": [
    {
     "data": {
      "text/plain": [
       "[2, 4, 6, 'HOLA', 'QUE TAL', 0.28, 6.2832]"
      ]
     },
     "execution_count": 108,
     "metadata": {},
     "output_type": "execute_result"
    }
   ],
   "source": [
    "list(map(prueba, liusta))"
   ]
  },
  {
   "cell_type": "code",
   "execution_count": 109,
   "id": "6e0966dc",
   "metadata": {},
   "outputs": [
    {
     "data": {
      "text/plain": [
       "[2, 4, 6, 'HOLA', 'QUE TAL', 0.28, 6.2832]"
      ]
     },
     "execution_count": 109,
     "metadata": {},
     "output_type": "execute_result"
    }
   ],
   "source": [
    "list(map(lambda e: e.upper() if type(e)==str else e*2, liusta))"
   ]
  },
  {
   "cell_type": "code",
   "execution_count": null,
   "id": "29f7e026",
   "metadata": {},
   "outputs": [],
   "source": []
  }
 ],
 "metadata": {
  "kernelspec": {
   "display_name": "clase",
   "language": "python",
   "name": "clase"
  },
  "language_info": {
   "codemirror_mode": {
    "name": "ipython",
    "version": 3
   },
   "file_extension": ".py",
   "mimetype": "text/x-python",
   "name": "python",
   "nbconvert_exporter": "python",
   "pygments_lexer": "ipython3",
   "version": "3.9.12"
  },
  "toc": {
   "base_numbering": 1,
   "nav_menu": {},
   "number_sections": true,
   "sideBar": true,
   "skip_h1_title": false,
   "title_cell": "Table of Contents",
   "title_sidebar": "Contents",
   "toc_cell": true,
   "toc_position": {},
   "toc_section_display": true,
   "toc_window_display": false
  },
  "varInspector": {
   "cols": {
    "lenName": 16,
    "lenType": 16,
    "lenVar": 40
   },
   "kernels_config": {
    "python": {
     "delete_cmd_postfix": "",
     "delete_cmd_prefix": "del ",
     "library": "var_list.py",
     "varRefreshCmd": "print(var_dic_list())"
    },
    "r": {
     "delete_cmd_postfix": ") ",
     "delete_cmd_prefix": "rm(",
     "library": "var_list.r",
     "varRefreshCmd": "cat(var_dic_list()) "
    }
   },
   "position": {
    "height": "144.844px",
    "left": "1069px",
    "right": "20px",
    "top": "119px",
    "width": "350px"
   },
   "types_to_exclude": [
    "module",
    "function",
    "builtin_function_or_method",
    "instance",
    "_Feature"
   ],
   "window_display": false
  }
 },
 "nbformat": 4,
 "nbformat_minor": 5
}
