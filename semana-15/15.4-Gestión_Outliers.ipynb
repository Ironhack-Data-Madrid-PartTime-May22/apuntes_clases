{
 "cells": [
  {
   "cell_type": "markdown",
   "id": "fd4c7f33",
   "metadata": {
    "toc": true
   },
   "source": [
    "<h1>Table of Contents<span class=\"tocSkip\"></span></h1>\n",
    "<div class=\"toc\"><ul class=\"toc-item\"><li><span><a href=\"#Tratamiento-de-outliers-o-valores-perdidos\" data-toc-modified-id=\"Tratamiento-de-outliers-o-valores-perdidos-1\"><span class=\"toc-item-num\">1&nbsp;&nbsp;</span>Tratamiento de <em>outliers</em> o valores perdidos</a></span></li><li><span><a href=\"#Eliminar-outliers\" data-toc-modified-id=\"Eliminar-outliers-2\"><span class=\"toc-item-num\">2&nbsp;&nbsp;</span>Eliminar <em>outliers</em></a></span></li><li><span><a href=\"#Reemplazar\" data-toc-modified-id=\"Reemplazar-3\"><span class=\"toc-item-num\">3&nbsp;&nbsp;</span>Reemplazar</a></span></li></ul></div>"
   ]
  },
  {
   "cell_type": "markdown",
   "id": "24b0b8d1",
   "metadata": {},
   "source": [
    "# Tratamiento de *outliers* o valores perdidos\n",
    "\n",
    "Los *outliers* o valores perdidos son observaciones anormales en nuestros datos que puede afectar potencialmente nuestros análisis. \n",
    "\n",
    "> Es decir, un *outlier* es una observación dentro de nuestros datos que nos es consistente con el resto, que se escapa. \n",
    "\n",
    "Imaginemos que estamos midiendo el peso de las alumnas de una clase y son los siguientes:\n",
    "\n",
    "```python\n",
    "pesos = [92.31, 76.4, 87.3, 60.86, 65.96, 74.23, 87.56, 82.47, 69.27, 81.69]\n",
    "```\n",
    "\n",
    "- el peso máximo es de 92.31\n",
    "\n",
    "\n",
    "- el peso mínimo es de 60.86\n",
    "\n",
    "\n",
    "- la media del peso de la clase sería 77.085. \n",
    "\n",
    "\n",
    "- la distancia del máximo y del mínimo a la media es de 14.504 y 16.94 respectivamente. \n",
    "\n",
    "**Como vemos la media se sitúa en la mitad del intervalo y nos podría dar una muy buena estimación del peso de la clase** \n",
    "\n",
    "\n",
    "Imaginemos ahora que el peso de los 10 las alumnas son: \n",
    "\n",
    "```python\n",
    "pesos2 = [92.31, 76.4, 117.3, 60.86, 65.96, 74.23, 87.56, 82.47, 69.27, 81.69]\n",
    "```\n",
    "En este caso: \n",
    "\n",
    "- el peso máximo es de 117.3\n",
    "\n",
    "\n",
    "- el peso mínimo es de 60.86\n",
    "\n",
    "\n",
    "- la media del peso de la clase sería 80.805. \n",
    "\n",
    "\n",
    "- la distancia del máximo y del mínimo a la media es de 36.49 y 19.94 respectivamente. \n",
    "\n",
    "**En este caso la media ya no está situada aproximadamente en la mitad del intervalo**. El efecto de la alumna que tiene un mayor perso ha hecho que la media aritmética se haya desplazado hacia el valor máximo y por lo tanto ya no es tan buena representación de como se reparten los pesos en la clase.  \n",
    "\n",
    "\n",
    "Es en este caso, cuando el tratamiento de los *outliers* debe ser solucionado. Esto lo podemos hacer de distintas formas: \n",
    "\n",
    "- Eliminación de esos registros \n",
    "\n",
    "\n",
    "- Reemplazar por la media, mediana, moda...\n",
    "\n",
    "\n",
    "- Mantenerlos (si el problema a resolver tiene que ver con outliers). \n",
    "\n",
    "\n",
    "Pero antes de ponernos a quitar datos o reemplazarlos tenemos que identificar cuales son los *outliers* en nuestro datos. \n",
    "\n",
    "- Lo podemos hacer visualmente usando un `boxplot`. \n"
   ]
  },
  {
   "cell_type": "code",
   "execution_count": 26,
   "id": "f9cda707",
   "metadata": {},
   "outputs": [],
   "source": [
    "# importamos las librerías que necesitamos\n",
    "\n",
    "# Tratamiento de datos\n",
    "# -----------------------------------------------------------------------\n",
    "import pandas as pd\n",
    "import numpy as np\n",
    "\n",
    "# Librerías de visualización\n",
    "# -----------------------------------------------------------------------\n",
    "import seaborn as sns\n",
    "import matplotlib.pyplot as plt\n",
    "\n",
    "# Configuración warnings\n",
    "# ==============================================================================\n",
    "import warnings\n",
    "warnings.filterwarnings('ignore')"
   ]
  },
  {
   "cell_type": "code",
   "execution_count": 27,
   "id": "6bab5331",
   "metadata": {},
   "outputs": [
    {
     "data": {
      "text/html": [
       "<div>\n",
       "<style scoped>\n",
       "    .dataframe tbody tr th:only-of-type {\n",
       "        vertical-align: middle;\n",
       "    }\n",
       "\n",
       "    .dataframe tbody tr th {\n",
       "        vertical-align: top;\n",
       "    }\n",
       "\n",
       "    .dataframe thead th {\n",
       "        text-align: right;\n",
       "    }\n",
       "</style>\n",
       "<table border=\"1\" class=\"dataframe\">\n",
       "  <thead>\n",
       "    <tr style=\"text-align: right;\">\n",
       "      <th></th>\n",
       "      <th>state</th>\n",
       "      <th>gender</th>\n",
       "      <th>median_home_val</th>\n",
       "      <th>total_baños</th>\n",
       "      <th>income</th>\n",
       "      <th>dist_playa</th>\n",
       "      <th>num_vecinos</th>\n",
       "      <th>num_habitaciones</th>\n",
       "    </tr>\n",
       "  </thead>\n",
       "  <tbody>\n",
       "    <tr>\n",
       "      <th>0</th>\n",
       "      <td>FL</td>\n",
       "      <td>M</td>\n",
       "      <td>1158.437751</td>\n",
       "      <td>430.0</td>\n",
       "      <td>392.000000</td>\n",
       "      <td>12.203275</td>\n",
       "      <td>466.0</td>\n",
       "      <td>520.0</td>\n",
       "    </tr>\n",
       "    <tr>\n",
       "      <th>1</th>\n",
       "      <td>IL</td>\n",
       "      <td>F</td>\n",
       "      <td>537.000000</td>\n",
       "      <td>415.0</td>\n",
       "      <td>365.000000</td>\n",
       "      <td>5.666667</td>\n",
       "      <td>410.0</td>\n",
       "      <td>473.0</td>\n",
       "    </tr>\n",
       "    <tr>\n",
       "      <th>2</th>\n",
       "      <td>FL</td>\n",
       "      <td>F</td>\n",
       "      <td>725.000000</td>\n",
       "      <td>340.0</td>\n",
       "      <td>301.000000</td>\n",
       "      <td>4.111111</td>\n",
       "      <td>361.0</td>\n",
       "      <td>436.0</td>\n",
       "    </tr>\n",
       "    <tr>\n",
       "      <th>3</th>\n",
       "      <td>NC</td>\n",
       "      <td>M</td>\n",
       "      <td>1158.437751</td>\n",
       "      <td>407.0</td>\n",
       "      <td>322.970618</td>\n",
       "      <td>27.277778</td>\n",
       "      <td>375.4</td>\n",
       "      <td>413.0</td>\n",
       "    </tr>\n",
       "    <tr>\n",
       "      <th>4</th>\n",
       "      <td>FL</td>\n",
       "      <td>F</td>\n",
       "      <td>995.000000</td>\n",
       "      <td>280.0</td>\n",
       "      <td>274.743639</td>\n",
       "      <td>6.000000</td>\n",
       "      <td>316.0</td>\n",
       "      <td>348.0</td>\n",
       "    </tr>\n",
       "  </tbody>\n",
       "</table>\n",
       "</div>"
      ],
      "text/plain": [
       "  state gender  median_home_val  total_baños      income  dist_playa  \\\n",
       "0    FL      M      1158.437751        430.0  392.000000   12.203275   \n",
       "1    IL      F       537.000000        415.0  365.000000    5.666667   \n",
       "2    FL      F       725.000000        340.0  301.000000    4.111111   \n",
       "3    NC      M      1158.437751        407.0  322.970618   27.277778   \n",
       "4    FL      F       995.000000        280.0  274.743639    6.000000   \n",
       "\n",
       "   num_vecinos  num_habitaciones  \n",
       "0        466.0             520.0  \n",
       "1        410.0             473.0  \n",
       "2        361.0             436.0  \n",
       "3        375.4             413.0  \n",
       "4        316.0             348.0  "
      ]
     },
     "execution_count": 27,
     "metadata": {},
     "output_type": "execute_result"
    }
   ],
   "source": [
    "df = pd.read_csv(\"data/california_nonull.csv\", index_col = 0)\n",
    "df.head()"
   ]
  },
  {
   "cell_type": "code",
   "execution_count": 28,
   "id": "48bd4a43",
   "metadata": {},
   "outputs": [
    {
     "data": {
      "text/html": [
       "<div>\n",
       "<style scoped>\n",
       "    .dataframe tbody tr th:only-of-type {\n",
       "        vertical-align: middle;\n",
       "    }\n",
       "\n",
       "    .dataframe tbody tr th {\n",
       "        vertical-align: top;\n",
       "    }\n",
       "\n",
       "    .dataframe thead th {\n",
       "        text-align: right;\n",
       "    }\n",
       "</style>\n",
       "<table border=\"1\" class=\"dataframe\">\n",
       "  <thead>\n",
       "    <tr style=\"text-align: right;\">\n",
       "      <th></th>\n",
       "      <th>median_home_val</th>\n",
       "      <th>total_baños</th>\n",
       "      <th>income</th>\n",
       "      <th>dist_playa</th>\n",
       "      <th>num_vecinos</th>\n",
       "      <th>num_habitaciones</th>\n",
       "    </tr>\n",
       "  </thead>\n",
       "  <tbody>\n",
       "    <tr>\n",
       "      <th>0</th>\n",
       "      <td>1158.437751</td>\n",
       "      <td>430.0</td>\n",
       "      <td>392.0</td>\n",
       "      <td>12.203275</td>\n",
       "      <td>466.0</td>\n",
       "      <td>520.0</td>\n",
       "    </tr>\n",
       "    <tr>\n",
       "      <th>1</th>\n",
       "      <td>537.000000</td>\n",
       "      <td>415.0</td>\n",
       "      <td>365.0</td>\n",
       "      <td>5.666667</td>\n",
       "      <td>410.0</td>\n",
       "      <td>473.0</td>\n",
       "    </tr>\n",
       "  </tbody>\n",
       "</table>\n",
       "</div>"
      ],
      "text/plain": [
       "   median_home_val  total_baños  income  dist_playa  num_vecinos  \\\n",
       "0      1158.437751        430.0   392.0   12.203275        466.0   \n",
       "1       537.000000        415.0   365.0    5.666667        410.0   \n",
       "\n",
       "   num_habitaciones  \n",
       "0             520.0  \n",
       "1             473.0  "
      ]
     },
     "execution_count": 28,
     "metadata": {},
     "output_type": "execute_result"
    }
   ],
   "source": [
    "# seleccionamos solo aquellas variables numéricas\n",
    "\n",
    "df_numericas = df.select_dtypes(include=np.number)\n",
    "df_numericas.head(2)"
   ]
  },
  {
   "cell_type": "code",
   "execution_count": 29,
   "id": "8825ffde",
   "metadata": {},
   "outputs": [
    {
     "data": {
      "image/png": "[encoded data removed]",
      "text/plain": [
       "<Figure size 1440x1080 with 6 Axes>"
      ]
     },
     "metadata": {
      "needs_background": "light"
     },
     "output_type": "display_data"
    }
   ],
   "source": [
    "fig, axes = plt.subplots(2, 3, figsize=(20,15))\n",
    "axes = axes.flat\n",
    "\n",
    "for indice, columna in enumerate(df_numericas.columns):\n",
    "    sns.boxplot(x=columna, data=df_numericas, ax=axes[indice])\n",
    "plt.show()"
   ]
  },
  {
   "cell_type": "markdown",
   "id": "794d160b",
   "metadata": {},
   "source": [
    "Hemos identificado visualmente los *outliers* en nuestras variables numéricas, pero en realidad no sabemos que valores son los que son los *outliers*. ¿Cómo lo podríamos hacer?\n",
    "\n",
    "Calcularemos  el rango intercuartílico (IQR) siguiendo los siguientes pasos: \n",
    "\n",
    "- Calcular el primer cuartil (Q1, 25%): donde el 25% de los datos son menores o iguales al valor del Q1. \n",
    "\n",
    "\n",
    "- Calcular el tercer cuartil (Q3, 75%): donde el 75% de los datos son menores o iguales al valor de Q3\n",
    "\n",
    "\n",
    "- Calcular el rango intercuartil (IQR), es la diferencia entre el Q3 y Q1\n",
    "\n",
    "```\n",
    "IQR  = Q3 - Q1\n",
    "```\n",
    "\n",
    "> Todos los valors que sean **menores que `Q1 - 1.5IQR`** o **mayores que `Q3 + 1.5IQR`** serán considerados outliers. "
   ]
  },
  {
   "cell_type": "markdown",
   "id": "acffcf7a",
   "metadata": {},
   "source": [
    "**Empecemos con la variable `total_baños`**"
   ]
  },
  {
   "cell_type": "markdown",
   "id": "ca1a9af4",
   "metadata": {},
   "source": [
    "Para calcular los cuartiles recurriremos a la librería NumPy donde encontratemos los siguientes métodos: \n",
    "\n",
    "- `np.percentile`: lo usaremos cuando **no** tengamos **nan** entre nuestros valores. \n",
    "\n",
    "\n",
    "- `np.nanpercentile`: lo usaremos cuando tengamos nan entre nuestros valores. \n",
    "\n",
    "En ambos casos tendremos que pasarle: \n",
    "\n",
    "- La columna sobre la que queramos calcular los cuartiles \n",
    "\n",
    "\n",
    "- El cuartil que queremos calcular. "
   ]
  },
  {
   "cell_type": "code",
   "execution_count": null,
   "id": "0e25512d",
   "metadata": {},
   "outputs": [],
   "source": []
  },
  {
   "cell_type": "code",
   "execution_count": 30,
   "id": "1d5a0e85",
   "metadata": {},
   "outputs": [
    {
     "data": {
      "text/plain": [
       "291.0"
      ]
     },
     "execution_count": 30,
     "metadata": {},
     "output_type": "execute_result"
    }
   ],
   "source": [
    "# cálculo del Q1\n",
    "Q1 = np.nanpercentile(df['total_baños'], 25)\n",
    "Q1"
   ]
  },
  {
   "cell_type": "code",
   "execution_count": 31,
   "id": "e48c166e",
   "metadata": {},
   "outputs": [
    {
     "data": {
      "text/plain": [
       "443.0"
      ]
     },
     "execution_count": 31,
     "metadata": {},
     "output_type": "execute_result"
    }
   ],
   "source": [
    "# cálculo del Q3\n",
    "Q3 = np.nanpercentile(df['total_baños'], 75)\n",
    "Q3"
   ]
  },
  {
   "cell_type": "code",
   "execution_count": 32,
   "id": "9fd87bf6",
   "metadata": {},
   "outputs": [
    {
     "data": {
      "text/plain": [
       "152.0"
      ]
     },
     "execution_count": 32,
     "metadata": {},
     "output_type": "execute_result"
    }
   ],
   "source": [
    "#calculemos el IQR \n",
    "\n",
    "IQR = Q3 - Q1\n",
    "IQR"
   ]
  },
  {
   "cell_type": "code",
   "execution_count": 33,
   "id": "06afd388",
   "metadata": {},
   "outputs": [
    {
     "data": {
      "text/plain": [
       "228.0"
      ]
     },
     "execution_count": 33,
     "metadata": {},
     "output_type": "execute_result"
    }
   ],
   "source": [
    "# multiplicamos el IQR por 1.5\n",
    "\n",
    "outlier_step = 1.5 * IQR\n",
    "outlier_step"
   ]
  },
  {
   "cell_type": "markdown",
   "id": "42815e8d",
   "metadata": {},
   "source": [
    "Ahora es el momento de filtrar nuestros datos filtrar/eliminar aquellos datos que sean *outliers*, es decir, vamos a crearnos un *dataframe* con los datos que cumplan dos condiciones: \n",
    "\n",
    "- Que sean menor que el valor de Q1 - outlier_step\n",
    "\n",
    "\n",
    "- Que sean mayores que el valor de Q3 + outlier_step"
   ]
  },
  {
   "cell_type": "code",
   "execution_count": 34,
   "id": "065e2607",
   "metadata": {},
   "outputs": [],
   "source": [
    "outliers_data = df[(df[\"total_baños\"] < Q1 - outlier_step) | (df[\"total_baños\"] > Q3 + outlier_step)]"
   ]
  },
  {
   "cell_type": "code",
   "execution_count": 35,
   "id": "5b9318f8",
   "metadata": {},
   "outputs": [
    {
     "data": {
      "text/html": [
       "<div>\n",
       "<style scoped>\n",
       "    .dataframe tbody tr th:only-of-type {\n",
       "        vertical-align: middle;\n",
       "    }\n",
       "\n",
       "    .dataframe tbody tr th {\n",
       "        vertical-align: top;\n",
       "    }\n",
       "\n",
       "    .dataframe thead th {\n",
       "        text-align: right;\n",
       "    }\n",
       "</style>\n",
       "<table border=\"1\" class=\"dataframe\">\n",
       "  <thead>\n",
       "    <tr style=\"text-align: right;\">\n",
       "      <th></th>\n",
       "      <th>state</th>\n",
       "      <th>gender</th>\n",
       "      <th>median_home_val</th>\n",
       "      <th>total_baños</th>\n",
       "      <th>income</th>\n",
       "      <th>dist_playa</th>\n",
       "      <th>num_vecinos</th>\n",
       "      <th>num_habitaciones</th>\n",
       "    </tr>\n",
       "  </thead>\n",
       "  <tbody>\n",
       "    <tr>\n",
       "      <th>5</th>\n",
       "      <td>NV</td>\n",
       "      <td>F</td>\n",
       "      <td>1569.0</td>\n",
       "      <td>672.0</td>\n",
       "      <td>673.000000</td>\n",
       "      <td>13.000000</td>\n",
       "      <td>785.0</td>\n",
       "      <td>781.0</td>\n",
       "    </tr>\n",
       "    <tr>\n",
       "      <th>42</th>\n",
       "      <td>TX</td>\n",
       "      <td>M</td>\n",
       "      <td>1043.0</td>\n",
       "      <td>682.0</td>\n",
       "      <td>610.000000</td>\n",
       "      <td>13.938255</td>\n",
       "      <td>731.0</td>\n",
       "      <td>788.0</td>\n",
       "    </tr>\n",
       "    <tr>\n",
       "      <th>71</th>\n",
       "      <td>CA</td>\n",
       "      <td>F</td>\n",
       "      <td>2725.0</td>\n",
       "      <td>684.0</td>\n",
       "      <td>629.000000</td>\n",
       "      <td>15.000000</td>\n",
       "      <td>662.0</td>\n",
       "      <td>734.0</td>\n",
       "    </tr>\n",
       "    <tr>\n",
       "      <th>85</th>\n",
       "      <td>CA</td>\n",
       "      <td>F</td>\n",
       "      <td>2750.0</td>\n",
       "      <td>701.0</td>\n",
       "      <td>668.000000</td>\n",
       "      <td>11.444444</td>\n",
       "      <td>717.0</td>\n",
       "      <td>781.0</td>\n",
       "    </tr>\n",
       "    <tr>\n",
       "      <th>167</th>\n",
       "      <td>FL</td>\n",
       "      <td>M</td>\n",
       "      <td>1432.0</td>\n",
       "      <td>693.0</td>\n",
       "      <td>600.372936</td>\n",
       "      <td>13.778056</td>\n",
       "      <td>680.0</td>\n",
       "      <td>772.0</td>\n",
       "    </tr>\n",
       "    <tr>\n",
       "      <th>...</th>\n",
       "      <td>...</td>\n",
       "      <td>...</td>\n",
       "      <td>...</td>\n",
       "      <td>...</td>\n",
       "      <td>...</td>\n",
       "      <td>...</td>\n",
       "      <td>...</td>\n",
       "      <td>...</td>\n",
       "    </tr>\n",
       "    <tr>\n",
       "      <th>3175</th>\n",
       "      <td>GA</td>\n",
       "      <td>F</td>\n",
       "      <td>2159.0</td>\n",
       "      <td>905.0</td>\n",
       "      <td>871.000000</td>\n",
       "      <td>7.333333</td>\n",
       "      <td>938.0</td>\n",
       "      <td>968.0</td>\n",
       "    </tr>\n",
       "    <tr>\n",
       "      <th>3229</th>\n",
       "      <td>GA</td>\n",
       "      <td>M</td>\n",
       "      <td>1483.0</td>\n",
       "      <td>695.0</td>\n",
       "      <td>673.000000</td>\n",
       "      <td>20.000000</td>\n",
       "      <td>744.0</td>\n",
       "      <td>774.0</td>\n",
       "    </tr>\n",
       "    <tr>\n",
       "      <th>3279</th>\n",
       "      <td>CA</td>\n",
       "      <td>M</td>\n",
       "      <td>2631.0</td>\n",
       "      <td>753.0</td>\n",
       "      <td>689.000000</td>\n",
       "      <td>19.615385</td>\n",
       "      <td>772.0</td>\n",
       "      <td>816.0</td>\n",
       "    </tr>\n",
       "    <tr>\n",
       "      <th>3296</th>\n",
       "      <td>CA</td>\n",
       "      <td>F</td>\n",
       "      <td>2854.0</td>\n",
       "      <td>749.0</td>\n",
       "      <td>732.000000</td>\n",
       "      <td>20.000000</td>\n",
       "      <td>504.8</td>\n",
       "      <td>785.0</td>\n",
       "    </tr>\n",
       "    <tr>\n",
       "      <th>3325</th>\n",
       "      <td>TX</td>\n",
       "      <td>F</td>\n",
       "      <td>1715.0</td>\n",
       "      <td>750.0</td>\n",
       "      <td>554.000000</td>\n",
       "      <td>13.918253</td>\n",
       "      <td>626.0</td>\n",
       "      <td>837.0</td>\n",
       "    </tr>\n",
       "  </tbody>\n",
       "</table>\n",
       "<p>98 rows × 8 columns</p>\n",
       "</div>"
      ],
      "text/plain": [
       "     state gender  median_home_val  total_baños      income  dist_playa  \\\n",
       "5       NV      F           1569.0        672.0  673.000000   13.000000   \n",
       "42      TX      M           1043.0        682.0  610.000000   13.938255   \n",
       "71      CA      F           2725.0        684.0  629.000000   15.000000   \n",
       "85      CA      F           2750.0        701.0  668.000000   11.444444   \n",
       "167     FL      M           1432.0        693.0  600.372936   13.778056   \n",
       "...    ...    ...              ...          ...         ...         ...   \n",
       "3175    GA      F           2159.0        905.0  871.000000    7.333333   \n",
       "3229    GA      M           1483.0        695.0  673.000000   20.000000   \n",
       "3279    CA      M           2631.0        753.0  689.000000   19.615385   \n",
       "3296    CA      F           2854.0        749.0  732.000000   20.000000   \n",
       "3325    TX      F           1715.0        750.0  554.000000   13.918253   \n",
       "\n",
       "      num_vecinos  num_habitaciones  \n",
       "5           785.0             781.0  \n",
       "42          731.0             788.0  \n",
       "71          662.0             734.0  \n",
       "85          717.0             781.0  \n",
       "167         680.0             772.0  \n",
       "...           ...               ...  \n",
       "3175        938.0             968.0  \n",
       "3229        744.0             774.0  \n",
       "3279        772.0             816.0  \n",
       "3296        504.8             785.0  \n",
       "3325        626.0             837.0  \n",
       "\n",
       "[98 rows x 8 columns]"
      ]
     },
     "execution_count": 35,
     "metadata": {},
     "output_type": "execute_result"
    }
   ],
   "source": [
    "outliers_data"
   ]
  },
  {
   "cell_type": "code",
   "execution_count": 36,
   "id": "60f574e0",
   "metadata": {},
   "outputs": [
    {
     "name": "stdout",
     "output_type": "stream",
     "text": [
      "[5, 42, 71, 85, 167, 174, 190, 192, 252, 264, 265, 300, 373, 375, 385, 407, 427, 439, 547, 550, 572, 581, 589, 609, 694, 755, 792, 857, 871, 874, 905, 910, 1008, 1020, 1070, 1134, 1152, 1165, 1168, 1177, 1233, 1276, 1326, 1446, 1464, 1502, 1512, 1527, 1606, 1613, 1674, 1696, 1697, 1712, 1725, 1728, 1733, 1815, 1836, 1872, 1907, 1911, 1926, 1947, 2113, 2121, 2215, 2257, 2266, 2327, 2370, 2388, 2393, 2425, 2439, 2471, 2485, 2490, 2528, 2540, 2559, 2642, 2696, 2807, 2869, 2878, 2947, 2964, 2974, 3002, 3039, 3052, 3126, 3175, 3229, 3279, 3296, 3325]\n"
     ]
    }
   ],
   "source": [
    "# sacamos los índices de los outliers, para saber que filas son las que tienen los outliers\n",
    "x = list(outliers_data.index)\n",
    "print(x)"
   ]
  },
  {
   "cell_type": "markdown",
   "id": "553f5ffe",
   "metadata": {},
   "source": [
    "Pero esto es un poco rollo si tuvieramos que ejecutar todas estas líneas para cada columna numérica, por lo que vamos a crearnos una función: "
   ]
  },
  {
   "cell_type": "code",
   "execution_count": 37,
   "id": "1e639c01",
   "metadata": {},
   "outputs": [],
   "source": [
    "def detectar_outliers(lista_columnas, dataframe): \n",
    "    \n",
    "    dicc_indices = {} # creamos un diccionario donde almacenaremos índices de los outliers\n",
    "    \n",
    "    # iteramos por la lista de las columnas numéricas de nuestro dataframe\n",
    "    for col in lista_columnas:\n",
    "        \n",
    "        #calculamos los cuartiles Q1 y Q3\n",
    "        Q1 = np.nanpercentile(dataframe[col], 25)\n",
    "        Q3 = np.nanpercentile(dataframe[col], 75)\n",
    "        \n",
    "        # calculamos el rango intercuartil\n",
    "        IQR = Q3 - Q1\n",
    "        \n",
    "        # calculamos los límites\n",
    "        outlier_step = 1.5 * IQR\n",
    "        \n",
    "        # filtramos nuestro dataframe para indentificar los outliers\n",
    "        outliers_data = dataframe[(dataframe[col] < Q1 - outlier_step) | (dataframe[col] > Q3 + outlier_step)]\n",
    "        \n",
    "        \n",
    "        if outliers_data.shape[0] > 0: # chequeamos si nuestro dataframe tiene alguna fila. \n",
    "        \n",
    "            dicc_indices[col] = (list(outliers_data.index)) # si tiene fila es que hay outliers y por lo tanto lo añadimos a nuestro diccionario\n",
    "        \n",
    "\n",
    "    \n",
    "    return dicc_indices "
   ]
  },
  {
   "cell_type": "code",
   "execution_count": 38,
   "id": "78294b44",
   "metadata": {},
   "outputs": [
    {
     "data": {
      "text/plain": [
       "Index(['median_home_val', 'total_baños', 'income', 'dist_playa', 'num_vecinos',\n",
       "       'num_habitaciones'],\n",
       "      dtype='object')"
      ]
     },
     "execution_count": 38,
     "metadata": {},
     "output_type": "execute_result"
    }
   ],
   "source": [
    "lista_columnas = df_numericas.columns\n",
    "lista_columnas"
   ]
  },
  {
   "cell_type": "code",
   "execution_count": 39,
   "id": "918fb550",
   "metadata": {},
   "outputs": [
    {
     "name": "stdout",
     "output_type": "stream",
     "text": [
      "{'median_home_val': [19, 29, 47, 58, 65, 71, 85, 116, 128, 143, 144, 162, 168, 169, 172, 173, 209, 250, 281, 289, 299, 304, 307, 336, 365, 370, 375, 376, 380, 382, 390, 399, 404, 405, 407, 424, 427, 452, 519, 534, 550, 572, 581, 589, 609, 614, 637, 694, 712, 735, 736, 745, 755, 808, 820, 823, 826, 851, 857, 871, 893, 911, 919, 937, 944, 983, 1006, 1020, 1024, 1045, 1046, 1081, 1097, 1098, 1113, 1118, 1164, 1168, 1185, 1186, 1216, 1233, 1255, 1269, 1293, 1321, 1326, 1343, 1368, 1370, 1389, 1392, 1397, 1407, 1411, 1429, 1431, 1443, 1453, 1473, 1487, 1508, 1518, 1548, 1606, 1607, 1624, 1670, 1674, 1679, 1720, 1733, 1787, 1795, 1803, 1806, 1810, 1819, 1853, 1893, 1911, 1921, 1926, 1947, 1959, 1976, 1979, 1989, 1995, 2007, 2014, 2025, 2027, 2029, 2032, 2055, 2070, 2073, 2095, 2107, 2109, 2111, 2121, 2126, 2136, 2141, 2147, 2153, 2155, 2183, 2237, 2240, 2252, 2263, 2265, 2266, 2285, 2293, 2324, 2328, 2352, 2384, 2389, 2430, 2433, 2447, 2451, 2461, 2506, 2513, 2514, 2518, 2531, 2558, 2560, 2578, 2582, 2597, 2601, 2625, 2657, 2661, 2681, 2695, 2712, 2714, 2722, 2748, 2758, 2767, 2782, 2823, 2846, 2866, 2907, 2933, 2968, 2974, 2989, 2992, 3002, 3035, 3048, 3052, 3066, 3105, 3108, 3123, 3137, 3139, 3143, 3161, 3162, 3171, 3175, 3177, 3197, 3206, 3213, 3217, 3222, 3237, 3238, 3250, 3272, 3279, 3296, 3309, 3313, 3315, 3317, 3330, 3331], 'total_baños': [5, 42, 71, 85, 167, 174, 190, 192, 252, 264, 265, 300, 373, 375, 385, 407, 427, 439, 547, 550, 572, 581, 589, 609, 694, 755, 792, 857, 871, 874, 905, 910, 1008, 1020, 1070, 1134, 1152, 1165, 1168, 1177, 1233, 1276, 1326, 1446, 1464, 1502, 1512, 1527, 1606, 1613, 1674, 1696, 1697, 1712, 1725, 1728, 1733, 1815, 1836, 1872, 1907, 1911, 1926, 1947, 2113, 2121, 2215, 2257, 2266, 2327, 2370, 2388, 2393, 2425, 2439, 2471, 2485, 2490, 2528, 2540, 2559, 2642, 2696, 2807, 2869, 2878, 2947, 2964, 2974, 3002, 3039, 3052, 3126, 3175, 3229, 3279, 3296, 3325], 'income': [5, 52, 85, 174, 190, 192, 252, 373, 375, 385, 407, 427, 439, 547, 609, 857, 871, 874, 910, 1020, 1070, 1134, 1168, 1177, 1326, 1431, 1446, 1464, 1502, 1527, 1606, 1712, 1725, 1815, 1911, 1926, 1947, 2044, 2113, 2121, 2215, 2217, 2257, 2266, 2370, 2393, 2425, 2485, 2490, 2528, 2695, 2807, 2947, 2964, 2971, 2974, 3039, 3052, 3126, 3175, 3229, 3279, 3296], 'dist_playa': [3, 21, 33, 81, 94, 132, 151, 159, 198, 211, 221, 251, 287, 288, 290, 343, 385, 402, 434, 435, 476, 512, 550, 572, 601, 621, 643, 650, 687, 688, 689, 715, 741, 774, 775, 780, 805, 835, 870, 957, 1010, 1026, 1038, 1095, 1098, 1099, 1206, 1225, 1241, 1245, 1248, 1321, 1323, 1370, 1371, 1372, 1391, 1397, 1439, 1451, 1463, 1483, 1487, 1508, 1525, 1539, 1547, 1565, 1578, 1586, 1590, 1600, 1607, 1611, 1612, 1632, 1697, 1707, 1713, 1741, 1749, 1767, 1777, 1850, 1863, 1873, 1881, 1885, 1937, 1956, 1957, 1961, 1962, 1969, 1973, 1976, 1988, 1993, 2003, 2029, 2068, 2076, 2108, 2113, 2148, 2173, 2174, 2176, 2187, 2188, 2221, 2229, 2253, 2258, 2301, 2302, 2315, 2340, 2350, 2360, 2386, 2388, 2406, 2410, 2420, 2430, 2457, 2494, 2506, 2523, 2545, 2556, 2560, 2592, 2635, 2642, 2644, 2675, 2689, 2695, 2731, 2742, 2744, 2777, 2788, 2829, 2881, 2882, 2894, 2904, 2914, 2926, 2927, 2992, 3006, 3020, 3035, 3041, 3051, 3052, 3068, 3077, 3088, 3127, 3146, 3152, 3174, 3198, 3209, 3266, 3276, 3317, 3321], 'num_vecinos': [5, 42, 52, 85, 174, 190, 252, 264, 300, 373, 375, 385, 407, 427, 439, 547, 581, 609, 654, 694, 755, 792, 857, 871, 874, 986, 1070, 1134, 1165, 1168, 1215, 1293, 1326, 1389, 1431, 1446, 1464, 1502, 1512, 1527, 1606, 1725, 1742, 1815, 1836, 1872, 1911, 1921, 1947, 2113, 2121, 2215, 2217, 2240, 2257, 2266, 2367, 2388, 2425, 2439, 2471, 2485, 2490, 2528, 2540, 2807, 2947, 2964, 2971, 2974, 3002, 3039, 3052, 3092, 3175, 3229, 3279], 'num_habitaciones': [5, 42, 85, 128, 167, 174, 190, 192, 252, 265, 281, 300, 375, 385, 407, 427, 439, 484, 547, 581, 589, 609, 694, 755, 792, 857, 871, 874, 910, 986, 1008, 1020, 1070, 1134, 1165, 1168, 1215, 1233, 1326, 1343, 1512, 1518, 1606, 1613, 1674, 1696, 1725, 1728, 1733, 1742, 1836, 1872, 1907, 1911, 1926, 1947, 2044, 2113, 2217, 2257, 2266, 2327, 2367, 2370, 2388, 2393, 2425, 2439, 2471, 2485, 2490, 2504, 2514, 2528, 2540, 2559, 2597, 2695, 2696, 2807, 2878, 2947, 2964, 2971, 2974, 3002, 3039, 3052, 3134, 3139, 3175, 3209, 3229, 3238, 3279, 3296, 3325]}\n"
     ]
    }
   ],
   "source": [
    "# aplicamos la función y sacamos los índices de los outliers.\n",
    "\n",
    "ind = detectar_outliers(lista_columnas, df)\n",
    "print(ind)"
   ]
  },
  {
   "cell_type": "markdown",
   "id": "78fac77e",
   "metadata": {},
   "source": [
    "Ahora ya podremos hacer el tratamiento correcto de los *outliers*, como comentabamos un poco más arriba: \n",
    "\n",
    "- Eliminarlos\n",
    "\n",
    "- Reemplazarlos\n",
    "\n",
    "- Mantenerlos. "
   ]
  },
  {
   "cell_type": "markdown",
   "id": "fb74a9a1",
   "metadata": {},
   "source": [
    "# Eliminar *outliers* "
   ]
  },
  {
   "cell_type": "markdown",
   "id": "28c69b83",
   "metadata": {},
   "source": [
    "En este caso solo vamos a necesitar los índices. Por lo que necesitamos acceder a los valores de nuestro diccionario, para luego usarlos para elminarlos. "
   ]
  },
  {
   "cell_type": "code",
   "execution_count": 51,
   "id": "0b4696ed",
   "metadata": {},
   "outputs": [
    {
     "name": "stdout",
     "output_type": "stream",
     "text": [
      "[[19, 29, 47, 58, 65, 71, 85, 116, 128, 143, 144, 162, 168, 169, 172, 173, 209, 250, 281, 289, 299, 304, 307, 336, 365, 370, 375, 376, 380, 382, 390, 399, 404, 405, 407, 424, 427, 452, 519, 534, 550, 572, 581, 589, 609, 614, 637, 694, 712, 735, 736, 745, 755, 808, 820, 823, 826, 851, 857, 871, 893, 911, 919, 937, 944, 983, 1006, 1020, 1024, 1045, 1046, 1081, 1097, 1098, 1113, 1118, 1164, 1168, 1185, 1186, 1216, 1233, 1255, 1269, 1293, 1321, 1326, 1343, 1368, 1370, 1389, 1392, 1397, 1407, 1411, 1429, 1431, 1443, 1453, 1473, 1487, 1508, 1518, 1548, 1606, 1607, 1624, 1670, 1674, 1679, 1720, 1733, 1787, 1795, 1803, 1806, 1810, 1819, 1853, 1893, 1911, 1921, 1926, 1947, 1959, 1976, 1979, 1989, 1995, 2007, 2014, 2025, 2027, 2029, 2032, 2055, 2070, 2073, 2095, 2107, 2109, 2111, 2121, 2126, 2136, 2141, 2147, 2153, 2155, 2183, 2237, 2240, 2252, 2263, 2265, 2266, 2285, 2293, 2324, 2328, 2352, 2384, 2389, 2430, 2433, 2447, 2451, 2461, 2506, 2513, 2514, 2518, 2531, 2558, 2560, 2578, 2582, 2597, 2601, 2625, 2657, 2661, 2681, 2695, 2712, 2714, 2722, 2748, 2758, 2767, 2782, 2823, 2846, 2866, 2907, 2933, 2968, 2974, 2989, 2992, 3002, 3035, 3048, 3052, 3066, 3105, 3108, 3123, 3137, 3139, 3143, 3161, 3162, 3171, 3175, 3177, 3197, 3206, 3213, 3217, 3222, 3237, 3238, 3250, 3272, 3279, 3296, 3309, 3313, 3315, 3317, 3330, 3331], [5, 42, 71, 85, 167, 174, 190, 192, 252, 264, 265, 300, 373, 375, 385, 407, 427, 439, 547, 550, 572, 581, 589, 609, 694, 755, 792, 857, 871, 874, 905, 910, 1008, 1020, 1070, 1134, 1152, 1165, 1168, 1177, 1233, 1276, 1326, 1446, 1464, 1502, 1512, 1527, 1606, 1613, 1674, 1696, 1697, 1712, 1725, 1728, 1733, 1815, 1836, 1872, 1907, 1911, 1926, 1947, 2113, 2121, 2215, 2257, 2266, 2327, 2370, 2388, 2393, 2425, 2439, 2471, 2485, 2490, 2528, 2540, 2559, 2642, 2696, 2807, 2869, 2878, 2947, 2964, 2974, 3002, 3039, 3052, 3126, 3175, 3229, 3279, 3296, 3325], [5, 52, 85, 174, 190, 192, 252, 373, 375, 385, 407, 427, 439, 547, 609, 857, 871, 874, 910, 1020, 1070, 1134, 1168, 1177, 1326, 1431, 1446, 1464, 1502, 1527, 1606, 1712, 1725, 1815, 1911, 1926, 1947, 2044, 2113, 2121, 2215, 2217, 2257, 2266, 2370, 2393, 2425, 2485, 2490, 2528, 2695, 2807, 2947, 2964, 2971, 2974, 3039, 3052, 3126, 3175, 3229, 3279, 3296], [3, 21, 33, 81, 94, 132, 151, 159, 198, 211, 221, 251, 287, 288, 290, 343, 385, 402, 434, 435, 476, 512, 550, 572, 601, 621, 643, 650, 687, 688, 689, 715, 741, 774, 775, 780, 805, 835, 870, 957, 1010, 1026, 1038, 1095, 1098, 1099, 1206, 1225, 1241, 1245, 1248, 1321, 1323, 1370, 1371, 1372, 1391, 1397, 1439, 1451, 1463, 1483, 1487, 1508, 1525, 1539, 1547, 1565, 1578, 1586, 1590, 1600, 1607, 1611, 1612, 1632, 1697, 1707, 1713, 1741, 1749, 1767, 1777, 1850, 1863, 1873, 1881, 1885, 1937, 1956, 1957, 1961, 1962, 1969, 1973, 1976, 1988, 1993, 2003, 2029, 2068, 2076, 2108, 2113, 2148, 2173, 2174, 2176, 2187, 2188, 2221, 2229, 2253, 2258, 2301, 2302, 2315, 2340, 2350, 2360, 2386, 2388, 2406, 2410, 2420, 2430, 2457, 2494, 2506, 2523, 2545, 2556, 2560, 2592, 2635, 2642, 2644, 2675, 2689, 2695, 2731, 2742, 2744, 2777, 2788, 2829, 2881, 2882, 2894, 2904, 2914, 2926, 2927, 2992, 3006, 3020, 3035, 3041, 3051, 3052, 3068, 3077, 3088, 3127, 3146, 3152, 3174, 3198, 3209, 3266, 3276, 3317, 3321], [5, 42, 52, 85, 174, 190, 252, 264, 300, 373, 375, 385, 407, 427, 439, 547, 581, 609, 654, 694, 755, 792, 857, 871, 874, 986, 1070, 1134, 1165, 1168, 1215, 1293, 1326, 1389, 1431, 1446, 1464, 1502, 1512, 1527, 1606, 1725, 1742, 1815, 1836, 1872, 1911, 1921, 1947, 2113, 2121, 2215, 2217, 2240, 2257, 2266, 2367, 2388, 2425, 2439, 2471, 2485, 2490, 2528, 2540, 2807, 2947, 2964, 2971, 2974, 3002, 3039, 3052, 3092, 3175, 3229, 3279], [5, 42, 85, 128, 167, 174, 190, 192, 252, 265, 281, 300, 375, 385, 407, 427, 439, 484, 547, 581, 589, 609, 694, 755, 792, 857, 871, 874, 910, 986, 1008, 1020, 1070, 1134, 1165, 1168, 1215, 1233, 1326, 1343, 1512, 1518, 1606, 1613, 1674, 1696, 1725, 1728, 1733, 1742, 1836, 1872, 1907, 1911, 1926, 1947, 2044, 2113, 2217, 2257, 2266, 2327, 2367, 2370, 2388, 2393, 2425, 2439, 2471, 2485, 2490, 2504, 2514, 2528, 2540, 2559, 2597, 2695, 2696, 2807, 2878, 2947, 2964, 2971, 2974, 3002, 3039, 3052, 3134, 3139, 3175, 3209, 3229, 3238, 3279, 3296, 3325]]\n"
     ]
    }
   ],
   "source": [
    "# sacamos los valores de nuestro diccionario. \n",
    "valores = list(ind.values())\n",
    "\n",
    "# pero ojo!! Esto es una lista de listas, por lo que necesitaremos aplanarla, ya que el método drop acepta listas.\n",
    "print(valores)"
   ]
  },
  {
   "cell_type": "code",
   "execution_count": 52,
   "id": "63e8827b",
   "metadata": {},
   "outputs": [
    {
     "name": "stdout",
     "output_type": "stream",
     "text": [
      "{3, 5, 2055, 19, 2068, 21, 2070, 2073, 2076, 29, 33, 42, 47, 2095, 52, 58, 2107, 2108, 2109, 2111, 65, 2113, 71, 2121, 2126, 81, 85, 2136, 2141, 94, 2147, 2148, 2153, 2155, 116, 2173, 2174, 128, 2176, 132, 2183, 2187, 2188, 143, 144, 151, 159, 162, 167, 168, 169, 2215, 2217, 172, 173, 174, 2221, 2229, 2237, 190, 2240, 192, 198, 2252, 2253, 209, 2257, 211, 2258, 2263, 2265, 2266, 221, 2285, 2293, 250, 251, 252, 2301, 2302, 264, 265, 2315, 2324, 2327, 2328, 281, 287, 288, 289, 290, 2340, 299, 300, 2350, 304, 2352, 307, 2360, 2367, 2370, 336, 2384, 2386, 2388, 2389, 343, 2393, 2406, 2410, 365, 370, 2420, 373, 375, 376, 2425, 380, 382, 2430, 2433, 385, 390, 2439, 399, 2447, 402, 2451, 404, 405, 407, 2457, 2461, 2471, 424, 427, 434, 435, 2485, 439, 2490, 2494, 452, 2504, 2506, 2513, 2514, 2518, 2523, 476, 2528, 2531, 484, 2540, 2545, 2556, 2558, 2559, 2560, 512, 519, 2578, 534, 2582, 2592, 547, 2597, 550, 2601, 572, 2625, 581, 2635, 589, 2642, 2644, 601, 609, 2657, 2661, 614, 621, 2675, 2681, 637, 2689, 643, 2695, 2696, 650, 654, 2712, 2714, 2722, 2731, 687, 688, 689, 694, 2742, 2744, 2748, 2758, 712, 715, 2767, 2777, 2782, 735, 736, 2788, 741, 745, 755, 2807, 774, 2823, 775, 780, 2829, 792, 2846, 805, 808, 2866, 820, 2869, 823, 826, 2878, 2881, 2882, 835, 2894, 851, 2904, 857, 2907, 2914, 870, 871, 874, 2926, 2927, 2933, 893, 2947, 905, 910, 911, 2964, 919, 2968, 2971, 2974, 937, 2989, 944, 2992, 3002, 957, 3006, 3020, 983, 986, 3035, 3039, 3041, 3048, 3051, 3052, 1006, 1008, 1010, 3066, 1020, 3068, 1024, 1026, 3077, 1038, 3088, 3092, 1045, 1046, 3105, 3108, 1070, 3123, 3126, 3127, 1081, 3134, 3137, 3139, 3143, 1095, 1097, 1098, 1099, 3146, 3152, 1113, 3161, 3162, 1118, 3171, 3174, 3175, 3177, 1134, 3197, 3198, 1152, 3206, 3209, 1164, 3213, 1165, 1168, 3217, 3222, 1177, 3229, 1185, 1186, 3237, 3238, 3250, 1206, 1215, 1216, 3266, 3272, 1225, 3276, 3279, 1233, 1241, 1245, 3296, 1248, 1255, 3309, 3313, 3315, 1269, 3317, 3321, 1276, 3325, 3330, 3331, 1293, 1321, 1323, 1326, 1343, 1368, 1370, 1371, 1372, 1389, 1391, 1392, 1397, 1407, 1411, 1429, 1431, 1439, 1443, 1446, 1451, 1453, 1463, 1464, 1473, 1483, 1487, 1502, 1508, 1512, 1518, 1525, 1527, 1539, 1547, 1548, 1565, 1578, 1586, 1590, 1600, 1606, 1607, 1611, 1612, 1613, 1624, 1632, 1670, 1674, 1679, 1696, 1697, 1707, 1712, 1713, 1720, 1725, 1728, 1733, 1741, 1742, 1749, 1767, 1777, 1787, 1795, 1803, 1806, 1810, 1815, 1819, 1836, 1850, 1853, 1863, 1872, 1873, 1881, 1885, 1893, 1907, 1911, 1921, 1926, 1937, 1947, 1956, 1957, 1959, 1961, 1962, 1969, 1973, 1976, 1979, 1988, 1989, 1993, 1995, 2003, 2007, 2014, 2025, 2027, 2029, 2032, 2044}\n"
     ]
    }
   ],
   "source": [
    "# hacemos una list comprehension para aplanar nuestra lista de listas\n",
    "\n",
    "valores = [indice for sublista in valores for indice in sublista]\n",
    "valores = set(valores)\n",
    "print(valores)"
   ]
  },
  {
   "cell_type": "code",
   "execution_count": 54,
   "id": "9347532a",
   "metadata": {},
   "outputs": [
    {
     "data": {
      "text/plain": [
       "(3333, 8)"
      ]
     },
     "execution_count": 54,
     "metadata": {},
     "output_type": "execute_result"
    }
   ],
   "source": [
    "df.shape"
   ]
  },
  {
   "cell_type": "code",
   "execution_count": 53,
   "id": "89e2b673",
   "metadata": {},
   "outputs": [],
   "source": [
    "# nos hacems¡os una copia del dataframe original\n",
    "df_sin_outliers2 = df.copy()\n",
    "\n",
    "# eliminamos usando la lista de índices las filas que hemos identificado como outliers. \n",
    "final = df_sin_outliers2.drop(df_sin_outliers2.index[list(valores)] )"
   ]
  },
  {
   "cell_type": "markdown",
   "id": "cbee2a20",
   "metadata": {},
   "source": [
    "Por último chequeamos las filas del *dataframe* nuevo y comprobamos si se han borrado los registros que queríamos. "
   ]
  },
  {
   "cell_type": "code",
   "execution_count": 46,
   "id": "99614da0",
   "metadata": {},
   "outputs": [
    {
     "data": {
      "text/plain": [
       "(2872, 8)"
      ]
     },
     "execution_count": 46,
     "metadata": {},
     "output_type": "execute_result"
    }
   ],
   "source": [
    "final.shape"
   ]
  },
  {
   "cell_type": "markdown",
   "id": "c0671b8a",
   "metadata": {},
   "source": [
    "# Reemplazar"
   ]
  },
  {
   "cell_type": "markdown",
   "id": "fe7fc6e6",
   "metadata": {},
   "source": [
    "También podemos reemplazar los valores de los *outliers* por la media o la mediana. Recordamos que la función para detectar los *outliers* nos devolvía un diccionario, donde las *keys* eran el nombre de las columnas y los *values* la lista de los índices donde tenemos nulos. "
   ]
  },
  {
   "cell_type": "code",
   "execution_count": 47,
   "id": "6321ac95",
   "metadata": {},
   "outputs": [
    {
     "name": "stdout",
     "output_type": "stream",
     "text": [
      "{'median_home_val': [19, 29, 47, 58, 65, 71, 85, 116, 128, 143, 144, 162, 168, 169, 172, 173, 209, 250, 281, 289, 299, 304, 307, 336, 365, 370, 375, 376, 380, 382, 390, 399, 404, 405, 407, 424, 427, 452, 519, 534, 550, 572, 581, 589, 609, 614, 637, 694, 712, 735, 736, 745, 755, 808, 820, 823, 826, 851, 857, 871, 893, 911, 919, 937, 944, 983, 1006, 1020, 1024, 1045, 1046, 1081, 1097, 1098, 1113, 1118, 1164, 1168, 1185, 1186, 1216, 1233, 1255, 1269, 1293, 1321, 1326, 1343, 1368, 1370, 1389, 1392, 1397, 1407, 1411, 1429, 1431, 1443, 1453, 1473, 1487, 1508, 1518, 1548, 1606, 1607, 1624, 1670, 1674, 1679, 1720, 1733, 1787, 1795, 1803, 1806, 1810, 1819, 1853, 1893, 1911, 1921, 1926, 1947, 1959, 1976, 1979, 1989, 1995, 2007, 2014, 2025, 2027, 2029, 2032, 2055, 2070, 2073, 2095, 2107, 2109, 2111, 2121, 2126, 2136, 2141, 2147, 2153, 2155, 2183, 2237, 2240, 2252, 2263, 2265, 2266, 2285, 2293, 2324, 2328, 2352, 2384, 2389, 2430, 2433, 2447, 2451, 2461, 2506, 2513, 2514, 2518, 2531, 2558, 2560, 2578, 2582, 2597, 2601, 2625, 2657, 2661, 2681, 2695, 2712, 2714, 2722, 2748, 2758, 2767, 2782, 2823, 2846, 2866, 2907, 2933, 2968, 2974, 2989, 2992, 3002, 3035, 3048, 3052, 3066, 3105, 3108, 3123, 3137, 3139, 3143, 3161, 3162, 3171, 3175, 3177, 3197, 3206, 3213, 3217, 3222, 3237, 3238, 3250, 3272, 3279, 3296, 3309, 3313, 3315, 3317, 3330, 3331], 'total_baños': [5, 42, 71, 85, 167, 174, 190, 192, 252, 264, 265, 300, 373, 375, 385, 407, 427, 439, 547, 550, 572, 581, 589, 609, 694, 755, 792, 857, 871, 874, 905, 910, 1008, 1020, 1070, 1134, 1152, 1165, 1168, 1177, 1233, 1276, 1326, 1446, 1464, 1502, 1512, 1527, 1606, 1613, 1674, 1696, 1697, 1712, 1725, 1728, 1733, 1815, 1836, 1872, 1907, 1911, 1926, 1947, 2113, 2121, 2215, 2257, 2266, 2327, 2370, 2388, 2393, 2425, 2439, 2471, 2485, 2490, 2528, 2540, 2559, 2642, 2696, 2807, 2869, 2878, 2947, 2964, 2974, 3002, 3039, 3052, 3126, 3175, 3229, 3279, 3296, 3325], 'income': [5, 52, 85, 174, 190, 192, 252, 373, 375, 385, 407, 427, 439, 547, 609, 857, 871, 874, 910, 1020, 1070, 1134, 1168, 1177, 1326, 1431, 1446, 1464, 1502, 1527, 1606, 1712, 1725, 1815, 1911, 1926, 1947, 2044, 2113, 2121, 2215, 2217, 2257, 2266, 2370, 2393, 2425, 2485, 2490, 2528, 2695, 2807, 2947, 2964, 2971, 2974, 3039, 3052, 3126, 3175, 3229, 3279, 3296], 'dist_playa': [3, 21, 33, 81, 94, 132, 151, 159, 198, 211, 221, 251, 287, 288, 290, 343, 385, 402, 434, 435, 476, 512, 550, 572, 601, 621, 643, 650, 687, 688, 689, 715, 741, 774, 775, 780, 805, 835, 870, 957, 1010, 1026, 1038, 1095, 1098, 1099, 1206, 1225, 1241, 1245, 1248, 1321, 1323, 1370, 1371, 1372, 1391, 1397, 1439, 1451, 1463, 1483, 1487, 1508, 1525, 1539, 1547, 1565, 1578, 1586, 1590, 1600, 1607, 1611, 1612, 1632, 1697, 1707, 1713, 1741, 1749, 1767, 1777, 1850, 1863, 1873, 1881, 1885, 1937, 1956, 1957, 1961, 1962, 1969, 1973, 1976, 1988, 1993, 2003, 2029, 2068, 2076, 2108, 2113, 2148, 2173, 2174, 2176, 2187, 2188, 2221, 2229, 2253, 2258, 2301, 2302, 2315, 2340, 2350, 2360, 2386, 2388, 2406, 2410, 2420, 2430, 2457, 2494, 2506, 2523, 2545, 2556, 2560, 2592, 2635, 2642, 2644, 2675, 2689, 2695, 2731, 2742, 2744, 2777, 2788, 2829, 2881, 2882, 2894, 2904, 2914, 2926, 2927, 2992, 3006, 3020, 3035, 3041, 3051, 3052, 3068, 3077, 3088, 3127, 3146, 3152, 3174, 3198, 3209, 3266, 3276, 3317, 3321], 'num_vecinos': [5, 42, 52, 85, 174, 190, 252, 264, 300, 373, 375, 385, 407, 427, 439, 547, 581, 609, 654, 694, 755, 792, 857, 871, 874, 986, 1070, 1134, 1165, 1168, 1215, 1293, 1326, 1389, 1431, 1446, 1464, 1502, 1512, 1527, 1606, 1725, 1742, 1815, 1836, 1872, 1911, 1921, 1947, 2113, 2121, 2215, 2217, 2240, 2257, 2266, 2367, 2388, 2425, 2439, 2471, 2485, 2490, 2528, 2540, 2807, 2947, 2964, 2971, 2974, 3002, 3039, 3052, 3092, 3175, 3229, 3279], 'num_habitaciones': [5, 42, 85, 128, 167, 174, 190, 192, 252, 265, 281, 300, 375, 385, 407, 427, 439, 484, 547, 581, 589, 609, 694, 755, 792, 857, 871, 874, 910, 986, 1008, 1020, 1070, 1134, 1165, 1168, 1215, 1233, 1326, 1343, 1512, 1518, 1606, 1613, 1674, 1696, 1725, 1728, 1733, 1742, 1836, 1872, 1907, 1911, 1926, 1947, 2044, 2113, 2217, 2257, 2266, 2327, 2367, 2370, 2388, 2393, 2425, 2439, 2471, 2485, 2490, 2504, 2514, 2528, 2540, 2559, 2597, 2695, 2696, 2807, 2878, 2947, 2964, 2971, 2974, 3002, 3039, 3052, 3134, 3139, 3175, 3209, 3229, 3238, 3279, 3296, 3325]}\n"
     ]
    }
   ],
   "source": [
    "print(ind)"
   ]
  },
  {
   "cell_type": "code",
   "execution_count": 55,
   "id": "20c483dc",
   "metadata": {},
   "outputs": [],
   "source": [
    "# lo que vamos a hacer es iterar por el diccionario que nos devuelve la función \n",
    "for k, v in ind.items():\n",
    "    if k == \"total_baños\":\n",
    "        media = df[k].mean() # calculamos la media para cada una de las columnas que tenemos en nuestro diccionario\n",
    "        for i in v: # iteremos por la lista de valores para cada columna\n",
    "            df.loc[i,k] = media # usando el loc, reemmplazamos los valores de los outliers por la media que hemos calculado al inicio.  \n",
    "    else: \n",
    "        mediana = df[k].median() # calculamos la media para cada una de las columnas que tenemos en nuestro diccionario\n",
    "        for i in v: # iteremos por la lista de valores para cada columna\n",
    "            df.loc[i,k] = mediana \n",
    "        "
   ]
  },
  {
   "cell_type": "code",
   "execution_count": 57,
   "id": "35fc3a38",
   "metadata": {},
   "outputs": [
    {
     "data": {
      "image/png": "[encoded data removed]",
      "text/plain": [
       "<Figure size 1440x1080 with 6 Axes>"
      ]
     },
     "metadata": {
      "needs_background": "light"
     },
     "output_type": "display_data"
    }
   ],
   "source": [
    "df_numericas2 = df.select_dtypes(include = np.number)\n",
    "\n",
    "fig, axes = plt.subplots(2, 3, figsize=(20,15))\n",
    "axes = axes.flat\n",
    "\n",
    "for indice, columna in enumerate(df_numericas2.columns):\n",
    "    sns.boxplot(x=columna, data=df_numericas2, ax=axes[indice])\n",
    "plt.show()"
   ]
  },
  {
   "cell_type": "code",
   "execution_count": 59,
   "id": "cef659b9",
   "metadata": {},
   "outputs": [],
   "source": [
    "# guardamos el csv con los valores cambiados\n",
    "\n",
    "df.to_csv(\"data/california_nonull_nooutliers.csv\")"
   ]
  },
  {
   "cell_type": "code",
   "execution_count": 60,
   "id": "b3370bef",
   "metadata": {},
   "outputs": [
    {
     "data": {
      "image/png": "[encoded data removed]",
      "text/plain": [
       "<Figure size 2160x720 with 5 Axes>"
      ]
     },
     "metadata": {
      "needs_background": "light"
     },
     "output_type": "display_data"
    }
   ],
   "source": [
    "# Gráfico de distribución para cada variable numérica\n",
    "# ==============================================================================\n",
    "\n",
    "fig, axes = plt.subplots(nrows = 2, ncols = 3, figsize = (30, 10))\n",
    "\n",
    "lista_colores = [\"blue\", \"green\", \"red\", \"cyan\", \"magenta\", \"orange\"]\n",
    "\n",
    "axes = axes.flat\n",
    "\n",
    "columnas_numeric = df.select_dtypes(include = np.number).columns\n",
    "columnas_numeric = columnas_numeric.drop(\"median_home_val\")\n",
    "\n",
    "for i, colum in enumerate(columnas_numeric): \n",
    "    sns.histplot(\n",
    "        data = df,\n",
    "        x = colum,\n",
    "        kde = True, \n",
    "        color = lista_colores[i], \n",
    "        line_kws = {\"linewidth\": 2}, \n",
    "        alpha = 0.2, \n",
    "        ax = axes[i])\n",
    "    \n",
    "    \n",
    "    axes[i].set_title(colum, fontsize = 15, fontweight = \"bold\")\n",
    "    axes[i].tick_params(labelsize = 20)\n",
    "    axes[i].set_xlabel(\"\")\n",
    "    \n",
    "\n",
    "fig.tight_layout()\n",
    "fig.delaxes(axes[-1]) # Eliminamos el último eje que no se usa;\n",
    "    \n",
    "\n",
    "\n"
   ]
  },
  {
   "cell_type": "code",
   "execution_count": null,
   "id": "8ddf2632",
   "metadata": {},
   "outputs": [],
   "source": []
  }
 ],
 "metadata": {
  "kernelspec": {
   "display_name": "Python 3",
   "language": "python",
   "name": "python3"
  },
  "language_info": {
   "codemirror_mode": {
    "name": "ipython",
    "version": 3
   },
   "file_extension": ".py",
   "mimetype": "text/x-python",
   "name": "python",
   "nbconvert_exporter": "python",
   "pygments_lexer": "ipython3",
   "version": "3.10.4"
  },
  "toc": {
   "base_numbering": 1,
   "nav_menu": {},
   "number_sections": true,
   "sideBar": true,
   "skip_h1_title": false,
   "title_cell": "Table of Contents",
   "title_sidebar": "Contents",
   "toc_cell": true,
   "toc_position": {
    "height": "calc(100% - 180px)",
    "left": "10px",
    "top": "150px",
    "width": "426.667px"
   },
   "toc_section_display": true,
   "toc_window_display": false
  }
 },
 "nbformat": 4,
 "nbformat_minor": 5
}
