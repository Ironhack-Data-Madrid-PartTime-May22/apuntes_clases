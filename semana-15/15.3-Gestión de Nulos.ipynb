{
 "cells": [
  {
   "cell_type": "markdown",
   "metadata": {
    "toc": true
   },
   "source": [
    "<h1>Table of Contents<span class=\"tocSkip\"></span></h1>\n",
    "<div class=\"toc\"><ul class=\"toc-item\"><li><span><a href=\"#Gestión-de-nulos\" data-toc-modified-id=\"Gestión-de-nulos-1\"><span class=\"toc-item-num\">1&nbsp;&nbsp;</span>Gestión de nulos</a></span><ul class=\"toc-item\"><li><span><a href=\"#¿Por-qué-es-importante-identificar-y-gestionar-los-valores-nulos?\" data-toc-modified-id=\"¿Por-qué-es-importante-identificar-y-gestionar-los-valores-nulos?-1.1\"><span class=\"toc-item-num\">1.1&nbsp;&nbsp;</span>¿Por qué es importante identificar y gestionar los valores nulos?</a></span></li><li><span><a href=\"#Principales-causas-de-los-valores-faltantes\" data-toc-modified-id=\"Principales-causas-de-los-valores-faltantes-1.2\"><span class=\"toc-item-num\">1.2&nbsp;&nbsp;</span>Principales causas de los valores faltantes</a></span></li><li><span><a href=\"#¿Qué-estrategias-tenemos-para-gestionar-los-valores-nulos?\" data-toc-modified-id=\"¿Qué-estrategias-tenemos-para-gestionar-los-valores-nulos?-1.3\"><span class=\"toc-item-num\">1.3&nbsp;&nbsp;</span>¿Qué estrategias tenemos para gestionar los valores nulos?</a></span></li></ul></li><li><span><a href=\"#¿Qué-factores-deben-considerarse-al-elegir-un-método-de-imputación-para-valores-nulos-en-un-conjunto-de-datos?\" data-toc-modified-id=\"¿Qué-factores-deben-considerarse-al-elegir-un-método-de-imputación-para-valores-nulos-en-un-conjunto-de-datos?-2\"><span class=\"toc-item-num\">2&nbsp;&nbsp;</span>¿Qué factores deben considerarse al elegir un método de imputación para valores nulos en un conjunto de datos?</a></span></li><li><span><a href=\"#Estrategias-para-la-imputación-de-nulos\" data-toc-modified-id=\"Estrategias-para-la-imputación-de-nulos-3\"><span class=\"toc-item-num\">3&nbsp;&nbsp;</span>Estrategias para la imputación de nulos</a></span></li></ul></div>"
   ]
  },
  {
   "cell_type": "markdown",
   "metadata": {},
   "source": [
    "# Gestión de nulos\n",
    "\n",
    "## Tipos de nulos\n",
    "\n",
    "Algunos de los tipos de valores nulos que te puedes encontrar son:\n",
    "\n",
    "1. **NaN (Not a Number)**: Puede aparecer en columnas numéricas y en algunas columnas de tipo objeto. Pandas utiliza la constante `np.nan` (importando `numpy` como `np`) para representar estos valores.\n",
    "\n",
    "2. **None**: A diferencia de NaN, `None` es una constante de Python y no una representación numérica, por lo que lo podremos encontrar en columnas de tipo objeto.\n",
    "\n",
    "3. **Valores especiales de datos**: En algunos conjuntos de datos, los valores nulos pueden tener representaciones específicas. Por ejemplo, en un conjunto de datos de encuestas, el valor \"NA\" o \"N/A\" podría utilizarse para denotar valores faltantes.\n",
    "\n",
    "4. **Valores vacíos o en blanco**: En columnas de texto, es posible que los valores nulos simplemente sean cadenas vacías o espacios en blanco.\n",
    "\n",
    "5. **Valores sentinelas**: En algunos casos, se pueden usar valores especiales que actúan como \"marcadores\" de nulos. Por ejemplo, usar un valor como -1 o 999 para indicar un valor faltante.\n",
    "\n",
    "6. **NaT (Not a Timestamp)**: Se utilizan para denotar fechas y horas faltantes o desconocidas.\n",
    "\n",
    "\n",
    "## ¿Por qué es importante identificar y gestionar los valores nulos?\n",
    "\n",
    "La gestión de valores nulos es importante en el análisis de datos por varias razones:\n",
    "\n",
    "- **Evitar errores en el análisis**: Los valores nulos pueden causar problemas al realizar cálculos o análisis estadísticos. Si no se gestionan adecuadamente, pueden generar errores en los resultados y distorsionar las conclusiones que se obtienen del análisis.\n",
    "\n",
    "- **Mantener la integridad de los datos**: Los valores nulos pueden indicar datos faltantes o incompletos. Al gestionarlos de manera adecuada, se asegura la integridad de los datos y se evita la pérdida de información valiosa.\n",
    "\n",
    "- **Mejorar la precisión de los modelos de aprendizaje automático**: Muchos algoritmos de aprendizaje automático no pueden manejar valores nulos. Por lo tanto, es importante gestionarlos antes de entrenar un modelo. Esto puede implicar eliminar las filas o columnas con valores nulos, o reemplazarlos por valores imputados o estimados.\n",
    "\n",
    "- **Optimizar el uso de recursos**: Los valores nulos ocupan espacio en la memoria y pueden ralentizar las operaciones de procesamiento de datos. Al gestionarlos adecuadamente, se puede optimizar el uso de recursos y mejorar la eficiencia del análisis.\n",
    "\n",
    "\n",
    "\n",
    "**Si no gestionamos los valores nulos en el proceso de extracción de conclusiones, podemos tener los siguientes problemas**:\n",
    "\n",
    "1. **Errores en el análisis**: Los valores nulos pueden causar problemas en el procesamiento de datos y en el análisis estadístico. Si no se gestionan adecuadamente, pueden generar errores en los resultados y distorsionar las conclusiones que se obtienen del análisis.\n",
    "\n",
    "2. **Disminución del tamaño de la muestra**: Los valores nulos pueden disminuir el tamaño de la muestra y, por lo tanto, reducir la potencia de las pruebas estadísticas. Esto puede afectar la confiabilidad de los resultados y la capacidad de generalización de las conclusiones obtenidas del análisis.\n",
    "\n",
    "3. **Sesgos en los modelos de aprendizaje automático**: Si no se gestionan adecuadamente, los valores nulos pueden causar errores o sesgos en los modelos de aprendizaje automático. Esto puede afectar la precisión y la capacidad predictiva de los modelos.\n",
    "\n",
    "4. **Pérdida de información**: Los valores nulos pueden indicar datos faltantes o incompletos. Si no se gestionan adecuadamente, se puede perder información valiosa que podría ser relevante para el análisis. Esto puede afectar la calidad de los resultados y las conclusiones obtenidas del análisis de datos.\n",
    "\n",
    "En resumen, si no gestionamos adecuadamente los valores nulos en el proceso de extracción de conclusiones, podemos obtener resultados erróneos o sesgados, disminuir la confiabilidad de los resultados y perder información valiosa. Es importante aplicar estrategias adecuadas para manejar los valores nulos y obtener conclusiones confiables y precisas del análisis de datos.\n",
    "\n",
    "## Principales causas de los valores faltantes\n",
    "\n",
    "Las posibles causas de valores faltantes en un conjunto de datos pueden variar y pueden incluir:\n",
    "\n",
    "1. **Errores en la recopilación de datos**: Los valores faltantes pueden deberse a errores en la recopilación de datos, como errores de transcripción o problemas técnicos con los instrumentos de medición.\n",
    "\n",
    "2. **Falta de respuesta**: Los valores faltantes también pueden deberse a la falta de respuesta de los participantes en una encuesta o estudio. Esto puede deberse a la falta de disposición a responder ciertas preguntas o a la falta de tiempo o interés.\n",
    "\n",
    "3. **Datos incompletos**: Los valores faltantes también pueden deberse a datos incompletos, como cuando solo se recopilan datos para ciertas variables o cuando solo se recopilan datos para ciertos grupos o regiones.\n",
    "\n",
    "4. **Fallos en la transmisión de datos**: Los valores faltantes también pueden deberse a fallos en la transmisión de datos, como cuando se pierden datos durante la transferencia de datos de un sistema a otro.\n",
    "\n",
    "Es importante tener en cuenta que la causa de los valores faltantes puede influir en la estrategia utilizada para manejarlos. Por ejemplo, si los valores faltantes son aleatorios, se pueden utilizar técnicas de imputación para estimar los valores faltantes. Si los valores faltantes no son aleatorios, se pueden utilizar técnicas más avanzadas, como el análisis de patrones de valores faltantes o la selección por variables.\n",
    "\n",
    "## ¿Qué estrategias tenemos para gestionar los valores nulos? \n",
    "\n",
    "Aquí hay algunas estrategias comunes que se pueden utilizar para gestionar los valores nulos en un conjunto de datos:\n",
    "\n",
    "1. Eliminación de datos o columnas que incluyan valores nulos: Esta estrategia implica eliminar las filas o columnas que contienen valores nulos. Si los valores nulos son aleatorios, esta estrategia puede ser útil para eliminar datos incompletos o irrelevantes. Sin embargo, esta estrategia puede disminuir el tamaño de la muestra y afectar las conclusiones. Para eliminar filas y columnas en Pandas ya hemos aprendido algunos métodos, recordemoslos:\n",
    "\n",
    "    - Método `drop()`: Como ya aprendimos, este método permite eliminar filas o columnas especificando los índices o nombres correspondientes. Por ejemplo:\n",
    "\n",
    "        ```python\n",
    "        # Eliminar una fila por índice\n",
    "        df.drop(2, axis=0, inplace=True)\n",
    "\n",
    "        # Eliminar una columna por nombre\n",
    "        df.drop('columna', axis=1, inplace=True)\n",
    "        ```\n",
    "\n",
    "    - Método `dropna()`: Este método no lo habíamos visto hasta ahora. Permite eliminar filas que contienen valores nulos en un DataFrame. Podemos utilizar el parámetro `subset` para especificar las columnas en las que se deben buscar valores nulos. Por ejemplo:\n",
    "\n",
    "        ```python\n",
    "        # Eliminar filas con valores nulos en la columna 'columna'\n",
    "        df.dropna(subset=['columna'], inplace=True)\n",
    "        ```\n",
    "\n",
    "\n",
    "\n",
    "2. Métodos de imputación: Esta estrategia implica reemplazar los valores nulos por valores imputados o estimados. Los métodos de imputación pueden ser simples o complejos, y pueden implicar el uso de estadísticas descriptivas, modelos predictivos o técnicas de interpolación. Los métodos de imputación pueden mejorar la precisión de los modelos de aprendizaje automático y evitar la pérdida de información valiosa. Algunos de los principales métodos para imputar nulos en Pandas son: \n",
    "Existen varios métodos que se pueden utilizar para imputar valores nulos en Python. Algunos de ellos son:\n",
    "\n",
    "    - Método `fillna()` de Pandas: Este método permite rellenar los valores nulos con un valor específico. Puedes utilizar un valor constante, la media, la mediana, la moda u otros valores según tus necesidades. Por ejemplo:\n",
    "\n",
    "        ```python\n",
    "        # Rellenar con la media\n",
    "        df['columna'] = df['columna'].fillna(df['columna'].mean())\n",
    "\n",
    "        # Rellenar con un valor constante\n",
    "        df['columna'] = df['columna'].fillna(0)\n",
    "        ```\n",
    "    \n",
    "    - Clase `SimpleImputer` de Scikit-learn: Esta clase permite imputar un mismo valor a todos los registros nulos de una columna. El valor puede ser un estadístico como la media, la mediana o la moda, o un valor constante especificado. Por ejemplo:\n",
    "\n",
    "        ```python\n",
    "        # necesitamos importar una librería especifica\n",
    "        from sklearn.impute import SimpleImputer\n",
    "\n",
    "        imputer = SimpleImputer(strategy='mean')  # Imputar con la media\n",
    "        df['columna'] = imputer.fit_transform(df[['columna']])\n",
    "        ```\n",
    "\n",
    "\n",
    "    - Clase `KNNImputer`: Esta clase utiliza el algoritmo de los k-vecinos más cercanos para imputar valores nulos basándose en los valores de los vecinos más cercanos. Puedes especificar el número de vecinos a considerar. Por ejemplo:\n",
    "\n",
    "        ```python\n",
    "        # necesitamos importar una librería especifica\n",
    "        from sklearn.impute import KNNImputer\n",
    "\n",
    "        imputer = KNNImputer(n_neighbors=5)  # Imputar utilizando 5 vecinos más cercanos\n",
    "        X_imputed = imputer.fit_transform(X)\n",
    "        ```\n",
    "\n",
    "    - Clase `IterativeImputer`: Esta clase es útil cuando los valores faltantes no están completamente aleatorios y existe alguna relación entre las características. Al modelar las relaciones entre las características, puede proporcionar estimaciones más precisas y realistas de los valores faltantes.\n",
    "\n",
    "        ```python\n",
    "        # importamos las librerías que necesitamos\n",
    "        from sklearn.experimental import enable_iterative_imputer\n",
    "        from sklearn.impute import IterativeImputer\n",
    "\n",
    "        imputer = IterativeImputer()\n",
    "        X_imputed = imputer.fit_transform(X)\n",
    "        ```   \n",
    "   \n",
    "\n",
    "Es importante tener en cuenta que la elección de la estrategia adecuada dependerá del contexto y los requisitos específicos del análisis de datos. Además, es importante determinar si los valores faltantes son aleatorios o no aleatorios antes de aplicar cualquier estrategia de gestión de valores nulos.\n"
   ]
  },
  {
   "cell_type": "code",
   "execution_count": 42,
   "metadata": {},
   "outputs": [],
   "source": [
    "# antes de empezar la lección tendremos que instalarunas librerías. Para ello tendreis que decomentar (una a una) la linea de abajo y ejecutar la celda\n",
    "#!pip install scikit-learn\n"
   ]
  },
  {
   "cell_type": "code",
   "execution_count": 43,
   "metadata": {},
   "outputs": [],
   "source": [
    "# importamos las librerías que necesitamos\n",
    "\n",
    "# Tratamiento de datos\n",
    "# -----------------------------------------------------------------------\n",
    "import pandas as pd\n",
    "import numpy as np\n",
    "\n",
    "# Imputación de nulos usando métodos avanzados estadísticos\n",
    "# -----------------------------------------------------------------------\n",
    "from sklearn.impute import SimpleImputer\n",
    "from sklearn.experimental import enable_iterative_imputer\n",
    "from sklearn.impute import IterativeImputer\n",
    "from sklearn.impute import KNNImputer\n",
    "\n",
    "# Librerías de visualización\n",
    "# -----------------------------------------------------------------------\n",
    "import seaborn as sns\n",
    "import matplotlib.pyplot as plt\n",
    "\n",
    "# Configuración warnings\n",
    "# ==============================================================================\n",
    "import warnings\n",
    "warnings.filterwarnings('ignore')"
   ]
  },
  {
   "cell_type": "code",
   "execution_count": 44,
   "metadata": {},
   "outputs": [
    {
     "data": {
      "text/html": [
       "<div>\n",
       "<style scoped>\n",
       "    .dataframe tbody tr th:only-of-type {\n",
       "        vertical-align: middle;\n",
       "    }\n",
       "\n",
       "    .dataframe tbody tr th {\n",
       "        vertical-align: top;\n",
       "    }\n",
       "\n",
       "    .dataframe thead th {\n",
       "        text-align: right;\n",
       "    }\n",
       "</style>\n",
       "<table border=\"1\" class=\"dataframe\">\n",
       "  <thead>\n",
       "    <tr style=\"text-align: right;\">\n",
       "      <th></th>\n",
       "      <th>state</th>\n",
       "      <th>gender</th>\n",
       "      <th>median_home_val</th>\n",
       "      <th>median_household_income</th>\n",
       "      <th>total_baños</th>\n",
       "      <th>num_vecinos</th>\n",
       "      <th>num_habitaciones</th>\n",
       "      <th>dist_playa</th>\n",
       "    </tr>\n",
       "  </thead>\n",
       "  <tbody>\n",
       "    <tr>\n",
       "      <th>0</th>\n",
       "      <td>FL</td>\n",
       "      <td>M</td>\n",
       "      <td>1158.437751</td>\n",
       "      <td>392.0</td>\n",
       "      <td>430.0</td>\n",
       "      <td>466.0</td>\n",
       "      <td>520.0</td>\n",
       "      <td>NaN</td>\n",
       "    </tr>\n",
       "  </tbody>\n",
       "</table>\n",
       "</div>"
      ],
      "text/plain": [
       "  state gender  median_home_val  median_household_income  total_baños  \\\n",
       "0    FL      M      1158.437751                    392.0        430.0   \n",
       "\n",
       "   num_vecinos  num_habitaciones  dist_playa  \n",
       "0        466.0             520.0         NaN  "
      ]
     },
     "execution_count": 44,
     "metadata": {},
     "output_type": "execute_result"
    }
   ],
   "source": [
    "# cargamos el dataframe creado en la lección anterior\n",
    "df = pd.read_csv(\"data/california_renombrado.csv\", index_col = 0)\n",
    "df.head(1)"
   ]
  },
  {
   "cell_type": "markdown",
   "metadata": {},
   "source": [
    "# Estrategias para la imputación de nulos\n",
    "\n",
    "En este punto, se nos puede pasar por la cabeza algo bastante intuitivo... Y es que podemos pensar que con la imputación nos estamos \"inventando datos\". Pero cuidado! Porque imputar valores es diferente de inventar datos: al inventar no usamos ningún criterio, y el valor asignado será totalmente arbitrario. Pero en la imputación lo que hacemos es mirar el comportamiento de los datos vecinos para poder estimar el valor del dato faltante.\n",
    "\n",
    "Sigamos profundizando un poco más en la gestión de valores nulos, en este punto debemos tener en cuenta que no será lo mismo hacer una imputación de valores nulos en variables numéricas o categóricas, ya que podremos usar diferentes enfoques. Algunos enfoques más comunes son:\n",
    "\n",
    "\n",
    "- **Para variables categóricas**\n",
    "\n",
    "    - Imputación basada en la moda: Podemos reemplazar los valores nulos con la moda (valor más frecuente) de la variable. Esto se puede hacer utilizando el método `fillna()` de Pandas.\n",
    "\n",
    "    - Imputación como una categoría especial: En algunos casos, podríamos querer mantener los valores nulos como una categoría especial si representan una condición específica en tus datos.\n",
    " \n",
    " \n",
    "\n",
    "- **Para variables numéricas**\n",
    "\n",
    "    - Imputación basada en estadísticos: Podemos utilizar la media, la mediana o la moda de la variable para reemplazar los valores nulos. Esto se puede hacer utilizando la clase `SimpleImputer` de Scikit-learn o el `fillna` de Pandas .\n",
    "\n",
    "    - Imputación basada en modelos: Podemos utilizar modelos de regresión u otros modelos de aprendizaje automático para predecir los valores nulos basándote en las otras variables. Esto se puede hacer utilizando la clase `IterativeImputer` o el `KNNImputer`.\n",
    "\n",
    "\n",
    "\n",
    "\n",
    "\n"
   ]
  },
  {
   "cell_type": "code",
   "execution_count": 45,
   "metadata": {},
   "outputs": [
    {
     "data": {
      "text/html": [
       "<div>\n",
       "<style scoped>\n",
       "    .dataframe tbody tr th:only-of-type {\n",
       "        vertical-align: middle;\n",
       "    }\n",
       "\n",
       "    .dataframe tbody tr th {\n",
       "        vertical-align: top;\n",
       "    }\n",
       "\n",
       "    .dataframe thead th {\n",
       "        text-align: right;\n",
       "    }\n",
       "</style>\n",
       "<table border=\"1\" class=\"dataframe\">\n",
       "  <thead>\n",
       "    <tr style=\"text-align: right;\">\n",
       "      <th></th>\n",
       "      <th>%_nulos</th>\n",
       "    </tr>\n",
       "  </thead>\n",
       "  <tbody>\n",
       "    <tr>\n",
       "      <th>state</th>\n",
       "      <td>9.990999</td>\n",
       "    </tr>\n",
       "    <tr>\n",
       "      <th>gender</th>\n",
       "      <td>11.881188</td>\n",
       "    </tr>\n",
       "    <tr>\n",
       "      <th>median_household_income</th>\n",
       "      <td>12.721272</td>\n",
       "    </tr>\n",
       "    <tr>\n",
       "      <th>total_baños</th>\n",
       "      <td>10.231023</td>\n",
       "    </tr>\n",
       "    <tr>\n",
       "      <th>num_vecinos</th>\n",
       "      <td>11.911191</td>\n",
       "    </tr>\n",
       "    <tr>\n",
       "      <th>num_habitaciones</th>\n",
       "      <td>10.801080</td>\n",
       "    </tr>\n",
       "    <tr>\n",
       "      <th>dist_playa</th>\n",
       "      <td>16.501650</td>\n",
       "    </tr>\n",
       "  </tbody>\n",
       "</table>\n",
       "</div>"
      ],
      "text/plain": [
       "                           %_nulos\n",
       "state                     9.990999\n",
       "gender                   11.881188\n",
       "median_household_income  12.721272\n",
       "total_baños              10.231023\n",
       "num_vecinos              11.911191\n",
       "num_habitaciones         10.801080\n",
       "dist_playa               16.501650"
      ]
     },
     "execution_count": 45,
     "metadata": {},
     "output_type": "execute_result"
    }
   ],
   "source": [
    "# lo primero que vamos a hacer es calcular el porcentaje de nulos que tenemos para cada columna\n",
    "(df.isnull().sum() / df.shape[0]) * 100\n",
    "\n",
    "# lo convertimos a DataFrame\n",
    "df_nulos = pd.DataFrame((df.isnull().sum() / df.shape[0]) * 100, columns = [\"%_nulos\"])\n",
    "\n",
    "# filtramos el DataFrame para quedarnos solo con aquellas columnas que tengan nulos\n",
    "df_nulos[df_nulos[\"%_nulos\"] > 0]"
   ]
  },
  {
   "cell_type": "markdown",
   "metadata": {},
   "source": [
    "Lo primero que vemos en este DataFrame de nulos, es que no tenemos ninguna columna con un gran porcentaje de nulos. En este punto nos puede surgir la duda de **¿a partir de que porcentaje de nulos podemos eliminar una columna?** Para determinar si una columna debe ser eliminada debido a la cantidad de valores nulos que contiene, no hay un porcentaje fijo que se deba seguir. La decisión de eliminar una columna dependerá del contexto y del análisis que se esté realizando.\n"
   ]
  },
  {
   "cell_type": "markdown",
   "metadata": {},
   "source": [
    "## Imputación de nulos en variables categóricas\n",
    "\n",
    "Cuando se trata de imputar valores a una variable categórica, ya hemos visto que se puede optar por asignar una nueva categoría o utilizar la moda de la variable. La elección entre estas dos opciones depende del contexto y la naturaleza de los datos. Sin embargo, podemos establecer algunas \"normas\", estas podrían ser:\n",
    "\n",
    "1. Si la variable tiene una categoría que es dominante y representa la mayoría de los casos, entonces **imputar con la moda** puede ser una opción adecuada. Esto es especialmente útil cuando se desea mantener la distribución original de la variable.\n",
    "\n",
    "2. Por otro lado, si la variable categórica no tiene una categoría dominante o si la imputación con la moda no es apropiada en el contexto del análisis, se puede considerar **asignar una nueva categoría** para los valores faltantes. Esto puede ser útil cuando se desea distinguir claramente los valores imputados de los valores observados.\n",
    "\n",
    "En última instancia, la elección entre imputar con la moda o con una nueva categoría depende del conocimiento del dominio, el propósito del análisis y la interpretación de los resultados. Es importante considerar el impacto de la imputación en los resultados y la validez de las conclusiones.\n",
    "\n",
    "Vamos a describir como imputaremos los valores nulos para las columnas categóricas que tienen nulos, para eso trabajaremos sobre el 'value_counts() para cada una de las columnas:\n"
   ]
  },
  {
   "cell_type": "code",
   "execution_count": 46,
   "metadata": {},
   "outputs": [
    {
     "name": "stdout",
     "output_type": "stream",
     "text": [
      "Las columnas categóricas que tienen nulos son : \n",
      " \n",
      "Index(['state', 'gender'], dtype='object')\n"
     ]
    }
   ],
   "source": [
    "# Obtenemos la lista de columnas categóricas que tienen nulos\n",
    "nulos_esta_cat = df[df.columns[df.isnull().any()]].select_dtypes(include = \"O\").columns\n",
    "print(\"Las columnas categóricas que tienen nulos son : \\n \")\n",
    "print(nulos_esta_cat)"
   ]
  },
  {
   "cell_type": "code",
   "execution_count": 47,
   "metadata": {},
   "outputs": [
    {
     "name": "stdout",
     "output_type": "stream",
     "text": [
      "La distribución de las categorías para la columna STATE\n"
     ]
    },
    {
     "data": {
      "text/plain": [
       "state\n",
       "CA    0.162616\n",
       "FL    0.087609\n",
       "TX    0.073807\n",
       "IL    0.059706\n",
       "MI    0.057906\n",
       "NC    0.043504\n",
       "WA    0.036604\n",
       "GA    0.030903\n",
       "OR    0.030003\n",
       "WI    0.027303\n",
       "MO    0.027303\n",
       "IN    0.026403\n",
       "AZ    0.023102\n",
       "CO    0.020702\n",
       "SC    0.019802\n",
       "MN    0.018302\n",
       "KY    0.017102\n",
       "OK    0.015602\n",
       "AR    0.015002\n",
       "AL    0.014701\n",
       "LA    0.013501\n",
       "TN    0.013201\n",
       "KS    0.012901\n",
       "IA    0.012601\n",
       "NV    0.012001\n",
       "NM    0.010201\n",
       "NE    0.009301\n",
       "MS    0.008401\n",
       "Name: count, dtype: float64"
      ]
     },
     "metadata": {},
     "output_type": "display_data"
    },
    {
     "name": "stdout",
     "output_type": "stream",
     "text": [
      "........................\n",
      "La distribución de las categorías para la columna GENDER\n"
     ]
    },
    {
     "data": {
      "text/plain": [
       "gender\n",
       "F    0.517552\n",
       "M    0.363636\n",
       "Name: count, dtype: float64"
      ]
     },
     "metadata": {},
     "output_type": "display_data"
    },
    {
     "name": "stdout",
     "output_type": "stream",
     "text": [
      "........................\n"
     ]
    }
   ],
   "source": [
    "# sacamos el 'value_counts()'  de cada una de las columnas categóricas que tienen nulos para saber como es la distribución de sus categorías\n",
    "for col in nulos_esta_cat:\n",
    "    print(f\"La distribución de las categorías para la columna {col.upper()}\")\n",
    "    display(df[col].value_counts() / df.shape[0])\n",
    "    print(\"........................\")"
   ]
  },
  {
   "cell_type": "markdown",
   "metadata": {},
   "source": [
    "- Observamos categorias con una proporcion de nulos predominante. Por lo que procedemos a sustituir los valores por la clase predominante."
   ]
  },
  {
   "cell_type": "code",
   "execution_count": 48,
   "metadata": {},
   "outputs": [],
   "source": [
    "# lo primero que vamos a hacer es crear dos listas, una con los nombres de las columnas que reemplazaremos por la moda y otra para las columnas que reemplazaremos por una categoría nueva\n",
    "columnas_moda = [\"state\", \"gender\"]"
   ]
  },
  {
   "cell_type": "markdown",
   "metadata": {},
   "source": [
    "Empezamos reemplazando por la moda las columnas de `state` y `gender`, para eso usaremos el método `.fillna()` de Pandas. El método `fillna()` en Pandas se utiliza para rellenar los valores nulos (NaN) con un valor específico. \n",
    "\n",
    "La sintaxis básica del método `fillna()` es la siguiente:\n",
    "\n",
    "```python\n",
    "df[col].fillna(value, method, axis, inplace, limit)\n",
    "```\n",
    "\n",
    "- `value`: El valor que se utilizará para reemplazar los valores nulos.\n",
    "\n",
    "- `method`: Método para rellenar los valores nulos. Puede ser \"ffill\" para rellenar hacia adelante con el valor anterior, \"bfill\" para rellenar hacia atrás con el siguiente valor, o None para reemplazar directamente los valores nulos con el valor especificado en `value`.\n",
    "\n",
    "- `axis`: El eje a lo largo del cual se realizará el relleno. Puede ser 0 para rellenar a lo largo de las filas o 1 para rellenar a lo largo de las columnas.\n",
    "\n",
    "- `inplace`: Si se establece en True, el reemplazo se realizará en el DataFrame original en lugar de devolver un nuevo DataFrame.\n",
    "\n",
    "- `limit`: El número máximo de valores nulos que se rellenarán.\n"
   ]
  },
  {
   "cell_type": "code",
   "execution_count": 49,
   "metadata": {},
   "outputs": [
    {
     "name": "stdout",
     "output_type": "stream",
     "text": [
      "Después del reemplazo usando 'fillna' quedan los siguientes nulos\n"
     ]
    },
    {
     "data": {
      "text/plain": [
       "state     0\n",
       "gender    0\n",
       "dtype: int64"
      ]
     },
     "execution_count": 49,
     "metadata": {},
     "output_type": "execute_result"
    }
   ],
   "source": [
    "\n",
    "# iteramos por la lista creada en el paso anterior:\n",
    "for columna in columnas_moda:\n",
    "    \n",
    "    # calculamos la moda para la columna por la que estamos iterando\n",
    "    moda = df[col].mode()[0]    \n",
    "    \n",
    "    # utilizando el método fillna reemplazamos los valores nulos por la moda calculada en el paso anterior. \n",
    "    df[columna] = df[columna].fillna(moda)\n",
    "\n",
    "# por último chequeamos si se han eliminado los nulos en las columnas de \"marital\" y \"loan\"\n",
    "print(\"Después del reemplazo usando 'fillna' quedan los siguientes nulos\")\n",
    "\n",
    "df[columnas_moda].isnull().sum()"
   ]
  },
  {
   "cell_type": "markdown",
   "metadata": {},
   "source": [
    "## Imputación de nulos en variables numéricas\n",
    "\n",
    "En el caso de las variables numéricas tenemos más opciones para imputar los valores nulos, los mas importantes son:\n",
    "\n",
    "- Reemplazar con estadísticos (media, moda o mediana), para lo que utilizaremos el `.fillna()` que hemos aprendido o el `SimpleImputer`.\n",
    "\n",
    "- Reemplazar con modelos estadísticos usando `IterativeImputer` o `KNNImputer`\n",
    "\n",
    "Lo siguiente que nos podemos plantear es cuáles son esas normas para decidir que método debemos usar en cada caso. Como podréis imaginar no hay ninguna receta que sea universal, pero veamos algunos *tips* que nos pueden ayudar: \n",
    "\n",
    "1. Cantidad de valores faltantes: Si la cantidad de valores faltantes es pequeña en comparación con el tamaño total del conjunto de datos, la imputación con la media o la mediana puede ser una opción razonable. Sin embargo, si hay una gran cantidad de valores faltantes, puede ser más adecuado utilizar métodos más sofisticados, como KNNImputer o IterativeImputer. \n",
    "\n",
    "    > **¿Cuándo hay un gran porcentaje de nulos?** No hay una respuesta única a esta pregunta, ya que el porcentaje de valores nulos que se considera \"grande\" puede variar según el contexto y la naturaleza de los datos. Sin embargo, algunos expertos sugieren que un porcentaje de valores nulos mayor al 5% o 10% del total de los datos puede ser considerado \"grande\" y puede requerir una atención especial en el proceso de análisis de datos. \n",
    "\n",
    "2. Distribución de los datos: Es importante analizar la distribución de la variable numérica. Si no hay valores atípicos significativos, la media puede ser una buena opción. Si hay valores atípicos, la mediana puede ser más robusta.\n",
    "\n",
    "3. Propósito del análisis: El propósito del análisis también puede influir en la elección del método de imputación. Por ejemplo, si el análisis se centra en la detección de valores atípicos, puede ser preferible utilizar métodos de imputación que preserven la variabilidad de los datos originales, por ejemplo el IterativeImputer y el KNNImputer. \n",
    "\n",
    "Vamos a seguir el mismo flujo de trabajo, para ello sacaremos las columnas que tenemos en nuestro conjunto de datos y luego decidiremos que hacemos con los nulos de cada una de ellas. \n"
   ]
  },
  {
   "cell_type": "code",
   "execution_count": 50,
   "metadata": {},
   "outputs": [
    {
     "name": "stdout",
     "output_type": "stream",
     "text": [
      "Las columnas numéricas que tienen nulos son : \n",
      " \n",
      "Index(['median_household_income', 'total_baños', 'num_vecinos',\n",
      "       'num_habitaciones', 'dist_playa'],\n",
      "      dtype='object')\n"
     ]
    }
   ],
   "source": [
    "# Obtenemos la lista de columnas categóricas que tienen nulos\n",
    "nulos_esta_num = df[df.columns[df.isnull().any()]].select_dtypes(include = np.number).columns\n",
    "print(\"Las columnas numéricas que tienen nulos son : \\n \")\n",
    "print(nulos_esta_num)"
   ]
  },
  {
   "cell_type": "code",
   "execution_count": 51,
   "metadata": {},
   "outputs": [
    {
     "data": {
      "text/plain": [
       "median_household_income    0.127213\n",
       "total_baños                0.102310\n",
       "num_vecinos                0.119112\n",
       "num_habitaciones           0.108011\n",
       "dist_playa                 0.165017\n",
       "dtype: float64"
      ]
     },
     "execution_count": 51,
     "metadata": {},
     "output_type": "execute_result"
    }
   ],
   "source": [
    "# lo primero que vamos a hacer es calcular el número de nulos que tenemos en cada una de las columnas numericas\n",
    "df[nulos_esta_num].isnull().sum() / df.shape[0]"
   ]
  },
  {
   "cell_type": "markdown",
   "metadata": {},
   "source": [
    "- Como todos los valores son superiores, Juan aunque solamente sea por decimas, al 10% procedemos a aplicar los metodos de scikitlearn"
   ]
  },
  {
   "cell_type": "code",
   "execution_count": 52,
   "metadata": {},
   "outputs": [
    {
     "data": {
      "image/png": "[encoded data removed]",
      "text/plain": [
       "<Figure size 1440x720 with 5 Axes>"
      ]
     },
     "metadata": {
      "needs_background": "light"
     },
     "output_type": "display_data"
    }
   ],
   "source": [
    "# lo siguiente que tendríamos que hacer es ver si dentro de las columnas donde tenemos nulos tenemos valores atípicos. \n",
    "# Para hacer esto lo mejor es usar visualización, sin embargo, todavía no hemos aprendido (lo haremos mañana). Por lo tanto, el código que tenéis a continuación no es necesario que lo entendais. \n",
    "fig, axes = plt.subplots(nrows = 2, ncols = 3, figsize = (20,10)) \n",
    "\n",
    "axes = axes.flat\n",
    "\n",
    "for indice, col in enumerate(nulos_esta_num):\n",
    "    sns.boxplot(x = col, data = df, ax = axes[indice])\n",
    "    \n",
    "plt.tight_layout()\n",
    "fig.delaxes(axes[-1])"
   ]
  },
  {
   "cell_type": "markdown",
   "metadata": {},
   "source": [
    "¿Cómo identificamos los *outliers* o valores atípicos en las columnas? Son todos aquellos puntos que se ven más allá de los bigotes de las gráficas. \n",
    "\n",
    "Vemos ahora como nos enfretaremos a la gestión de cada una de las columnas:\n",
    "\n",
    "\n",
    "Las columnas tienen valores atípicos por lo que optaremos por reemplazar los nulos con métodos más avanzados como KnnImputer y IterativeImputer. A modo de herramienta docente aplicaremos los dos métodos a las dos columnas y veremos si hay diferencias o no. \n"
   ]
  },
  {
   "cell_type": "markdown",
   "metadata": {},
   "source": [
    "A modo de ejemplo docente, como no cumplimos los criterios para reemplazar por moda, medianma, moda, vamos a aplicarlo con la columna de `total_baños`. Dicho esto, usaríamos el SimpleImputer, que funciona igual que un `.fillna`. Entendamos antes qué hace y cuál es su sintaxis: \n",
    "\n",
    "El `SimpleImputer` es una clase de la librería scikit-learn que se utiliza para reemplazar valores faltantes en conjuntos de datos mediante diferentes estrategias estadísticas. Estas estrategias incluyen el reemplazo por **la media, la mediana, la moda o un valor constante** (fijaos que hace exactamente que el *fillna*). \n",
    "La sintaxis básica para utilizar `SimpleImputer` es la siguiente:\n",
    "\n",
    "```python\n",
    "# Crear una instancia del SimpleImputer\n",
    "imputer = SimpleImputer(strategy, fill_value)\n",
    "\n",
    "# Ajustar y transformar los datos\n",
    "data_imputed = imputer.fit_transform(datos)\n",
    "```\n",
    "\n",
    "Donde:\n",
    "- `strategy`: Es el argumento que determina la estrategia que se utilizará para reemplazar los valores faltantes. Puede ser 'mean' (media), 'median' (mediana), 'most_frequent' (moda) o 'constant' (constante).\n",
    "\n",
    "- `data`: Columna(s) que contienen los  valores faltantes.\n",
    "\n",
    "- `fill_value` (opcional): solo se usará si la estrategía que usamos es \"constant\". Sirve para especificar el valor constante que se utilizará para reemplazar los valores faltantes, por ejemplo  \"Unknown\", lo que hara será reemplazar por \"Unknown\" todos los valores nulos. \n"
   ]
  },
  {
   "cell_type": "code",
   "execution_count": 53,
   "metadata": {},
   "outputs": [
    {
     "data": {
      "text/plain": [
       "mean    380.608289\n",
       "50%     360.000000\n",
       "Name: total_baños, dtype: float64"
      ]
     },
     "execution_count": 53,
     "metadata": {},
     "output_type": "execute_result"
    }
   ],
   "source": [
    "# imputamos los nulos de la columna ' contact_year' usando SimpleImputer empezando con la instancia del método donde tendremos que especificar la estrategía que queremos usar\n",
    "# para decidir si usamos la media o la mediana lo que haremos es hacer un describe de la columna para saber cuales son estos valores\n",
    "df[\"total_baños\"].describe()[[\"mean\", \"50%\"]]"
   ]
  },
  {
   "cell_type": "markdown",
   "metadata": {},
   "source": [
    "**¿Cómo sabremos si es mejor reemplazar por la media o la mediana?**\n",
    "\n",
    "Primero recordemos estos conceptos: \n",
    "\n",
    "- **Media:** Es simplemente el promedio de todos los valores en un conjunto de datos. Usar la media para llenar valores faltantes puede ser útil cuando nuestros datos están distribuidos de manera bastante uniforme y no hay valores extremadamente altos o bajos que puedan afectar significativamente la media.\n",
    "\n",
    "- **Mediana:** Es el valor que se encuentra justo en el medio de un conjunto de datos ordenado. Usamos la mediana cuando nuestros datos están sesgados o tienen valores atípicos, es decir, valores extremos que no siguen la tendencia general de los demás datos.\n",
    "\n",
    "Imaginemos que estamos analizando los salarios de un grupo de personas. Si tenemos un par de salarios extremadamente altos en comparación con el resto del grupo, la media podría verse afectada y no representaría adecuadamente la mayoría de los salarios. En este caso, sería más sensato usar la mediana, ya que no se ve afectada por los valores atípicos y proporciona una mejor idea de cuál es el salario típico.\n",
    "\n",
    "En resumen, si nuestros datos son relativamente uniformes y no hay valores atípicos significativos, la media puede ser una buena elección. Sin embargo, si nuestros datos tienen valores atípicos o están sesgados, la mediana es más robusta y nos dará una mejor estimación del valor central en nuestros datos.\n",
    "\n",
    "> Nota: Podremos saber si los datos están sesgados o no comparando la media y la mediana, si las diferencias entre ellas son muy grandes podríamos decir que si que están sesgados y que por lo tanto sería mejor utilizar la mediana. \n",
    "\n",
    "En nuestro caso como la media y la mediana son muy parecidas usaremos la media para imputar los nulos con el método SimpleImputer. \n"
   ]
  },
  {
   "cell_type": "code",
   "execution_count": 54,
   "metadata": {},
   "outputs": [
    {
     "data": {
      "text/plain": [
       "array([[430.  ],\n",
       "       [415.  ],\n",
       "       [340.  ],\n",
       "       ...,\n",
       "       [504.  ],\n",
       "       [380.61],\n",
       "       [264.  ]])"
      ]
     },
     "execution_count": 54,
     "metadata": {},
     "output_type": "execute_result"
    }
   ],
   "source": [
    "# creamos el objeto de la clase del SimpleImputer\n",
    "imputer_contact_year = SimpleImputer(strategy = \"mean\")\n",
    "\n",
    "# ajustamos y transformamos los datos. 📌 Fijaos como hemos puesto dos corchetes en el nombre de la columna\n",
    "contact_year_imputado = np.round(imputer_contact_year.fit_transform(df[[\"total_baños\"]]),2)\n",
    "\n",
    "# comprobamos que es lo que nos devuelve este método. Nos devuelve un array. \n",
    "contact_year_imputado"
   ]
  },
  {
   "cell_type": "code",
   "execution_count": 55,
   "metadata": {},
   "outputs": [
    {
     "name": "stdout",
     "output_type": "stream",
     "text": [
      "Después del 'SimpleImputer' tenemos 0 nulos\n"
     ]
    }
   ],
   "source": [
    "# lo siguiente que tenemos que hacer es introducir este array en nuestro DataFrame, en este caso sobreescribiremos la columna original. \n",
    "df[\"total_baños\"] = contact_year_imputado\n",
    "\n",
    "# por último comprobamos si tenemos nulos. \n",
    "print(f\"Después del 'SimpleImputer' tenemos {df['total_baños'].isnull().sum()} nulos\")"
   ]
  },
  {
   "cell_type": "markdown",
   "metadata": {},
   "source": [
    "Es el turno de las columnas de `median_household_income`, `num_vecinos`, `num_habitaciones` y `dist_playa`, para los cuales ibamos a usar los métodos IterativeImputer y KNNImputer. Entendamos qué hacen, y cuál es su sintaxis. \n",
    "\n",
    "**Iterative Imputer** \n",
    "\n",
    "El `IterativeImputer` es una técnica que utiliza un modelo de regresión para estimar los valores faltantes en nuestros datos. La idea aquí es que, en lugar de simplemente reemplazar los valores faltantes con estadísticas simples como la media o la mediana, intentamos predecir estos valores faltantes utilizando información de las otras características presentes en el conjunto de datos. Dicho en otras palabras, al utilizar técnicas de regresión, el imputador \"adivina\" los valores faltantes en función de las relaciones observadas en los datos completos.\n",
    "\n",
    "\n",
    "La sintaxis para usar `IterativeImputer` es:\n",
    "\n",
    "```python\n",
    "# Crear una instancia del IterativeImputer\n",
    "imputer = IterativeImputer(max_iter, random_state)\n",
    "\n",
    "# Ajustar y transformar los datos\n",
    "data_imputed = imputer.fit_transform(data)\n",
    "```\n",
    "\n",
    "Donde:\n",
    "- `max_iter`: Es el número de iteraciones que el imputador utilizará para ajustar los valores faltantes. Cuantas más iteraciones, más precisa será la imputación, pero también más tiempo tardará.\n",
    "\n",
    "- `random_state` (opcional): Es la semilla para el generador de números aleatorios. Esto nos ayuda a tener resultados reproducibles.\n",
    "\n",
    "- `data`: Columna(s) que contienen los  valores faltantes.\n",
    "\n",
    "\n",
    "\n",
    "**KNN Imputer**\n",
    "\n",
    "El `KNNImputer` es una técnica que se basa en el algoritmo de vecinos más cercanos (KNN) para llenar los valores faltantes en nuestros datos. En lugar de calcular estadísticas simples, como la media o la mediana, este enfoque encuentra observaciones similares y utiliza sus valores para estimar los valores faltantes.\n",
    "\n",
    "Vamos a ver cómo usar el `KNNImputer` en scikit-learn:\n",
    "\n",
    "```python\n",
    "# Crear una instancia del KNNImputer\n",
    "imputer = KNNImputer(n_neighbors=n_vecinos)\n",
    "\n",
    "# Ajustar y transformar los datos\n",
    "data_imputed = imputer.fit_transform(data)\n",
    "```\n",
    "\n",
    "Donde:\n",
    "- `n_neighbors`: Es el número de vecinos más cercanos que se utilizarán para estimar los valores faltantes. Cuantos más vecinos, más compleja es la estimación, pero también más precisa.\n",
    "\n",
    "- `data`: Columna(s) que contienen los  valores faltantes.\n",
    "\n"
   ]
  },
  {
   "cell_type": "code",
   "execution_count": 56,
   "metadata": {},
   "outputs": [
    {
     "data": {
      "text/html": [
       "<div>\n",
       "<style scoped>\n",
       "    .dataframe tbody tr th:only-of-type {\n",
       "        vertical-align: middle;\n",
       "    }\n",
       "\n",
       "    .dataframe tbody tr th {\n",
       "        vertical-align: top;\n",
       "    }\n",
       "\n",
       "    .dataframe thead th {\n",
       "        text-align: right;\n",
       "    }\n",
       "</style>\n",
       "<table border=\"1\" class=\"dataframe\">\n",
       "  <thead>\n",
       "    <tr style=\"text-align: right;\">\n",
       "      <th></th>\n",
       "      <th>state</th>\n",
       "      <th>gender</th>\n",
       "      <th>median_home_val</th>\n",
       "      <th>median_household_income</th>\n",
       "      <th>total_baños</th>\n",
       "      <th>num_vecinos</th>\n",
       "      <th>num_habitaciones</th>\n",
       "      <th>dist_playa</th>\n",
       "    </tr>\n",
       "  </thead>\n",
       "  <tbody>\n",
       "    <tr>\n",
       "      <th>0</th>\n",
       "      <td>FL</td>\n",
       "      <td>M</td>\n",
       "      <td>1158.437751</td>\n",
       "      <td>392.0</td>\n",
       "      <td>430.0</td>\n",
       "      <td>466.0</td>\n",
       "      <td>520.0</td>\n",
       "      <td>NaN</td>\n",
       "    </tr>\n",
       "  </tbody>\n",
       "</table>\n",
       "</div>"
      ],
      "text/plain": [
       "  state gender  median_home_val  median_household_income  total_baños  \\\n",
       "0    FL      M      1158.437751                    392.0        430.0   \n",
       "\n",
       "   num_vecinos  num_habitaciones  dist_playa  \n",
       "0        466.0             520.0         NaN  "
      ]
     },
     "execution_count": 56,
     "metadata": {},
     "output_type": "execute_result"
    }
   ],
   "source": [
    "# como vamos a crear columnas nuevas, vamos a hacer una copia del DataFrame usando el método 'copy()'\n",
    "df_copia = df.copy()\n",
    "df_copia.head(1)"
   ]
  },
  {
   "cell_type": "code",
   "execution_count": 57,
   "metadata": {},
   "outputs": [
    {
     "data": {
      "text/plain": [
       "Index(['median_household_income', 'total_baños', 'num_vecinos',\n",
       "       'num_habitaciones', 'dist_playa'],\n",
       "      dtype='object')"
      ]
     },
     "execution_count": 57,
     "metadata": {},
     "output_type": "execute_result"
    }
   ],
   "source": [
    "nulos_esta_num"
   ]
  },
  {
   "cell_type": "code",
   "execution_count": 58,
   "metadata": {},
   "outputs": [
    {
     "data": {
      "text/plain": [
       "array([[392.        , 466.        , 520.        ,  12.20327533],\n",
       "       [365.        , 410.        , 473.        ,   5.66666667],\n",
       "       [301.        , 361.        , 436.        ,   4.11111111],\n",
       "       ...,\n",
       "       [507.        , 538.        , 537.        ,  12.11764706],\n",
       "       [535.        , 612.        , 653.        ,  12.33333333],\n",
       "       [225.        , 269.        , 299.        ,  17.14285714]])"
      ]
     },
     "execution_count": 58,
     "metadata": {},
     "output_type": "execute_result"
    }
   ],
   "source": [
    "# hemos dicho que para las tres columnas restantes aplicaremos los dos métodos para luego compararlos, empezaremos por el IterativeImputer\n",
    "# instanciamos las clases\n",
    "imputer_iterative = IterativeImputer(max_iter = 20, random_state = 42)\n",
    "\n",
    "# ajustamos y tranformamos los datos\n",
    "imputer_iterative_imputado = imputer_iterative.fit_transform(df_copia[['median_household_income', 'num_vecinos','num_habitaciones', 'dist_playa']])\n",
    "\n",
    "# comprobamos que es lo que nos devuelve, que en este caso es un array también\n",
    "imputer_iterative_imputado"
   ]
  },
  {
   "cell_type": "code",
   "execution_count": 59,
   "metadata": {},
   "outputs": [
    {
     "name": "stdout",
     "output_type": "stream",
     "text": [
      "Después del Iterative tenemos: \n",
      "income_iterative          0\n",
      "vecinos_iterative         0\n",
      "habitaciones_iterative    0\n",
      "playa_iterative           0\n",
      "dtype: int64 nulos\n"
     ]
    }
   ],
   "source": [
    "# en este caso como vamos a aplicar los dos métodos sobre estas columnas vamos a crear dos columnas nuevas\n",
    "df_copia[[\"income_iterative\", \"vecinos_iterative\", \"habitaciones_iterative\",\"playa_iterative\"]] = imputer_iterative_imputado\n",
    "\n",
    "# comprobamos los nulos\n",
    "print(f'Después del Iterative tenemos: \\n{df_copia[[\"income_iterative\", \"vecinos_iterative\", \"habitaciones_iterative\",\"playa_iterative\"]].isnull().sum()} nulos')"
   ]
  },
  {
   "cell_type": "code",
   "execution_count": 60,
   "metadata": {},
   "outputs": [
    {
     "data": {
      "text/plain": [
       "Index(['median_household_income', 'total_baños', 'num_vecinos',\n",
       "       'num_habitaciones', 'dist_playa'],\n",
       "      dtype='object')"
      ]
     },
     "execution_count": 60,
     "metadata": {},
     "output_type": "execute_result"
    }
   ],
   "source": [
    "nulos_esta_num"
   ]
  },
  {
   "cell_type": "code",
   "execution_count": 61,
   "metadata": {},
   "outputs": [
    {
     "data": {
      "text/plain": [
       "array([[392.  , 466.  , 520.  ,   9.4 ],\n",
       "       [365.  , 410.  , 473.  ,   5.67],\n",
       "       [301.  , 361.  , 436.  ,   4.11],\n",
       "       ...,\n",
       "       [507.  , 538.  , 537.  ,  12.12],\n",
       "       [535.  , 612.  , 653.  ,  12.33],\n",
       "       [225.  , 269.  , 299.  ,  17.14]])"
      ]
     },
     "execution_count": 61,
     "metadata": {},
     "output_type": "execute_result"
    }
   ],
   "source": [
    "# hagamos ahora lo mismo con el KNNImputer\n",
    "\n",
    "# instanciamos la clase del KNNImputer\n",
    "imputer_knn = KNNImputer(n_neighbors = 5)\n",
    "\n",
    "# ajustamos y transformamos los datos\n",
    "imputer_knn_imputado = np.round(imputer_knn.fit_transform(df_copia[['median_household_income', 'num_vecinos','num_habitaciones', 'dist_playa']]), 2)\n",
    "\n",
    "# comprobamos que es lo que nos devuelve, que sigue siendo un array\n",
    "imputer_knn_imputado"
   ]
  },
  {
   "cell_type": "code",
   "execution_count": 62,
   "metadata": {},
   "outputs": [
    {
     "name": "stdout",
     "output_type": "stream",
     "text": [
      "Después del KNN tenemos: \n",
      "income_knn          0\n",
      "vecinos_knn         0\n",
      "habitaciones_knn    0\n",
      "playa_knn           0\n",
      "dtype: int64 nulos\n"
     ]
    }
   ],
   "source": [
    "# por último nos queda añadir ese array al DataFrame como hemos hecho hasta ahora\n",
    "df_copia[[\"income_knn\", \"vecinos_knn\", \"habitaciones_knn\",\"playa_knn\"]] = imputer_knn_imputado\n",
    "\n",
    "\n",
    "# comprobamos los nulos\n",
    "print(f'Después del KNN tenemos: \\n{df_copia[[\"income_knn\", \"vecinos_knn\", \"habitaciones_knn\",\"playa_knn\"]].isnull().sum()} nulos')"
   ]
  },
  {
   "cell_type": "markdown",
   "metadata": {},
   "source": [
    "Solo nos queda comparar con cual de los dos métodos que acabamos de aprender para ver cual se ajusta mejor a los datos. Para eso lo que haremos será trabajar desde el 'describe()'  para ver si los estadísticos antes y después de la inputación no han cambiado mucho. Finalmente nos quedaremos con aquel método que modifique los estadísticos menos. "
   ]
  },
  {
   "cell_type": "code",
   "execution_count": 63,
   "metadata": {},
   "outputs": [
    {
     "data": {
      "text/html": [
       "<div>\n",
       "<style scoped>\n",
       "    .dataframe tbody tr th:only-of-type {\n",
       "        vertical-align: middle;\n",
       "    }\n",
       "\n",
       "    .dataframe tbody tr th {\n",
       "        vertical-align: top;\n",
       "    }\n",
       "\n",
       "    .dataframe thead th {\n",
       "        text-align: right;\n",
       "    }\n",
       "</style>\n",
       "<table border=\"1\" class=\"dataframe\">\n",
       "  <thead>\n",
       "    <tr style=\"text-align: right;\">\n",
       "      <th></th>\n",
       "      <th>median_household_income</th>\n",
       "      <th>income_iterative</th>\n",
       "      <th>income_knn</th>\n",
       "      <th>num_vecinos</th>\n",
       "      <th>vecinos_iterative</th>\n",
       "      <th>vecinos_knn</th>\n",
       "      <th>num_habitaciones</th>\n",
       "      <th>habitaciones_iterative</th>\n",
       "      <th>habitaciones_knn</th>\n",
       "      <th>dist_playa</th>\n",
       "      <th>playa_iterative</th>\n",
       "      <th>playa_knn</th>\n",
       "    </tr>\n",
       "  </thead>\n",
       "  <tbody>\n",
       "    <tr>\n",
       "      <th>mean</th>\n",
       "      <td>695.253815</td>\n",
       "      <td>748.866626</td>\n",
       "      <td>749.543373</td>\n",
       "      <td>711.932026</td>\n",
       "      <td>774.933430</td>\n",
       "      <td>762.685641</td>\n",
       "      <td>747.452201</td>\n",
       "      <td>792.634163</td>\n",
       "      <td>791.399397</td>\n",
       "      <td>411.127318</td>\n",
       "      <td>479.825484</td>\n",
       "      <td>479.775851</td>\n",
       "    </tr>\n",
       "    <tr>\n",
       "      <th>median</th>\n",
       "      <td>322.754899</td>\n",
       "      <td>324.271258</td>\n",
       "      <td>326.763146</td>\n",
       "      <td>369.465599</td>\n",
       "      <td>370.018726</td>\n",
       "      <td>373.567640</td>\n",
       "      <td>412.952405</td>\n",
       "      <td>414.179484</td>\n",
       "      <td>413.908716</td>\n",
       "      <td>11.289964</td>\n",
       "      <td>11.216986</td>\n",
       "      <td>10.850633</td>\n",
       "    </tr>\n",
       "  </tbody>\n",
       "</table>\n",
       "</div>"
      ],
      "text/plain": [
       "        median_household_income  income_iterative  income_knn  num_vecinos  \\\n",
       "mean                 695.253815        748.866626  749.543373   711.932026   \n",
       "median               322.754899        324.271258  326.763146   369.465599   \n",
       "\n",
       "        vecinos_iterative  vecinos_knn  num_habitaciones  \\\n",
       "mean           774.933430   762.685641        747.452201   \n",
       "median         370.018726   373.567640        412.952405   \n",
       "\n",
       "        habitaciones_iterative  habitaciones_knn  dist_playa  playa_iterative  \\\n",
       "mean                792.634163        791.399397  411.127318       479.825484   \n",
       "median              414.179484        413.908716   11.289964        11.216986   \n",
       "\n",
       "         playa_knn  \n",
       "mean    479.775851  \n",
       "median   10.850633  "
      ]
     },
     "execution_count": 63,
     "metadata": {},
     "output_type": "execute_result"
    }
   ],
   "source": [
    "df_copia.describe()[[\"median_household_income\", \"income_iterative\", \"income_knn\", \n",
    "                    \"num_vecinos\", \"vecinos_iterative\",  \"vecinos_knn\", \n",
    "                    \"num_habitaciones\", \"habitaciones_iterative\",  \"habitaciones_knn\",\n",
    "                     \"dist_playa\", \"playa_iterative\", \"playa_knn\"]].agg([\"mean\", \"median\"])"
   ]
  },
  {
   "cell_type": "markdown",
   "metadata": {},
   "source": [
    "Analizemos lso resultados: \n",
    "\n",
    "**Abrimos debate**"
   ]
  },
  {
   "cell_type": "code",
   "execution_count": 64,
   "metadata": {},
   "outputs": [],
   "source": [
    "# ante esta situación, vamos a eliminar las columnas que ya no nos interesan para guardar el DataFrame para la lección de mañana. \n",
    "# en nuestro caso eliminaremos, \"age\", \"padays\", \"euribor3m\" (porque tienen nulos), \"age_knn\" y \"euribor_knn\" (porque para estas columnas podríamos haber eliminado cualquiera de las columnas derivadas de la imputación) y \"pdays_iterative\" (porque hemos visto que es la que peor imputaba los nulos)\n",
    "\n",
    "df_copia.drop([\"income_knn\", \"median_household_income\", \"num_vecinos\",\t\"vecinos_iterative\", \"num_habitaciones\", \t\"habitaciones_iterative\", \"dist_playa\", \"playa_knn\"  ], axis = 1, inplace = True)\n",
    "\n",
    "# ahora vamos a cambiar el nombre de las columnas que quedaron para que tengan el mismo nombre de origen\n",
    "nuevo_nombre = {\"income_iterative\": \"income\",  'playa_iterative': \"dist_playa\", \"vecinos_knn\": \"num_vecinos\", \"habitaciones_knn\" : \"num_habitaciones\"   }\n",
    "df_copia.rename(columns = nuevo_nombre, inplace = True)"
   ]
  },
  {
   "cell_type": "code",
   "execution_count": 65,
   "metadata": {},
   "outputs": [
    {
     "data": {
      "text/html": [
       "<div>\n",
       "<style scoped>\n",
       "    .dataframe tbody tr th:only-of-type {\n",
       "        vertical-align: middle;\n",
       "    }\n",
       "\n",
       "    .dataframe tbody tr th {\n",
       "        vertical-align: top;\n",
       "    }\n",
       "\n",
       "    .dataframe thead th {\n",
       "        text-align: right;\n",
       "    }\n",
       "</style>\n",
       "<table border=\"1\" class=\"dataframe\">\n",
       "  <thead>\n",
       "    <tr style=\"text-align: right;\">\n",
       "      <th></th>\n",
       "      <th>state</th>\n",
       "      <th>gender</th>\n",
       "      <th>median_home_val</th>\n",
       "      <th>total_baños</th>\n",
       "      <th>income</th>\n",
       "      <th>dist_playa</th>\n",
       "      <th>num_vecinos</th>\n",
       "      <th>num_habitaciones</th>\n",
       "    </tr>\n",
       "  </thead>\n",
       "  <tbody>\n",
       "    <tr>\n",
       "      <th>0</th>\n",
       "      <td>FL</td>\n",
       "      <td>M</td>\n",
       "      <td>1158.437751</td>\n",
       "      <td>430.0</td>\n",
       "      <td>392.0</td>\n",
       "      <td>12.203275</td>\n",
       "      <td>466.0</td>\n",
       "      <td>520.0</td>\n",
       "    </tr>\n",
       "  </tbody>\n",
       "</table>\n",
       "</div>"
      ],
      "text/plain": [
       "  state gender  median_home_val  total_baños  income  dist_playa  num_vecinos  \\\n",
       "0    FL      M      1158.437751        430.0   392.0   12.203275        466.0   \n",
       "\n",
       "   num_habitaciones  \n",
       "0             520.0  "
      ]
     },
     "execution_count": 65,
     "metadata": {},
     "output_type": "execute_result"
    }
   ],
   "source": [
    "df_copia.head(1)"
   ]
  },
  {
   "cell_type": "code",
   "execution_count": 67,
   "metadata": {},
   "outputs": [],
   "source": [
    "# Guardamos el DataFrame para usarlo en la lección de mañana \n",
    "df_copia.to_csv(\"data/california_nonull.csv\")"
   ]
  },
  {
   "cell_type": "markdown",
   "metadata": {},
   "source": [
    "# Resumen de lo aprendido\n",
    "\n",
    "| Método de Gestión de Valores Nulos | Pros | Contras |\n",
    "|----------------------------------|------|--------|\n",
    "| drop()                           | - Fácil de usar y entender. <br> - Elimina filas o columnas completas con valores nulos. | - Puede resultar en la pérdida de información si se eliminan muchas filas o columnas. <br> - Puede afectar la representatividad de la muestra si se eliminan muchas filas. |\n",
    "| dropna()                         | - Permite eliminar filas o columnas con valores nulos de manera flexible. <br> - Permite especificar condiciones adicionales para la eliminación. | - Puede resultar en la pérdida de información si se eliminan muchas filas o columnas. <br> - Puede afectar la representatividad de la muestra si se eliminan muchas filas. |\n",
    "| fillna()                         | - Permite reemplazar los valores nulos con valores específicos, como la media, mediana o moda. <br> - Permite personalizar el valor de reemplazo según las necesidades. | - La elección del valor de reemplazo puede afectar los resultados del análisis. <br> - No tiene en cuenta las relaciones entre variables. |\n",
    "| SimpleImputer                    | - Permite imputar un mismo valor a todos los registros nulos de una columna. <br> - Puede utilizar estadísticos como la media, mediana o moda como valor de imputación. | - No tiene en cuenta las relaciones entre variables. <br> - No es adecuado para datos categóricos o variables con distribuciones no normales. |\n",
    "| KNNImputer                       | - Utiliza el algoritmo de los k-vecinos más cercanos para imputar valores nulos basándose en los valores de los vecinos más cercanos. <br> - Puede capturar relaciones no lineales entre variables. | - Requiere un tamaño de muestra suficientemente grande para obtener estimaciones precisas. <br> - Puede ser computacionalmente costoso para conjuntos de datos grandes. |\n",
    "| IterativeImputer                 | - Utiliza un enfoque iterativo para imputar valores nulos basado en modelos de aprendizaje automático. <br> - Puede capturar relaciones complejas y no lineales entre variables. | - Requiere un tamaño de muestra suficientemente grande para obtener estimaciones precisas. <br> - Puede ser computacionalmente costoso para conjuntos de datos grandes. |\n",
    "\n",
    "Es importante tener en cuenta que la elección del método de gestión de valores nulos dependerá del contexto, la distribución de los datos y los objetivos del análisis. Es recomendable evaluar las ventajas y desventajas de cada método y seleccionar el más adecuado para tu conjunto de datos y tus necesidades específicas.\n",
    "\n"
   ]
  }
 ],
 "metadata": {
  "kernelspec": {
   "display_name": "Python 3 (ipykernel)",
   "language": "python",
   "name": "python3"
  },
  "language_info": {
   "codemirror_mode": {
    "name": "ipython",
    "version": 3
   },
   "file_extension": ".py",
   "mimetype": "text/x-python",
   "name": "python",
   "nbconvert_exporter": "python",
   "pygments_lexer": "ipython3",
   "version": "3.10.11"
  },
  "toc": {
   "base_numbering": 1,
   "nav_menu": {},
   "number_sections": true,
   "sideBar": true,
   "skip_h1_title": false,
   "title_cell": "Table of Contents",
   "title_sidebar": "Contents",
   "toc_cell": true,
   "toc_position": {
    "height": "calc(100% - 180px)",
    "left": "10px",
    "top": "150px",
    "width": "384px"
   },
   "toc_section_display": true,
   "toc_window_display": false
  }
 },
 "nbformat": 4,
 "nbformat_minor": 2
}
