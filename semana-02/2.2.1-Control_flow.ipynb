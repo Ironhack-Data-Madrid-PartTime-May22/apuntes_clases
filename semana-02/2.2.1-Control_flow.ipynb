{
 "cells": [
  {
   "cell_type": "markdown",
   "id": "038f4c73",
   "metadata": {
    "toc": true
   },
   "source": [
    "<h1>Table of Contents<span class=\"tocSkip\"></span></h1>\n",
    "<div class=\"toc\"><ul class=\"toc-item\"><li><span><a href=\"#¿Qué-es-el-control-flow?\" data-toc-modified-id=\"¿Qué-es-el-control-flow?-1\"><span class=\"toc-item-num\">1&nbsp;&nbsp;</span>¿Qué es el control flow?</a></span><ul class=\"toc-item\"><li><span><a href=\"#¿Qué-es-el-pseudo-codigo?\" data-toc-modified-id=\"¿Qué-es-el-pseudo-codigo?-1.1\"><span class=\"toc-item-num\">1.1&nbsp;&nbsp;</span>¿Qué es el pseudo-codigo?</a></span></li></ul></li><li><span><a href=\"#Condicionales\" data-toc-modified-id=\"Condicionales-2\"><span class=\"toc-item-num\">2&nbsp;&nbsp;</span>Condicionales</a></span><ul class=\"toc-item\"><li><span><a href=\"#if\" data-toc-modified-id=\"if-2.1\"><span class=\"toc-item-num\">2.1&nbsp;&nbsp;</span>if</a></span></li><li><span><a href=\"#if-...-else\" data-toc-modified-id=\"if-...-else-2.2\"><span class=\"toc-item-num\">2.2&nbsp;&nbsp;</span>if ... else</a></span></li><li><span><a href=\"#if-anidados\" data-toc-modified-id=\"if-anidados-2.3\"><span class=\"toc-item-num\">2.3&nbsp;&nbsp;</span>if anidados</a></span></li><li><span><a href=\"#if-...-elif-...-else\" data-toc-modified-id=\"if-...-elif-...-else-2.4\"><span class=\"toc-item-num\">2.4&nbsp;&nbsp;</span>if ... elif ... else</a></span></li></ul></li><li><span><a href=\"#Loops\" data-toc-modified-id=\"Loops-3\"><span class=\"toc-item-num\">3&nbsp;&nbsp;</span>Loops</a></span><ul class=\"toc-item\"><li><span><a href=\"#for-loops\" data-toc-modified-id=\"for-loops-3.1\"><span class=\"toc-item-num\">3.1&nbsp;&nbsp;</span><code>for</code> loops</a></span></li><li><span><a href=\"#while\" data-toc-modified-id=\"while-3.2\"><span class=\"toc-item-num\">3.2&nbsp;&nbsp;</span>while</a></span></li></ul></li><li><span><a href=\"#Control-de-los-Loops\" data-toc-modified-id=\"Control-de-los-Loops-4\"><span class=\"toc-item-num\">4&nbsp;&nbsp;</span>Control de los Loops</a></span><ul class=\"toc-item\"><li><span><a href=\"#break\" data-toc-modified-id=\"break-4.1\"><span class=\"toc-item-num\">4.1&nbsp;&nbsp;</span>break</a></span></li><li><span><a href=\"#pass\" data-toc-modified-id=\"pass-4.2\"><span class=\"toc-item-num\">4.2&nbsp;&nbsp;</span>pass</a></span></li></ul></li><li><span><a href=\"#Algunos-métodos-interesantes\" data-toc-modified-id=\"Algunos-métodos-interesantes-5\"><span class=\"toc-item-num\">5&nbsp;&nbsp;</span>Algunos métodos interesantes</a></span></li></ul></div>"
   ]
  },
  {
   "cell_type": "markdown",
   "id": "573ef693",
   "metadata": {},
   "source": [
    "# ¿Qué es el control flow? "
   ]
  },
  {
   "cell_type": "markdown",
   "id": "571818cf",
   "metadata": {},
   "source": [
    "Es el orden en que se ejecutan ciertas operaciones, es decir usando el control de flujo estamos controlando la ejecución de nuestro código. \n",
    "\n",
    "Pongamos un ejemplo sencillo, digamos que queremos medir la temperatura del aire en el exterior. ¿Qué tenemos que hacer? \n",
    "\n",
    "1️⃣ Cogemos el termómetro,   \n",
    "2️⃣ Abrimos la puerta,   \n",
    "3️⃣ Salimos al exterior,   \n",
    "4️⃣ Cerramos la puerta,   \n",
    "5️⃣ Buscamos un lugar a la sombra,   \n",
    "6️⃣ Medimos la temperatura y   \n",
    "7️⃣ La anotamos. "
   ]
  },
  {
   "cell_type": "markdown",
   "id": "8b780eca",
   "metadata": {},
   "source": [
    "Python tiene 3 estructuras de control de flujo:\n",
    "\n",
    "- Condicionales:\n",
    "    ```python\n",
    "    - if \n",
    "    - if ... else ...\n",
    "    - if ... elif ... else\n",
    "    ```\n",
    "- *Loops*: \n",
    "    ```python\n",
    "    - for\n",
    "    - while\n",
    "    ```\n",
    "\n",
    "- Control de los *loops* con *break* y *continue* \n",
    "    ```python\n",
    "    - break\n",
    "    - continue\n",
    "    ```"
   ]
  },
  {
   "cell_type": "markdown",
   "id": "f9038a07",
   "metadata": {},
   "source": [
    "## ¿Qué es el pseudo-codigo? "
   ]
  },
  {
   "cell_type": "markdown",
   "id": "910d3dee",
   "metadata": {},
   "source": [
    "El pseudocódigo es una forma de expresar los distintos pasos que va a realizar un programa, de la forma más parecida a un lenguaje de programación. Su principal función es la de representar por pasos la solución a un problema o algoritmo, de la forma más detallada posible, normalmente usamos comentarios nuestros. "
   ]
  },
  {
   "cell_type": "code",
   "execution_count": 1,
   "id": "54720ce8",
   "metadata": {},
   "outputs": [
    {
     "data": {
      "text/plain": [
       "'\\nLas triples comillas para\\nescribir el múltiples líneas\\n'"
      ]
     },
     "execution_count": 1,
     "metadata": {},
     "output_type": "execute_result"
    }
   ],
   "source": [
    "\"\"\"\n",
    "Las triples comillas para\n",
    "escribir el múltiples líneas\n",
    "\"\"\"\n",
    "\n",
    "# para escribir comentarios de una sola línea"
   ]
  },
  {
   "cell_type": "markdown",
   "id": "9cd13e69",
   "metadata": {},
   "source": [
    "Imaginemos que nos mandan el siguiente ejercicio: "
   ]
  },
  {
   "cell_type": "markdown",
   "id": "c767763e",
   "metadata": {},
   "source": [
    "Le preguntamos al usuario que nos diga un número. \n",
    "Chequeamos que esta dentro de una lista dada. \n",
    "\n",
    "Peeeero... no sabemos por donde empezar a picar código 🤯. En este caso usaremos el pseudocódigo: "
   ]
  },
  {
   "cell_type": "code",
   "execution_count": 2,
   "id": "b46b6d46",
   "metadata": {},
   "outputs": [
    {
     "data": {
      "text/plain": [
       "'\\ncrear una lista de los números que me interesan\\nnecesito el input del usuario\\ntengo que establecer una condición usando un if con un operador in\\n'"
      ]
     },
     "execution_count": 2,
     "metadata": {},
     "output_type": "execute_result"
    }
   ],
   "source": [
    "'''\n",
    "crear una lista de los números que me interesan\n",
    "necesito el input del usuario\n",
    "tengo que establecer una condición usando un if con un operador in\n",
    "'''"
   ]
  },
  {
   "cell_type": "markdown",
   "id": "9f033c44",
   "metadata": {},
   "source": [
    "# Condicionales "
   ]
  },
  {
   "cell_type": "markdown",
   "id": "26a79ab6",
   "metadata": {},
   "source": [
    "Las sentencias condicionales, o a menudo llamadas sentencias if-then, nos permiten ejecutar un trozo de código dependiendo de alguna condición (condición booleana).\n",
    "Las sentencias condicionales en Python son:\n",
    "\n",
    "- `if`\n",
    "\n",
    "\n",
    "- `if-else`\n",
    "\n",
    "\n",
    "- `if anidado`\n",
    "\n",
    "\n",
    "- `if-elif-else`\n",
    "\n",
    "\n",
    "📌 Las palabras clave para aplicar una sentencia condicional son if, elif, else y dos puntos (:). Es importante aplicar una sangría a la nueva línea después de los dos puntos."
   ]
  },
  {
   "cell_type": "markdown",
   "id": "ce4c3406",
   "metadata": {},
   "source": [
    "## if"
   ]
  },
  {
   "cell_type": "markdown",
   "id": "7a585805",
   "metadata": {},
   "source": [
    "Si la condición `if` se evalúa como True, entonces se ejecuta el código indentado que sigue a la sentencia.\n",
    "\n",
    "Si la expresión evalúa a Falso, entonces el código indentado que sigue a la sentencia `if` se salta y el programa ejecuta la siguiente línea de código que está indentada al mismo nivel que la sentencia `if`.\n",
    "\n"
   ]
  },
  {
   "cell_type": "markdown",
   "id": "a906e8e8",
   "metadata": {},
   "source": [
    "![if](https://github.com/Ironhack-Data-Madrid-PartTime-Oct22/imagenes/blob/master/semana-2/if-python-schema.gif?raw=true)"
   ]
  },
  {
   "cell_type": "code",
   "execution_count": 3,
   "id": "d34137b0",
   "metadata": {},
   "outputs": [
    {
     "name": "stdout",
     "output_type": "stream",
     "text": [
      "Bienvenido\n"
     ]
    }
   ],
   "source": [
    "expresion = True\n",
    "\n",
    "if expresion == True:\n",
    "    print('Bienvenido')"
   ]
  },
  {
   "cell_type": "code",
   "execution_count": 4,
   "id": "5da1a6f9",
   "metadata": {},
   "outputs": [
    {
     "name": "stdout",
     "output_type": "stream",
     "text": [
      "Bienvenido\n"
     ]
    }
   ],
   "source": [
    "# esto es lo mismo que lo anterior\n",
    "\n",
    "if expresion:\n",
    "    \n",
    "    print('Bienvenido')"
   ]
  },
  {
   "cell_type": "code",
   "execution_count": 6,
   "id": "0868c634",
   "metadata": {
    "scrolled": true
   },
   "outputs": [
    {
     "name": "stdout",
     "output_type": "stream",
     "text": [
      "¿Qué temperatura hace hoy? 2\n"
     ]
    }
   ],
   "source": [
    "temperatura = int(input('¿Qué temperatura hace hoy? '))"
   ]
  },
  {
   "cell_type": "code",
   "execution_count": 13,
   "id": "323c704a",
   "metadata": {},
   "outputs": [
    {
     "name": "stdout",
     "output_type": "stream",
     "text": [
      "La temperatura de hoy es 2\n",
      "\n",
      "fuera del condicional\n"
     ]
    }
   ],
   "source": [
    "# preguntamos si la temperatura es menor que un valor (en este caso 4). \n",
    "\n",
    "if temperatura < 4: \n",
    "    # Si esta condición es cierta, se ejecutará la siguiente líena de código  \n",
    "    \n",
    "    print(f'La temperatura de hoy es {temperatura}')\n",
    "\n",
    "print()\n",
    "print('fuera del condicional')"
   ]
  },
  {
   "cell_type": "code",
   "execution_count": 14,
   "id": "edbf99ed",
   "metadata": {},
   "outputs": [
    {
     "name": "stdout",
     "output_type": "stream",
     "text": [
      "\n",
      "fuera del condicional\n"
     ]
    }
   ],
   "source": [
    "# pero que pasa si la condición no se cumple?\n",
    "if temperatura > 17:\n",
    "    \n",
    "    # no se ejecutará la siguiente línea de código\n",
    "    print(f\"La temperatura de hoy es {temperatura}, y se esta agustito\")\n",
    "    \n",
    "print()\n",
    "print('fuera del condicional')"
   ]
  },
  {
   "cell_type": "markdown",
   "id": "4ca7547a",
   "metadata": {},
   "source": [
    "En el control flow también podemos incluir varias condiciones"
   ]
  },
  {
   "cell_type": "code",
   "execution_count": 20,
   "id": "2d6956f8",
   "metadata": {
    "scrolled": true
   },
   "outputs": [
    {
     "name": "stdout",
     "output_type": "stream",
     "text": [
      "¿Qúe temperatura máxima tenemos hoy? 20\n"
     ]
    }
   ],
   "source": [
    "temp_max = int(input('¿Qúe temperatura máxima tenemos hoy? '))"
   ]
  },
  {
   "cell_type": "code",
   "execution_count": 21,
   "id": "c25aaf4a",
   "metadata": {},
   "outputs": [
    {
     "name": "stdout",
     "output_type": "stream",
     "text": [
      "¿Qué temperatura mínima tenemos hoy? 1\n"
     ]
    }
   ],
   "source": [
    "temp_min = int(input('¿Qué temperatura mínima tenemos hoy? '))"
   ]
  },
  {
   "cell_type": "code",
   "execution_count": 28,
   "id": "ce197d4b",
   "metadata": {},
   "outputs": [],
   "source": [
    "# tienen que cumplirse las dos condiciones\n",
    "\n",
    "if temp_max <= 15 and temp_min < 6:\n",
    "    \n",
    "    print('Parece que hace frio....')"
   ]
  },
  {
   "cell_type": "code",
   "execution_count": 26,
   "id": "bbd314d1",
   "metadata": {},
   "outputs": [
    {
     "data": {
      "text/plain": [
       "True"
      ]
     },
     "execution_count": 26,
     "metadata": {},
     "output_type": "execute_result"
    }
   ],
   "source": [
    "True and True  # tienen que ser las 2"
   ]
  },
  {
   "cell_type": "code",
   "execution_count": 29,
   "id": "3c066e34",
   "metadata": {},
   "outputs": [
    {
     "name": "stdout",
     "output_type": "stream",
     "text": [
      "Parece que seguimos en invierno\n"
     ]
    }
   ],
   "source": [
    "# tiene que cumplirse una de las dos condiciones\n",
    "\n",
    "if temp_max <= 15 or temp_min < 6:\n",
    "    \n",
    "    print('Parece que seguimos en invierno')"
   ]
  },
  {
   "cell_type": "code",
   "execution_count": 33,
   "id": "a14408e8",
   "metadata": {},
   "outputs": [
    {
     "data": {
      "text/plain": [
       "True"
      ]
     },
     "execution_count": 33,
     "metadata": {},
     "output_type": "execute_result"
    }
   ],
   "source": [
    "False or True  # con 1 ya vale"
   ]
  },
  {
   "cell_type": "code",
   "execution_count": 35,
   "id": "65e3473a",
   "metadata": {},
   "outputs": [
    {
     "data": {
      "text/plain": [
       "True"
      ]
     },
     "execution_count": 35,
     "metadata": {},
     "output_type": "execute_result"
    }
   ],
   "source": [
    "'o' in 'hola'"
   ]
  },
  {
   "cell_type": "code",
   "execution_count": 34,
   "id": "f0806b35",
   "metadata": {},
   "outputs": [
    {
     "data": {
      "text/plain": [
       "True"
      ]
     },
     "execution_count": 34,
     "metadata": {},
     "output_type": "execute_result"
    }
   ],
   "source": [
    "'Carmen' in ['Lola', 'Maria', 'Marta', 'Carmen']"
   ]
  },
  {
   "cell_type": "code",
   "execution_count": 37,
   "id": "af00d14e",
   "metadata": {},
   "outputs": [
    {
     "name": "stdout",
     "output_type": "stream",
     "text": [
      "Carmen está invitada a la party dance.\n"
     ]
    }
   ],
   "source": [
    "# también lo podemos hacer con listas\n",
    "\n",
    "if 'Carmen' in ['Lola', 'Maria', 'Marta', 'Carmen']:\n",
    "    print('Carmen está invitada a la party dance.')"
   ]
  },
  {
   "cell_type": "markdown",
   "id": "f6e6cebc",
   "metadata": {},
   "source": [
    "🌊📝 **EJERCICIO** 🌊📝\n",
    "\n",
    "Escribe un programa que chequee si el usuario nos pasa una letra o un número"
   ]
  },
  {
   "cell_type": "code",
   "execution_count": 38,
   "id": "934a3ca9",
   "metadata": {},
   "outputs": [],
   "source": [
    "import string"
   ]
  },
  {
   "cell_type": "code",
   "execution_count": 39,
   "id": "26ae5d45",
   "metadata": {},
   "outputs": [
    {
     "data": {
      "text/plain": [
       "'abcdefghijklmnopqrstuvwxyz'"
      ]
     },
     "execution_count": 39,
     "metadata": {},
     "output_type": "execute_result"
    }
   ],
   "source": [
    "letras = string.ascii_lowercase\n",
    "\n",
    "letras"
   ]
  },
  {
   "cell_type": "code",
   "execution_count": 45,
   "id": "7bf626fe",
   "metadata": {},
   "outputs": [
    {
     "data": {
      "text/plain": [
       "'ABCDEFGHIJKLMNOPQRSTUVWXYZ'"
      ]
     },
     "execution_count": 45,
     "metadata": {},
     "output_type": "execute_result"
    }
   ],
   "source": [
    "letras2 = string.ascii_uppercase\n",
    "\n",
    "letras2"
   ]
  },
  {
   "cell_type": "code",
   "execution_count": 46,
   "id": "9b92010d",
   "metadata": {},
   "outputs": [
    {
     "data": {
      "text/plain": [
       "'abcdefghijklmnopqrstuvwxyzABCDEFGHIJKLMNOPQRSTUVWXYZ'"
      ]
     },
     "execution_count": 46,
     "metadata": {},
     "output_type": "execute_result"
    }
   ],
   "source": [
    "letras = letras+letras2\n",
    "\n",
    "letras"
   ]
  },
  {
   "cell_type": "code",
   "execution_count": 41,
   "id": "2e5c6d3b",
   "metadata": {},
   "outputs": [
    {
     "name": "stdout",
     "output_type": "stream",
     "text": [
      "Escribe un caracter: Y\n"
     ]
    }
   ],
   "source": [
    "# preguntamos al usuario que nos pase caracter\n",
    "\n",
    "letra = input('Escribe un caracter: ')"
   ]
  },
  {
   "cell_type": "code",
   "execution_count": 42,
   "id": "b1ee790e",
   "metadata": {},
   "outputs": [],
   "source": [
    "# chequeamos si la opción del usuario es una letra\n",
    "\n",
    "if letra in letras:\n",
    "    print('El caracter es una letra.')"
   ]
  },
  {
   "cell_type": "code",
   "execution_count": 43,
   "id": "90d334b2",
   "metadata": {},
   "outputs": [
    {
     "data": {
      "text/plain": [
       "False"
      ]
     },
     "execution_count": 43,
     "metadata": {},
     "output_type": "execute_result"
    }
   ],
   "source": [
    "'Y'=='y'"
   ]
  },
  {
   "cell_type": "code",
   "execution_count": 44,
   "id": "55073cf3",
   "metadata": {},
   "outputs": [
    {
     "name": "stdout",
     "output_type": "stream",
     "text": [
      "El caracter es una letra.\n"
     ]
    }
   ],
   "source": [
    "# pero que pasa si nos pasa una mayúscula?\n",
    "\n",
    "if letra.lower() in letras:\n",
    "    print('El caracter es una letra.')"
   ]
  },
  {
   "cell_type": "markdown",
   "id": "f55cb7da",
   "metadata": {},
   "source": [
    "## if ... else "
   ]
  },
  {
   "cell_type": "markdown",
   "id": "dba6651e",
   "metadata": {},
   "source": [
    "Esta declaración nos permite añadir una segunda posibilidad al código, qué hacer cuando la condición es False (cuando no se cumple la condición)."
   ]
  },
  {
   "cell_type": "markdown",
   "id": "d77cc073",
   "metadata": {},
   "source": [
    "![if-else](https://github.com/Ironhack-Data-Madrid-PartTime-Oct22/imagenes/blob/master/semana-2/python-if-else.png?raw=true)"
   ]
  },
  {
   "cell_type": "code",
   "execution_count": 58,
   "id": "cb291c4b",
   "metadata": {},
   "outputs": [
    {
     "name": "stdout",
     "output_type": "stream",
     "text": [
      "¿Qué temperatura hace hoy? 29.4\n"
     ]
    }
   ],
   "source": [
    "# preguntamos que temperatura hace hoy\n",
    "temp = float(input('¿Qué temperatura hace hoy? '))"
   ]
  },
  {
   "cell_type": "code",
   "execution_count": 59,
   "id": "9d33617c",
   "metadata": {},
   "outputs": [
    {
     "name": "stdout",
     "output_type": "stream",
     "text": [
      "la temperatura de hoy es 29.4, hace calorcito 😊\n"
     ]
    }
   ],
   "source": [
    "# creamos una condicion\n",
    "\n",
    "if temp <= 15:\n",
    "    print(f\"la temperatura de hoy es {temp}, hace frio 🥶\")\n",
    "    \n",
    "else:\n",
    "    # en caso de que no se cumpla la primera condición, se ejecutaría el código del else\n",
    "    print(f\"la temperatura de hoy es {temp}, hace calorcito 😊\")"
   ]
  },
  {
   "cell_type": "markdown",
   "id": "4311513c",
   "metadata": {},
   "source": [
    " 🌊📝 **EJERCICIO** 🌊📝\n",
    " \n",
    "Escribe un programa que chequee si una palabra empieza por 'a' o no"
   ]
  },
  {
   "cell_type": "code",
   "execution_count": 60,
   "id": "74e8a46f",
   "metadata": {},
   "outputs": [],
   "source": [
    "palabra = \"abedul\""
   ]
  },
  {
   "cell_type": "code",
   "execution_count": 62,
   "id": "481ed1ad",
   "metadata": {},
   "outputs": [
    {
     "name": "stdout",
     "output_type": "stream",
     "text": [
      "Correcto, la palabra empieza por a\n"
     ]
    }
   ],
   "source": [
    "if palabra.startswith('a'):\n",
    "    print('Correcto, la palabra empieza por a')\n",
    "    \n",
    "else:\n",
    "    print('Esta no vale')"
   ]
  },
  {
   "cell_type": "code",
   "execution_count": 63,
   "id": "fa5a23cd",
   "metadata": {},
   "outputs": [
    {
     "name": "stdout",
     "output_type": "stream",
     "text": [
      "correcto\n"
     ]
    }
   ],
   "source": [
    "if palabra.lower().startswith('a'):\n",
    "    print(\"correcto\")\n",
    "else:\n",
    "    print('esta palabra no vale')"
   ]
  },
  {
   "cell_type": "code",
   "execution_count": 69,
   "id": "502da887",
   "metadata": {},
   "outputs": [
    {
     "data": {
      "text/plain": [
       "True"
      ]
     },
     "execution_count": 69,
     "metadata": {},
     "output_type": "execute_result"
    }
   ],
   "source": [
    "palabra[0]=='a'"
   ]
  },
  {
   "cell_type": "code",
   "execution_count": 66,
   "id": "660083d4",
   "metadata": {},
   "outputs": [
    {
     "data": {
      "text/plain": [
       "True"
      ]
     },
     "execution_count": 66,
     "metadata": {},
     "output_type": "execute_result"
    }
   ],
   "source": [
    "palabra[0] in ['A', 'a']"
   ]
  },
  {
   "cell_type": "markdown",
   "id": "1d65f41e",
   "metadata": {},
   "source": [
    " 🌊📝 **EJERCICIO** 🌊📝\n",
    "\n",
    "Hagamos un programa que le pregunte al usuario que edad que tiene para saber si puede entrar a la discoteca o no \n",
    "- Si es mayor que 18 le dejamos pasar\n",
    "- Si es menor que 18 le recomendamos ir a una discoteca light"
   ]
  },
  {
   "cell_type": "code",
   "execution_count": 73,
   "id": "02c177de",
   "metadata": {},
   "outputs": [
    {
     "name": "stdout",
     "output_type": "stream",
     "text": [
      "Cuantos años tienes?:18\n"
     ]
    }
   ],
   "source": [
    "edad = int(input('Cuantos años tienes?:'))"
   ]
  },
  {
   "cell_type": "code",
   "execution_count": 74,
   "id": "cded4d4a",
   "metadata": {
    "scrolled": true
   },
   "outputs": [
    {
     "name": "stdout",
     "output_type": "stream",
     "text": [
      "Pasa alegre, ten cuidao!\n"
     ]
    }
   ],
   "source": [
    "# puede entrar en la discoteca?\n",
    "\n",
    "if edad >= 18:\n",
    "    print('Pasa alegre, ten cuidao!')\n",
    "    \n",
    "else:\n",
    "    print('A llorar a mama o vete a una discoteca light')"
   ]
  },
  {
   "cell_type": "markdown",
   "id": "1061d73e",
   "metadata": {},
   "source": [
    "##  if anidados"
   ]
  },
  {
   "cell_type": "markdown",
   "id": "ceee1ad4",
   "metadata": {},
   "source": [
    "Básicamente es una sentencia `if` dentro de otra sentencia `if`. "
   ]
  },
  {
   "cell_type": "markdown",
   "id": "eeeb8bab",
   "metadata": {},
   "source": [
    "![anidados](https://github.com/Ironhack-Data-Madrid-PartTime-Oct22/imagenes/blob/master/semana-2/python_nested_if_else_statements_flow_chart.png?raw=true)"
   ]
  },
  {
   "cell_type": "code",
   "execution_count": 75,
   "id": "04e05118",
   "metadata": {},
   "outputs": [
    {
     "name": "stdout",
     "output_type": "stream",
     "text": [
      "¿Qué temperatura hace hoy? 18\n"
     ]
    }
   ],
   "source": [
    "# preguntamos que temperatura hace hoy\n",
    "\n",
    "temp2 = float(input('¿Qué temperatura hace hoy? '))"
   ]
  },
  {
   "cell_type": "code",
   "execution_count": 76,
   "id": "a4f7109d",
   "metadata": {},
   "outputs": [
    {
     "name": "stdout",
     "output_type": "stream",
     "text": [
      "36.0\n"
     ]
    }
   ],
   "source": [
    "# nosotros en un if podemos hacer todas las operaciones que queramos.\n",
    "# En este caso estamos haciendo una multiplicación del valor que nos ha pasado el usuario\n",
    "\n",
    "if temp2 > 15:\n",
    "    # temp = temp * 2 es lo que lo mismo que lo de abajo\n",
    "    temp2 *= 2\n",
    "    print(temp2)"
   ]
  },
  {
   "cell_type": "code",
   "execution_count": 77,
   "id": "d9d4e6f0",
   "metadata": {},
   "outputs": [
    {
     "name": "stdout",
     "output_type": "stream",
     "text": [
      "la temperatura de hoy es 36.0, hace calorcito 😊\n",
      "Hara calorcete\n"
     ]
    }
   ],
   "source": [
    "# creamos la condición anidad\n",
    "\n",
    "if temp2 > 15:\n",
    "    \n",
    "    print(f\"la temperatura de hoy es {temp2}, hace calorcito 😊\")\n",
    "    # cuidado aquí con la asignación de variables. Fijaos que en la celda anterior hemos sobreescrito el valor del valor que nos paso el usuario \n",
    "    if temp2 > 40: \n",
    "        print('OJO, ola de calor, lleva agua.')\n",
    "        \n",
    "    else:\n",
    "        print('Hara calorcete')\n",
    "        \n",
    "else:\n",
    "    print(f\"la temperatura de hoy es {temp2}, hace frio 🥶\")"
   ]
  },
  {
   "cell_type": "markdown",
   "id": "6e3eddf6",
   "metadata": {},
   "source": [
    " 🌊📝 **EJERCICIO** 🌊📝\n",
    "\n",
    "Ampliemos el ejercicio anterior del chico que quiere entrar en la discoteca:\n",
    "\n",
    "- Si su edad es mayor que 18 le dejamos pasar.\n",
    "\n",
    "\n",
    "- Si su edad es menor que 18 le recomendamos ir a una discoteca light.\n",
    "\n",
    "\n",
    "- Si su edad es menor que 18 y mayor que 10 le decimos que se vaya a casa."
   ]
  },
  {
   "cell_type": "code",
   "execution_count": 80,
   "id": "d0456d44",
   "metadata": {},
   "outputs": [
    {
     "name": "stdout",
     "output_type": "stream",
     "text": [
      "Cuantos años tienes?:28\n"
     ]
    }
   ],
   "source": [
    "edad = int(input('Cuantos años tienes?:'))"
   ]
  },
  {
   "cell_type": "code",
   "execution_count": 81,
   "id": "e1a05ca2",
   "metadata": {},
   "outputs": [
    {
     "name": "stdout",
     "output_type": "stream",
     "text": [
      "Pasa alegre, ten cuidao!\n"
     ]
    }
   ],
   "source": [
    "# puede entrar en la discoteca?\n",
    "\n",
    "if edad >= 18:\n",
    "    print('Pasa alegre, ten cuidao!')\n",
    "    \n",
    "else:\n",
    "    if edad > 10:\n",
    "        print('Discoteca light.')\n",
    "        \n",
    "    else:\n",
    "        print('Niñ@, vete pa casa ya o llamo a tu madre.')"
   ]
  },
  {
   "cell_type": "code",
   "execution_count": 82,
   "id": "b4a83bb3",
   "metadata": {},
   "outputs": [
    {
     "name": "stdout",
     "output_type": "stream",
     "text": [
      "Pasa alegre, ten cuidao!\n",
      "A pagar todo cuco.\n"
     ]
    }
   ],
   "source": [
    "# puede entrar en la discoteca?\n",
    "\n",
    "if edad >= 18:\n",
    "    print('Pasa alegre, ten cuidao!')\n",
    "    \n",
    "    if edad >=35:\n",
    "        print('Tu eres VIP.')\n",
    "        \n",
    "    else:\n",
    "        print('A pagar todo cuco.')\n",
    "    \n",
    "else:\n",
    "    if edad > 10:\n",
    "        print('Discoteca light.')\n",
    "        \n",
    "    else:\n",
    "        print('Niñ@, vete pa casa ya o llamo a tu madre.')"
   ]
  },
  {
   "cell_type": "markdown",
   "id": "76bbe4f5",
   "metadata": {},
   "source": [
    "## if ... elif ... else"
   ]
  },
  {
   "cell_type": "markdown",
   "id": "8f604e8a",
   "metadata": {},
   "source": [
    "La palabra clave `elif` puede pensarse como else if, la usamos si queremos una división más clara entre if y else. La sentencia `elif` de Python permite realizar comprobaciones continuas después de una sentencia if inicial. Una sentencia elif se diferencia de la sentencia else porque se proporciona otra expresión para ser comprobada, al igual que con la sentencia if inicial."
   ]
  },
  {
   "cell_type": "markdown",
   "id": "eae97d49",
   "metadata": {},
   "source": [
    "![else](https://github.com/Ironhack-Data-Madrid-PartTime-Oct22/imagenes/blob/master/semana-2/python_if_elif_else_statement_flow_chart.png?raw=true)"
   ]
  },
  {
   "cell_type": "code",
   "execution_count": 86,
   "id": "70372193",
   "metadata": {},
   "outputs": [
    {
     "name": "stdout",
     "output_type": "stream",
     "text": [
      "¿Qué temperatura hace hoy? 25\n"
     ]
    }
   ],
   "source": [
    "# preguntamos la temperatura\n",
    "temp3 = float(input('¿Qué temperatura hace hoy? '))"
   ]
  },
  {
   "cell_type": "code",
   "execution_count": 88,
   "id": "641674a1",
   "metadata": {},
   "outputs": [
    {
     "name": "stdout",
     "output_type": "stream",
     "text": [
      "la temperatura de hoy es 25.0, hace calorcito 😊\n",
      "Fuera del condicional\n"
     ]
    }
   ],
   "source": [
    "# creamos el if, elif, else\n",
    "\n",
    "if temp3 > 15:\n",
    "    print(f\"la temperatura de hoy es {temp3}, hace calorcito 😊\")\n",
    "    \n",
    "elif temp3 > 2:\n",
    "    print(f\"la temperatura de hoy es {temp3}, hace frio 🥶\")\n",
    "    \n",
    "else:\n",
    "    print(f\"la temperatura de hoy es {temp3},puede que nieve 🥶\")\n",
    "    \n",
    "    \n",
    "print('Fuera del condicional')"
   ]
  },
  {
   "cell_type": "markdown",
   "id": "ea467e7e",
   "metadata": {},
   "source": [
    "🌊📝 **EJERCICIO** 🌊📝\n",
    "\n",
    "Mejoremos el código del chico que quiere entrar a la discoteca. Haz el mismo programa pero esta vez con `if`, `elif` y `else`"
   ]
  },
  {
   "cell_type": "code",
   "execution_count": 95,
   "id": "741023c7",
   "metadata": {},
   "outputs": [
    {
     "name": "stdout",
     "output_type": "stream",
     "text": [
      "Cuántos años tienes? 18\n"
     ]
    }
   ],
   "source": [
    "edad2 = int(input('Cuántos años tienes? '))"
   ]
  },
  {
   "cell_type": "code",
   "execution_count": 96,
   "id": "55903c6e",
   "metadata": {},
   "outputs": [
    {
     "name": "stdout",
     "output_type": "stream",
     "text": [
      "Puedes pasar\n"
     ]
    }
   ],
   "source": [
    "if edad2 >= 18:\n",
    "    print('Puedes pasar')\n",
    "    \n",
    "elif edad2 > 10:\n",
    "    print('Disco light.')\n",
    "    \n",
    "else:\n",
    "    print('Pa casa ya')"
   ]
  },
  {
   "cell_type": "code",
   "execution_count": 97,
   "id": "3fa05f87",
   "metadata": {},
   "outputs": [
    {
     "name": "stdout",
     "output_type": "stream",
     "text": [
      "hola\n"
     ]
    }
   ],
   "source": [
    "if edad2 >= 18:\n",
    "    print('hola')\n",
    "    \n",
    "elif edad2==18:\n",
    "    print('Cumpleaños')"
   ]
  },
  {
   "cell_type": "code",
   "execution_count": 101,
   "id": "95cec04d",
   "metadata": {},
   "outputs": [
    {
     "name": "stdout",
     "output_type": "stream",
     "text": [
      "hola\n",
      "Cumpleaños\n"
     ]
    }
   ],
   "source": [
    "if edad2 >= 18:\n",
    "    print('hola')\n",
    "    \n",
    "else:\n",
    "    print()\n",
    "    \n",
    "if edad2==18:\n",
    "    print('Cumpleaños')\n",
    "    \n",
    "else:\n",
    "    pass   # haz nada, ignoralo"
   ]
  },
  {
   "cell_type": "code",
   "execution_count": 102,
   "id": "67d63911",
   "metadata": {},
   "outputs": [
    {
     "name": "stdout",
     "output_type": "stream",
     "text": [
      "edad\t edad2\t expresion\t letra\t letras\t letras2\t palabra\t string\t temp\t \n",
      "temp2\t temp3\t temp_max\t temp_min\t temperatura\t \n"
     ]
    }
   ],
   "source": [
    "# nos permite saber el nombre de las variables que están definidas en este jupyter\n",
    "%who"
   ]
  },
  {
   "cell_type": "code",
   "execution_count": 103,
   "id": "d082aa66",
   "metadata": {},
   "outputs": [
    {
     "name": "stdout",
     "output_type": "stream",
     "text": [
      "2.1.1-String-Operations.ipynb  2.2.1-Control_flow.ipynb\r\n",
      "2.1.2-Manejo_Errores.ipynb     \u001b[1m\u001b[36mdata\u001b[m\u001b[m/\r\n"
     ]
    }
   ],
   "source": [
    "%ls"
   ]
  },
  {
   "cell_type": "markdown",
   "id": "832919b3",
   "metadata": {},
   "source": [
    "# Loops"
   ]
  },
  {
   "cell_type": "markdown",
   "id": "f9ce22f1",
   "metadata": {},
   "source": [
    "O a menudo denominadas sentencias de repetición, se utilizan para repetir un bloque de instrucciones. En Python, hay dos tipos de bucles:\n",
    "- bucles `for`\n",
    "\n",
    "\n",
    "- bucles `while`"
   ]
  },
  {
   "cell_type": "markdown",
   "id": "79dca22b",
   "metadata": {},
   "source": [
    "## `for` loops"
   ]
  },
  {
   "cell_type": "markdown",
   "id": "a8e04a98",
   "metadata": {},
   "source": [
    "Los bucles `for` se utilizan cuando iteramos sobre una secuencia de datos, es decir, una lista, tupla, diccionario, *string*, etc. Se utilizan cuando iteramos por un número conocido (o deseado) de veces, ya que sabemos cuántos elementos hay en una elemento. \n",
    "\n",
    "Las palabras clave para aplicar un bucle for son `for` y `in`."
   ]
  },
  {
   "cell_type": "markdown",
   "id": "28f81b0e",
   "metadata": {},
   "source": [
    "![for](https://raw.githubusercontent.com/Ironhack-Data-Madrid-PartTime-Oct22/imagenes/94f0051b8ebc9ef516092f4222745eb3fb36ab02/semana-2/python-for-loop.svg)"
   ]
  },
  {
   "cell_type": "code",
   "execution_count": null,
   "id": "171cba8e",
   "metadata": {},
   "outputs": [],
   "source": []
  },
  {
   "cell_type": "code",
   "execution_count": null,
   "id": "86d90ba9",
   "metadata": {},
   "outputs": [],
   "source": []
  },
  {
   "cell_type": "code",
   "execution_count": null,
   "id": "8a2baac0",
   "metadata": {},
   "outputs": [],
   "source": []
  },
  {
   "cell_type": "code",
   "execution_count": null,
   "id": "d4b013fe",
   "metadata": {},
   "outputs": [],
   "source": []
  },
  {
   "cell_type": "code",
   "execution_count": null,
   "id": "ae8f272f",
   "metadata": {},
   "outputs": [],
   "source": []
  },
  {
   "cell_type": "code",
   "execution_count": null,
   "id": "75dc54f0",
   "metadata": {},
   "outputs": [],
   "source": []
  },
  {
   "cell_type": "code",
   "execution_count": null,
   "id": "75dbf402",
   "metadata": {},
   "outputs": [],
   "source": []
  },
  {
   "cell_type": "code",
   "execution_count": null,
   "id": "42700d26",
   "metadata": {},
   "outputs": [],
   "source": []
  },
  {
   "cell_type": "code",
   "execution_count": null,
   "id": "c1568f0c",
   "metadata": {},
   "outputs": [],
   "source": []
  },
  {
   "cell_type": "code",
   "execution_count": null,
   "id": "229c0bb0",
   "metadata": {},
   "outputs": [],
   "source": []
  },
  {
   "cell_type": "code",
   "execution_count": null,
   "id": "f29f0aba",
   "metadata": {},
   "outputs": [],
   "source": []
  },
  {
   "cell_type": "code",
   "execution_count": null,
   "id": "77c803e8",
   "metadata": {},
   "outputs": [],
   "source": []
  },
  {
   "cell_type": "code",
   "execution_count": null,
   "id": "cb79de8f",
   "metadata": {},
   "outputs": [],
   "source": []
  },
  {
   "cell_type": "code",
   "execution_count": null,
   "id": "6530fdfb",
   "metadata": {
    "scrolled": true
   },
   "outputs": [],
   "source": []
  },
  {
   "cell_type": "markdown",
   "id": "cf39121a",
   "metadata": {},
   "source": [
    "🌊📝 **EJERCICIO** 🌊📝\n",
    "\n",
    "Escribe un programa que nos chequee si los números de una lista son pares o impares y crea una lista con los pares"
   ]
  },
  {
   "cell_type": "code",
   "execution_count": null,
   "id": "3e4bbd3a",
   "metadata": {},
   "outputs": [],
   "source": []
  },
  {
   "cell_type": "code",
   "execution_count": null,
   "id": "cf608e9b",
   "metadata": {},
   "outputs": [],
   "source": []
  },
  {
   "cell_type": "code",
   "execution_count": null,
   "id": "c5df04d4",
   "metadata": {},
   "outputs": [],
   "source": []
  },
  {
   "cell_type": "code",
   "execution_count": null,
   "id": "ad8d8aba",
   "metadata": {},
   "outputs": [],
   "source": []
  },
  {
   "cell_type": "markdown",
   "id": "fa645064",
   "metadata": {},
   "source": [
    "## while "
   ]
  },
  {
   "cell_type": "markdown",
   "id": "71647c37",
   "metadata": {},
   "source": [
    "En Python, los bucles `while` se utilizan para iterar hasta que se cumpla una determinada condición. Básicamente, el bucle se ejecuta tantas veces como la condición siga siendo True. Cuando el if se convierte en False, el bucle se detiene. \n",
    "\n",
    "NORMALMENTE USAMOS UN `while` cuando no sabemos cuantas veces vamos a tener que ejecutar el bucle."
   ]
  },
  {
   "cell_type": "markdown",
   "id": "37b2cf54",
   "metadata": {},
   "source": [
    "![while](https://github.com/Ironhack-Data-Madrid-PartTime-Oct22/imagenes/blob/master/semana-2/while_loop_python.png?raw=true)"
   ]
  },
  {
   "cell_type": "code",
   "execution_count": null,
   "id": "84539b30",
   "metadata": {
    "scrolled": true
   },
   "outputs": [],
   "source": []
  },
  {
   "cell_type": "code",
   "execution_count": null,
   "id": "59d7f911",
   "metadata": {},
   "outputs": [],
   "source": []
  },
  {
   "cell_type": "code",
   "execution_count": null,
   "id": "511987a7",
   "metadata": {},
   "outputs": [],
   "source": []
  },
  {
   "cell_type": "markdown",
   "id": "67af01e6",
   "metadata": {},
   "source": [
    "📌 El primer ejercicio del caracol se podía solucionar con un while"
   ]
  },
  {
   "cell_type": "markdown",
   "id": "362ec6f2",
   "metadata": {},
   "source": [
    "# Control de los Loops"
   ]
  },
  {
   "cell_type": "markdown",
   "id": "ee60b11d",
   "metadata": {},
   "source": [
    "Las sentencias `break` y `continue` nos ayudan a afinar nuestros bucles y su ejecución.\n",
    "\n",
    "- `break`:  rompe el bucle por completo\n",
    "\n",
    "\n",
    "- `pass`: no ejecuta el código que hay dentro de la condición\n",
    "\n",
    "\n",
    "- `continue` salta el resto del bucle actual y pasa a la siguiente iteración\n",
    "\n",
    "\n",
    "🚨 Ambas pueden utilizarse tanto en los bucles for como en los while."
   ]
  },
  {
   "cell_type": "markdown",
   "id": "2d0c5696",
   "metadata": {},
   "source": [
    "## break "
   ]
  },
  {
   "cell_type": "markdown",
   "id": "42a27dd7",
   "metadata": {},
   "source": [
    "`break` se utiliza en situaciones en las que queremos salir del bucle, incluso si la condición no se ha convertido en False o hemos iterado sobre toda la secuencia. Además, si se utiliza break, no se ejecutan los siguientes bloques else."
   ]
  },
  {
   "cell_type": "code",
   "execution_count": null,
   "id": "2317733b",
   "metadata": {},
   "outputs": [],
   "source": []
  },
  {
   "cell_type": "code",
   "execution_count": null,
   "id": "dc58d360",
   "metadata": {},
   "outputs": [],
   "source": []
  },
  {
   "cell_type": "markdown",
   "id": "d675a0f4",
   "metadata": {},
   "source": [
    "## pass"
   ]
  },
  {
   "cell_type": "markdown",
   "id": "cbfc708c",
   "metadata": {},
   "source": [
    "`pass` no hace nada. Puede utilizarse cuando se requiere una sentencia sintáctica pero el programa no requiere ninguna acción (de los docs)"
   ]
  },
  {
   "cell_type": "code",
   "execution_count": null,
   "id": "36cee9a3",
   "metadata": {},
   "outputs": [],
   "source": []
  },
  {
   "cell_type": "code",
   "execution_count": null,
   "id": "afa1e7f4",
   "metadata": {},
   "outputs": [],
   "source": []
  },
  {
   "cell_type": "markdown",
   "id": "644e326d",
   "metadata": {},
   "source": [
    "# Algunos métodos interesantes"
   ]
  },
  {
   "cell_type": "code",
   "execution_count": null,
   "id": "28b8c67a",
   "metadata": {},
   "outputs": [],
   "source": []
  },
  {
   "cell_type": "code",
   "execution_count": null,
   "id": "b8558c7d",
   "metadata": {},
   "outputs": [],
   "source": []
  },
  {
   "cell_type": "code",
   "execution_count": null,
   "id": "3cec754c",
   "metadata": {},
   "outputs": [],
   "source": []
  },
  {
   "cell_type": "code",
   "execution_count": null,
   "id": "e70528fa",
   "metadata": {},
   "outputs": [],
   "source": []
  },
  {
   "cell_type": "markdown",
   "id": "c86034ea",
   "metadata": {},
   "source": [
    "📝Escribe un programa que nos devuelva todos los numeros menores que 100 y que sean multiplos de 3 Y 6"
   ]
  },
  {
   "cell_type": "code",
   "execution_count": null,
   "id": "db6d0e79",
   "metadata": {},
   "outputs": [],
   "source": []
  },
  {
   "cell_type": "markdown",
   "id": "60ff2cad",
   "metadata": {},
   "source": [
    "`enumerate`: añade un contador en el elemento que estamos iterando"
   ]
  },
  {
   "cell_type": "code",
   "execution_count": null,
   "id": "efc0b110",
   "metadata": {},
   "outputs": [],
   "source": []
  },
  {
   "cell_type": "code",
   "execution_count": null,
   "id": "b4d2d706",
   "metadata": {},
   "outputs": [],
   "source": []
  },
  {
   "cell_type": "code",
   "execution_count": null,
   "id": "aea65fc2",
   "metadata": {},
   "outputs": [],
   "source": []
  },
  {
   "cell_type": "markdown",
   "id": "a058007d",
   "metadata": {},
   "source": [
    "`zip`: empaqueta los elementos de las listas que queremos en una tupla"
   ]
  },
  {
   "cell_type": "code",
   "execution_count": null,
   "id": "9e41a0a8",
   "metadata": {},
   "outputs": [],
   "source": []
  },
  {
   "cell_type": "code",
   "execution_count": null,
   "id": "87763257",
   "metadata": {},
   "outputs": [],
   "source": []
  },
  {
   "cell_type": "code",
   "execution_count": null,
   "id": "4650b097",
   "metadata": {},
   "outputs": [],
   "source": []
  },
  {
   "cell_type": "code",
   "execution_count": null,
   "id": "de87b533",
   "metadata": {},
   "outputs": [],
   "source": []
  },
  {
   "cell_type": "code",
   "execution_count": null,
   "id": "19e99e2e",
   "metadata": {},
   "outputs": [],
   "source": []
  }
 ],
 "metadata": {
  "kernelspec": {
   "display_name": "clase",
   "language": "python",
   "name": "clase"
  },
  "language_info": {
   "codemirror_mode": {
    "name": "ipython",
    "version": 3
   },
   "file_extension": ".py",
   "mimetype": "text/x-python",
   "name": "python",
   "nbconvert_exporter": "python",
   "pygments_lexer": "ipython3",
   "version": "3.9.12"
  },
  "toc": {
   "base_numbering": 1,
   "nav_menu": {},
   "number_sections": true,
   "sideBar": true,
   "skip_h1_title": false,
   "title_cell": "Table of Contents",
   "title_sidebar": "Contents",
   "toc_cell": true,
   "toc_position": {},
   "toc_section_display": true,
   "toc_window_display": false
  },
  "varInspector": {
   "cols": {
    "lenName": 16,
    "lenType": 16,
    "lenVar": 40
   },
   "kernels_config": {
    "python": {
     "delete_cmd_postfix": "",
     "delete_cmd_prefix": "del ",
     "library": "var_list.py",
     "varRefreshCmd": "print(var_dic_list())"
    },
    "r": {
     "delete_cmd_postfix": ") ",
     "delete_cmd_prefix": "rm(",
     "library": "var_list.r",
     "varRefreshCmd": "cat(var_dic_list()) "
    }
   },
   "types_to_exclude": [
    "module",
    "function",
    "builtin_function_or_method",
    "instance",
    "_Feature"
   ],
   "window_display": false
  }
 },
 "nbformat": 4,
 "nbformat_minor": 5
}
