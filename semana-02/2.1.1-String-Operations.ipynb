{
 "cells": [
  {
   "cell_type": "markdown",
   "id": "b373bf60",
   "metadata": {
    "toc": true
   },
   "source": [
    "<h1>Table of Contents<span class=\"tocSkip\"></span></h1>\n",
    "<div class=\"toc\"><ul class=\"toc-item\"><li><span><a href=\"#Métodos-de-los-strings\" data-toc-modified-id=\"Métodos-de-los-strings-1\"><span class=\"toc-item-num\">1&nbsp;&nbsp;</span>Métodos de los strings</a></span></li></ul></div>"
   ]
  },
  {
   "cell_type": "markdown",
   "id": "a0f7ef7b",
   "metadata": {},
   "source": [
    "# Métodos de los strings"
   ]
  },
  {
   "cell_type": "markdown",
   "id": "87681662",
   "metadata": {},
   "source": [
    "Pero... ¿Qué pasa con los *strings*?\n",
    "\n",
    "Los *strings* van a tener sus métodos propios. Veamos los principales:"
   ]
  },
  {
   "cell_type": "code",
   "execution_count": null,
   "id": "1a65b337",
   "metadata": {},
   "outputs": [],
   "source": []
  },
  {
   "cell_type": "markdown",
   "id": "22abd14d",
   "metadata": {},
   "source": [
    "`upper`: devuelve el *srting* con todos sus caracteres en mayúscula"
   ]
  },
  {
   "cell_type": "code",
   "execution_count": null,
   "id": "fd806355",
   "metadata": {},
   "outputs": [],
   "source": []
  },
  {
   "cell_type": "markdown",
   "id": "5ef73517",
   "metadata": {},
   "source": [
    "`lower`: devuelve la cadena con todos sus caracteres en minúscula"
   ]
  },
  {
   "cell_type": "code",
   "execution_count": null,
   "id": "b340354b",
   "metadata": {},
   "outputs": [],
   "source": []
  },
  {
   "cell_type": "markdown",
   "id": "83dd3401",
   "metadata": {},
   "source": [
    "`capitalize`: devuelve la cadena con sus primer carácter en mayúsucula "
   ]
  },
  {
   "cell_type": "code",
   "execution_count": null,
   "id": "f7bfce3b",
   "metadata": {},
   "outputs": [],
   "source": []
  },
  {
   "cell_type": "markdown",
   "id": "4fbe313e",
   "metadata": {},
   "source": [
    "`count`: devuelve el número de veces que aparece un *substring* en el *string*"
   ]
  },
  {
   "cell_type": "code",
   "execution_count": null,
   "id": "e3ed1bc3",
   "metadata": {},
   "outputs": [],
   "source": []
  },
  {
   "cell_type": "code",
   "execution_count": null,
   "id": "fcdf75ec",
   "metadata": {},
   "outputs": [],
   "source": []
  },
  {
   "cell_type": "markdown",
   "id": "5818dff5",
   "metadata": {},
   "source": [
    "`title`: devuelve el *string* con el primer carácter de cada palabra en mayúscula"
   ]
  },
  {
   "cell_type": "code",
   "execution_count": null,
   "id": "05d24020",
   "metadata": {},
   "outputs": [],
   "source": []
  },
  {
   "cell_type": "markdown",
   "id": "c459a05c",
   "metadata": {},
   "source": [
    "`startswith`: devuelve True si el *string* empieza con el *substring* que le pasemos"
   ]
  },
  {
   "cell_type": "code",
   "execution_count": null,
   "id": "bde13abd",
   "metadata": {},
   "outputs": [],
   "source": []
  },
  {
   "cell_type": "code",
   "execution_count": null,
   "id": "0dba772f",
   "metadata": {},
   "outputs": [],
   "source": []
  },
  {
   "cell_type": "markdown",
   "id": "4a0844e9",
   "metadata": {},
   "source": [
    "`endswith`: devuelve True si el *string* acaba con el *substring* que le pasemos"
   ]
  },
  {
   "cell_type": "code",
   "execution_count": null,
   "id": "4cd5c4a4",
   "metadata": {},
   "outputs": [],
   "source": []
  },
  {
   "cell_type": "code",
   "execution_count": null,
   "id": "4775a8bf",
   "metadata": {},
   "outputs": [],
   "source": []
  },
  {
   "cell_type": "markdown",
   "id": "609f3b52",
   "metadata": {},
   "source": [
    "`split`: separa el *string* por el símbolo que especifiquemos. Por defecto espacio.\n",
    "\n",
    "📌 Nos devuelve una lista"
   ]
  },
  {
   "cell_type": "code",
   "execution_count": null,
   "id": "23b5c7aa",
   "metadata": {},
   "outputs": [],
   "source": []
  },
  {
   "cell_type": "code",
   "execution_count": null,
   "id": "0ab8c852",
   "metadata": {},
   "outputs": [],
   "source": []
  },
  {
   "cell_type": "code",
   "execution_count": null,
   "id": "3deba28e",
   "metadata": {},
   "outputs": [],
   "source": []
  },
  {
   "cell_type": "markdown",
   "id": "afc64674",
   "metadata": {},
   "source": [
    "`join`: une todos los caracteres de una cadena utilizando un caracter de unión que nosotros especifiquemos. \n",
    "\n",
    "📌 Nos devuelve un *string* "
   ]
  },
  {
   "cell_type": "code",
   "execution_count": null,
   "id": "236731d8",
   "metadata": {},
   "outputs": [],
   "source": []
  },
  {
   "cell_type": "code",
   "execution_count": null,
   "id": "1982687e",
   "metadata": {},
   "outputs": [],
   "source": []
  },
  {
   "cell_type": "markdown",
   "id": "a01aff54",
   "metadata": {},
   "source": [
    "`strip`: borra todos los espacios por delante y detrás de un *string*. Por defecto espacios"
   ]
  },
  {
   "cell_type": "code",
   "execution_count": null,
   "id": "1a6b2a29",
   "metadata": {},
   "outputs": [],
   "source": []
  },
  {
   "cell_type": "code",
   "execution_count": null,
   "id": "3d160849",
   "metadata": {},
   "outputs": [],
   "source": []
  },
  {
   "cell_type": "code",
   "execution_count": null,
   "id": "515c2767",
   "metadata": {},
   "outputs": [],
   "source": []
  },
  {
   "cell_type": "code",
   "execution_count": null,
   "id": "1d6418fb",
   "metadata": {},
   "outputs": [],
   "source": []
  },
  {
   "cell_type": "markdown",
   "id": "94753c41",
   "metadata": {},
   "source": [
    "`rstrip`: borra todos los espacio que a la derecha de nuestro *string*.  Por defecto espacio, pero al igual que el `strip` podemos indicar qué queremos eliminar"
   ]
  },
  {
   "cell_type": "code",
   "execution_count": null,
   "id": "db8a8745",
   "metadata": {},
   "outputs": [],
   "source": []
  },
  {
   "cell_type": "markdown",
   "id": "4151f372",
   "metadata": {},
   "source": [
    "`lstrip`: borra todos los espacio que a la izquierda de nuestro string. Por defecto espacio, pero al igual que el strip podemos indicar qué queremos eliminar"
   ]
  },
  {
   "cell_type": "code",
   "execution_count": null,
   "id": "12f6a250",
   "metadata": {},
   "outputs": [],
   "source": []
  },
  {
   "cell_type": "markdown",
   "id": "51ff61ed",
   "metadata": {},
   "source": [
    "`replace`: reemplaza un *substring* de un *string* pot otra"
   ]
  },
  {
   "cell_type": "code",
   "execution_count": null,
   "id": "5e0cee18",
   "metadata": {},
   "outputs": [],
   "source": []
  },
  {
   "cell_type": "markdown",
   "id": "1f90c9b5",
   "metadata": {},
   "source": [
    "**Material adicional** \n",
    "\n",
    "- [Métodos de los strings](https://docs.hektorprofe.net/python/metodos-de-las-colecciones/metodos-de-las-cadenas/)"
   ]
  }
 ],
 "metadata": {
  "kernelspec": {
   "display_name": "clase",
   "language": "python",
   "name": "clase"
  },
  "language_info": {
   "codemirror_mode": {
    "name": "ipython",
    "version": 3
   },
   "file_extension": ".py",
   "mimetype": "text/x-python",
   "name": "python",
   "nbconvert_exporter": "python",
   "pygments_lexer": "ipython3",
   "version": "3.9.12"
  },
  "toc": {
   "base_numbering": 1,
   "nav_menu": {},
   "number_sections": true,
   "sideBar": true,
   "skip_h1_title": false,
   "title_cell": "Table of Contents",
   "title_sidebar": "Contents",
   "toc_cell": true,
   "toc_position": {},
   "toc_section_display": true,
   "toc_window_display": false
  },
  "varInspector": {
   "cols": {
    "lenName": 16,
    "lenType": 16,
    "lenVar": 40
   },
   "kernels_config": {
    "python": {
     "delete_cmd_postfix": "",
     "delete_cmd_prefix": "del ",
     "library": "var_list.py",
     "varRefreshCmd": "print(var_dic_list())"
    },
    "r": {
     "delete_cmd_postfix": ") ",
     "delete_cmd_prefix": "rm(",
     "library": "var_list.r",
     "varRefreshCmd": "cat(var_dic_list()) "
    }
   },
   "types_to_exclude": [
    "module",
    "function",
    "builtin_function_or_method",
    "instance",
    "_Feature"
   ],
   "window_display": false
  }
 },
 "nbformat": 4,
 "nbformat_minor": 5
}
