{
 "cells": [
  {
   "cell_type": "markdown",
   "id": "b373bf60",
   "metadata": {
    "toc": true
   },
   "source": [
    "<h1>Table of Contents<span class=\"tocSkip\"></span></h1>\n",
    "<div class=\"toc\"><ul class=\"toc-item\"><li><span><a href=\"#Métodos-de-los-strings\" data-toc-modified-id=\"Métodos-de-los-strings-1\"><span class=\"toc-item-num\">1&nbsp;&nbsp;</span>Métodos de los strings</a></span></li></ul></div>"
   ]
  },
  {
   "cell_type": "markdown",
   "id": "a0f7ef7b",
   "metadata": {},
   "source": [
    "# Métodos de los strings"
   ]
  },
  {
   "cell_type": "markdown",
   "id": "87681662",
   "metadata": {},
   "source": [
    "Pero... ¿Qué pasa con los *strings*?\n",
    "\n",
    "Los *strings* van a tener sus métodos propios. Veamos los principales:"
   ]
  },
  {
   "cell_type": "code",
   "execution_count": 1,
   "id": "1a65b337",
   "metadata": {},
   "outputs": [],
   "source": [
    "string = 'hola mundo'"
   ]
  },
  {
   "cell_type": "code",
   "execution_count": 2,
   "id": "db3f8338",
   "metadata": {},
   "outputs": [
    {
     "name": "stdout",
     "output_type": "stream",
     "text": [
      "hola mundo\n"
     ]
    }
   ],
   "source": [
    "print(string)"
   ]
  },
  {
   "cell_type": "markdown",
   "id": "22abd14d",
   "metadata": {},
   "source": [
    "`upper`: devuelve el **string** con todos sus caracteres en mayúscula"
   ]
  },
  {
   "cell_type": "code",
   "execution_count": 3,
   "id": "fd806355",
   "metadata": {},
   "outputs": [
    {
     "data": {
      "text/plain": [
       "'HOLA MUNDO'"
      ]
     },
     "execution_count": 3,
     "metadata": {},
     "output_type": "execute_result"
    }
   ],
   "source": [
    "string.upper()"
   ]
  },
  {
   "cell_type": "markdown",
   "id": "5ef73517",
   "metadata": {},
   "source": [
    "`lower`: devuelve la cadena con todos sus caracteres en minúscula"
   ]
  },
  {
   "cell_type": "code",
   "execution_count": 5,
   "id": "b340354b",
   "metadata": {},
   "outputs": [
    {
     "data": {
      "text/plain": [
       "'hola mundo'"
      ]
     },
     "execution_count": 5,
     "metadata": {},
     "output_type": "execute_result"
    }
   ],
   "source": [
    "string.upper().lower()"
   ]
  },
  {
   "cell_type": "markdown",
   "id": "83dd3401",
   "metadata": {},
   "source": [
    "`capitalize`: devuelve la cadena con sus primer carácter en mayúsucula "
   ]
  },
  {
   "cell_type": "code",
   "execution_count": 6,
   "id": "f7bfce3b",
   "metadata": {},
   "outputs": [
    {
     "data": {
      "text/plain": [
       "'Hola mundo'"
      ]
     },
     "execution_count": 6,
     "metadata": {},
     "output_type": "execute_result"
    }
   ],
   "source": [
    "string.capitalize()"
   ]
  },
  {
   "cell_type": "markdown",
   "id": "4fbe313e",
   "metadata": {},
   "source": [
    "`count`: devuelve el número de veces que aparece un *substring* en el *string*"
   ]
  },
  {
   "cell_type": "code",
   "execution_count": 7,
   "id": "e3ed1bc3",
   "metadata": {},
   "outputs": [
    {
     "data": {
      "text/plain": [
       "1"
      ]
     },
     "execution_count": 7,
     "metadata": {},
     "output_type": "execute_result"
    }
   ],
   "source": [
    "string.count('mundo')"
   ]
  },
  {
   "cell_type": "code",
   "execution_count": 9,
   "id": "fcdf75ec",
   "metadata": {},
   "outputs": [
    {
     "data": {
      "text/plain": [
       "2"
      ]
     },
     "execution_count": 9,
     "metadata": {},
     "output_type": "execute_result"
    }
   ],
   "source": [
    "string.count('o')"
   ]
  },
  {
   "cell_type": "markdown",
   "id": "5818dff5",
   "metadata": {},
   "source": [
    "`title`: devuelve el *string* con el primer carácter de cada palabra en mayúscula"
   ]
  },
  {
   "cell_type": "code",
   "execution_count": 10,
   "id": "05d24020",
   "metadata": {},
   "outputs": [
    {
     "data": {
      "text/plain": [
       "'Hola Mundo'"
      ]
     },
     "execution_count": 10,
     "metadata": {},
     "output_type": "execute_result"
    }
   ],
   "source": [
    "string.title()"
   ]
  },
  {
   "cell_type": "code",
   "execution_count": 11,
   "id": "51a061a6",
   "metadata": {},
   "outputs": [
    {
     "data": {
      "text/plain": [
       "'Hola, Mundo'"
      ]
     },
     "execution_count": 11,
     "metadata": {},
     "output_type": "execute_result"
    }
   ],
   "source": [
    "'hola, mundo'.title()"
   ]
  },
  {
   "cell_type": "code",
   "execution_count": 12,
   "id": "50aa6dfb",
   "metadata": {},
   "outputs": [
    {
     "data": {
      "text/plain": [
       "'Holamundo'"
      ]
     },
     "execution_count": 12,
     "metadata": {},
     "output_type": "execute_result"
    }
   ],
   "source": [
    "'holamundo'.title()"
   ]
  },
  {
   "cell_type": "markdown",
   "id": "c459a05c",
   "metadata": {},
   "source": [
    "`startswith`: devuelve True si el *string* empieza con el *substring* que le pasemos"
   ]
  },
  {
   "cell_type": "code",
   "execution_count": 14,
   "id": "bde13abd",
   "metadata": {},
   "outputs": [
    {
     "data": {
      "text/plain": [
       "True"
      ]
     },
     "execution_count": 14,
     "metadata": {},
     "output_type": "execute_result"
    }
   ],
   "source": [
    "string.startswith('ho')"
   ]
  },
  {
   "cell_type": "code",
   "execution_count": 15,
   "id": "0dba772f",
   "metadata": {},
   "outputs": [
    {
     "data": {
      "text/plain": [
       "False"
      ]
     },
     "execution_count": 15,
     "metadata": {},
     "output_type": "execute_result"
    }
   ],
   "source": [
    "# ojo! Es case-sensitive\n",
    "\n",
    "string.startswith('Ho')"
   ]
  },
  {
   "cell_type": "markdown",
   "id": "4a0844e9",
   "metadata": {},
   "source": [
    "`endswith`: devuelve True si el *string* acaba con el *substring* que le pasemos"
   ]
  },
  {
   "cell_type": "code",
   "execution_count": 17,
   "id": "4cd5c4a4",
   "metadata": {},
   "outputs": [
    {
     "data": {
      "text/plain": [
       "True"
      ]
     },
     "execution_count": 17,
     "metadata": {},
     "output_type": "execute_result"
    }
   ],
   "source": [
    "string.endswith('do')"
   ]
  },
  {
   "cell_type": "code",
   "execution_count": 18,
   "id": "4775a8bf",
   "metadata": {},
   "outputs": [
    {
     "data": {
      "text/plain": [
       "False"
      ]
     },
     "execution_count": 18,
     "metadata": {},
     "output_type": "execute_result"
    }
   ],
   "source": [
    "# ojo! Es case-sensitive\n",
    "\n",
    "string.endswith('Do')"
   ]
  },
  {
   "cell_type": "markdown",
   "id": "609f3b52",
   "metadata": {},
   "source": [
    "`split`: separa el *string* por el símbolo que especifiquemos. Por defecto espacio.\n",
    "\n",
    "📌 Nos devuelve una lista"
   ]
  },
  {
   "cell_type": "code",
   "execution_count": 20,
   "id": "23b5c7aa",
   "metadata": {},
   "outputs": [
    {
     "data": {
      "text/plain": [
       "['hola', 'mundo']"
      ]
     },
     "execution_count": 20,
     "metadata": {},
     "output_type": "execute_result"
    }
   ],
   "source": [
    "string.split()"
   ]
  },
  {
   "cell_type": "code",
   "execution_count": 21,
   "id": "810aee02",
   "metadata": {},
   "outputs": [
    {
     "data": {
      "text/plain": [
       "['hola', 'mundo']"
      ]
     },
     "execution_count": 21,
     "metadata": {},
     "output_type": "execute_result"
    }
   ],
   "source": [
    "string.split(' ')"
   ]
  },
  {
   "cell_type": "code",
   "execution_count": 27,
   "id": "0ab8c852",
   "metadata": {},
   "outputs": [
    {
     "data": {
      "text/plain": [
       "['hola', 'mundo']"
      ]
     },
     "execution_count": 27,
     "metadata": {},
     "output_type": "execute_result"
    }
   ],
   "source": [
    "'hola, mundo'.split(', ')"
   ]
  },
  {
   "cell_type": "code",
   "execution_count": 28,
   "id": "3deba28e",
   "metadata": {},
   "outputs": [
    {
     "data": {
      "text/plain": [
       "['hola', 'mundo']"
      ]
     },
     "execution_count": 28,
     "metadata": {},
     "output_type": "execute_result"
    }
   ],
   "source": [
    "lista = 'hola, mundo'.split(', ')\n",
    "\n",
    "lista"
   ]
  },
  {
   "cell_type": "markdown",
   "id": "afc64674",
   "metadata": {},
   "source": [
    "`join`: une todos los caracteres de una cadena utilizando un caracter de unión que nosotros especifiquemos. \n",
    "\n",
    "📌 Nos devuelve un *string* "
   ]
  },
  {
   "cell_type": "code",
   "execution_count": 30,
   "id": "236731d8",
   "metadata": {},
   "outputs": [
    {
     "data": {
      "text/plain": [
       "'hola, mundo'"
      ]
     },
     "execution_count": 30,
     "metadata": {},
     "output_type": "execute_result"
    }
   ],
   "source": [
    "', '.join(lista)"
   ]
  },
  {
   "cell_type": "code",
   "execution_count": 31,
   "id": "1982687e",
   "metadata": {},
   "outputs": [
    {
     "data": {
      "text/plain": [
       "'hola👺mundo'"
      ]
     },
     "execution_count": 31,
     "metadata": {},
     "output_type": "execute_result"
    }
   ],
   "source": [
    "'👺'.join(lista)"
   ]
  },
  {
   "cell_type": "code",
   "execution_count": 32,
   "id": "fa318eb9",
   "metadata": {},
   "outputs": [
    {
     "ename": "TypeError",
     "evalue": "sequence item 0: expected str instance, int found",
     "output_type": "error",
     "traceback": [
      "\u001b[0;31m---------------------------------------------------------------------------\u001b[0m",
      "\u001b[0;31mTypeError\u001b[0m                                 Traceback (most recent call last)",
      "Cell \u001b[0;32mIn[32], line 1\u001b[0m\n\u001b[0;32m----> 1\u001b[0m \u001b[38;5;124;43m'\u001b[39;49m\u001b[38;5;124;43m'\u001b[39;49m\u001b[38;5;241;43m.\u001b[39;49m\u001b[43mjoin\u001b[49m\u001b[43m(\u001b[49m\u001b[43m[\u001b[49m\u001b[38;5;241;43m1\u001b[39;49m\u001b[43m,\u001b[49m\u001b[38;5;241;43m2\u001b[39;49m\u001b[43m,\u001b[49m\u001b[38;5;241;43m3\u001b[39;49m\u001b[43m,\u001b[49m\u001b[38;5;241;43m4\u001b[39;49m\u001b[43m]\u001b[49m\u001b[43m)\u001b[49m\n",
      "\u001b[0;31mTypeError\u001b[0m: sequence item 0: expected str instance, int found"
     ]
    }
   ],
   "source": [
    "''.join([1,2,3,4])"
   ]
  },
  {
   "cell_type": "markdown",
   "id": "a01aff54",
   "metadata": {},
   "source": [
    "`strip`: borra todos los espacios por delante y detrás de un *string*. Por defecto espacios"
   ]
  },
  {
   "cell_type": "code",
   "execution_count": 33,
   "id": "1a6b2a29",
   "metadata": {},
   "outputs": [],
   "source": [
    "string2 = '   hola, que tal   , hasta luegui     '"
   ]
  },
  {
   "cell_type": "code",
   "execution_count": 35,
   "id": "3d160849",
   "metadata": {},
   "outputs": [
    {
     "data": {
      "text/plain": [
       "'   hola, que tal   , hasta luegui     '"
      ]
     },
     "execution_count": 35,
     "metadata": {},
     "output_type": "execute_result"
    }
   ],
   "source": [
    "string2"
   ]
  },
  {
   "cell_type": "code",
   "execution_count": 36,
   "id": "079f1bc1",
   "metadata": {},
   "outputs": [
    {
     "data": {
      "text/plain": [
       "'hola, que tal   , hasta luegui'"
      ]
     },
     "execution_count": 36,
     "metadata": {},
     "output_type": "execute_result"
    }
   ],
   "source": [
    "string2.strip()   # por defecto son espacios, se quitan a ambos lados"
   ]
  },
  {
   "cell_type": "code",
   "execution_count": 37,
   "id": "515c2767",
   "metadata": {},
   "outputs": [
    {
     "data": {
      "text/plain": [
       "'   hola, que tal   , hasta luegui     '"
      ]
     },
     "execution_count": 37,
     "metadata": {},
     "output_type": "execute_result"
    }
   ],
   "source": [
    "# podemos indicar el carácter a borrar\n",
    "\n",
    "string2.strip('-')"
   ]
  },
  {
   "cell_type": "code",
   "execution_count": 49,
   "id": "d92872ab",
   "metadata": {},
   "outputs": [
    {
     "data": {
      "text/plain": [
       "'hola, que tal, hasta luegui'"
      ]
     },
     "execution_count": 49,
     "metadata": {},
     "output_type": "execute_result"
    }
   ],
   "source": [
    "'-----hola, que tal, hasta luegui-----'.strip('-')"
   ]
  },
  {
   "cell_type": "code",
   "execution_count": 40,
   "id": "1d6418fb",
   "metadata": {},
   "outputs": [
    {
     "data": {
      "text/plain": [
       "'hola, que tal   , hasta luegui'"
      ]
     },
     "execution_count": 40,
     "metadata": {},
     "output_type": "execute_result"
    }
   ],
   "source": [
    "# podemos encadenar todos los métodos que queramos\n",
    "string2.strip('-').strip()"
   ]
  },
  {
   "cell_type": "markdown",
   "id": "94753c41",
   "metadata": {},
   "source": [
    "`rstrip`: borra todos los espacio que a la derecha de nuestro *string*.  Por defecto espacio, pero al igual que el `strip` podemos indicar qué queremos eliminar"
   ]
  },
  {
   "cell_type": "code",
   "execution_count": 41,
   "id": "db8a8745",
   "metadata": {},
   "outputs": [
    {
     "data": {
      "text/plain": [
       "'   hola, que tal   , hasta luegui'"
      ]
     },
     "execution_count": 41,
     "metadata": {},
     "output_type": "execute_result"
    }
   ],
   "source": [
    "string2.rstrip()"
   ]
  },
  {
   "cell_type": "markdown",
   "id": "4151f372",
   "metadata": {},
   "source": [
    "`lstrip`: borra todos los espacio que a la izquierda de nuestro string. Por defecto espacio, pero al igual que el strip podemos indicar qué queremos eliminar"
   ]
  },
  {
   "cell_type": "code",
   "execution_count": 43,
   "id": "12f6a250",
   "metadata": {},
   "outputs": [
    {
     "data": {
      "text/plain": [
       "'   hola, que tal   , hasta luegui     '"
      ]
     },
     "execution_count": 43,
     "metadata": {},
     "output_type": "execute_result"
    }
   ],
   "source": [
    "string2.lstrip('-')"
   ]
  },
  {
   "cell_type": "markdown",
   "id": "51ff61ed",
   "metadata": {},
   "source": [
    "`replace`: reemplaza un *substring* de un *string* pot otra"
   ]
  },
  {
   "cell_type": "code",
   "execution_count": 46,
   "id": "5e0cee18",
   "metadata": {},
   "outputs": [
    {
     "data": {
      "text/plain": [
       "'hOla mundO'"
      ]
     },
     "execution_count": 46,
     "metadata": {},
     "output_type": "execute_result"
    }
   ],
   "source": [
    "string.replace('o', 'O')    # primero lo que hay, despues lo que quieres"
   ]
  },
  {
   "cell_type": "code",
   "execution_count": 48,
   "id": "c92d4b04",
   "metadata": {},
   "outputs": [
    {
     "data": {
      "text/plain": [
       "'hola_que_tal________hola_que_pasa_que_tal'"
      ]
     },
     "execution_count": 48,
     "metadata": {},
     "output_type": "execute_result"
    }
   ],
   "source": [
    "'hola que tal        hola que pasa que tal'.replace(' ', '_')"
   ]
  },
  {
   "cell_type": "code",
   "execution_count": 53,
   "id": "a2154abf",
   "metadata": {},
   "outputs": [
    {
     "data": {
      "text/plain": [
       "'hl u'"
      ]
     },
     "execution_count": 53,
     "metadata": {},
     "output_type": "execute_result"
    }
   ],
   "source": [
    "string[0:8:2]  # la string es un iterable, se puede acceder por indice y se puede buclear"
   ]
  },
  {
   "cell_type": "code",
   "execution_count": 56,
   "id": "aa84d91d",
   "metadata": {},
   "outputs": [
    {
     "data": {
      "text/plain": [
       "'['"
      ]
     },
     "execution_count": 56,
     "metadata": {},
     "output_type": "execute_result"
    }
   ],
   "source": [
    "lista = [1,2,3,4]\n",
    "\n",
    "str(lista)[0]"
   ]
  },
  {
   "cell_type": "code",
   "execution_count": 59,
   "id": "7e6d4c37",
   "metadata": {},
   "outputs": [
    {
     "data": {
      "text/plain": [
       "['[', '1', ',', ' ', '2', ',', ' ', '3', ',', ' ', '4', ']']"
      ]
     },
     "execution_count": 59,
     "metadata": {},
     "output_type": "execute_result"
    }
   ],
   "source": [
    "list(str(lista))"
   ]
  },
  {
   "cell_type": "code",
   "execution_count": 57,
   "id": "27505cad",
   "metadata": {},
   "outputs": [
    {
     "data": {
      "text/plain": [
       "list"
      ]
     },
     "execution_count": 57,
     "metadata": {},
     "output_type": "execute_result"
    }
   ],
   "source": [
    "type(lista)"
   ]
  },
  {
   "cell_type": "code",
   "execution_count": 58,
   "id": "0efce7bd",
   "metadata": {},
   "outputs": [
    {
     "data": {
      "text/plain": [
       "str"
      ]
     },
     "execution_count": 58,
     "metadata": {},
     "output_type": "execute_result"
    }
   ],
   "source": [
    "type(str(lista))"
   ]
  },
  {
   "cell_type": "markdown",
   "id": "1f90c9b5",
   "metadata": {},
   "source": [
    "**Material adicional** \n",
    "\n",
    "- [Métodos de los strings](https://docs.hektorprofe.net/python/metodos-de-las-colecciones/metodos-de-las-cadenas/)"
   ]
  }
 ],
 "metadata": {
  "kernelspec": {
   "display_name": "clase",
   "language": "python",
   "name": "clase"
  },
  "language_info": {
   "codemirror_mode": {
    "name": "ipython",
    "version": 3
   },
   "file_extension": ".py",
   "mimetype": "text/x-python",
   "name": "python",
   "nbconvert_exporter": "python",
   "pygments_lexer": "ipython3",
   "version": "3.9.12"
  },
  "toc": {
   "base_numbering": 1,
   "nav_menu": {},
   "number_sections": true,
   "sideBar": true,
   "skip_h1_title": false,
   "title_cell": "Table of Contents",
   "title_sidebar": "Contents",
   "toc_cell": true,
   "toc_position": {},
   "toc_section_display": true,
   "toc_window_display": false
  },
  "varInspector": {
   "cols": {
    "lenName": 16,
    "lenType": 16,
    "lenVar": 40
   },
   "kernels_config": {
    "python": {
     "delete_cmd_postfix": "",
     "delete_cmd_prefix": "del ",
     "library": "var_list.py",
     "varRefreshCmd": "print(var_dic_list())"
    },
    "r": {
     "delete_cmd_postfix": ") ",
     "delete_cmd_prefix": "rm(",
     "library": "var_list.r",
     "varRefreshCmd": "cat(var_dic_list()) "
    }
   },
   "types_to_exclude": [
    "module",
    "function",
    "builtin_function_or_method",
    "instance",
    "_Feature"
   ],
   "window_display": false
  }
 },
 "nbformat": 4,
 "nbformat_minor": 5
}
