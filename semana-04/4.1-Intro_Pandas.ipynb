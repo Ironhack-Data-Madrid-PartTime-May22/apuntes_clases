{
 "cells": [
  {
   "cell_type": "markdown",
   "id": "80a9c42f",
   "metadata": {
    "toc": true
   },
   "source": [
    "<h1>Table of Contents<span class=\"tocSkip\"></span></h1>\n",
    "<div class=\"toc\"><ul class=\"toc-item\"><li><span><a href=\"#Intro-Pandas\" data-toc-modified-id=\"Intro-Pandas-1\"><span class=\"toc-item-num\">1&nbsp;&nbsp;</span>Intro Pandas</a></span><ul class=\"toc-item\"><li><span><a href=\"#Antes-de-empezar-...\" data-toc-modified-id=\"Antes-de-empezar-...-1.1\"><span class=\"toc-item-num\">1.1&nbsp;&nbsp;</span>Antes de empezar ...</a></span></li></ul></li><li><span><a href=\"#Series\" data-toc-modified-id=\"Series-2\"><span class=\"toc-item-num\">2&nbsp;&nbsp;</span>Series</a></span><ul class=\"toc-item\"><li><span><a href=\"#¿Qué-es-una-Serie?\" data-toc-modified-id=\"¿Qué-es-una-Serie?-2.1\"><span class=\"toc-item-num\">2.1&nbsp;&nbsp;</span>¿Qué es una Serie?</a></span></li><li><span><a href=\"#Creación-de-Series\" data-toc-modified-id=\"Creación-de-Series-2.2\"><span class=\"toc-item-num\">2.2&nbsp;&nbsp;</span>Creación de Series</a></span></li><li><span><a href=\"#Propiedades-de-las-Series\" data-toc-modified-id=\"Propiedades-de-las-Series-2.3\"><span class=\"toc-item-num\">2.3&nbsp;&nbsp;</span>Propiedades de las Series</a></span></li></ul></li><li><span><a href=\"#Dataframes\" data-toc-modified-id=\"Dataframes-3\"><span class=\"toc-item-num\">3&nbsp;&nbsp;</span>Dataframes</a></span><ul class=\"toc-item\"><li><span><a href=\"#Creación-de-dataframes\" data-toc-modified-id=\"Creación-de-dataframes-3.1\"><span class=\"toc-item-num\">3.1&nbsp;&nbsp;</span>Creación de dataframes</a></span></li><li><span><a href=\"#Cargar-ficheros\" data-toc-modified-id=\"Cargar-ficheros-3.2\"><span class=\"toc-item-num\">3.2&nbsp;&nbsp;</span>Cargar ficheros</a></span></li><li><span><a href=\"#Análisis-exploratorio\" data-toc-modified-id=\"Análisis-exploratorio-3.3\"><span class=\"toc-item-num\">3.3&nbsp;&nbsp;</span>Análisis exploratorio</a></span></li><li><span><a href=\"#Manipulación-básica\" data-toc-modified-id=\"Manipulación-básica-3.4\"><span class=\"toc-item-num\">3.4&nbsp;&nbsp;</span>Manipulación básica</a></span><ul class=\"toc-item\"><li><span><a href=\"#Seleccionamos-una-o-varias-columnas.\" data-toc-modified-id=\"Seleccionamos-una-o-varias-columnas.-3.4.1\"><span class=\"toc-item-num\">3.4.1&nbsp;&nbsp;</span>Seleccionamos una o varias columnas.</a></span></li><li><span><a href=\"#Eliminamos-columnas-o-filas\" data-toc-modified-id=\"Eliminamos-columnas-o-filas-3.4.2\"><span class=\"toc-item-num\">3.4.2&nbsp;&nbsp;</span>Eliminamos columnas o filas</a></span></li><li><span><a href=\"#Creamos-una-columna-nueva\" data-toc-modified-id=\"Creamos-una-columna-nueva-3.4.3\"><span class=\"toc-item-num\">3.4.3&nbsp;&nbsp;</span>Creamos una columna nueva</a></span></li><li><span><a href=\"#Renombramos-columnas\" data-toc-modified-id=\"Renombramos-columnas-3.4.4\"><span class=\"toc-item-num\">3.4.4&nbsp;&nbsp;</span>Renombramos columnas</a></span></li><li><span><a href=\"#Filtrado\" data-toc-modified-id=\"Filtrado-3.4.5\"><span class=\"toc-item-num\">3.4.5&nbsp;&nbsp;</span>Filtrado</a></span></li><li><span><a href=\"#reset-index-y-set_index\" data-toc-modified-id=\"reset-index-y-set_index-3.4.6\"><span class=\"toc-item-num\">3.4.6&nbsp;&nbsp;</span><code>reset index</code> y <code>set_index</code></a></span></li></ul></li></ul></li><li><span><a href=\"#Operaciones-básicas\" data-toc-modified-id=\"Operaciones-básicas-4\"><span class=\"toc-item-num\">4&nbsp;&nbsp;</span>Operaciones básicas</a></span><ul class=\"toc-item\"><li><span><a href=\"#Cálculo-de-máximo,-mínimo,-media,-desviación-y-moda\" data-toc-modified-id=\"Cálculo-de-máximo,-mínimo,-media,-desviación-y-moda-4.1\"><span class=\"toc-item-num\">4.1&nbsp;&nbsp;</span>Cálculo de máximo, mínimo, media, desviación y moda</a></span></li></ul></li></ul></div>"
   ]
  },
  {
   "cell_type": "markdown",
   "id": "c7586a06",
   "metadata": {},
   "source": [
    "# Intro Pandas "
   ]
  },
  {
   "cell_type": "markdown",
   "id": "cf926564",
   "metadata": {},
   "source": [
    "Pandas es una librería de Python especializada en el manejo y análisis de estructuras de datos\n",
    "\n",
    "Las principales **características** de esta librería son:\n",
    "\n",
    "- Define nuevas estructuras de datos basadas en los arrays de la librería NumPy pero con nuevas funcionalidades.\n",
    "\n",
    "\n",
    "- Permite leer y escribir fácilmente ficheros en formato CSV, Excel y bases de datos SQL entre otros. \n",
    "\n",
    "\n",
    "- Permite acceder a los datos mediante índices o nombres para filas y columnas.\n",
    "\n",
    "\n",
    "- Ofrece métodos para reordenar, dividir y combinar conjuntos de datos.\n",
    "\n",
    "\n",
    "- Permite trabajar con series temporales.\n",
    "\n",
    "\n",
    "- Realiza todas estas operaciones de manera muy eficiente.\n",
    "\n",
    "\n",
    "\n",
    "\n",
    "Pandas tiene tres estructuras de datos diferentes:\n",
    "\n",
    "- `Series`:  estructuras en una dimensión.\n",
    "\n",
    "\n",
    "- `DataFrame`: estructura de dos dimensiones (tablas)\n",
    "\n",
    "\n",
    "- `Panel`: estructura en tres dimensiones (cubos)\n",
    "\n",
    "\n",
    "Todas estas estructuras se constuyen a partir de *arrays* de la librería NumPy, añadiendo nuevas funcionalidades."
   ]
  },
  {
   "cell_type": "markdown",
   "id": "ba35f555",
   "metadata": {},
   "source": [
    "## Antes de empezar ...\n",
    "\n",
    "Tenemos que instalar e importar pandas:\n",
    "\n",
    "- Instalar: \n",
    "\n",
    "```\n",
    "pip3 install pandas\n",
    "```\n",
    "\n",
    "    Si no funciona\n",
    "\n",
    "```\n",
    "pip install pandas\n",
    "```\n",
    "\n",
    "- Importar: \n",
    "\n",
    "```python\n",
    "import pandas as pd\n",
    "```"
   ]
  },
  {
   "cell_type": "code",
   "execution_count": null,
   "id": "dbcf787b",
   "metadata": {},
   "outputs": [],
   "source": []
  },
  {
   "cell_type": "markdown",
   "id": "57d810fd",
   "metadata": {},
   "source": [
    "# Series "
   ]
  },
  {
   "cell_type": "markdown",
   "id": "25f8aad6",
   "metadata": {},
   "source": [
    "## ¿Qué es una Serie?  "
   ]
  },
  {
   "attachments": {
    "image.png": {
     "image/png": "[encoded data removed]"
    }
   },
   "cell_type": "markdown",
   "id": "e11f9f2a",
   "metadata": {},
   "source": [
    "Es la estructura más simple que proporciona Pandas, y se asemeja a una columna en una hoja de cálculo de Excel.\n",
    "\n",
    "Son estructuras unidimensionales que contienen un *array* de datos (de cualquier tipo soportado por NumPy). Un objeto Series tiene dos componentes principales:\n",
    "\n",
    "- `índice`: contiene valores únicos y, por lo general ordenados. Se usan para acceder a valores individuales de los datos.\n",
    "\n",
    "\n",
    "- `vector`: contiene los datos.\n",
    "\n",
    "![image.png](attachment:image.png)\n",
    "\n"
   ]
  },
  {
   "cell_type": "markdown",
   "id": "f8019380",
   "metadata": {},
   "source": [
    "## Creación de Series "
   ]
  },
  {
   "cell_type": "markdown",
   "id": "7eadf477",
   "metadata": {},
   "source": [
    "Para crear Series lo podemos hacer desde distintos tipos de datos. Algunos de ellos son: \n",
    "\n",
    "- A partir de un *array*. Recordemos que las Series son unidimensionales por lo que lo podremos hacer solo a partir de *arrays* unidimensionales. \n",
    "\n",
    "\n",
    "- A partir de listas\n",
    "\n",
    "\n",
    "- A partir de diccionarios"
   ]
  },
  {
   "cell_type": "markdown",
   "id": "a0a70ee6",
   "metadata": {},
   "source": [
    "1️⃣ A partir de un *array*"
   ]
  },
  {
   "cell_type": "code",
   "execution_count": null,
   "id": "84ed6032",
   "metadata": {},
   "outputs": [],
   "source": []
  },
  {
   "cell_type": "code",
   "execution_count": null,
   "id": "ae2f76d7",
   "metadata": {},
   "outputs": [],
   "source": []
  },
  {
   "cell_type": "code",
   "execution_count": null,
   "id": "829bdff2",
   "metadata": {},
   "outputs": [],
   "source": []
  },
  {
   "cell_type": "code",
   "execution_count": null,
   "id": "e264c20f",
   "metadata": {},
   "outputs": [],
   "source": []
  },
  {
   "cell_type": "code",
   "execution_count": null,
   "id": "f0820bef",
   "metadata": {},
   "outputs": [],
   "source": []
  },
  {
   "cell_type": "markdown",
   "id": "6ac1b8d9",
   "metadata": {},
   "source": [
    "📌 Si nos fijamos el método pd.Series nos va a generar automáticamente el `índice` y lo crea con números consecutivos, empezando por el 0. Sin embargo, también le podemos pasar los índices que queramos usando el parámetro index"
   ]
  },
  {
   "cell_type": "code",
   "execution_count": null,
   "id": "e109a556",
   "metadata": {},
   "outputs": [],
   "source": []
  },
  {
   "cell_type": "markdown",
   "id": "6aeb653c",
   "metadata": {},
   "source": [
    "📌 **NOTA** Pero cuidado! **NO** podremos crear una serie de un *array* bi o multidimensional, ya que las Series son unidimensionales!"
   ]
  },
  {
   "cell_type": "code",
   "execution_count": null,
   "id": "841d1a91",
   "metadata": {},
   "outputs": [],
   "source": []
  },
  {
   "cell_type": "code",
   "execution_count": null,
   "id": "18cb9eb3",
   "metadata": {},
   "outputs": [],
   "source": []
  },
  {
   "cell_type": "code",
   "execution_count": null,
   "id": "ba4d92ef",
   "metadata": {},
   "outputs": [],
   "source": []
  },
  {
   "cell_type": "markdown",
   "id": "e80dbb2f",
   "metadata": {},
   "source": [
    "2️⃣A partir de una lista"
   ]
  },
  {
   "cell_type": "code",
   "execution_count": null,
   "id": "cc65168f",
   "metadata": {},
   "outputs": [],
   "source": []
  },
  {
   "cell_type": "code",
   "execution_count": null,
   "id": "3e870e34",
   "metadata": {},
   "outputs": [],
   "source": []
  },
  {
   "cell_type": "code",
   "execution_count": null,
   "id": "9fcc7791",
   "metadata": {},
   "outputs": [],
   "source": []
  },
  {
   "cell_type": "code",
   "execution_count": null,
   "id": "bb6f5d5a",
   "metadata": {},
   "outputs": [],
   "source": []
  },
  {
   "cell_type": "code",
   "execution_count": null,
   "id": "ccd4790d",
   "metadata": {},
   "outputs": [],
   "source": []
  },
  {
   "cell_type": "markdown",
   "id": "a41a1516",
   "metadata": {},
   "source": [
    "3️⃣ A partir de diccionarios "
   ]
  },
  {
   "cell_type": "code",
   "execution_count": null,
   "id": "85036e90",
   "metadata": {},
   "outputs": [],
   "source": []
  },
  {
   "cell_type": "code",
   "execution_count": null,
   "id": "901c21d5",
   "metadata": {},
   "outputs": [],
   "source": []
  },
  {
   "cell_type": "code",
   "execution_count": null,
   "id": "2cd98d3c",
   "metadata": {},
   "outputs": [],
   "source": []
  },
  {
   "cell_type": "markdown",
   "id": "df5d14f9",
   "metadata": {},
   "source": [
    "## Propiedades de las Series "
   ]
  },
  {
   "cell_type": "markdown",
   "id": "3a818f84",
   "metadata": {},
   "source": [
    "1️⃣ `index` y `values`: nos devuelve los índices y los valores de nuestra Serie respectivamente."
   ]
  },
  {
   "cell_type": "code",
   "execution_count": null,
   "id": "6065c1fb",
   "metadata": {},
   "outputs": [],
   "source": []
  },
  {
   "cell_type": "code",
   "execution_count": null,
   "id": "243b0a31",
   "metadata": {},
   "outputs": [],
   "source": []
  },
  {
   "cell_type": "markdown",
   "id": "7b66e03a",
   "metadata": {},
   "source": [
    "2️⃣ `shape`: nos devuelve la forma de nuestra Serie"
   ]
  },
  {
   "cell_type": "code",
   "execution_count": null,
   "id": "26cdac5b",
   "metadata": {},
   "outputs": [],
   "source": []
  },
  {
   "cell_type": "markdown",
   "id": "09485db3",
   "metadata": {},
   "source": [
    "3️⃣ `size`: nos devuelve el número de elementos de nuestra Serie"
   ]
  },
  {
   "cell_type": "code",
   "execution_count": null,
   "id": "c6b8aeda",
   "metadata": {},
   "outputs": [],
   "source": []
  },
  {
   "cell_type": "markdown",
   "id": "6b7cc154",
   "metadata": {},
   "source": [
    "# Dataframes"
   ]
  },
  {
   "cell_type": "markdown",
   "id": "29b3a1a1",
   "metadata": {},
   "source": [
    "Un DataFrame es una estructura de datos con dos dimensiones en la cual se puede guardar datos de distintos tipos (strings, enteros, decimales, factores, etc.).\n",
    "\n",
    "Es similar a una hoja de cálculo o una tabla de SQL.\n",
    "\n",
    "Al igual que en las Series, siempre vamos a tener índice que empieza por 0. La diferencia con las Series es que en el DataFrame tenemos más dimensiones y que, por lo tanto, podremos tener más columnas con valores.\n",
    "\n"
   ]
  },
  {
   "cell_type": "markdown",
   "id": "46e76eed",
   "metadata": {},
   "source": [
    "## Creación de dataframes "
   ]
  },
  {
   "cell_type": "markdown",
   "id": "e7b4f54b",
   "metadata": {},
   "source": [
    "\n",
    "Para crear DataFrames usaremos el constructor pd.DataFrame(), el cual va a aceptar 3 parámetros principales:\n",
    "\n",
    "- `data`: estructura de datos que queremos convertir a dataframe, puiede ser un array, un diccionario, una lista, etc.\n",
    "\n",
    "\n",
    "- `index`: ìndice a aplicar a las filas. Si no se especifica, se asiganrá uno por defecto formado por números enteros entre 0 y n-1, siendo n el numero de filas del dataframe.\n",
    "\n",
    "\n",
    "- `column`: nombre que le queremos aplicar a las columnas. Si no añadimos nada se asignará uno automático formado por números enteros entre 0 y n-1 siendo n el número de columnas.\n",
    "\n",
    "\n",
    "Algunas estructuras a partir de las cuales es posible crear dataframes:\n",
    "\n",
    "- Diccionarios\n",
    "\n",
    "\n",
    "- NumPy Array\n",
    "\n",
    "\n",
    "- Lista de listas"
   ]
  },
  {
   "cell_type": "markdown",
   "id": "0c0854ba",
   "metadata": {},
   "source": [
    "1️⃣ A partir de un diccionario"
   ]
  },
  {
   "cell_type": "code",
   "execution_count": null,
   "id": "7f8b5686",
   "metadata": {},
   "outputs": [],
   "source": []
  },
  {
   "cell_type": "code",
   "execution_count": null,
   "id": "b95e5cf0",
   "metadata": {},
   "outputs": [],
   "source": []
  },
  {
   "cell_type": "markdown",
   "id": "89a9a6cc",
   "metadata": {},
   "source": [
    "2️⃣A partir de un *array* \n",
    "\n",
    "🚨 No podrá ser de más de dos dimensiones"
   ]
  },
  {
   "cell_type": "code",
   "execution_count": null,
   "id": "a53b5174",
   "metadata": {},
   "outputs": [],
   "source": []
  },
  {
   "cell_type": "code",
   "execution_count": null,
   "id": "8411d814",
   "metadata": {},
   "outputs": [],
   "source": []
  },
  {
   "cell_type": "code",
   "execution_count": null,
   "id": "69471d42",
   "metadata": {},
   "outputs": [],
   "source": []
  },
  {
   "cell_type": "markdown",
   "id": "acb7bbe0",
   "metadata": {},
   "source": [
    "3️⃣A partir de una lista o lista de listas"
   ]
  },
  {
   "cell_type": "code",
   "execution_count": null,
   "id": "73bc9530",
   "metadata": {},
   "outputs": [],
   "source": []
  },
  {
   "cell_type": "code",
   "execution_count": null,
   "id": "ad22a2b2",
   "metadata": {},
   "outputs": [],
   "source": []
  },
  {
   "cell_type": "code",
   "execution_count": null,
   "id": "55eaf0b9",
   "metadata": {},
   "outputs": [],
   "source": []
  },
  {
   "cell_type": "code",
   "execution_count": null,
   "id": "cbd3b235",
   "metadata": {},
   "outputs": [],
   "source": []
  },
  {
   "cell_type": "markdown",
   "id": "b894d5e3",
   "metadata": {},
   "source": [
    "## Cargar ficheros "
   ]
  },
  {
   "cell_type": "markdown",
   "id": "495d5b8f",
   "metadata": {},
   "source": [
    "Podemos cargar datos desde distintos tipos de ficheros, los que más usaremos son: \n",
    "\n",
    "- csv\n",
    "\n",
    "\n",
    "- xls\n",
    "\n",
    "\n",
    "- xlsx\n",
    "\n",
    "\n",
    "- json\n",
    "\n",
    "\n",
    "- txt"
   ]
  },
  {
   "cell_type": "markdown",
   "id": "1838036b",
   "metadata": {},
   "source": [
    "1️⃣ `csv`"
   ]
  },
  {
   "cell_type": "code",
   "execution_count": null,
   "id": "6e3e95ec",
   "metadata": {},
   "outputs": [],
   "source": []
  },
  {
   "cell_type": "markdown",
   "id": "60a63491",
   "metadata": {},
   "source": [
    "2️⃣`json`"
   ]
  },
  {
   "cell_type": "code",
   "execution_count": null,
   "id": "91e2fcfc",
   "metadata": {},
   "outputs": [],
   "source": []
  },
  {
   "cell_type": "markdown",
   "id": "69bd7949",
   "metadata": {},
   "source": [
    "3️⃣`xlsx`"
   ]
  },
  {
   "cell_type": "code",
   "execution_count": null,
   "id": "0e235e0d",
   "metadata": {},
   "outputs": [],
   "source": []
  },
  {
   "cell_type": "markdown",
   "id": "b9677b79",
   "metadata": {},
   "source": [
    "4️⃣ `xls`"
   ]
  },
  {
   "cell_type": "code",
   "execution_count": null,
   "id": "8e343de9",
   "metadata": {},
   "outputs": [],
   "source": []
  },
  {
   "cell_type": "markdown",
   "id": "04672c52",
   "metadata": {},
   "source": [
    "5️⃣`txt`"
   ]
  },
  {
   "cell_type": "code",
   "execution_count": null,
   "id": "bf4d655b",
   "metadata": {},
   "outputs": [],
   "source": []
  },
  {
   "cell_type": "markdown",
   "id": "b8c9285b",
   "metadata": {},
   "source": [
    "## Análisis exploratorio"
   ]
  },
  {
   "cell_type": "markdown",
   "id": "39cce6d1",
   "metadata": {},
   "source": [
    "**¿Qué es lo que veremos en esta parte del jupyter?**\n",
    "\n",
    "> Los principales métodos que vamos a usar en nuestro día a día como analistas de datos cuando queramos familiarizarnos con la información básica de nuestro dataframe"
   ]
  },
  {
   "cell_type": "markdown",
   "id": "612fa0af",
   "metadata": {},
   "source": [
    "En este apartado trabajaremos con el csv de cosmeticos (df_csv). Recordemos como es y las columnas que tiene: \n",
    "\n",
    "- `CDPHId`: El número de identificación interno del Departamento de Salud Pública de California (CDPH) para el producto. El CDPHId puede aparecer más de una vez si un producto tiene más de un Color/Olor/Sabor, más de una Categoría, o más de un Nombre Químico/Número CAS reportado.\n",
    "\n",
    "\n",
    "- `ProductName`: nombre del producto introducido por el fabricante, el envasador y/o el distribuidor. \n",
    "\n",
    "\n",
    "- `CSFId`: número de identificación interna del CDPH para un color, aroma o sabor.\n",
    "\n",
    "\n",
    "- `CSF`: color, aroma y/o sabor introducido por el fabricante, envasador y/o distribuidor. \n",
    "\n",
    "\n",
    "- `CompanyId`: número de identificación interna del CDPH para la empresa.\n",
    "\n",
    "\n",
    "- `CompanyName`: nombre de la empresa introducido por el fabricante, envasador y/o distribuidor.\n",
    "\n",
    "\n",
    "- `BrandName`: nombre de la marca introducido por el fabricante, envasador y/o distribuidor.\n",
    "\n",
    "\n",
    "- `PrimaryCategoryId`: número de identificación interna del CDPH para la categoría.\n",
    "\n",
    "\n",
    "- `PrimaryCategory`:  tipo de producto (13 categorías primarias: Productos para bebés, Productos para el baño, Fragancias, Productos para el cuidado del cabello (sin coloración), Productos para la coloración del cabello, Productos para el maquillaje (no permanente), Productos para las uñas, Productos para la higiene bucal, Productos para el cuidado personal, Productos para el afeitado, Productos para el cuidado de la piel, Productos relacionados con el sol, Tatuajes y maquillaje permanente). \n",
    "\n",
    "- `SubCategoryId`: número de identificación interna del CDPH para la subcategoría.\n",
    "\n",
    "\n",
    "- `SubCategory`: tipo de producto dentro de una de las 13 categorías primarias. \n",
    "\n",
    "\n",
    "- `CASId`: número de identificación interna del CDPH para la sustancia química.\n",
    "\n",
    "\n",
    "- `CasNumber`: número de identificación de la sustancia química (número de registro del Chemical Abstracts Service asignado a una sustancia química específica). Tenga en cuenta que diferentes formas de una sustancia química pueden tener diferentes números CAS. Lo que aparece aquí es el número CAS seleccionado por el fabricante, envasador y/o distribuidor.\n",
    "\n",
    "\n",
    "- `ChemicalId`: número de identificación interna del CDPH para el registro de esta sustancia química específica de este producto.\n",
    "\n",
    "\n",
    "- `ChemicalName`: nombre de la sustancia química en el producto cosmético. Tenga en cuenta que las sustancias químicas pueden tener más de un nombre químico. Lo que aparece aquí es el nombre químico seleccionado por el fabricante, envasador y/o distribuidor. \n",
    "\n",
    "\n",
    "- `InitialDateReported`: fecha en la que el perfil del producto fue creado por el fabricante, envasador y/o distribuidor, es decir, la fecha en la que el producto fue reportado por primera vez al CDPH.\n",
    "\n",
    "\n",
    "- `MostRecentDateReported`:  fecha en que el fabricante, el envasador o el distribuidor modificaron por última vez el perfil del producto. El perfil del producto contiene toda la información sobre el producto, a excepción de la información química, que se almacena por separado. Este campo tiene por defecto el valor InitialDateReported.\n",
    "\n",
    "\n",
    "- `DiscontinuedDate`: fecha en la que se interrumpió el producto.\n",
    "\n",
    "\n",
    "- `ChemicalCreatedAt`:  fecha en que esta sustancia química fue reportada por primera vez al CDPH para este producto.\n",
    "\n",
    "\n",
    "- `ChemicalUpdatedAt`: fecha en que este informe químico fue modificado por última vez por el fabricante, envasador y/o distribuidor. Este campo es único en el perfil del producto. Este campo tiene por defecto el valor ChemicalCreatedAt.\n",
    "\n",
    "\n",
    "- `ChemicalDateRemoved`: fecha en que la sustancia química fue retirada del producto, por ejemplo, por reformulación.\n",
    "\n",
    "\n",
    "- `ChemicalCount`: número total de sustancias químicas actuales notificadas para este producto. Este número no incluye las sustancias químicas que se han eliminado de un producto. \n"
   ]
  },
  {
   "cell_type": "code",
   "execution_count": null,
   "id": "f0abab1f",
   "metadata": {},
   "outputs": [],
   "source": []
  },
  {
   "cell_type": "markdown",
   "id": "6276c20d",
   "metadata": {},
   "source": [
    "Si nos fijamos no podemos ver el total de las columnas 😔. Esto lo podemos solucionar con la siguiente línea de código:"
   ]
  },
  {
   "cell_type": "code",
   "execution_count": null,
   "id": "9c9db311",
   "metadata": {},
   "outputs": [],
   "source": []
  },
  {
   "cell_type": "code",
   "execution_count": null,
   "id": "41b24651",
   "metadata": {},
   "outputs": [],
   "source": []
  },
  {
   "cell_type": "code",
   "execution_count": null,
   "id": "551b3189",
   "metadata": {},
   "outputs": [],
   "source": []
  },
  {
   "cell_type": "code",
   "execution_count": null,
   "id": "21d098fa",
   "metadata": {},
   "outputs": [],
   "source": []
  },
  {
   "cell_type": "code",
   "execution_count": null,
   "id": "a9657c29",
   "metadata": {},
   "outputs": [],
   "source": []
  },
  {
   "cell_type": "code",
   "execution_count": null,
   "id": "e51db069",
   "metadata": {},
   "outputs": [],
   "source": []
  },
  {
   "cell_type": "code",
   "execution_count": null,
   "id": "cfc3e167",
   "metadata": {},
   "outputs": [],
   "source": []
  },
  {
   "cell_type": "markdown",
   "id": "90232449",
   "metadata": {},
   "source": [
    "- `dtypes`: nos devuelve qué tipos de datos tenemos por columna\n"
   ]
  },
  {
   "cell_type": "code",
   "execution_count": null,
   "id": "3cada76e",
   "metadata": {},
   "outputs": [],
   "source": []
  },
  {
   "cell_type": "code",
   "execution_count": null,
   "id": "593f51d6",
   "metadata": {},
   "outputs": [],
   "source": []
  },
  {
   "cell_type": "markdown",
   "id": "c32af497",
   "metadata": {},
   "source": [
    "- `astype`: convierte el tipo de una columna al especificado."
   ]
  },
  {
   "cell_type": "code",
   "execution_count": null,
   "id": "a717fb68",
   "metadata": {},
   "outputs": [],
   "source": []
  },
  {
   "cell_type": "code",
   "execution_count": null,
   "id": "9dd8d67d",
   "metadata": {},
   "outputs": [],
   "source": []
  },
  {
   "cell_type": "code",
   "execution_count": null,
   "id": "cbb20372",
   "metadata": {},
   "outputs": [],
   "source": []
  },
  {
   "cell_type": "markdown",
   "id": "284af5b9",
   "metadata": {},
   "source": [
    "- `info`: nos da información general sobre el dataframe. Nombre de las columnas número de valores nulos y tipo de dato. \n"
   ]
  },
  {
   "cell_type": "code",
   "execution_count": null,
   "id": "29a78adb",
   "metadata": {},
   "outputs": [],
   "source": []
  },
  {
   "cell_type": "code",
   "execution_count": null,
   "id": "5a7733a2",
   "metadata": {},
   "outputs": [],
   "source": []
  },
  {
   "cell_type": "markdown",
   "id": "d9c3e890",
   "metadata": {},
   "source": [
    "- `shape`: nos devuelve cuántas filas y columnas tenemos "
   ]
  },
  {
   "cell_type": "code",
   "execution_count": null,
   "id": "9e13aa7f",
   "metadata": {},
   "outputs": [],
   "source": []
  },
  {
   "cell_type": "markdown",
   "id": "d4762c0f",
   "metadata": {},
   "source": [
    "- `size`: el número total de datos que tenemos"
   ]
  },
  {
   "cell_type": "code",
   "execution_count": null,
   "id": "a0509421",
   "metadata": {},
   "outputs": [],
   "source": []
  },
  {
   "cell_type": "markdown",
   "id": "4668d770",
   "metadata": {},
   "source": [
    "- `describe`: pequeña descipción de nuestro dataframe, por defecto nos devuelve los principales estadísticos de las columnas numéricas"
   ]
  },
  {
   "cell_type": "code",
   "execution_count": null,
   "id": "924db0ba",
   "metadata": {},
   "outputs": [],
   "source": []
  },
  {
   "cell_type": "markdown",
   "id": "5c80b1d7",
   "metadata": {},
   "source": [
    "Para que nos devuelva los principales estadísticos de las columnas de tipo `object` que es lo mismo que los *strings* que conociamos hasta ahora podemos incluir el parámetro `include`"
   ]
  },
  {
   "cell_type": "code",
   "execution_count": null,
   "id": "ca4f3fd5",
   "metadata": {},
   "outputs": [],
   "source": []
  },
  {
   "cell_type": "markdown",
   "id": "61e3f681",
   "metadata": {},
   "source": [
    "- `columns`: nos devuelve el nombre de las columnas de nuestro dataframe"
   ]
  },
  {
   "cell_type": "code",
   "execution_count": null,
   "id": "08a2fa6b",
   "metadata": {},
   "outputs": [],
   "source": []
  },
  {
   "cell_type": "markdown",
   "id": "7b5fded6",
   "metadata": {},
   "source": [
    "- `isnull`: nos devuelve un booleano con los valores que faltan en nuestro dataframe. Detecta NaN o None. "
   ]
  },
  {
   "cell_type": "code",
   "execution_count": null,
   "id": "352df4dd",
   "metadata": {
    "scrolled": false
   },
   "outputs": [],
   "source": []
  },
  {
   "cell_type": "markdown",
   "id": "02c6f8e8",
   "metadata": {},
   "source": [
    "Pero esto no hay quien lo entienda 🤯! Podemos juntar varios métodos de pandas. En este caso lo podemos ultizar junto con .sum()"
   ]
  },
  {
   "cell_type": "code",
   "execution_count": null,
   "id": "222fd04c",
   "metadata": {},
   "outputs": [],
   "source": []
  },
  {
   "cell_type": "markdown",
   "id": "c5e9587d",
   "metadata": {},
   "source": [
    "Calculamos el % de nulos"
   ]
  },
  {
   "cell_type": "code",
   "execution_count": null,
   "id": "6c5165bb",
   "metadata": {},
   "outputs": [],
   "source": []
  },
  {
   "cell_type": "code",
   "execution_count": null,
   "id": "9032c8f8",
   "metadata": {},
   "outputs": [],
   "source": []
  },
  {
   "cell_type": "markdown",
   "id": "a52cc31d",
   "metadata": {},
   "source": [
    "- `isna`: nos devuelve un booleano indicando los valores que faltan. Detecta NA y np.nan. "
   ]
  },
  {
   "cell_type": "code",
   "execution_count": null,
   "id": "92bbbc04",
   "metadata": {},
   "outputs": [],
   "source": []
  },
  {
   "cell_type": "markdown",
   "id": "9fcc7305",
   "metadata": {},
   "source": [
    "- `value_counts()`: devuelve una serie que contiene el recuento de valores únicos de una columna especificada."
   ]
  },
  {
   "cell_type": "code",
   "execution_count": null,
   "id": "85407a2e",
   "metadata": {
    "scrolled": false
   },
   "outputs": [],
   "source": []
  },
  {
   "cell_type": "code",
   "execution_count": null,
   "id": "2747bddf",
   "metadata": {},
   "outputs": [],
   "source": []
  },
  {
   "cell_type": "markdown",
   "id": "25ef32e9",
   "metadata": {},
   "source": [
    "- `unique`: nos devuelve los elementos únicos que tenemos en una columna dada. "
   ]
  },
  {
   "cell_type": "code",
   "execution_count": null,
   "id": "0bbed753",
   "metadata": {},
   "outputs": [],
   "source": []
  },
  {
   "cell_type": "markdown",
   "id": "c87b3d79",
   "metadata": {},
   "source": [
    "- `duplicated`: nos devuelve si tenemos elementos duplicados en una columna específica. "
   ]
  },
  {
   "cell_type": "code",
   "execution_count": null,
   "id": "0cbc290a",
   "metadata": {
    "scrolled": true
   },
   "outputs": [],
   "source": []
  },
  {
   "cell_type": "markdown",
   "id": "c80c84bb",
   "metadata": {},
   "source": [
    "## Manipulación básica"
   ]
  },
  {
   "cell_type": "markdown",
   "id": "81d071ca",
   "metadata": {},
   "source": [
    ">¿Podemos cambiar el nombre de nuestras columnas? \n",
    ">\n",
    ">¿Podemos seleccionar solo algunas columnas? \n",
    ">\n",
    ">¿Podemos eliminar filas o columnas? \n",
    ">\n",
    ">¿Podemos filtrar datos en función a una o varias condiciones dadas? \n",
    "\n",
    "\n",
    "**La respuesta a todo esto es SI! Veámoslo paso a paso**"
   ]
  },
  {
   "cell_type": "markdown",
   "id": "6c3f6428",
   "metadata": {},
   "source": [
    "### Seleccionamos una o varias columnas. "
   ]
  },
  {
   "cell_type": "code",
   "execution_count": null,
   "id": "dbf1b639",
   "metadata": {},
   "outputs": [],
   "source": []
  },
  {
   "cell_type": "code",
   "execution_count": null,
   "id": "0220f0b8",
   "metadata": {},
   "outputs": [],
   "source": []
  },
  {
   "cell_type": "code",
   "execution_count": null,
   "id": "748578fa",
   "metadata": {},
   "outputs": [],
   "source": []
  },
  {
   "cell_type": "markdown",
   "id": "423cffd6",
   "metadata": {},
   "source": [
    "### Eliminamos columnas o filas"
   ]
  },
  {
   "cell_type": "markdown",
   "id": "62d8beda",
   "metadata": {},
   "source": [
    "1️⃣**COLUMAS**"
   ]
  },
  {
   "cell_type": "markdown",
   "id": "bb24116e",
   "metadata": {},
   "source": [
    "Hemos visto que teníamos muchas columnas con nulos. Lo que podemos hacer es quitarlas todas y \"crearnos\" un nuevo dataframe con un filtrado de las columnas que no interesan. Lo podemos hacer de dos formas: \n",
    "\n",
    "- Filtrando por las columnas que nos interesan\n",
    "\n",
    "\n",
    "- Usando el método `drop`"
   ]
  },
  {
   "cell_type": "code",
   "execution_count": null,
   "id": "69ac93f5",
   "metadata": {},
   "outputs": [],
   "source": []
  },
  {
   "cell_type": "markdown",
   "id": "78a0fcbe",
   "metadata": {},
   "source": [
    "➡️ Filtrando por las columnas que nos interesan\n"
   ]
  },
  {
   "cell_type": "code",
   "execution_count": null,
   "id": "2f0a90e0",
   "metadata": {},
   "outputs": [],
   "source": []
  },
  {
   "cell_type": "code",
   "execution_count": null,
   "id": "89895e79",
   "metadata": {},
   "outputs": [],
   "source": []
  },
  {
   "cell_type": "markdown",
   "id": "6e9a1fb3",
   "metadata": {},
   "source": [
    "➡️ Usando el método `drop`"
   ]
  },
  {
   "cell_type": "code",
   "execution_count": null,
   "id": "a14ea043",
   "metadata": {},
   "outputs": [],
   "source": []
  },
  {
   "cell_type": "code",
   "execution_count": null,
   "id": "75cfd4d3",
   "metadata": {},
   "outputs": [],
   "source": []
  },
  {
   "cell_type": "code",
   "execution_count": null,
   "id": "bbda7638",
   "metadata": {},
   "outputs": [],
   "source": []
  },
  {
   "cell_type": "markdown",
   "id": "16a4591a",
   "metadata": {},
   "source": [
    "2️⃣**FILAS**"
   ]
  },
  {
   "cell_type": "markdown",
   "id": "b20d598b",
   "metadata": {},
   "source": [
    "Usaremos también el método `drop`, pero en este caso eliminaremos a través de índice.  "
   ]
  },
  {
   "cell_type": "code",
   "execution_count": null,
   "id": "644448d3",
   "metadata": {},
   "outputs": [],
   "source": []
  },
  {
   "cell_type": "code",
   "execution_count": null,
   "id": "64e37ded",
   "metadata": {},
   "outputs": [],
   "source": []
  },
  {
   "cell_type": "code",
   "execution_count": null,
   "id": "e911b6de",
   "metadata": {},
   "outputs": [],
   "source": []
  },
  {
   "cell_type": "code",
   "execution_count": null,
   "id": "c3475367",
   "metadata": {},
   "outputs": [],
   "source": []
  },
  {
   "cell_type": "markdown",
   "id": "abd813d8",
   "metadata": {},
   "source": [
    "### Creamos una columna nueva"
   ]
  },
  {
   "cell_type": "markdown",
   "id": "4683ee5e",
   "metadata": {},
   "source": [
    "Imaginamemos que queremos crear una columna nueva donde queremos multiplicar el valor de \"h01\" por 100 para hacer una transformación de los datos"
   ]
  },
  {
   "cell_type": "code",
   "execution_count": null,
   "id": "b4199ba6",
   "metadata": {},
   "outputs": [],
   "source": []
  },
  {
   "cell_type": "code",
   "execution_count": null,
   "id": "c42a47c1",
   "metadata": {},
   "outputs": [],
   "source": []
  },
  {
   "cell_type": "markdown",
   "id": "227f77a1",
   "metadata": {},
   "source": [
    "Podemos incluso hacer operaciones entre columnas"
   ]
  },
  {
   "cell_type": "code",
   "execution_count": null,
   "id": "8892dc6b",
   "metadata": {},
   "outputs": [],
   "source": []
  },
  {
   "cell_type": "code",
   "execution_count": null,
   "id": "36f0c0d1",
   "metadata": {},
   "outputs": [],
   "source": []
  },
  {
   "cell_type": "markdown",
   "id": "eca85b9b",
   "metadata": {},
   "source": [
    "### Renombramos columnas "
   ]
  },
  {
   "cell_type": "markdown",
   "id": "548ee3bc",
   "metadata": {},
   "source": [
    "Para renombrar columnas necesitaremos: \n",
    "\n",
    "- usar diccionarios \n",
    "\n",
    "\n",
    "Además, esto lo podremos hacer de dos formas diferentes: \n",
    "\n",
    "- 1️⃣ Usando el método `rename`\n",
    "\n",
    "\n",
    "- 2️⃣ Usando el método `columns`"
   ]
  },
  {
   "cell_type": "markdown",
   "id": "95136fd2",
   "metadata": {},
   "source": [
    "1️⃣ **USANDO `RENAME`**"
   ]
  },
  {
   "cell_type": "markdown",
   "id": "39855c11",
   "metadata": {},
   "source": [
    "Para usar este método necesitaremos usar diccionarios"
   ]
  },
  {
   "cell_type": "code",
   "execution_count": null,
   "id": "59abd667",
   "metadata": {
    "scrolled": true
   },
   "outputs": [],
   "source": []
  },
  {
   "cell_type": "code",
   "execution_count": null,
   "id": "de8c3c6a",
   "metadata": {},
   "outputs": [],
   "source": []
  },
  {
   "cell_type": "code",
   "execution_count": null,
   "id": "3786ee4c",
   "metadata": {},
   "outputs": [],
   "source": []
  },
  {
   "cell_type": "markdown",
   "id": "97c31e7d",
   "metadata": {},
   "source": [
    "Vale, ahora imaginemos que queremos hacer un cambio en todos los nombres de las columnas. Por ejemplo, poner todos los nombres en mayúscula"
   ]
  },
  {
   "cell_type": "code",
   "execution_count": null,
   "id": "0d7b540a",
   "metadata": {},
   "outputs": [],
   "source": []
  },
  {
   "cell_type": "code",
   "execution_count": null,
   "id": "8520d40a",
   "metadata": {},
   "outputs": [],
   "source": []
  },
  {
   "cell_type": "code",
   "execution_count": null,
   "id": "cb4fe9d9",
   "metadata": {},
   "outputs": [],
   "source": []
  },
  {
   "cell_type": "markdown",
   "id": "b65254df",
   "metadata": {},
   "source": [
    "2️⃣ **USANDO `COLUMNS`**"
   ]
  },
  {
   "cell_type": "markdown",
   "id": "e8fc753f",
   "metadata": {},
   "source": [
    "Para usar este método deberemos usar listas"
   ]
  },
  {
   "cell_type": "code",
   "execution_count": null,
   "id": "6b52d202",
   "metadata": {},
   "outputs": [],
   "source": []
  },
  {
   "cell_type": "code",
   "execution_count": null,
   "id": "af8816cc",
   "metadata": {},
   "outputs": [],
   "source": []
  },
  {
   "cell_type": "code",
   "execution_count": null,
   "id": "8a42acaa",
   "metadata": {},
   "outputs": [],
   "source": []
  },
  {
   "cell_type": "code",
   "execution_count": null,
   "id": "618ba30e",
   "metadata": {},
   "outputs": [],
   "source": []
  },
  {
   "cell_type": "markdown",
   "id": "38b434fd",
   "metadata": {},
   "source": [
    "### Filtrado"
   ]
  },
  {
   "cell_type": "code",
   "execution_count": null,
   "id": "9da75d2f",
   "metadata": {},
   "outputs": [],
   "source": []
  },
  {
   "cell_type": "code",
   "execution_count": null,
   "id": "32173315",
   "metadata": {},
   "outputs": [],
   "source": []
  },
  {
   "cell_type": "code",
   "execution_count": null,
   "id": "0de1f509",
   "metadata": {},
   "outputs": [],
   "source": []
  },
  {
   "cell_type": "code",
   "execution_count": null,
   "id": "75179c58",
   "metadata": {},
   "outputs": [],
   "source": []
  },
  {
   "cell_type": "code",
   "execution_count": null,
   "id": "a72b1005",
   "metadata": {},
   "outputs": [],
   "source": []
  },
  {
   "cell_type": "code",
   "execution_count": null,
   "id": "ca4253d3",
   "metadata": {},
   "outputs": [],
   "source": []
  },
  {
   "cell_type": "code",
   "execution_count": null,
   "id": "58615719",
   "metadata": {},
   "outputs": [],
   "source": []
  },
  {
   "cell_type": "code",
   "execution_count": null,
   "id": "6ec4b1d2",
   "metadata": {},
   "outputs": [],
   "source": []
  },
  {
   "cell_type": "code",
   "execution_count": null,
   "id": "ba1f6ae5",
   "metadata": {},
   "outputs": [],
   "source": []
  },
  {
   "cell_type": "code",
   "execution_count": null,
   "id": "666d63c3",
   "metadata": {},
   "outputs": [],
   "source": []
  },
  {
   "cell_type": "code",
   "execution_count": null,
   "id": "74e7f5c7",
   "metadata": {},
   "outputs": [],
   "source": []
  },
  {
   "cell_type": "code",
   "execution_count": null,
   "id": "bad584d6",
   "metadata": {},
   "outputs": [],
   "source": []
  },
  {
   "cell_type": "code",
   "execution_count": null,
   "id": "35d51ac6",
   "metadata": {},
   "outputs": [],
   "source": []
  },
  {
   "cell_type": "code",
   "execution_count": null,
   "id": "456f26fe",
   "metadata": {},
   "outputs": [],
   "source": []
  },
  {
   "cell_type": "code",
   "execution_count": null,
   "id": "77af1ce2",
   "metadata": {},
   "outputs": [],
   "source": []
  },
  {
   "cell_type": "markdown",
   "id": "e3622ca7",
   "metadata": {},
   "source": [
    "¿Y si nos queremos basar en varias condiciones? Recordamos que desde NumPy los operadores cambian: \n",
    "\n",
    "- `&`: es el operador `and`, es decir, que se cumplan **todas** las condiciones que le pasamos. \n",
    "\n",
    "\n",
    "- `|`: es el operador `or`, es decir, que se cumpla **alguna** de las condiciones que le pasamos. "
   ]
  },
  {
   "cell_type": "markdown",
   "id": "8277cd4a",
   "metadata": {},
   "source": [
    "### `reset index` y `set_index` "
   ]
  },
  {
   "cell_type": "markdown",
   "id": "655b7ad3",
   "metadata": {},
   "source": [
    "- `set_index`: establezca el índice del DataFrame utilizando las columnas existentes."
   ]
  },
  {
   "cell_type": "code",
   "execution_count": null,
   "id": "361aca22",
   "metadata": {},
   "outputs": [],
   "source": []
  },
  {
   "cell_type": "code",
   "execution_count": null,
   "id": "cc852df3",
   "metadata": {},
   "outputs": [],
   "source": []
  },
  {
   "cell_type": "code",
   "execution_count": null,
   "id": "75aedf2b",
   "metadata": {},
   "outputs": [],
   "source": []
  },
  {
   "cell_type": "markdown",
   "id": "4cfbce44",
   "metadata": {},
   "source": [
    "- `reset_index`: es un método para restablecer el índice de un dataframe. "
   ]
  },
  {
   "cell_type": "code",
   "execution_count": null,
   "id": "f4cc0e7f",
   "metadata": {},
   "outputs": [],
   "source": []
  },
  {
   "cell_type": "code",
   "execution_count": null,
   "id": "c607f27e",
   "metadata": {},
   "outputs": [],
   "source": []
  },
  {
   "cell_type": "markdown",
   "id": "e8efde00",
   "metadata": {},
   "source": [
    "# Operaciones básicas"
   ]
  },
  {
   "cell_type": "markdown",
   "id": "316ac15d",
   "metadata": {},
   "source": [
    "## Cálculo de máximo, mínimo, media, desviación y moda"
   ]
  },
  {
   "cell_type": "code",
   "execution_count": null,
   "id": "3462b47a",
   "metadata": {},
   "outputs": [],
   "source": []
  },
  {
   "cell_type": "code",
   "execution_count": null,
   "id": "4d6aeabe",
   "metadata": {},
   "outputs": [],
   "source": []
  },
  {
   "cell_type": "code",
   "execution_count": null,
   "id": "62174491",
   "metadata": {},
   "outputs": [],
   "source": []
  },
  {
   "cell_type": "code",
   "execution_count": null,
   "id": "61fd351d",
   "metadata": {},
   "outputs": [],
   "source": []
  },
  {
   "cell_type": "code",
   "execution_count": null,
   "id": "baea732e",
   "metadata": {},
   "outputs": [],
   "source": []
  },
  {
   "cell_type": "code",
   "execution_count": null,
   "id": "55376962",
   "metadata": {},
   "outputs": [],
   "source": []
  }
 ],
 "metadata": {
  "kernelspec": {
   "display_name": "clase",
   "language": "python",
   "name": "clase"
  },
  "language_info": {
   "codemirror_mode": {
    "name": "ipython",
    "version": 3
   },
   "file_extension": ".py",
   "mimetype": "text/x-python",
   "name": "python",
   "nbconvert_exporter": "python",
   "pygments_lexer": "ipython3",
   "version": "3.9.12"
  },
  "toc": {
   "base_numbering": 1,
   "nav_menu": {},
   "number_sections": true,
   "sideBar": true,
   "skip_h1_title": false,
   "title_cell": "Table of Contents",
   "title_sidebar": "Contents",
   "toc_cell": true,
   "toc_position": {
    "height": "calc(100% - 180px)",
    "left": "10px",
    "top": "150px",
    "width": "186px"
   },
   "toc_section_display": true,
   "toc_window_display": false
  },
  "varInspector": {
   "cols": {
    "lenName": 16,
    "lenType": 16,
    "lenVar": 40
   },
   "kernels_config": {
    "python": {
     "delete_cmd_postfix": "",
     "delete_cmd_prefix": "del ",
     "library": "var_list.py",
     "varRefreshCmd": "print(var_dic_list())"
    },
    "r": {
     "delete_cmd_postfix": ") ",
     "delete_cmd_prefix": "rm(",
     "library": "var_list.r",
     "varRefreshCmd": "cat(var_dic_list()) "
    }
   },
   "types_to_exclude": [
    "module",
    "function",
    "builtin_function_or_method",
    "instance",
    "_Feature"
   ],
   "window_display": true
  }
 },
 "nbformat": 4,
 "nbformat_minor": 5
}
