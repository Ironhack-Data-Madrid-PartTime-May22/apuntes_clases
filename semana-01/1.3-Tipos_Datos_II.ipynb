{
 "cells": [
  {
   "cell_type": "markdown",
   "id": "c4faa7e5",
   "metadata": {
    "toc": true
   },
   "source": [
    "<h1>Table of Contents<span class=\"tocSkip\"></span></h1>\n",
    "<div class=\"toc\"><ul class=\"toc-item\"><li><span><a href=\"#Listas\" data-toc-modified-id=\"Listas-1\"><span class=\"toc-item-num\">1&nbsp;&nbsp;</span>Listas</a></span><ul class=\"toc-item\"><li><span><a href=\"#Creación-de-listas\" data-toc-modified-id=\"Creación-de-listas-1.1\"><span class=\"toc-item-num\">1.1&nbsp;&nbsp;</span>Creación de listas</a></span></li><li><span><a href=\"#Propiedades-de-las-listas\" data-toc-modified-id=\"Propiedades-de-las-listas-1.2\"><span class=\"toc-item-num\">1.2&nbsp;&nbsp;</span>Propiedades de las listas</a></span></li><li><span><a href=\"#Indexación\" data-toc-modified-id=\"Indexación-1.3\"><span class=\"toc-item-num\">1.3&nbsp;&nbsp;</span>Indexación</a></span></li><li><span><a href=\"#Métodos-de-las-listas\" data-toc-modified-id=\"Métodos-de-las-listas-1.4\"><span class=\"toc-item-num\">1.4&nbsp;&nbsp;</span>Métodos de las listas</a></span></li></ul></li><li><span><a href=\"#Tuplas\" data-toc-modified-id=\"Tuplas-2\"><span class=\"toc-item-num\">2&nbsp;&nbsp;</span>Tuplas</a></span><ul class=\"toc-item\"><li><span><a href=\"#Creación-de-tuplas\" data-toc-modified-id=\"Creación-de-tuplas-2.1\"><span class=\"toc-item-num\">2.1&nbsp;&nbsp;</span>Creación de tuplas</a></span></li><li><span><a href=\"#Propiedades-de-las-tuplas\" data-toc-modified-id=\"Propiedades-de-las-tuplas-2.2\"><span class=\"toc-item-num\">2.2&nbsp;&nbsp;</span>Propiedades de las tuplas</a></span></li><li><span><a href=\"#Indexación\" data-toc-modified-id=\"Indexación-2.3\"><span class=\"toc-item-num\">2.3&nbsp;&nbsp;</span>Indexación</a></span></li><li><span><a href=\"#Métodos-de-las-tuplas\" data-toc-modified-id=\"Métodos-de-las-tuplas-2.4\"><span class=\"toc-item-num\">2.4&nbsp;&nbsp;</span>Métodos de las tuplas</a></span></li></ul></li><li><span><a href=\"#Diccionarios\" data-toc-modified-id=\"Diccionarios-3\"><span class=\"toc-item-num\">3&nbsp;&nbsp;</span>Diccionarios</a></span><ul class=\"toc-item\"><li><span><a href=\"#Creación-de-diccionarios\" data-toc-modified-id=\"Creación-de-diccionarios-3.1\"><span class=\"toc-item-num\">3.1&nbsp;&nbsp;</span>Creación de diccionarios</a></span></li><li><span><a href=\"#Propiedades-de-los-diccionarios\" data-toc-modified-id=\"Propiedades-de-los-diccionarios-3.2\"><span class=\"toc-item-num\">3.2&nbsp;&nbsp;</span>Propiedades de los diccionarios</a></span></li><li><span><a href=\"#Indexación-de-los-diccionarios\" data-toc-modified-id=\"Indexación-de-los-diccionarios-3.3\"><span class=\"toc-item-num\">3.3&nbsp;&nbsp;</span>Indexación de los diccionarios</a></span></li><li><span><a href=\"#Métodos-de-los-diccionarios\" data-toc-modified-id=\"Métodos-de-los-diccionarios-3.4\"><span class=\"toc-item-num\">3.4&nbsp;&nbsp;</span>Métodos de los diccionarios</a></span></li></ul></li><li><span><a href=\"#Sets\" data-toc-modified-id=\"Sets-4\"><span class=\"toc-item-num\">4&nbsp;&nbsp;</span>Sets</a></span><ul class=\"toc-item\"><li><span><a href=\"#Creación-de-sets\" data-toc-modified-id=\"Creación-de-sets-4.1\"><span class=\"toc-item-num\">4.1&nbsp;&nbsp;</span>Creación de <em>sets</em></a></span></li><li><span><a href=\"#Indexación-de-sets\" data-toc-modified-id=\"Indexación-de-sets-4.2\"><span class=\"toc-item-num\">4.2&nbsp;&nbsp;</span>Indexación de <em>sets</em></a></span></li><li><span><a href=\"#Métodos-de-los-sets\" data-toc-modified-id=\"Métodos-de-los-sets-4.3\"><span class=\"toc-item-num\">4.3&nbsp;&nbsp;</span>Métodos de los sets</a></span></li></ul></li></ul></div>"
   ]
  },
  {
   "cell_type": "markdown",
   "id": "60d740cc",
   "metadata": {},
   "source": [
    "-----\n",
    "En Python tenemos las siguientes estructuras de datos: \n",
    "    \n",
    "1. Listas\n",
    "\n",
    "\n",
    "2. Tuplas\n",
    "\n",
    "\n",
    "3. Diccionarios\n",
    "\n",
    "\n",
    "4. Sets\n",
    "-----"
   ]
  },
  {
   "cell_type": "markdown",
   "id": "e34fc82c",
   "metadata": {},
   "source": [
    "# Listas"
   ]
  },
  {
   "cell_type": "markdown",
   "id": "089ce273",
   "metadata": {},
   "source": [
    "La listas son variables que almacenan elementos los cuales pueden ser de distintos tipos (*strings*, *integers*, *floats*, listas, etc.). Por lo tanto, una lista es una estructura de datos formada por una secuencia ordenada de objetos.\n",
    "\n",
    "Algunas propiedades de las listas:\n",
    "\n",
    "- Son ordenadas, mantienen el orden en el que han sido definidas.\n",
    "  \n",
    "- Pueden ser formadas por distintos tipos de datos.\n",
    "\n",
    "- Pueden ser indexadas con [i].\n",
    "  \n",
    "- Se pueden anidar, es decir, meter una dentro de la otra.\n",
    "  \n",
    "- Son mutables, ya que sus elementos pueden ser modificados.Se pueden añadir o eliminar elementos. \n",
    "\n",
    "\n",
    "Para poder usar listas tenemos dos opciones: \n",
    "\n",
    "- Usando los `[]`\n",
    "\n",
    "- Usando el méetodo `list()`"
   ]
  },
  {
   "cell_type": "markdown",
   "id": "868ca499",
   "metadata": {},
   "source": [
    "## Creación de listas"
   ]
  },
  {
   "cell_type": "code",
   "execution_count": 2,
   "id": "d376d1dd",
   "metadata": {},
   "outputs": [],
   "source": [
    "# definimos una lista usando los []\n",
    "lst = [1,2,4,6,8]"
   ]
  },
  {
   "cell_type": "code",
   "execution_count": 3,
   "id": "7641d295",
   "metadata": {},
   "outputs": [
    {
     "name": "stdout",
     "output_type": "stream",
     "text": [
      "[1, 2, 4, 6, 8] <class 'list'>\n"
     ]
    }
   ],
   "source": [
    "# veamos de que tipo es el objetito que acabamos de crear\n",
    "\n",
    "print(lst, type(lst))"
   ]
  },
  {
   "cell_type": "code",
   "execution_count": 13,
   "id": "6735fe03",
   "metadata": {},
   "outputs": [
    {
     "data": {
      "text/plain": [
       "[]"
      ]
     },
     "execution_count": 13,
     "metadata": {},
     "output_type": "execute_result"
    }
   ],
   "source": [
    "list()"
   ]
  },
  {
   "cell_type": "code",
   "execution_count": 14,
   "id": "0ef9de33",
   "metadata": {},
   "outputs": [
    {
     "name": "stdout",
     "output_type": "stream",
     "text": [
      "<class 'int'>\n",
      "<class 'int'>\n",
      "<class 'int'>\n",
      "<class 'int'>\n",
      "<class 'int'>\n"
     ]
    }
   ],
   "source": [
    "# si queremos saber cual es el tipo de cada uno de los elementos de nuestra lista \n",
    "# podemos usar un for loop\n",
    "\n",
    "for elemento in lst:\n",
    "    print(type(elemento))"
   ]
  },
  {
   "cell_type": "code",
   "execution_count": 15,
   "id": "bd067feb",
   "metadata": {},
   "outputs": [],
   "source": [
    "# como hemos dicho, las listas son contenedores que pueden almacenar \n",
    "# cualquier tipo de dato, en este caso crearemos una lista con strings dentro\n",
    "\n",
    "lst2 = [\"hola\", 23456, 19.09, 'Adios'] \n"
   ]
  },
  {
   "cell_type": "code",
   "execution_count": 16,
   "id": "b92ae8c5",
   "metadata": {},
   "outputs": [
    {
     "name": "stdout",
     "output_type": "stream",
     "text": [
      "['hola', 23456, 19.09, 'Adios'] <class 'list'>\n"
     ]
    }
   ],
   "source": [
    "print(lst2, type(lst2))"
   ]
  },
  {
   "cell_type": "code",
   "execution_count": 17,
   "id": "801c938c",
   "metadata": {},
   "outputs": [
    {
     "name": "stdout",
     "output_type": "stream",
     "text": [
      "<class 'str'>\n",
      "<class 'int'>\n",
      "<class 'float'>\n",
      "<class 'str'>\n"
     ]
    }
   ],
   "source": [
    "for elemento in lst2:\n",
    "    print(type(elemento))"
   ]
  },
  {
   "cell_type": "markdown",
   "id": "33d723d8",
   "metadata": {},
   "source": [
    "Hemos dicho que podríamos crear una lista usando también el método `list()`. ¿Cómo lo podríamos hacer? "
   ]
  },
  {
   "cell_type": "code",
   "execution_count": 18,
   "id": "b5eff269",
   "metadata": {},
   "outputs": [],
   "source": [
    "# imaginemos que tenemos una string llamado saludo\n",
    "\n",
    "saludo = \"Hola, que tal\""
   ]
  },
  {
   "cell_type": "code",
   "execution_count": 19,
   "id": "1ce6a073",
   "metadata": {},
   "outputs": [
    {
     "data": {
      "text/plain": [
       "['H', 'o', 'l', 'a', ',', ' ', 'q', 'u', 'e', ' ', 't', 'a', 'l']"
      ]
     },
     "execution_count": 19,
     "metadata": {},
     "output_type": "execute_result"
    }
   ],
   "source": [
    "# lo convertimos en lista\n",
    "\n",
    "list(saludo)"
   ]
  },
  {
   "cell_type": "markdown",
   "id": "518673e8",
   "metadata": {},
   "source": [
    "Lo que ocurre cuando convertimos un *string* a una lista es que cada letra de nuestro *string* se convertirá en un elemento de nuestra lista, por lo que tendremos que tener cuidado cuando apliquemos este método. \n",
    "\n",
    "¿Qué pasaría si lo que quiero es convertir una secuencia de números? 👇🏽"
   ]
  },
  {
   "cell_type": "code",
   "execution_count": 20,
   "id": "d00dab54",
   "metadata": {},
   "outputs": [
    {
     "ename": "TypeError",
     "evalue": "list expected at most 1 argument, got 2",
     "output_type": "error",
     "traceback": [
      "\u001b[0;31m---------------------------------------------------------------------------\u001b[0m",
      "\u001b[0;31mTypeError\u001b[0m                                 Traceback (most recent call last)",
      "Cell \u001b[0;32mIn[20], line 1\u001b[0m\n\u001b[0;32m----> 1\u001b[0m \u001b[38;5;28;43mlist\u001b[39;49m\u001b[43m(\u001b[49m\u001b[38;5;241;43m2\u001b[39;49m\u001b[43m,\u001b[49m\u001b[38;5;241;43m3\u001b[39;49m\u001b[43m)\u001b[49m\n",
      "\u001b[0;31mTypeError\u001b[0m: list expected at most 1 argument, got 2"
     ]
    }
   ],
   "source": [
    "list(2,3)"
   ]
  },
  {
   "cell_type": "markdown",
   "id": "42f45bd6",
   "metadata": {},
   "source": [
    "Vaya... nos devolvió un error, y es que este método solo acepta un elemento y nosotros le estamos pasando dos!!! Por lo tanto, deberemos pasarle un único elemento a este método. Podrá ser un *string* (como vimos en el caso anterior) otra lista, u otro elemento de python, como una tupla o un diccionario (que aprenderemos a lo largo de esta lección)"
   ]
  },
  {
   "cell_type": "code",
   "execution_count": 21,
   "id": "d0b21e83",
   "metadata": {},
   "outputs": [
    {
     "data": {
      "text/plain": [
       "[2, 3]"
      ]
     },
     "execution_count": 21,
     "metadata": {},
     "output_type": "execute_result"
    }
   ],
   "source": [
    "[2, 3]"
   ]
  },
  {
   "cell_type": "code",
   "execution_count": 23,
   "id": "01d26a50",
   "metadata": {},
   "outputs": [
    {
     "ename": "TypeError",
     "evalue": "'int' object is not iterable",
     "output_type": "error",
     "traceback": [
      "\u001b[0;31m---------------------------------------------------------------------------\u001b[0m",
      "\u001b[0;31mTypeError\u001b[0m                                 Traceback (most recent call last)",
      "Cell \u001b[0;32mIn[23], line 1\u001b[0m\n\u001b[0;32m----> 1\u001b[0m \u001b[38;5;28;43mlist\u001b[39;49m\u001b[43m(\u001b[49m\u001b[38;5;241;43m1\u001b[39;49m\u001b[43m)\u001b[49m\n",
      "\u001b[0;31mTypeError\u001b[0m: 'int' object is not iterable"
     ]
    }
   ],
   "source": [
    "list(1)"
   ]
  },
  {
   "cell_type": "markdown",
   "id": "ba2476d1",
   "metadata": {},
   "source": [
    "## Propiedades de las listas"
   ]
  },
  {
   "cell_type": "code",
   "execution_count": 24,
   "id": "e88b47e9",
   "metadata": {},
   "outputs": [
    {
     "data": {
      "text/plain": [
       "5"
      ]
     },
     "execution_count": 24,
     "metadata": {},
     "output_type": "execute_result"
    }
   ],
   "source": [
    "len(lst)"
   ]
  },
  {
   "cell_type": "code",
   "execution_count": 25,
   "id": "31d44641",
   "metadata": {},
   "outputs": [
    {
     "name": "stdout",
     "output_type": "stream",
     "text": [
      "lst tiene 5 elementos\n",
      "lst2 tiene 4 elementos\n"
     ]
    }
   ],
   "source": [
    "# si queremos saber la longitud de nuestra lista, o lo que es lo mismo, \n",
    "# el número de elementos que tiene usaremos el método len\n",
    "\n",
    "print(\"lst tiene\", len(lst), \"elementos\")\n",
    "print(\"lst2 tiene\", len(lst2), \"elementos\")\n"
   ]
  },
  {
   "cell_type": "code",
   "execution_count": 26,
   "id": "6eaa8737",
   "metadata": {},
   "outputs": [
    {
     "data": {
      "text/plain": [
       "8"
      ]
     },
     "execution_count": 26,
     "metadata": {},
     "output_type": "execute_result"
    }
   ],
   "source": [
    "max(lst)"
   ]
  },
  {
   "cell_type": "code",
   "execution_count": 27,
   "id": "e949243c",
   "metadata": {},
   "outputs": [
    {
     "name": "stdout",
     "output_type": "stream",
     "text": [
      "el máximo es: 8\n",
      "el mínimo es: 1\n"
     ]
    }
   ],
   "source": [
    "# también podemos sacar los valores máximos y mínimos de nuestra lista\n",
    "# ⚠️ NOTA: esto solo se podrá hacer si todos los elementos de la lista son numéricos\n",
    "\n",
    "\n",
    "print(\"el máximo es:\", max(lst))\n",
    "print(\"el mínimo es:\", min(lst))"
   ]
  },
  {
   "cell_type": "code",
   "execution_count": 111,
   "id": "ea6fdd28",
   "metadata": {},
   "outputs": [],
   "source": [
    "# veamos un ejemplo combinando string con números\n",
    "\n",
    "lst3 = [\"alumnos\", 3, \"chocolate\"]"
   ]
  },
  {
   "cell_type": "code",
   "execution_count": 29,
   "id": "3465a4ca",
   "metadata": {},
   "outputs": [
    {
     "ename": "TypeError",
     "evalue": "'>' not supported between instances of 'int' and 'str'",
     "output_type": "error",
     "traceback": [
      "\u001b[0;31m---------------------------------------------------------------------------\u001b[0m",
      "\u001b[0;31mTypeError\u001b[0m                                 Traceback (most recent call last)",
      "Cell \u001b[0;32mIn[29], line 1\u001b[0m\n\u001b[0;32m----> 1\u001b[0m \u001b[38;5;28mprint\u001b[39m(\u001b[38;5;124m\"\u001b[39m\u001b[38;5;124mel máximo es:\u001b[39m\u001b[38;5;124m\"\u001b[39m, \u001b[38;5;28;43mmax\u001b[39;49m\u001b[43m(\u001b[49m\u001b[43mlst3\u001b[49m\u001b[43m)\u001b[49m)\n",
      "\u001b[0;31mTypeError\u001b[0m: '>' not supported between instances of 'int' and 'str'"
     ]
    }
   ],
   "source": [
    "print(\"el máximo es:\", max(lst3))"
   ]
  },
  {
   "cell_type": "code",
   "execution_count": 30,
   "id": "b8bb4372",
   "metadata": {},
   "outputs": [],
   "source": [
    "lst4 = ['hola', 'Zenon', 'CArahiu8evop']"
   ]
  },
  {
   "cell_type": "code",
   "execution_count": 32,
   "id": "265e8808",
   "metadata": {},
   "outputs": [
    {
     "name": "stdout",
     "output_type": "stream",
     "text": [
      "el máximo es: hola\n"
     ]
    }
   ],
   "source": [
    "print(\"el máximo es:\", max(lst4))"
   ]
  },
  {
   "cell_type": "code",
   "execution_count": 34,
   "id": "08302421",
   "metadata": {},
   "outputs": [
    {
     "name": "stdout",
     "output_type": "stream",
     "text": [
      "el mínimo es: CArahiu8evop\n"
     ]
    }
   ],
   "source": [
    "print(\"el mínimo es:\", min(lst4))"
   ]
  },
  {
   "cell_type": "code",
   "execution_count": 38,
   "id": "d7047a3c",
   "metadata": {},
   "outputs": [
    {
     "name": "stdout",
     "output_type": "stream",
     "text": [
      "el máximo es: caraz\n",
      "el mínimo es: cara\n"
     ]
    }
   ],
   "source": [
    "lst5 = ['cara', 'caraz']\n",
    "print(\"el máximo es:\", max(lst5))\n",
    "print(\"el mínimo es:\", min(lst5))"
   ]
  },
  {
   "cell_type": "code",
   "execution_count": 35,
   "id": "3bf44d6a",
   "metadata": {},
   "outputs": [
    {
     "data": {
      "text/plain": [
       "False"
      ]
     },
     "execution_count": 35,
     "metadata": {},
     "output_type": "execute_result"
    }
   ],
   "source": [
    "'a' < 'A'"
   ]
  },
  {
   "cell_type": "code",
   "execution_count": 36,
   "id": "6fdb0113",
   "metadata": {},
   "outputs": [
    {
     "data": {
      "text/plain": [
       "True"
      ]
     },
     "execution_count": 36,
     "metadata": {},
     "output_type": "execute_result"
    }
   ],
   "source": [
    "'A' < 'a'"
   ]
  },
  {
   "cell_type": "code",
   "execution_count": 39,
   "id": "81d61d71",
   "metadata": {},
   "outputs": [
    {
     "name": "stdout",
     "output_type": "stream",
     "text": [
      "False\n",
      "True\n"
     ]
    }
   ],
   "source": [
    "# también podemos chequear si un número dado está incluido en nuestra lista:\n",
    "\n",
    "print(5 in lst)\n",
    "print(1 in lst)"
   ]
  },
  {
   "cell_type": "code",
   "execution_count": 40,
   "id": "0c00d2dc",
   "metadata": {},
   "outputs": [
    {
     "data": {
      "text/plain": [
       "True"
      ]
     },
     "execution_count": 40,
     "metadata": {},
     "output_type": "execute_result"
    }
   ],
   "source": [
    "5 not in lst"
   ]
  },
  {
   "cell_type": "markdown",
   "id": "a2333729",
   "metadata": {},
   "source": [
    "## Indexación\n",
    "\n",
    "\n",
    "Como hemos dicho son objetos que tienen orden, al tener orden podemos acceder a cada uno de sus elementos utilizando los índices"
   ]
  },
  {
   "cell_type": "markdown",
   "id": "8093b3a0",
   "metadata": {},
   "source": [
    "![index_listas.png](https://github.com/Ironhack-Data-Madrid-PartTime-Oct22/imagenes/blob/master/semana-1/listas.png?raw=true)"
   ]
  },
  {
   "cell_type": "code",
   "execution_count": 47,
   "id": "50242a15",
   "metadata": {},
   "outputs": [
    {
     "data": {
      "text/plain": [
       "[58, 29, 42, 43, 93, 49, 11, 50, 27, 84, 66, 86, 57, 53, 82, 1, 32, 78, 35, 52]"
      ]
     },
     "execution_count": 47,
     "metadata": {},
     "output_type": "execute_result"
    }
   ],
   "source": [
    "# vamos a crear una secuencia de números aleatorios usando la librería random. \n",
    "\n",
    "import random\n",
    "\n",
    "aleatoria = random.sample(range(0, 100), 20) \n",
    "# generamos 20 números aleatorios entre el 0-99\n",
    "\n",
    "\n",
    "aleatoria"
   ]
  },
  {
   "cell_type": "code",
   "execution_count": 48,
   "id": "4449489e",
   "metadata": {
    "scrolled": true
   },
   "outputs": [
    {
     "data": {
      "text/plain": [
       "58"
      ]
     },
     "execution_count": 48,
     "metadata": {},
     "output_type": "execute_result"
    }
   ],
   "source": [
    "# accedemos al primer elemento\n",
    "\n",
    "aleatoria[0]"
   ]
  },
  {
   "cell_type": "code",
   "execution_count": 49,
   "id": "7563d0fd",
   "metadata": {},
   "outputs": [
    {
     "data": {
      "text/plain": [
       "int"
      ]
     },
     "execution_count": 49,
     "metadata": {},
     "output_type": "execute_result"
    }
   ],
   "source": [
    "type(aleatoria[0])"
   ]
  },
  {
   "cell_type": "code",
   "execution_count": 50,
   "id": "2243a4f0",
   "metadata": {},
   "outputs": [
    {
     "data": {
      "text/plain": [
       "52"
      ]
     },
     "execution_count": 50,
     "metadata": {},
     "output_type": "execute_result"
    }
   ],
   "source": [
    "# accedemos al último elemento\n",
    "\n",
    "aleatoria[-1]"
   ]
  },
  {
   "cell_type": "code",
   "execution_count": 53,
   "id": "e4ccc2af",
   "metadata": {},
   "outputs": [
    {
     "data": {
      "text/plain": [
       "52"
      ]
     },
     "execution_count": 53,
     "metadata": {},
     "output_type": "execute_result"
    }
   ],
   "source": [
    "# otra forma de acceder al último elemento\n",
    "\n",
    "N = len(aleatoria)\n",
    "\n",
    "aleatoria[N-1]"
   ]
  },
  {
   "cell_type": "code",
   "execution_count": 54,
   "id": "611569eb",
   "metadata": {},
   "outputs": [
    {
     "data": {
      "text/plain": [
       "[58, 29]"
      ]
     },
     "execution_count": 54,
     "metadata": {},
     "output_type": "execute_result"
    }
   ],
   "source": [
    "# accedemos a los dos primero elementos (slicing)\n",
    "\n",
    "aleatoria[0:2]"
   ]
  },
  {
   "cell_type": "code",
   "execution_count": 55,
   "id": "b54a1fd8",
   "metadata": {},
   "outputs": [
    {
     "data": {
      "text/plain": [
       "[58, 29]"
      ]
     },
     "execution_count": 55,
     "metadata": {},
     "output_type": "execute_result"
    }
   ],
   "source": [
    "aleatoria[ :2]   #es lo mismo que lo anterior"
   ]
  },
  {
   "cell_type": "code",
   "execution_count": 56,
   "id": "c9f712da",
   "metadata": {},
   "outputs": [
    {
     "data": {
      "text/plain": [
       "[50, 27, 84, 66, 86, 57, 53, 82, 1, 32, 78, 35, 52]"
      ]
     },
     "execution_count": 56,
     "metadata": {},
     "output_type": "execute_result"
    }
   ],
   "source": [
    "# accedemos a todos los elementos menos los siete primeros\n",
    "\n",
    "aleatoria[7:]"
   ]
  },
  {
   "cell_type": "code",
   "execution_count": 57,
   "id": "1c1c04f2",
   "metadata": {},
   "outputs": [
    {
     "data": {
      "text/plain": [
       "[58, 29, 42, 43, 93, 49, 11, 50, 27, 84, 66, 86, 57, 53, 82, 1, 32, 78, 35, 52]"
      ]
     },
     "execution_count": 57,
     "metadata": {},
     "output_type": "execute_result"
    }
   ],
   "source": [
    "aleatoria[:]"
   ]
  },
  {
   "cell_type": "code",
   "execution_count": 58,
   "id": "d589ef08",
   "metadata": {},
   "outputs": [
    {
     "data": {
      "text/plain": [
       "[42, 93, 11, 27]"
      ]
     },
     "execution_count": 58,
     "metadata": {},
     "output_type": "execute_result"
    }
   ],
   "source": [
    "# [start:stop:step]\n",
    "\n",
    "\n",
    "aleatoria[2:9:2]  # desde el segundo al noveno de dos en dos"
   ]
  },
  {
   "cell_type": "code",
   "execution_count": 62,
   "id": "4f900e97",
   "metadata": {},
   "outputs": [
    {
     "data": {
      "text/plain": [
       "[58, 43, 11, 84, 57, 1, 35]"
      ]
     },
     "execution_count": 62,
     "metadata": {},
     "output_type": "execute_result"
    }
   ],
   "source": [
    "aleatoria[::3]   # desde el principio al final de tres en tres"
   ]
  },
  {
   "cell_type": "code",
   "execution_count": 65,
   "id": "d022a19c",
   "metadata": {},
   "outputs": [
    {
     "data": {
      "text/plain": [
       "[52, 35, 78, 32, 1, 82, 53, 57, 86, 66, 84, 27, 50, 11, 49, 93, 43, 42, 29]"
      ]
     },
     "execution_count": 65,
     "metadata": {},
     "output_type": "execute_result"
    }
   ],
   "source": [
    "aleatoria[-1:0:-1]  # desde el ultimo al primero hacia atras de uno en uno, primero queda furra"
   ]
  },
  {
   "cell_type": "code",
   "execution_count": 61,
   "id": "de704ae1",
   "metadata": {},
   "outputs": [
    {
     "data": {
      "text/plain": [
       "[52, 35, 78, 32, 1, 82, 53, 57, 86, 66, 84, 27, 50, 11, 49, 93, 43, 42, 29, 58]"
      ]
     },
     "execution_count": 61,
     "metadata": {},
     "output_type": "execute_result"
    }
   ],
   "source": [
    "aleatoria[::-1]   # desde el ultimo al primero hacia atras de uno en uno, todo, es decir dar la vuelta"
   ]
  },
  {
   "cell_type": "markdown",
   "id": "565e5ecc",
   "metadata": {},
   "source": [
    "## Métodos de las listas\n",
    "El el objeto de tipo lista tiene una serie de métodos integrados. Veamos algunos de los principales:"
   ]
  },
  {
   "cell_type": "code",
   "execution_count": 72,
   "id": "b026ac08",
   "metadata": {},
   "outputs": [],
   "source": [
    "# crearemos una lista nueva utilizando el método range\n",
    "lst4 = list(range(1, 40, 2))"
   ]
  },
  {
   "cell_type": "code",
   "execution_count": 73,
   "id": "46f8358e",
   "metadata": {},
   "outputs": [
    {
     "name": "stdout",
     "output_type": "stream",
     "text": [
      "[1, 3, 5, 7, 9, 11, 13, 15, 17, 19, 21, 23, 25, 27, 29, 31, 33, 35, 37, 39]\n"
     ]
    }
   ],
   "source": [
    "print(lst4)"
   ]
  },
  {
   "cell_type": "markdown",
   "id": "866e9c8d",
   "metadata": {},
   "source": [
    "`index`: devuelve el índice en el que aparece un elemento"
   ]
  },
  {
   "cell_type": "code",
   "execution_count": 75,
   "id": "cdd77b29",
   "metadata": {},
   "outputs": [
    {
     "data": {
      "text/plain": [
       "4"
      ]
     },
     "execution_count": 75,
     "metadata": {},
     "output_type": "execute_result"
    }
   ],
   "source": [
    "# ¿en qué posición aparece el número 9?\n",
    "\n",
    "lst4.index(9)"
   ]
  },
  {
   "cell_type": "code",
   "execution_count": 76,
   "id": "3632fee9",
   "metadata": {},
   "outputs": [
    {
     "data": {
      "text/plain": [
       "9"
      ]
     },
     "execution_count": 76,
     "metadata": {},
     "output_type": "execute_result"
    }
   ],
   "source": [
    "lst4[4]"
   ]
  },
  {
   "cell_type": "code",
   "execution_count": 77,
   "id": "f9368542",
   "metadata": {},
   "outputs": [
    {
     "data": {
      "text/plain": [
       "19"
      ]
     },
     "execution_count": 77,
     "metadata": {},
     "output_type": "execute_result"
    }
   ],
   "source": [
    "# ¿en qué posición aparece el número 39?\n",
    "lst4.index(39)"
   ]
  },
  {
   "cell_type": "markdown",
   "id": "8a33c7ab",
   "metadata": {},
   "source": [
    "`append`: añade un elemento al final de la lista"
   ]
  },
  {
   "cell_type": "code",
   "execution_count": 78,
   "id": "6c170553",
   "metadata": {},
   "outputs": [],
   "source": [
    "# añadimos un elemento nuevo (en este caso el número 10) en lst4\n",
    "\n",
    "lst4.append(51)"
   ]
  },
  {
   "cell_type": "code",
   "execution_count": 79,
   "id": "18b48f81",
   "metadata": {},
   "outputs": [
    {
     "name": "stdout",
     "output_type": "stream",
     "text": [
      "[1, 3, 5, 7, 9, 11, 13, 15, 17, 19, 21, 23, 25, 27, 29, 31, 33, 35, 37, 39, 51]\n"
     ]
    }
   ],
   "source": [
    "# si miramos ahora la lista veremos que lst4 tiene un nuevo elemento al final, el número 10. \n",
    "\n",
    "print(lst4)"
   ]
  },
  {
   "cell_type": "code",
   "execution_count": 80,
   "id": "366d4056",
   "metadata": {},
   "outputs": [],
   "source": [
    "# como las listas aceptan distintos tipos de datos, podríamos añadir un elemento que fuera un string\n",
    "\n",
    "lst4.append('cosinchis')"
   ]
  },
  {
   "cell_type": "code",
   "execution_count": 81,
   "id": "cd4ec585",
   "metadata": {},
   "outputs": [
    {
     "name": "stdout",
     "output_type": "stream",
     "text": [
      "[1, 3, 5, 7, 9, 11, 13, 15, 17, 19, 21, 23, 25, 27, 29, 31, 33, 35, 37, 39, 51, 'cosinchis']\n"
     ]
    }
   ],
   "source": [
    "print(lst4)"
   ]
  },
  {
   "cell_type": "code",
   "execution_count": 85,
   "id": "40bb1ed1",
   "metadata": {},
   "outputs": [],
   "source": [
    "# también podemos apendear listas. Pero atención ⚠️ toda la lista será un elemento, es decir, tendremos una lista de listas\n",
    "\n",
    "lst4.append(['pepe',2,3,4,5])"
   ]
  },
  {
   "cell_type": "code",
   "execution_count": 86,
   "id": "ad48705f",
   "metadata": {},
   "outputs": [
    {
     "name": "stdout",
     "output_type": "stream",
     "text": [
      "[1, 3, 5, 7, 9, 11, 13, 15, 17, 19, 21, 23, 25, 27, 29, 31, 33, 35, 37, 39, 51, 'cosinchis', [1, 2, 3, 4, 5], ['pepe', 2, 3, 4, 5]]\n"
     ]
    }
   ],
   "source": [
    "print(lst4)"
   ]
  },
  {
   "cell_type": "code",
   "execution_count": 87,
   "id": "0e63c1dd",
   "metadata": {},
   "outputs": [
    {
     "data": {
      "text/plain": [
       "['pepe', 2, 3, 4, 5]"
      ]
     },
     "execution_count": 87,
     "metadata": {},
     "output_type": "execute_result"
    }
   ],
   "source": [
    "# Como vimos antes, si accedemos al último elemento de lst4 veremos que es la lista completa\n",
    "\n",
    "lst4[-1]"
   ]
  },
  {
   "cell_type": "code",
   "execution_count": 89,
   "id": "b3c20a04",
   "metadata": {},
   "outputs": [
    {
     "data": {
      "text/plain": [
       "'pepe'"
      ]
     },
     "execution_count": 89,
     "metadata": {},
     "output_type": "execute_result"
    }
   ],
   "source": [
    "# Si queremos acceder a \"pepe\" tendremos que seleccionar la sublista\n",
    "lst4[-1]\n",
    "\n",
    "# dentro de la sublista seleccionar el elemento que está en la posición 0\n",
    "lst4[-1][0]   # doble indice"
   ]
  },
  {
   "cell_type": "markdown",
   "id": "91d908ad",
   "metadata": {},
   "source": [
    "`extend`: une una lista a otra"
   ]
  },
  {
   "cell_type": "code",
   "execution_count": 90,
   "id": "2694da9c",
   "metadata": {},
   "outputs": [
    {
     "data": {
      "text/plain": [
       "[0, 2, 4, 6, 8]"
      ]
     },
     "execution_count": 90,
     "metadata": {},
     "output_type": "execute_result"
    }
   ],
   "source": [
    "# creemos de nuevo una lista nueva\n",
    "\n",
    "lst5 = list(range(0,10,2))\n",
    "lst5"
   ]
  },
  {
   "cell_type": "code",
   "execution_count": 91,
   "id": "7ea39943",
   "metadata": {},
   "outputs": [
    {
     "data": {
      "text/plain": [
       "['alumnos', 3, 'chocolate']"
      ]
     },
     "execution_count": 91,
     "metadata": {},
     "output_type": "execute_result"
    }
   ],
   "source": [
    "# también trabajaremos con la lst3, recordemos como era\n",
    "lst3"
   ]
  },
  {
   "cell_type": "code",
   "execution_count": 92,
   "id": "25c99590",
   "metadata": {},
   "outputs": [
    {
     "data": {
      "text/plain": [
       "[0, 2, 4, 6, 8, 'alumnos', 3, 'chocolate']"
      ]
     },
     "execution_count": 92,
     "metadata": {},
     "output_type": "execute_result"
    }
   ],
   "source": [
    "# juntemos la lst5 con la lst3\n",
    "\n",
    "lst5 + lst3 # esto es a las bravas, no recomendado por memoria"
   ]
  },
  {
   "cell_type": "code",
   "execution_count": 93,
   "id": "8a92f3bb",
   "metadata": {},
   "outputs": [],
   "source": [
    "lst5.extend(lst3)   # esta la opcion rapida, eficiente"
   ]
  },
  {
   "cell_type": "code",
   "execution_count": 94,
   "id": "5d2d4dcf",
   "metadata": {},
   "outputs": [
    {
     "name": "stdout",
     "output_type": "stream",
     "text": [
      "[0, 2, 4, 6, 8, 'alumnos', 3, 'chocolate']\n"
     ]
    }
   ],
   "source": [
    "print(lst5)"
   ]
  },
  {
   "cell_type": "markdown",
   "id": "754fc546",
   "metadata": {},
   "source": [
    "¿Qué es lo que ha pasado aquí? ¿Qué diferencia al `append()` del `extend()`? \n",
    "\n",
    "- Si nos fijamos cuando usamos el método `extend()` lo que hacemos es añadir los elementos de una lista a otra de uno en uno. \n",
    "\n",
    "- Por el contrario, con el `append()` lo que hacemos es apendear la lista tal cuál, como un elemento más de la lista de origen. "
   ]
  },
  {
   "cell_type": "markdown",
   "id": "ced73f99",
   "metadata": {},
   "source": [
    "`insert`: agrega un elemento a la lista en un índice específico"
   ]
  },
  {
   "cell_type": "markdown",
   "id": "ac56d324",
   "metadata": {},
   "source": [
    " **¡¡¡ RECORDEMOS !!! para usar este método necesitaremos :** \n",
    "\n",
    "1️⃣ La POSICIÓN donde queremos insertar los datos  \n",
    "\n",
    "\n",
    "2️⃣ El DATO que queremos insertar"
   ]
  },
  {
   "cell_type": "code",
   "execution_count": 95,
   "id": "c0a9232a",
   "metadata": {},
   "outputs": [
    {
     "name": "stdout",
     "output_type": "stream",
     "text": [
      "[90, 0, 2, 4, 6, 8, 'alumnos', 3, 'chocolate']\n"
     ]
    }
   ],
   "source": [
    "# insertamos un 90 en la posición 0\n",
    "\n",
    "lst5.insert(0, 90) \n",
    "print(lst5)"
   ]
  },
  {
   "cell_type": "code",
   "execution_count": 96,
   "id": "8e4bb3c0",
   "metadata": {},
   "outputs": [
    {
     "name": "stdout",
     "output_type": "stream",
     "text": [
      "[90, 0, 2, 'hola mundo', 4, 6, 8, 'alumnos', 3, 'chocolate']\n"
     ]
    }
   ],
   "source": [
    "# insertamos un \"hola mundo\" en tercer indice, posicion cuatro, empieza en cero\n",
    "\n",
    "lst5.insert(3, \"hola mundo\")\n",
    "print(lst5)"
   ]
  },
  {
   "cell_type": "markdown",
   "id": "c8eca285",
   "metadata": {},
   "source": [
    "`count`: cuenta el número de veces que aparece un elemento"
   ]
  },
  {
   "cell_type": "code",
   "execution_count": 97,
   "id": "5acf8075",
   "metadata": {},
   "outputs": [
    {
     "data": {
      "text/plain": [
       "1"
      ]
     },
     "execution_count": 97,
     "metadata": {},
     "output_type": "execute_result"
    }
   ],
   "source": [
    "lst5.count(2)"
   ]
  },
  {
   "cell_type": "code",
   "execution_count": 100,
   "id": "1fefcc96",
   "metadata": {},
   "outputs": [
    {
     "data": {
      "text/plain": [
       "1"
      ]
     },
     "execution_count": 100,
     "metadata": {},
     "output_type": "execute_result"
    }
   ],
   "source": [
    "# para encontrar a pepe tenemos que acceder a la lista primero\n",
    "lst4[-1].count('pepe')"
   ]
  },
  {
   "cell_type": "code",
   "execution_count": 101,
   "id": "15bac637",
   "metadata": {},
   "outputs": [
    {
     "data": {
      "text/plain": [
       "0"
      ]
     },
     "execution_count": 101,
     "metadata": {},
     "output_type": "execute_result"
    }
   ],
   "source": [
    "lst4.count('pepe')"
   ]
  },
  {
   "cell_type": "markdown",
   "id": "146a74a9",
   "metadata": {},
   "source": [
    "`reverse`: le da la vuelta a la lista"
   ]
  },
  {
   "cell_type": "code",
   "execution_count": 102,
   "id": "8020a7ee",
   "metadata": {},
   "outputs": [
    {
     "data": {
      "text/plain": [
       "['alumnos', 3, 'chocolate']"
      ]
     },
     "execution_count": 102,
     "metadata": {},
     "output_type": "execute_result"
    }
   ],
   "source": [
    "# recordemos que es lst3\n",
    "lst3"
   ]
  },
  {
   "cell_type": "code",
   "execution_count": 103,
   "id": "49de8683",
   "metadata": {},
   "outputs": [],
   "source": [
    "lst3.reverse()   # sobreescribe la lista"
   ]
  },
  {
   "cell_type": "code",
   "execution_count": 105,
   "id": "7e6a1a4c",
   "metadata": {},
   "outputs": [
    {
     "data": {
      "text/plain": [
       "['alumnos', 3, 'chocolate']"
      ]
     },
     "execution_count": 105,
     "metadata": {},
     "output_type": "execute_result"
    }
   ],
   "source": [
    "# vereis en algunas ocasiones esta forma de darle la vuelta a una lista\n",
    "lst3[::-1]"
   ]
  },
  {
   "cell_type": "code",
   "execution_count": 106,
   "id": "31104411",
   "metadata": {},
   "outputs": [
    {
     "data": {
      "text/plain": [
       "['chocolate', 3, 'alumnos']"
      ]
     },
     "execution_count": 106,
     "metadata": {},
     "output_type": "execute_result"
    }
   ],
   "source": [
    "lst3"
   ]
  },
  {
   "cell_type": "code",
   "execution_count": 107,
   "id": "6e4fa9e1",
   "metadata": {},
   "outputs": [
    {
     "data": {
      "text/plain": [
       "['alumnos', 3, 'chocolate']"
      ]
     },
     "execution_count": 107,
     "metadata": {},
     "output_type": "execute_result"
    }
   ],
   "source": [
    "lst3 = lst3[::-1]\n",
    "\n",
    "lst3"
   ]
  },
  {
   "cell_type": "code",
   "execution_count": 108,
   "id": "49c5556b",
   "metadata": {},
   "outputs": [],
   "source": [
    "#lst3 = lst3.reverse()  # cuidado con esto, se convierte en None"
   ]
  },
  {
   "cell_type": "code",
   "execution_count": 110,
   "id": "0c6aa290",
   "metadata": {},
   "outputs": [
    {
     "name": "stdout",
     "output_type": "stream",
     "text": [
      "None\n"
     ]
    }
   ],
   "source": [
    "print(lst3)"
   ]
  },
  {
   "cell_type": "markdown",
   "id": "85d576ca",
   "metadata": {},
   "source": [
    "`sort`: ordena automáticamente los elementos de una lista por su valor de menor a mayor\n",
    "\n",
    "🚨 Este método sobreescribe la lista original!"
   ]
  },
  {
   "cell_type": "code",
   "execution_count": 113,
   "id": "6f7f775b",
   "metadata": {
    "scrolled": true
   },
   "outputs": [
    {
     "ename": "TypeError",
     "evalue": "'<' not supported between instances of 'int' and 'str'",
     "output_type": "error",
     "traceback": [
      "\u001b[0;31m---------------------------------------------------------------------------\u001b[0m",
      "\u001b[0;31mTypeError\u001b[0m                                 Traceback (most recent call last)",
      "Cell \u001b[0;32mIn[113], line 1\u001b[0m\n\u001b[0;32m----> 1\u001b[0m \u001b[43mlst3\u001b[49m\u001b[38;5;241;43m.\u001b[39;49m\u001b[43msort\u001b[49m\u001b[43m(\u001b[49m\u001b[43m)\u001b[49m\n",
      "\u001b[0;31mTypeError\u001b[0m: '<' not supported between instances of 'int' and 'str'"
     ]
    }
   ],
   "source": [
    "lst3.sort()"
   ]
  },
  {
   "cell_type": "code",
   "execution_count": 117,
   "id": "232772e6",
   "metadata": {},
   "outputs": [
    {
     "data": {
      "text/plain": [
       "[1, 2, 4, 6, 8, 0]"
      ]
     },
     "execution_count": 117,
     "metadata": {},
     "output_type": "execute_result"
    }
   ],
   "source": [
    "lst.append(0)\n",
    "\n",
    "lst"
   ]
  },
  {
   "cell_type": "code",
   "execution_count": 118,
   "id": "3f58cfd7",
   "metadata": {},
   "outputs": [],
   "source": [
    "lst.sort()"
   ]
  },
  {
   "cell_type": "code",
   "execution_count": 119,
   "id": "37d2f64e",
   "metadata": {},
   "outputs": [
    {
     "data": {
      "text/plain": [
       "[0, 1, 2, 4, 6, 8]"
      ]
     },
     "execution_count": 119,
     "metadata": {},
     "output_type": "execute_result"
    }
   ],
   "source": [
    "lst"
   ]
  },
  {
   "cell_type": "markdown",
   "id": "80ac1371",
   "metadata": {},
   "source": [
    "⚠️ Ojo!!!! Si tenemos en nuestra lista elementos que no todos del mismo tipo no podremos ordenarla. El error que tenemos arriba 👆🏼"
   ]
  },
  {
   "cell_type": "code",
   "execution_count": 120,
   "id": "656e54fc",
   "metadata": {
    "scrolled": true
   },
   "outputs": [],
   "source": [
    "# para hacer el ejemplo de ordenar vamos a crearnos una lista nueva\n",
    "lst6 = [23, 1, 23, 78, 2, 34, 2]"
   ]
  },
  {
   "cell_type": "code",
   "execution_count": 121,
   "id": "66614f47",
   "metadata": {},
   "outputs": [],
   "source": [
    "lst6.sort()"
   ]
  },
  {
   "cell_type": "code",
   "execution_count": 122,
   "id": "1d62fb9f",
   "metadata": {},
   "outputs": [
    {
     "data": {
      "text/plain": [
       "[1, 2, 2, 23, 23, 34, 78]"
      ]
     },
     "execution_count": 122,
     "metadata": {},
     "output_type": "execute_result"
    }
   ],
   "source": [
    "lst6"
   ]
  },
  {
   "cell_type": "markdown",
   "id": "5c996957",
   "metadata": {},
   "source": [
    "**NOTA**: si nos fijamos por defecto ordena de menor a mayor. En caso de que querramos ordenar de mayor a menor podremos utilizar el argumento `reverse = True` para indicar que la ordene al revés"
   ]
  },
  {
   "cell_type": "code",
   "execution_count": 123,
   "id": "bd4e428d",
   "metadata": {},
   "outputs": [],
   "source": [
    "lst6.sort(reverse = True)"
   ]
  },
  {
   "cell_type": "code",
   "execution_count": 124,
   "id": "9410e3a5",
   "metadata": {},
   "outputs": [
    {
     "data": {
      "text/plain": [
       "[78, 34, 23, 23, 2, 2, 1]"
      ]
     },
     "execution_count": 124,
     "metadata": {},
     "output_type": "execute_result"
    }
   ],
   "source": [
    "lst6"
   ]
  },
  {
   "cell_type": "markdown",
   "id": "96376202",
   "metadata": {},
   "source": [
    "¿Qué pasaría si nuestra lista estuviera compuesta por *strings*? "
   ]
  },
  {
   "cell_type": "code",
   "execution_count": 125,
   "id": "1322a07c",
   "metadata": {},
   "outputs": [],
   "source": [
    "lst7 = [\"chorizo\", \"brocoli\", \"patatas\"]"
   ]
  },
  {
   "cell_type": "code",
   "execution_count": 126,
   "id": "b4b8386d",
   "metadata": {},
   "outputs": [
    {
     "data": {
      "text/plain": [
       "['brocoli', 'chorizo', 'patatas']"
      ]
     },
     "execution_count": 126,
     "metadata": {},
     "output_type": "execute_result"
    }
   ],
   "source": [
    "lst7.sort()\n",
    "lst7"
   ]
  },
  {
   "cell_type": "markdown",
   "id": "7d68c1b1",
   "metadata": {},
   "source": [
    "`sorted`: ordena los elementos de una lista, **pero a diferencia del sort no nos sobreescribe la lista original, tendremos que crearnos una variable nueva**"
   ]
  },
  {
   "cell_type": "code",
   "execution_count": 127,
   "id": "70231449",
   "metadata": {},
   "outputs": [],
   "source": [
    "lst8 = [8, 9, 4,26, 19]"
   ]
  },
  {
   "cell_type": "code",
   "execution_count": 128,
   "id": "4ba4adf7",
   "metadata": {},
   "outputs": [
    {
     "data": {
      "text/plain": [
       "[4, 8, 9, 19, 26]"
      ]
     },
     "execution_count": 128,
     "metadata": {},
     "output_type": "execute_result"
    }
   ],
   "source": [
    "sorted(lst8)"
   ]
  },
  {
   "cell_type": "code",
   "execution_count": 129,
   "id": "6d27f3e7",
   "metadata": {},
   "outputs": [
    {
     "data": {
      "text/plain": [
       "[8, 9, 4, 26, 19]"
      ]
     },
     "execution_count": 129,
     "metadata": {},
     "output_type": "execute_result"
    }
   ],
   "source": [
    "# si ahora vemos el resultado el método anterior, veremos que la lista no ha sido modificada. \n",
    "\n",
    "lst8"
   ]
  },
  {
   "cell_type": "code",
   "execution_count": 130,
   "id": "d6ed110f",
   "metadata": {},
   "outputs": [
    {
     "data": {
      "text/plain": [
       "[4, 8, 9, 19, 26]"
      ]
     },
     "execution_count": 130,
     "metadata": {},
     "output_type": "execute_result"
    }
   ],
   "source": [
    "# para guardar los resultados del sorted tendremos que asignarlo a una nueva variable\n",
    "\n",
    "lst8_ordenado = sorted(lst8)\n",
    "\n",
    "lst8_ordenado"
   ]
  },
  {
   "cell_type": "markdown",
   "id": "a4411b02",
   "metadata": {},
   "source": [
    "`pop`: elimina un elemento de la lista. \n",
    "\n",
    "🚨 Por defecto elimina un elemento al azar de la lista. "
   ]
  },
  {
   "cell_type": "code",
   "execution_count": 131,
   "id": "1254a421",
   "metadata": {},
   "outputs": [
    {
     "data": {
      "text/plain": [
       "['alumnos', 3, 'chocolate']"
      ]
     },
     "execution_count": 131,
     "metadata": {},
     "output_type": "execute_result"
    }
   ],
   "source": [
    "lst3"
   ]
  },
  {
   "cell_type": "code",
   "execution_count": 132,
   "id": "9e99b9f1",
   "metadata": {},
   "outputs": [
    {
     "data": {
      "text/plain": [
       "'chocolate'"
      ]
     },
     "execution_count": 132,
     "metadata": {},
     "output_type": "execute_result"
    }
   ],
   "source": [
    "lst3.pop()"
   ]
  },
  {
   "cell_type": "code",
   "execution_count": 133,
   "id": "feb034c3",
   "metadata": {},
   "outputs": [
    {
     "data": {
      "text/plain": [
       "['alumnos', 3]"
      ]
     },
     "execution_count": 133,
     "metadata": {},
     "output_type": "execute_result"
    }
   ],
   "source": [
    "lst3"
   ]
  },
  {
   "cell_type": "code",
   "execution_count": 134,
   "id": "3e266b33",
   "metadata": {},
   "outputs": [
    {
     "data": {
      "text/plain": [
       "'alumnos'"
      ]
     },
     "execution_count": 134,
     "metadata": {},
     "output_type": "execute_result"
    }
   ],
   "source": [
    "# 🚨 también le podemos especificar que elemento queremos eliminar a través de su posición\n",
    "\n",
    "lst3.pop(0)"
   ]
  },
  {
   "cell_type": "code",
   "execution_count": 135,
   "id": "5348f345",
   "metadata": {},
   "outputs": [
    {
     "data": {
      "text/plain": [
       "[3]"
      ]
     },
     "execution_count": 135,
     "metadata": {},
     "output_type": "execute_result"
    }
   ],
   "source": [
    "lst3"
   ]
  },
  {
   "cell_type": "code",
   "execution_count": 138,
   "id": "a2c639d3",
   "metadata": {},
   "outputs": [
    {
     "data": {
      "text/plain": [
       "3"
      ]
     },
     "execution_count": 138,
     "metadata": {},
     "output_type": "execute_result"
    }
   ],
   "source": [
    "lst5.index('hola mundo')"
   ]
  },
  {
   "cell_type": "code",
   "execution_count": 139,
   "id": "5df36375",
   "metadata": {},
   "outputs": [
    {
     "data": {
      "text/plain": [
       "'hola mundo'"
      ]
     },
     "execution_count": 139,
     "metadata": {},
     "output_type": "execute_result"
    }
   ],
   "source": [
    "indice = lst5.index('hola mundo')\n",
    "\n",
    "lst5.pop(indice)"
   ]
  },
  {
   "cell_type": "code",
   "execution_count": 140,
   "id": "7b2bc789",
   "metadata": {},
   "outputs": [
    {
     "data": {
      "text/plain": [
       "[90, 0, 2, 4, 6, 8, 'alumnos', 3, 'chocolate']"
      ]
     },
     "execution_count": 140,
     "metadata": {},
     "output_type": "execute_result"
    }
   ],
   "source": [
    "lst5"
   ]
  },
  {
   "cell_type": "markdown",
   "id": "745ec312",
   "metadata": {},
   "source": [
    "`remove`: borra el primer elemento de la lista cuyo valor concuerde con el que especificamos"
   ]
  },
  {
   "cell_type": "code",
   "execution_count": 141,
   "id": "6e554c42",
   "metadata": {},
   "outputs": [
    {
     "data": {
      "text/plain": [
       "[78, 34, 23, 23, 2, 2, 1]"
      ]
     },
     "execution_count": 141,
     "metadata": {},
     "output_type": "execute_result"
    }
   ],
   "source": [
    "lst6"
   ]
  },
  {
   "cell_type": "code",
   "execution_count": 145,
   "id": "45856329",
   "metadata": {},
   "outputs": [],
   "source": [
    "lst6.remove(2)"
   ]
  },
  {
   "cell_type": "code",
   "execution_count": 146,
   "id": "4c8e4850",
   "metadata": {},
   "outputs": [
    {
     "data": {
      "text/plain": [
       "[78, 34, 23, 23, 2, 1]"
      ]
     },
     "execution_count": 146,
     "metadata": {},
     "output_type": "execute_result"
    }
   ],
   "source": [
    "lst6"
   ]
  },
  {
   "cell_type": "code",
   "execution_count": 147,
   "id": "c07907b5",
   "metadata": {
    "scrolled": true
   },
   "outputs": [
    {
     "ename": "ValueError",
     "evalue": "list.remove(x): x not in list",
     "output_type": "error",
     "traceback": [
      "\u001b[0;31m---------------------------------------------------------------------------\u001b[0m",
      "\u001b[0;31mValueError\u001b[0m                                Traceback (most recent call last)",
      "Cell \u001b[0;32mIn[147], line 2\u001b[0m\n\u001b[1;32m      1\u001b[0m \u001b[38;5;66;03m# si especificamos un valor que no esta en nuestra lista nos dará un value error\u001b[39;00m\n\u001b[0;32m----> 2\u001b[0m \u001b[43mlst6\u001b[49m\u001b[38;5;241;43m.\u001b[39;49m\u001b[43mremove\u001b[49m\u001b[43m(\u001b[49m\u001b[38;5;241;43m10\u001b[39;49m\u001b[43m)\u001b[49m\n",
      "\u001b[0;31mValueError\u001b[0m: list.remove(x): x not in list"
     ]
    }
   ],
   "source": [
    "# si especificamos un valor que no esta en nuestra lista nos dará un value error\n",
    "lst6.remove(10)"
   ]
  },
  {
   "cell_type": "markdown",
   "id": "ea592081",
   "metadata": {},
   "source": [
    "`clear`: vacía todos los ítems de una lista"
   ]
  },
  {
   "cell_type": "code",
   "execution_count": 148,
   "id": "ca9de4be",
   "metadata": {},
   "outputs": [
    {
     "data": {
      "text/plain": [
       "[3]"
      ]
     },
     "execution_count": 148,
     "metadata": {},
     "output_type": "execute_result"
    }
   ],
   "source": [
    "lst3"
   ]
  },
  {
   "cell_type": "code",
   "execution_count": 149,
   "id": "247e9cae",
   "metadata": {
    "scrolled": true
   },
   "outputs": [],
   "source": [
    "lst3.clear()"
   ]
  },
  {
   "cell_type": "code",
   "execution_count": 150,
   "id": "6a62a330",
   "metadata": {},
   "outputs": [
    {
     "data": {
      "text/plain": [
       "[]"
      ]
     },
     "execution_count": 150,
     "metadata": {},
     "output_type": "execute_result"
    }
   ],
   "source": [
    "lst3"
   ]
  },
  {
   "cell_type": "markdown",
   "id": "5e73166d",
   "metadata": {},
   "source": [
    "# Tuplas "
   ]
  },
  {
   "cell_type": "markdown",
   "id": "303c791e",
   "metadata": {},
   "source": [
    "Las tuplas en Python  son muy similares a las listas, pero con dos diferencias:\n",
    "\n",
    "- Son inmutables, lo que significa que no pueden ser modificadas una vez declaradas. \n",
    "  \n",
    "- En vez de inicializarse con corchetes se hace con (). Dependiendo de lo que queramos hacer, las tuplas pueden ser más rápidas.\n",
    "\n",
    "Al igual que las listas las podemos crear de dos formas diferentes: \n",
    "\n",
    "- Usando los `()` como hemos mencionado\n",
    "\n",
    "- Usando el método `tuple()`\n"
   ]
  },
  {
   "cell_type": "markdown",
   "id": "f67bb970",
   "metadata": {},
   "source": [
    "## Creación de tuplas"
   ]
  },
  {
   "cell_type": "code",
   "execution_count": 151,
   "id": "28460aa4",
   "metadata": {},
   "outputs": [],
   "source": [
    "tupla = (1,2,3,4,5,6,7,8,9)"
   ]
  },
  {
   "cell_type": "code",
   "execution_count": 152,
   "id": "21e58fa6",
   "metadata": {},
   "outputs": [
    {
     "data": {
      "text/plain": [
       "tuple"
      ]
     },
     "execution_count": 152,
     "metadata": {},
     "output_type": "execute_result"
    }
   ],
   "source": [
    "type(tupla)"
   ]
  },
  {
   "cell_type": "code",
   "execution_count": 153,
   "id": "bda7068b",
   "metadata": {},
   "outputs": [
    {
     "data": {
      "text/plain": [
       "tuple"
      ]
     },
     "execution_count": 153,
     "metadata": {},
     "output_type": "execute_result"
    }
   ],
   "source": [
    "# otra forma de crear una tupla\n",
    "tupla2 = tuple()\n",
    "type(tupla2)"
   ]
  },
  {
   "cell_type": "code",
   "execution_count": 154,
   "id": "39b9bbc2",
   "metadata": {},
   "outputs": [
    {
     "data": {
      "text/plain": [
       "(1,)"
      ]
     },
     "execution_count": 154,
     "metadata": {},
     "output_type": "execute_result"
    }
   ],
   "source": [
    "# otra forma más, lo podemos hacer con números\n",
    "\n",
    "(1,)"
   ]
  },
  {
   "cell_type": "code",
   "execution_count": 155,
   "id": "7b979617",
   "metadata": {},
   "outputs": [
    {
     "data": {
      "text/plain": [
       "tuple"
      ]
     },
     "execution_count": 155,
     "metadata": {},
     "output_type": "execute_result"
    }
   ],
   "source": [
    "type((1,))"
   ]
  },
  {
   "cell_type": "code",
   "execution_count": 156,
   "id": "89caebed",
   "metadata": {},
   "outputs": [
    {
     "data": {
      "text/plain": [
       "1"
      ]
     },
     "execution_count": 156,
     "metadata": {},
     "output_type": "execute_result"
    }
   ],
   "source": [
    "(1)"
   ]
  },
  {
   "cell_type": "code",
   "execution_count": 157,
   "id": "e02350be",
   "metadata": {},
   "outputs": [
    {
     "data": {
      "text/plain": [
       "int"
      ]
     },
     "execution_count": 157,
     "metadata": {},
     "output_type": "execute_result"
    }
   ],
   "source": [
    "type((1))"
   ]
  },
  {
   "cell_type": "code",
   "execution_count": 158,
   "id": "a71c817a",
   "metadata": {},
   "outputs": [
    {
     "data": {
      "text/plain": [
       "tuple"
      ]
     },
     "execution_count": 158,
     "metadata": {},
     "output_type": "execute_result"
    }
   ],
   "source": [
    "chorizo = 1, \n",
    "type(chorizo)"
   ]
  },
  {
   "cell_type": "code",
   "execution_count": 159,
   "id": "3b6d7413",
   "metadata": {},
   "outputs": [
    {
     "data": {
      "text/plain": [
       "tuple"
      ]
     },
     "execution_count": 159,
     "metadata": {},
     "output_type": "execute_result"
    }
   ],
   "source": [
    "# o con strings\n",
    "brocoli = \"I\", \n",
    "type(brocoli)"
   ]
  },
  {
   "cell_type": "markdown",
   "id": "b4ffa6f5",
   "metadata": {},
   "source": [
    "## Propiedades de las tuplas"
   ]
  },
  {
   "cell_type": "code",
   "execution_count": 160,
   "id": "fe86625a",
   "metadata": {},
   "outputs": [
    {
     "data": {
      "text/plain": [
       "9"
      ]
     },
     "execution_count": 160,
     "metadata": {},
     "output_type": "execute_result"
    }
   ],
   "source": [
    "# Al igual que en las listas podremo usar len() para conocer el número de elementos de la tupla\n",
    "len(tupla)\n"
   ]
  },
  {
   "cell_type": "code",
   "execution_count": 161,
   "id": "bb45b24f",
   "metadata": {},
   "outputs": [
    {
     "name": "stdout",
     "output_type": "stream",
     "text": [
      "el valor máximo es:  9\n",
      "el valor mínimo es:  1\n"
     ]
    }
   ],
   "source": [
    "# también podremos sacar sus valores máximos y mínimos\n",
    "print(\"el valor máximo es: \", max(tupla))\n",
    "print(\"el valor mínimo es: \" ,min(tupla))"
   ]
  },
  {
   "cell_type": "markdown",
   "id": "8b21f734",
   "metadata": {},
   "source": [
    "**¿Qué significa que son inmutables?** "
   ]
  },
  {
   "cell_type": "code",
   "execution_count": 162,
   "id": "a4cc4dd2",
   "metadata": {},
   "outputs": [
    {
     "name": "stdout",
     "output_type": "stream",
     "text": [
      "[78, 34, 23, 23, 2, 1]\n"
     ]
    }
   ],
   "source": [
    "print(lst6)"
   ]
  },
  {
   "cell_type": "code",
   "execution_count": 164,
   "id": "c68288a0",
   "metadata": {},
   "outputs": [],
   "source": [
    "# Si queremos cambiar el valor de un elemento de una lista solo tendremos que hacer esto\n",
    "# Si queremos reemplazar el 2 (que esta en la posición 0) por un 100\n",
    "\n",
    "lst6[0] = 100"
   ]
  },
  {
   "cell_type": "code",
   "execution_count": 165,
   "id": "d719fbcd",
   "metadata": {},
   "outputs": [
    {
     "name": "stdout",
     "output_type": "stream",
     "text": [
      "[100, 34, 23, 23, 2, 1]\n"
     ]
    }
   ],
   "source": [
    "print(lst6)"
   ]
  },
  {
   "cell_type": "code",
   "execution_count": 166,
   "id": "62009ef2",
   "metadata": {},
   "outputs": [
    {
     "data": {
      "text/plain": [
       "1"
      ]
     },
     "execution_count": 166,
     "metadata": {},
     "output_type": "execute_result"
    }
   ],
   "source": [
    "# si lo intentamos para una tupla nos dará error 🤓, SON INMUTABLES!\n",
    "tupla[0]"
   ]
  },
  {
   "cell_type": "code",
   "execution_count": 167,
   "id": "6db04941",
   "metadata": {},
   "outputs": [
    {
     "ename": "TypeError",
     "evalue": "'tuple' object does not support item assignment",
     "output_type": "error",
     "traceback": [
      "\u001b[0;31m---------------------------------------------------------------------------\u001b[0m",
      "\u001b[0;31mTypeError\u001b[0m                                 Traceback (most recent call last)",
      "Cell \u001b[0;32mIn[167], line 1\u001b[0m\n\u001b[0;32m----> 1\u001b[0m \u001b[43mtupla\u001b[49m\u001b[43m[\u001b[49m\u001b[38;5;241;43m0\u001b[39;49m\u001b[43m]\u001b[49m \u001b[38;5;241m=\u001b[39m \u001b[38;5;241m100\u001b[39m\n",
      "\u001b[0;31mTypeError\u001b[0m: 'tuple' object does not support item assignment"
     ]
    }
   ],
   "source": [
    "tupla[0] = 100"
   ]
  },
  {
   "cell_type": "markdown",
   "id": "6f2cbeac",
   "metadata": {},
   "source": [
    "Podemos hacerla mutable convirtiendola a lista, cambiando lo queremos y volviendola a hacer tupla"
   ]
  },
  {
   "cell_type": "code",
   "execution_count": 169,
   "id": "b5b16b4d",
   "metadata": {},
   "outputs": [
    {
     "data": {
      "text/plain": [
       "[1, 2, 3, 4, 5, 6, 7, 8, 9]"
      ]
     },
     "execution_count": 169,
     "metadata": {},
     "output_type": "execute_result"
    }
   ],
   "source": [
    "# vamos a cambiar el primer elemento por un 100. \n",
    "# Primero convertimos a lista\n",
    "\n",
    "lista_tupla = list(tupla)\n",
    "lista_tupla"
   ]
  },
  {
   "cell_type": "code",
   "execution_count": 170,
   "id": "030c7911",
   "metadata": {},
   "outputs": [
    {
     "data": {
      "text/plain": [
       "[100, 2, 3, 4, 5, 6, 7, 8, 9]"
      ]
     },
     "execution_count": 170,
     "metadata": {},
     "output_type": "execute_result"
    }
   ],
   "source": [
    "# cambiamos el valor\n",
    "lista_tupla[0] = 100\n",
    "lista_tupla"
   ]
  },
  {
   "cell_type": "code",
   "execution_count": 171,
   "id": "a2e1802f",
   "metadata": {},
   "outputs": [
    {
     "data": {
      "text/plain": [
       "(100, 2, 3, 4, 5, 6, 7, 8, 9)"
      ]
     },
     "execution_count": 171,
     "metadata": {},
     "output_type": "execute_result"
    }
   ],
   "source": [
    "# volvemos a convertir a tupla\n",
    "tupla = tuple(lista_tupla)\n",
    "tupla"
   ]
  },
  {
   "cell_type": "code",
   "execution_count": 172,
   "id": "9db3d94d",
   "metadata": {},
   "outputs": [],
   "source": [
    "# otra posible forma de modificar una tupla\n",
    "tup1 = (1,2,3)\n",
    "\n",
    "tup2 = (4,5,6)\n",
    "\n",
    "tup3 = \"Hola\""
   ]
  },
  {
   "cell_type": "code",
   "execution_count": 173,
   "id": "7d6bf729",
   "metadata": {},
   "outputs": [
    {
     "data": {
      "text/plain": [
       "'Hola'"
      ]
     },
     "execution_count": 173,
     "metadata": {},
     "output_type": "execute_result"
    }
   ],
   "source": [
    "tup1 = tup3\n",
    "\n",
    "tup1"
   ]
  },
  {
   "cell_type": "code",
   "execution_count": 174,
   "id": "6548b900",
   "metadata": {},
   "outputs": [
    {
     "data": {
      "text/plain": [
       "str"
      ]
     },
     "execution_count": 174,
     "metadata": {},
     "output_type": "execute_result"
    }
   ],
   "source": [
    "type(tup1)"
   ]
  },
  {
   "cell_type": "markdown",
   "id": "d6f52d70",
   "metadata": {},
   "source": [
    "Pero ojo aquí! 🚨 En realidad no la estamos modificando. Estamos creando una tupla nueva y luego machacando el valor original de nuestra tupla"
   ]
  },
  {
   "cell_type": "markdown",
   "id": "73e7b156",
   "metadata": {},
   "source": [
    " 📌 Como son inmutables, no tienen métodos para añadir elementos ( *append*) o eliminar (*pop* o *remove*)"
   ]
  },
  {
   "cell_type": "markdown",
   "id": "f38d8e81",
   "metadata": {},
   "source": [
    "## Indexación\n",
    "\n",
    "📌 La indexación en las tuplas es igual que en las listas"
   ]
  },
  {
   "cell_type": "code",
   "execution_count": 175,
   "id": "17c9ae38",
   "metadata": {},
   "outputs": [],
   "source": [
    "# imaginemos que tenmos la siguiente tupla\n",
    "\n",
    "tupla1 = (100, \"Hola\", [1,2,3], -50)"
   ]
  },
  {
   "cell_type": "code",
   "execution_count": 176,
   "id": "91bcaa39",
   "metadata": {},
   "outputs": [
    {
     "data": {
      "text/plain": [
       "'Hola'"
      ]
     },
     "execution_count": 176,
     "metadata": {},
     "output_type": "execute_result"
    }
   ],
   "source": [
    "tupla1[1]"
   ]
  },
  {
   "cell_type": "code",
   "execution_count": 177,
   "id": "c4908024",
   "metadata": {},
   "outputs": [
    {
     "data": {
      "text/plain": [
       "-50"
      ]
     },
     "execution_count": 177,
     "metadata": {},
     "output_type": "execute_result"
    }
   ],
   "source": [
    "tupla1[-1]"
   ]
  },
  {
   "cell_type": "code",
   "execution_count": 178,
   "id": "9bb04e55",
   "metadata": {},
   "outputs": [
    {
     "name": "stdout",
     "output_type": "stream",
     "text": [
      "<class 'int'>\n"
     ]
    }
   ],
   "source": [
    "print(type(tupla1[0]))"
   ]
  },
  {
   "cell_type": "code",
   "execution_count": 179,
   "id": "c3805163",
   "metadata": {},
   "outputs": [
    {
     "name": "stdout",
     "output_type": "stream",
     "text": [
      "<class 'list'>\n"
     ]
    }
   ],
   "source": [
    "print(type(tupla1[2]))"
   ]
  },
  {
   "cell_type": "code",
   "execution_count": 180,
   "id": "456c93d2",
   "metadata": {},
   "outputs": [
    {
     "data": {
      "text/plain": [
       "(4, 5, 6, 7, 8, 9)"
      ]
     },
     "execution_count": 180,
     "metadata": {},
     "output_type": "execute_result"
    }
   ],
   "source": [
    "# slicing\n",
    "tupla[3:]"
   ]
  },
  {
   "cell_type": "markdown",
   "id": "7d4b071c",
   "metadata": {},
   "source": [
    "## Métodos de las tuplas "
   ]
  },
  {
   "cell_type": "code",
   "execution_count": 181,
   "id": "dc0d8fb7",
   "metadata": {},
   "outputs": [],
   "source": [
    "tup = (1,4, \"pepe\", \"zanahoria\", [\"adios\", \"que tal\"])"
   ]
  },
  {
   "cell_type": "markdown",
   "id": "f0a25f2f",
   "metadata": {},
   "source": [
    "`index`: busca un elemento y nos da su posición en la tupla"
   ]
  },
  {
   "cell_type": "code",
   "execution_count": 182,
   "id": "699a2fb3",
   "metadata": {},
   "outputs": [
    {
     "data": {
      "text/plain": [
       "2"
      ]
     },
     "execution_count": 182,
     "metadata": {},
     "output_type": "execute_result"
    }
   ],
   "source": [
    "tup.index(\"pepe\")"
   ]
  },
  {
   "cell_type": "markdown",
   "id": "141cead6",
   "metadata": {},
   "source": [
    "`count`: cuenta cuántas veces aparece un elemento en la tupla"
   ]
  },
  {
   "cell_type": "code",
   "execution_count": 183,
   "id": "d6bfda8b",
   "metadata": {},
   "outputs": [
    {
     "data": {
      "text/plain": [
       "1"
      ]
     },
     "execution_count": 183,
     "metadata": {},
     "output_type": "execute_result"
    }
   ],
   "source": [
    "tup.count(4)"
   ]
  },
  {
   "cell_type": "markdown",
   "id": "5e5d1881",
   "metadata": {},
   "source": [
    "**Cómo son inmutables, no tendremos los métodos que teníamos en listas para eliminar elementos o vaciar la tupla)**"
   ]
  },
  {
   "cell_type": "markdown",
   "id": "8ed37a39",
   "metadata": {},
   "source": [
    "# Diccionarios "
   ]
  },
  {
   "cell_type": "markdown",
   "id": "9763cb45",
   "metadata": {},
   "source": [
    "![image.png](https://github.com/Ironhack-Data-Madrid-PartTime-Oct22/imagenes/blob/master/semana-1/diccionarios.png?raw=true)"
   ]
  },
  {
   "cell_type": "markdown",
   "id": "05c3362f",
   "metadata": {},
   "source": [
    "Los diccionarios en Python nos permiten almacenar una serie de mapeos entre dos conjuntos de elementos, llamados keys and values (Claves y Valores).\n",
    "\n",
    "- Todos los elementos en el diccionario se encuentran encerrados en un par de llaves `{}`.\n",
    "\n",
    "\n",
    "- Cada elemento en un diccionario contiene una clave (*key*) y un valor (*value*) - es decir un par de clave-valor.\n",
    "\n",
    "\n",
    "\n",
    "- Cada par de clave-valor es denominado como elemento (item).\n",
    "\n",
    "\n",
    "- Puede almancenar cualquier tipo de tipo o estructura de datos (*integers*, *floats*, *booleanos*, listas, etc.). \n",
    "\n",
    "\n",
    "- Son **mutables** y **sin orden**.\n",
    "\n",
    "\n",
    "- Las keys son **únicas**. "
   ]
  },
  {
   "cell_type": "markdown",
   "id": "519e0082",
   "metadata": {},
   "source": [
    "-----\n",
    "**¿Cómo podemos crear diccionarios?**\n",
    "\n",
    "- Usando el método `dict()`\n",
    "\n",
    "\n",
    "- Usando las `{}` y definiendo nosotros mismos las `keys` y los `values`"
   ]
  },
  {
   "cell_type": "markdown",
   "id": "ef2fa215",
   "metadata": {},
   "source": [
    "## Creación de diccionarios"
   ]
  },
  {
   "cell_type": "code",
   "execution_count": 184,
   "id": "4d2cd0f4",
   "metadata": {},
   "outputs": [
    {
     "data": {
      "text/plain": [
       "{}"
      ]
     },
     "execution_count": 184,
     "metadata": {},
     "output_type": "execute_result"
    }
   ],
   "source": [
    "# usando dict(). Creamos un diccionario vacio\n",
    "\n",
    "dict1 = dict()\n",
    "dict1"
   ]
  },
  {
   "cell_type": "code",
   "execution_count": 185,
   "id": "0457389e",
   "metadata": {
    "scrolled": true
   },
   "outputs": [
    {
     "data": {
      "text/plain": [
       "{}"
      ]
     },
     "execution_count": 185,
     "metadata": {},
     "output_type": "execute_result"
    }
   ],
   "source": [
    "# usando las {} creamos un diccionario vacío\n",
    "\n",
    "dict2 = {}\n",
    "dict2"
   ]
  },
  {
   "cell_type": "code",
   "execution_count": 186,
   "id": "cd969624",
   "metadata": {},
   "outputs": [
    {
     "data": {
      "text/plain": [
       "{'python': 27, 'plone': 51}"
      ]
     },
     "execution_count": 186,
     "metadata": {},
     "output_type": "execute_result"
    }
   ],
   "source": [
    "# usando las {}\n",
    "\n",
    "dict2 = {'python': 27, 'plone': 51}\n",
    "dict2"
   ]
  },
  {
   "cell_type": "code",
   "execution_count": 187,
   "id": "ec57119c",
   "metadata": {},
   "outputs": [
    {
     "data": {
      "text/plain": [
       "{27: 'python', 51: 'plone'}"
      ]
     },
     "execution_count": 187,
     "metadata": {},
     "output_type": "execute_result"
    }
   ],
   "source": [
    "dict3 = {27:'python', 51:'plone'}\n",
    "dict3"
   ]
  },
  {
   "cell_type": "markdown",
   "id": "8e5c100b",
   "metadata": {},
   "source": [
    "## Propiedades de los diccionarios"
   ]
  },
  {
   "cell_type": "code",
   "execution_count": 188,
   "id": "7589aa5c",
   "metadata": {},
   "outputs": [
    {
     "data": {
      "text/plain": [
       "2"
      ]
     },
     "execution_count": 188,
     "metadata": {},
     "output_type": "execute_result"
    }
   ],
   "source": [
    "# para saber cuantos pares de key:values tenemos usaremos \"len\" como en las listas\n",
    "\n",
    "len(dict2)"
   ]
  },
  {
   "cell_type": "code",
   "execution_count": 189,
   "id": "061350a8",
   "metadata": {},
   "outputs": [
    {
     "data": {
      "text/plain": [
       "dict_keys(['python', 'plone'])"
      ]
     },
     "execution_count": 189,
     "metadata": {},
     "output_type": "execute_result"
    }
   ],
   "source": [
    "# para conocer las keys que tiene nuestro diccionario\n",
    "\n",
    "dict2.keys()"
   ]
  },
  {
   "cell_type": "code",
   "execution_count": 190,
   "id": "3099738b",
   "metadata": {},
   "outputs": [
    {
     "data": {
      "text/plain": [
       "dict_values([27, 51])"
      ]
     },
     "execution_count": 190,
     "metadata": {},
     "output_type": "execute_result"
    }
   ],
   "source": [
    "# para acceder a los values de nuestro diccionario\n",
    "\n",
    "dict2.values()"
   ]
  },
  {
   "cell_type": "code",
   "execution_count": 191,
   "id": "0299a5de",
   "metadata": {},
   "outputs": [
    {
     "data": {
      "text/plain": [
       "dict_items([('python', 27), ('plone', 51)])"
      ]
     },
     "execution_count": 191,
     "metadata": {},
     "output_type": "execute_result"
    }
   ],
   "source": [
    "dict2.items()"
   ]
  },
  {
   "cell_type": "markdown",
   "id": "32d0c980",
   "metadata": {},
   "source": [
    "## Indexación de los diccionarios\n",
    "\n",
    "Ya sabemos crear diccionarios, pero... ¿Cómo accedemos a sus elementos si no tienen orden? "
   ]
  },
  {
   "cell_type": "code",
   "execution_count": 192,
   "id": "6b415374",
   "metadata": {},
   "outputs": [
    {
     "ename": "KeyError",
     "evalue": "0",
     "output_type": "error",
     "traceback": [
      "\u001b[0;31m---------------------------------------------------------------------------\u001b[0m",
      "\u001b[0;31mKeyError\u001b[0m                                  Traceback (most recent call last)",
      "Cell \u001b[0;32mIn[192], line 1\u001b[0m\n\u001b[0;32m----> 1\u001b[0m \u001b[43mdict2\u001b[49m\u001b[43m[\u001b[49m\u001b[38;5;241;43m0\u001b[39;49m\u001b[43m]\u001b[49m\n",
      "\u001b[0;31mKeyError\u001b[0m: 0"
     ]
    }
   ],
   "source": [
    "dict2[0]"
   ]
  },
  {
   "cell_type": "code",
   "execution_count": 193,
   "id": "dcc9636a",
   "metadata": {},
   "outputs": [
    {
     "data": {
      "text/plain": [
       "27"
      ]
     },
     "execution_count": 193,
     "metadata": {},
     "output_type": "execute_result"
    }
   ],
   "source": [
    "# podemos acceder a los valores de un diccionario a través de sus keys\n",
    "\n",
    "dict2['python']"
   ]
  },
  {
   "cell_type": "code",
   "execution_count": 194,
   "id": "bd214cbe",
   "metadata": {},
   "outputs": [
    {
     "ename": "KeyError",
     "evalue": "27",
     "output_type": "error",
     "traceback": [
      "\u001b[0;31m---------------------------------------------------------------------------\u001b[0m",
      "\u001b[0;31mKeyError\u001b[0m                                  Traceback (most recent call last)",
      "Cell \u001b[0;32mIn[194], line 1\u001b[0m\n\u001b[0;32m----> 1\u001b[0m \u001b[43mdict2\u001b[49m\u001b[43m[\u001b[49m\u001b[38;5;241;43m27\u001b[39;49m\u001b[43m]\u001b[49m\n",
      "\u001b[0;31mKeyError\u001b[0m: 27"
     ]
    }
   ],
   "source": [
    "dict2[27]"
   ]
  },
  {
   "cell_type": "code",
   "execution_count": 195,
   "id": "7f890feb",
   "metadata": {},
   "outputs": [
    {
     "data": {
      "text/plain": [
       "51"
      ]
     },
     "execution_count": 195,
     "metadata": {},
     "output_type": "execute_result"
    }
   ],
   "source": [
    "dict2['plone']"
   ]
  },
  {
   "cell_type": "code",
   "execution_count": 196,
   "id": "bc68b748",
   "metadata": {},
   "outputs": [],
   "source": [
    "# para cambiar el value de una key\n",
    "\n",
    "dict2['python'] = 129"
   ]
  },
  {
   "cell_type": "code",
   "execution_count": 197,
   "id": "ed441f68",
   "metadata": {},
   "outputs": [
    {
     "data": {
      "text/plain": [
       "129"
      ]
     },
     "execution_count": 197,
     "metadata": {},
     "output_type": "execute_result"
    }
   ],
   "source": [
    "dict2['python']"
   ]
  },
  {
   "cell_type": "code",
   "execution_count": 198,
   "id": "2fd801a0",
   "metadata": {},
   "outputs": [
    {
     "data": {
      "text/plain": [
       "{'python': 129, 'plone': 51}"
      ]
     },
     "execution_count": 198,
     "metadata": {},
     "output_type": "execute_result"
    }
   ],
   "source": [
    "dict2"
   ]
  },
  {
   "cell_type": "markdown",
   "id": "ec4900c2",
   "metadata": {},
   "source": [
    "## Métodos de los diccionarios"
   ]
  },
  {
   "cell_type": "code",
   "execution_count": 199,
   "id": "f080f6f3",
   "metadata": {},
   "outputs": [],
   "source": [
    "diccionario = {\"Pepe\": 45, \"Rosa\": 30, \"Rodrigo\": 19, \"Irene\": 98}"
   ]
  },
  {
   "cell_type": "markdown",
   "id": "409e87f3",
   "metadata": {},
   "source": [
    "`items`: devuelve una lista de pares de diccionarios(key:values), como tuplas"
   ]
  },
  {
   "cell_type": "code",
   "execution_count": 200,
   "id": "946ae091",
   "metadata": {},
   "outputs": [
    {
     "data": {
      "text/plain": [
       "dict_items([('Pepe', 45), ('Rosa', 30), ('Rodrigo', 19), ('Irene', 98)])"
      ]
     },
     "execution_count": 200,
     "metadata": {},
     "output_type": "execute_result"
    }
   ],
   "source": [
    "diccionario.items()"
   ]
  },
  {
   "cell_type": "markdown",
   "id": "add57cbe",
   "metadata": {},
   "source": [
    "`get`: busca un elemento a partir de su clave"
   ]
  },
  {
   "cell_type": "code",
   "execution_count": 201,
   "id": "92993a78",
   "metadata": {},
   "outputs": [
    {
     "data": {
      "text/plain": [
       "45"
      ]
     },
     "execution_count": 201,
     "metadata": {},
     "output_type": "execute_result"
    }
   ],
   "source": [
    "diccionario.get('Pepe')"
   ]
  },
  {
   "cell_type": "code",
   "execution_count": 202,
   "id": "4405a47f",
   "metadata": {},
   "outputs": [
    {
     "name": "stdout",
     "output_type": "stream",
     "text": [
      "Pepe ----> 45\n",
      "Rosa ----> 30\n",
      "Rodrigo ----> 19\n",
      "Irene ----> 98\n"
     ]
    }
   ],
   "source": [
    "# si queremos ver los pares de key values usando un for tenemos que usar\n",
    "## el método .items()\n",
    "\n",
    "for clave, valor in diccionario.items():\n",
    "    print(clave, \"---->\", valor)\n"
   ]
  },
  {
   "cell_type": "code",
   "execution_count": 204,
   "id": "fdeeaba3",
   "metadata": {},
   "outputs": [
    {
     "name": "stdout",
     "output_type": "stream",
     "text": [
      "Pepe\n",
      "Rosa\n",
      "Rodrigo\n",
      "Irene\n"
     ]
    }
   ],
   "source": [
    "for e in diccionario:\n",
    "    print(e)"
   ]
  },
  {
   "cell_type": "code",
   "execution_count": 205,
   "id": "b15ee716",
   "metadata": {},
   "outputs": [
    {
     "name": "stdout",
     "output_type": "stream",
     "text": [
      "Pepe\n",
      "Rosa\n",
      "Rodrigo\n",
      "Irene\n"
     ]
    }
   ],
   "source": [
    "for e in diccionario.keys():\n",
    "    print(e)"
   ]
  },
  {
   "cell_type": "code",
   "execution_count": 207,
   "id": "be21d47d",
   "metadata": {},
   "outputs": [
    {
     "ename": "KeyError",
     "evalue": "'NO'",
     "output_type": "error",
     "traceback": [
      "\u001b[0;31m---------------------------------------------------------------------------\u001b[0m",
      "\u001b[0;31mKeyError\u001b[0m                                  Traceback (most recent call last)",
      "Cell \u001b[0;32mIn[207], line 3\u001b[0m\n\u001b[1;32m      1\u001b[0m \u001b[38;5;66;03m# con este método podemos pasar otro parámetro para que en caso de que no exista la key nos devuelva un valor por defecto\u001b[39;00m\n\u001b[0;32m----> 3\u001b[0m \u001b[43mdict2\u001b[49m\u001b[43m[\u001b[49m\u001b[38;5;124;43m'\u001b[39;49m\u001b[38;5;124;43mNO\u001b[39;49m\u001b[38;5;124;43m'\u001b[39;49m\u001b[43m]\u001b[49m\n",
      "\u001b[0;31mKeyError\u001b[0m: 'NO'"
     ]
    }
   ],
   "source": [
    "# con este método podemos pasar otro parámetro para que en caso de que no exista la key nos devuelva un valor por defecto\n",
    "\n",
    "dict2['NO']"
   ]
  },
  {
   "cell_type": "code",
   "execution_count": 209,
   "id": "fcc43112",
   "metadata": {},
   "outputs": [
    {
     "name": "stdout",
     "output_type": "stream",
     "text": [
      "None\n"
     ]
    }
   ],
   "source": [
    "print(dict2.get('NO'))"
   ]
  },
  {
   "cell_type": "code",
   "execution_count": 210,
   "id": "0157cdc7",
   "metadata": {},
   "outputs": [
    {
     "data": {
      "text/plain": [
       "'No existe'"
      ]
     },
     "execution_count": 210,
     "metadata": {},
     "output_type": "execute_result"
    }
   ],
   "source": [
    "dict2.get('Pepa', 'No existe')"
   ]
  },
  {
   "cell_type": "markdown",
   "id": "689d4519",
   "metadata": {},
   "source": [
    "`setdefault`: es similar al `get`. En este caso, si la *key* no existe la crea y asigna el value del valor por defecto que indicamos"
   ]
  },
  {
   "cell_type": "code",
   "execution_count": 211,
   "id": "8c50ca7f",
   "metadata": {},
   "outputs": [
    {
     "data": {
      "text/plain": [
       "'No existe'"
      ]
     },
     "execution_count": 211,
     "metadata": {},
     "output_type": "execute_result"
    }
   ],
   "source": [
    "dict2.setdefault('Pepa', 'No existe')"
   ]
  },
  {
   "cell_type": "code",
   "execution_count": 212,
   "id": "2f83152c",
   "metadata": {},
   "outputs": [
    {
     "data": {
      "text/plain": [
       "{'python': 129, 'plone': 51, 'Pepa': 'No existe'}"
      ]
     },
     "execution_count": 212,
     "metadata": {},
     "output_type": "execute_result"
    }
   ],
   "source": [
    "dict2"
   ]
  },
  {
   "cell_type": "code",
   "execution_count": 213,
   "id": "ab1e7f84",
   "metadata": {},
   "outputs": [
    {
     "data": {
      "text/plain": [
       "str"
      ]
     },
     "execution_count": 213,
     "metadata": {},
     "output_type": "execute_result"
    }
   ],
   "source": [
    "type(dict2['Pepa'])"
   ]
  },
  {
   "cell_type": "markdown",
   "id": "6c329766",
   "metadata": {},
   "source": [
    "`update`: actualiza el diccionario añadiendo un nuevo par de key:value en formato diccionario"
   ]
  },
  {
   "cell_type": "code",
   "execution_count": 214,
   "id": "120a886e",
   "metadata": {},
   "outputs": [],
   "source": [
    "nuevo_item = {\"Ana\": 33}\n",
    "\n",
    "diccionario.update(nuevo_item)"
   ]
  },
  {
   "cell_type": "code",
   "execution_count": 215,
   "id": "4abbf296",
   "metadata": {},
   "outputs": [
    {
     "data": {
      "text/plain": [
       "{'Pepe': 45, 'Rosa': 30, 'Rodrigo': 19, 'Irene': 98, 'Ana': 33}"
      ]
     },
     "execution_count": 215,
     "metadata": {},
     "output_type": "execute_result"
    }
   ],
   "source": [
    "diccionario"
   ]
  },
  {
   "cell_type": "code",
   "execution_count": 216,
   "id": "42e9533f",
   "metadata": {},
   "outputs": [],
   "source": [
    "# lo podemos hacer pasándole directamente el diccionario\n",
    "# podemos incluir todas los key/values que queremos en el update\n",
    "\n",
    "diccionario.update({\"Rocio\": 23, \"Manuel\": 34 })"
   ]
  },
  {
   "cell_type": "code",
   "execution_count": 217,
   "id": "43aa87fd",
   "metadata": {},
   "outputs": [
    {
     "data": {
      "text/plain": [
       "{'Pepe': 45,\n",
       " 'Rosa': 30,\n",
       " 'Rodrigo': 19,\n",
       " 'Irene': 98,\n",
       " 'Ana': 33,\n",
       " 'Rocio': 23,\n",
       " 'Manuel': 34}"
      ]
     },
     "execution_count": 217,
     "metadata": {},
     "output_type": "execute_result"
    }
   ],
   "source": [
    "diccionario"
   ]
  },
  {
   "cell_type": "code",
   "execution_count": 218,
   "id": "268e0121",
   "metadata": {},
   "outputs": [
    {
     "data": {
      "text/plain": [
       "{'Pepe': 45,\n",
       " 'Rosa': 30,\n",
       " 'Rodrigo': 19,\n",
       " 'Irene': 98,\n",
       " 'Ana': 33,\n",
       " 'Rocio': 23,\n",
       " 'Manuel': 34,\n",
       " 'Yona': 39}"
      ]
     },
     "execution_count": 218,
     "metadata": {},
     "output_type": "execute_result"
    }
   ],
   "source": [
    "diccionario['Yona'] = 39\n",
    "\n",
    "diccionario"
   ]
  },
  {
   "cell_type": "markdown",
   "id": "8c5f500e",
   "metadata": {},
   "source": [
    "¿Qué pasa si sumamos dos diccionarios? NOS DA ERROR!!!!"
   ]
  },
  {
   "cell_type": "code",
   "execution_count": 219,
   "id": "0d1140a7",
   "metadata": {},
   "outputs": [],
   "source": [
    "diccionario2 = {\"Lorena\": 3}"
   ]
  },
  {
   "cell_type": "code",
   "execution_count": 220,
   "id": "561b4870",
   "metadata": {},
   "outputs": [
    {
     "ename": "TypeError",
     "evalue": "unsupported operand type(s) for +: 'dict' and 'dict'",
     "output_type": "error",
     "traceback": [
      "\u001b[0;31m---------------------------------------------------------------------------\u001b[0m",
      "\u001b[0;31mTypeError\u001b[0m                                 Traceback (most recent call last)",
      "Cell \u001b[0;32mIn[220], line 1\u001b[0m\n\u001b[0;32m----> 1\u001b[0m \u001b[43mdiccionario\u001b[49m\u001b[43m \u001b[49m\u001b[38;5;241;43m+\u001b[39;49m\u001b[43m \u001b[49m\u001b[43mdiccionario2\u001b[49m\n",
      "\u001b[0;31mTypeError\u001b[0m: unsupported operand type(s) for +: 'dict' and 'dict'"
     ]
    }
   ],
   "source": [
    "diccionario + diccionario2"
   ]
  },
  {
   "cell_type": "code",
   "execution_count": 221,
   "id": "7e7a75b8",
   "metadata": {},
   "outputs": [
    {
     "data": {
      "text/plain": [
       "[{'Pepe': 45,\n",
       "  'Rosa': 30,\n",
       "  'Rodrigo': 19,\n",
       "  'Irene': 98,\n",
       "  'Ana': 33,\n",
       "  'Rocio': 23,\n",
       "  'Manuel': 34,\n",
       "  'Yona': 39},\n",
       " {'Lorena': 3}]"
      ]
     },
     "execution_count": 221,
     "metadata": {},
     "output_type": "execute_result"
    }
   ],
   "source": [
    "# podriamos hacer algo como esto:\n",
    "diccionario3 = [diccionario , diccionario2]\n",
    "diccionario3"
   ]
  },
  {
   "cell_type": "markdown",
   "id": "b149d622",
   "metadata": {},
   "source": [
    "⚠️ Pero ojo! Esto 👆 es una lista de diccionarios"
   ]
  },
  {
   "cell_type": "code",
   "execution_count": 222,
   "id": "3f1b1ed5",
   "metadata": {},
   "outputs": [
    {
     "data": {
      "text/plain": [
       "list"
      ]
     },
     "execution_count": 222,
     "metadata": {},
     "output_type": "execute_result"
    }
   ],
   "source": [
    "type(diccionario3)"
   ]
  },
  {
   "cell_type": "code",
   "execution_count": 223,
   "id": "93f095fd",
   "metadata": {},
   "outputs": [
    {
     "data": {
      "text/plain": [
       "{'Pepe': 45,\n",
       " 'Rosa': 30,\n",
       " 'Rodrigo': 19,\n",
       " 'Irene': 98,\n",
       " 'Ana': 33,\n",
       " 'Rocio': 23,\n",
       " 'Manuel': 34,\n",
       " 'Yona': 39}"
      ]
     },
     "execution_count": 223,
     "metadata": {},
     "output_type": "execute_result"
    }
   ],
   "source": [
    "# y cada uno de los elementos de mi lista será un diccionario\n",
    "diccionario3[0]"
   ]
  },
  {
   "cell_type": "code",
   "execution_count": 224,
   "id": "3108a300",
   "metadata": {},
   "outputs": [
    {
     "data": {
      "text/plain": [
       "{'Lorena': 3}"
      ]
     },
     "execution_count": 224,
     "metadata": {},
     "output_type": "execute_result"
    }
   ],
   "source": [
    "diccionario3[1]"
   ]
  },
  {
   "cell_type": "markdown",
   "id": "d95f68c8",
   "metadata": {},
   "source": [
    "`sorted`: nos ordena el diccionario"
   ]
  },
  {
   "cell_type": "code",
   "execution_count": 225,
   "id": "764d761d",
   "metadata": {},
   "outputs": [
    {
     "data": {
      "text/plain": [
       "['Ana', 'Irene', 'Manuel', 'Pepe', 'Rocio', 'Rodrigo', 'Rosa', 'Yona']"
      ]
     },
     "execution_count": 225,
     "metadata": {},
     "output_type": "execute_result"
    }
   ],
   "source": [
    "sorted(diccionario) # ordenamos las keys"
   ]
  },
  {
   "cell_type": "code",
   "execution_count": 226,
   "id": "a03710fa",
   "metadata": {},
   "outputs": [
    {
     "data": {
      "text/plain": [
       "[('Ana', 33),\n",
       " ('Irene', 98),\n",
       " ('Manuel', 34),\n",
       " ('Pepe', 45),\n",
       " ('Rocio', 23),\n",
       " ('Rodrigo', 19),\n",
       " ('Rosa', 30),\n",
       " ('Yona', 39)]"
      ]
     },
     "execution_count": 226,
     "metadata": {},
     "output_type": "execute_result"
    }
   ],
   "source": [
    "sorted(diccionario.items())"
   ]
  },
  {
   "cell_type": "code",
   "execution_count": 227,
   "id": "52cc4b0d",
   "metadata": {},
   "outputs": [
    {
     "data": {
      "text/plain": [
       "[('Yona', 39),\n",
       " ('Rosa', 30),\n",
       " ('Rodrigo', 19),\n",
       " ('Rocio', 23),\n",
       " ('Pepe', 45),\n",
       " ('Manuel', 34),\n",
       " ('Irene', 98),\n",
       " ('Ana', 33)]"
      ]
     },
     "execution_count": 227,
     "metadata": {},
     "output_type": "execute_result"
    }
   ],
   "source": [
    "sorted(diccionario.items(), reverse = True)"
   ]
  },
  {
   "cell_type": "markdown",
   "id": "cb0c513d",
   "metadata": {},
   "source": [
    "`copy`: hace una copia exacta de nuestro diccionario"
   ]
  },
  {
   "cell_type": "code",
   "execution_count": 228,
   "id": "2c8eb7b8",
   "metadata": {},
   "outputs": [],
   "source": [
    "diccionario2 = diccionario.copy()"
   ]
  },
  {
   "cell_type": "code",
   "execution_count": 229,
   "id": "7632cea4",
   "metadata": {},
   "outputs": [
    {
     "data": {
      "text/plain": [
       "{'Pepe': 45,\n",
       " 'Rosa': 30,\n",
       " 'Rodrigo': 19,\n",
       " 'Irene': 98,\n",
       " 'Ana': 33,\n",
       " 'Rocio': 23,\n",
       " 'Manuel': 34,\n",
       " 'Yona': 39}"
      ]
     },
     "execution_count": 229,
     "metadata": {},
     "output_type": "execute_result"
    }
   ],
   "source": [
    "diccionario2"
   ]
  },
  {
   "cell_type": "markdown",
   "id": "3dbafb3c",
   "metadata": {},
   "source": [
    "¿Qué pasa si no uso `copy` y hago la igualdad de diccionarios? "
   ]
  },
  {
   "cell_type": "code",
   "execution_count": 230,
   "id": "e93ef365",
   "metadata": {},
   "outputs": [],
   "source": [
    "diccionario4 = diccionario"
   ]
  },
  {
   "cell_type": "code",
   "execution_count": 231,
   "id": "ecdb2564",
   "metadata": {},
   "outputs": [
    {
     "data": {
      "text/plain": [
       "{'Pepe': 45,\n",
       " 'Rosa': 30,\n",
       " 'Rodrigo': 19,\n",
       " 'Irene': 98,\n",
       " 'Ana': 33,\n",
       " 'Rocio': 23,\n",
       " 'Manuel': 34,\n",
       " 'Yona': 39}"
      ]
     },
     "execution_count": 231,
     "metadata": {},
     "output_type": "execute_result"
    }
   ],
   "source": [
    "diccionario4"
   ]
  },
  {
   "cell_type": "code",
   "execution_count": 232,
   "id": "37faafe9",
   "metadata": {},
   "outputs": [
    {
     "data": {
      "text/plain": [
       "{'Pepe': 101,\n",
       " 'Rosa': 30,\n",
       " 'Rodrigo': 19,\n",
       " 'Irene': 98,\n",
       " 'Ana': 33,\n",
       " 'Rocio': 23,\n",
       " 'Manuel': 34,\n",
       " 'Yona': 39}"
      ]
     },
     "execution_count": 232,
     "metadata": {},
     "output_type": "execute_result"
    }
   ],
   "source": [
    "# vamos a hacer una modificacion en diccionario4\n",
    "\n",
    "diccionario4['Pepe'] = 101\n",
    "\n",
    "diccionario4"
   ]
  },
  {
   "cell_type": "code",
   "execution_count": 233,
   "id": "00505cec",
   "metadata": {},
   "outputs": [
    {
     "data": {
      "text/plain": [
       "{'Pepe': 101,\n",
       " 'Rosa': 30,\n",
       " 'Rodrigo': 19,\n",
       " 'Irene': 98,\n",
       " 'Ana': 33,\n",
       " 'Rocio': 23,\n",
       " 'Manuel': 34,\n",
       " 'Yona': 39}"
      ]
     },
     "execution_count": 233,
     "metadata": {},
     "output_type": "execute_result"
    }
   ],
   "source": [
    "# ¿Qué ha pasado con el diccionario original?\n",
    "\n",
    "diccionario"
   ]
  },
  {
   "cell_type": "markdown",
   "id": "0f76a479",
   "metadata": {},
   "source": [
    "⚠️🚨 SE HA MODIFICADO TAMBIÉN ⚠️🚨. Conclusión, no hacerlo nunca!"
   ]
  },
  {
   "cell_type": "markdown",
   "id": "53cd4081",
   "metadata": {},
   "source": [
    "`pop`: elimina una *key* específica"
   ]
  },
  {
   "cell_type": "code",
   "execution_count": 234,
   "id": "d98a3f33",
   "metadata": {},
   "outputs": [
    {
     "data": {
      "text/plain": [
       "98"
      ]
     },
     "execution_count": 234,
     "metadata": {},
     "output_type": "execute_result"
    }
   ],
   "source": [
    "diccionario.pop('Irene')"
   ]
  },
  {
   "cell_type": "code",
   "execution_count": 235,
   "id": "f9eda635",
   "metadata": {},
   "outputs": [
    {
     "data": {
      "text/plain": [
       "{'Pepe': 101,\n",
       " 'Rosa': 30,\n",
       " 'Rodrigo': 19,\n",
       " 'Ana': 33,\n",
       " 'Rocio': 23,\n",
       " 'Manuel': 34,\n",
       " 'Yona': 39}"
      ]
     },
     "execution_count": 235,
     "metadata": {},
     "output_type": "execute_result"
    }
   ],
   "source": [
    "diccionario"
   ]
  },
  {
   "cell_type": "code",
   "execution_count": 236,
   "id": "d8ad810f",
   "metadata": {},
   "outputs": [
    {
     "ename": "TypeError",
     "evalue": "pop expected at least 1 argument, got 0",
     "output_type": "error",
     "traceback": [
      "\u001b[0;31m---------------------------------------------------------------------------\u001b[0m",
      "\u001b[0;31mTypeError\u001b[0m                                 Traceback (most recent call last)",
      "Cell \u001b[0;32mIn[236], line 3\u001b[0m\n\u001b[1;32m      1\u001b[0m \u001b[38;5;66;03m# si no le pasamos ningún parámetro al pop() nos dará error ya que no sabe que elemento queremos quitar\u001b[39;00m\n\u001b[0;32m----> 3\u001b[0m \u001b[43mdiccionario\u001b[49m\u001b[38;5;241;43m.\u001b[39;49m\u001b[43mpop\u001b[49m\u001b[43m(\u001b[49m\u001b[43m)\u001b[49m\n",
      "\u001b[0;31mTypeError\u001b[0m: pop expected at least 1 argument, got 0"
     ]
    }
   ],
   "source": [
    "# si no le pasamos ningún parámetro al pop() nos dará error ya que no sabe que elemento queremos quitar\n",
    "\n",
    "diccionario.pop()"
   ]
  },
  {
   "cell_type": "markdown",
   "id": "239cfa09",
   "metadata": {},
   "source": [
    "`clear`: elimina todos los elementos del diccionario"
   ]
  },
  {
   "cell_type": "code",
   "execution_count": 237,
   "id": "7173deea",
   "metadata": {},
   "outputs": [],
   "source": [
    "diccionario2.clear()"
   ]
  },
  {
   "cell_type": "code",
   "execution_count": 238,
   "id": "78264700",
   "metadata": {},
   "outputs": [
    {
     "data": {
      "text/plain": [
       "{}"
      ]
     },
     "execution_count": 238,
     "metadata": {},
     "output_type": "execute_result"
    }
   ],
   "source": [
    "diccionario2"
   ]
  },
  {
   "cell_type": "markdown",
   "id": "6a72b878",
   "metadata": {},
   "source": [
    "# Sets "
   ]
  },
  {
   "cell_type": "markdown",
   "id": "1752ce28",
   "metadata": {},
   "source": [
    "Un *set* o conjunto es una colección **no ordenada** de elementos únicos. \n",
    "\n",
    "Los conjuntos son ampliamente utilizados en lógica y matemáticas, y desde Python podemos sacar provecho de sus propiedades para crear código más eficiente y legible en menos tiempo. \n",
    "\n",
    "Los *set* en Python son un tipo que permite almacenar varios elementos y acceder a ellos de una forma muy similar a las listas pero con ciertas diferencias:\n",
    "\n",
    "- Los elementos de un *set* son únicos, lo que significa que no puede haber elementos duplicados.\n",
    "\n",
    "- Los *set* son desordenados, lo que significa que no mantienen el orden de cuando son declarados.\n",
    "\n",
    "- Al igual que las tuplas, sus elementos deben ser inmutables.\n",
    "\n",
    "\n",
    "-----\n",
    "**¿Cómo podemos crear un set?**\n",
    "\n",
    "- Usando el método `set()`\n",
    "\n",
    "- Usando `{}`\n",
    "\n",
    "\n",
    "⚠️ NOTA: lo tenemos que crear vacios y luego vamos añadiendo los elementos. \n"
   ]
  },
  {
   "cell_type": "markdown",
   "id": "5aad8c82",
   "metadata": {},
   "source": [
    "## Creación de *sets*"
   ]
  },
  {
   "cell_type": "code",
   "execution_count": 241,
   "id": "e10c5062",
   "metadata": {
    "scrolled": true
   },
   "outputs": [
    {
     "data": {
      "text/plain": [
       "set"
      ]
     },
     "execution_count": 241,
     "metadata": {},
     "output_type": "execute_result"
    }
   ],
   "source": [
    "s = set()\n",
    "\n",
    "type(s)"
   ]
  },
  {
   "cell_type": "code",
   "execution_count": 242,
   "id": "cf3c880e",
   "metadata": {},
   "outputs": [
    {
     "data": {
      "text/plain": [
       "dict"
      ]
     },
     "execution_count": 242,
     "metadata": {},
     "output_type": "execute_result"
    }
   ],
   "source": [
    "s = {}\n",
    "\n",
    "type(s)"
   ]
  },
  {
   "cell_type": "code",
   "execution_count": 243,
   "id": "2736104e",
   "metadata": {},
   "outputs": [
    {
     "data": {
      "text/plain": [
       "set"
      ]
     },
     "execution_count": 243,
     "metadata": {},
     "output_type": "execute_result"
    }
   ],
   "source": [
    "s = {()}\n",
    "\n",
    "type(s)"
   ]
  },
  {
   "cell_type": "code",
   "execution_count": 246,
   "id": "cb9072ec",
   "metadata": {},
   "outputs": [
    {
     "data": {
      "text/plain": [
       "[0, 1, 1, 1, 2, 3, 43, 4, 4, 4, 4, 4, 4, 0, 5, 56, 56, 65, 6, 6]"
      ]
     },
     "execution_count": 246,
     "metadata": {},
     "output_type": "execute_result"
    }
   ],
   "source": [
    "lista = [0,1,1,1,2,3,43,4,4,4,4,4,4,0,5,56,56,65,6,6]\n",
    "\n",
    "lista"
   ]
  },
  {
   "cell_type": "code",
   "execution_count": 247,
   "id": "26d2a536",
   "metadata": {},
   "outputs": [
    {
     "data": {
      "text/plain": [
       "{0, 1, 2, 3, 4, 5, 6, 43, 56, 65}"
      ]
     },
     "execution_count": 247,
     "metadata": {},
     "output_type": "execute_result"
    }
   ],
   "source": [
    "s = set(lista)    # valores unicos\n",
    "\n",
    "s"
   ]
  },
  {
   "cell_type": "markdown",
   "id": "427474a1",
   "metadata": {},
   "source": [
    "## Indexación de *sets* "
   ]
  },
  {
   "cell_type": "markdown",
   "id": "7258cac9",
   "metadata": {},
   "source": [
    "📌 Como no tienen orden no podemos acceder a sus elementos como en las listas o las tuplas"
   ]
  },
  {
   "cell_type": "code",
   "execution_count": 249,
   "id": "984a5143",
   "metadata": {
    "scrolled": true
   },
   "outputs": [
    {
     "ename": "TypeError",
     "evalue": "'set' object is not subscriptable",
     "output_type": "error",
     "traceback": [
      "\u001b[0;31m---------------------------------------------------------------------------\u001b[0m",
      "\u001b[0;31mTypeError\u001b[0m                                 Traceback (most recent call last)",
      "Cell \u001b[0;32mIn[249], line 1\u001b[0m\n\u001b[0;32m----> 1\u001b[0m \u001b[43ms\u001b[49m\u001b[43m[\u001b[49m\u001b[38;5;241;43m0\u001b[39;49m\u001b[43m]\u001b[49m\n",
      "\u001b[0;31mTypeError\u001b[0m: 'set' object is not subscriptable"
     ]
    }
   ],
   "source": [
    "s[0]"
   ]
  },
  {
   "cell_type": "markdown",
   "id": "6ad9cad0",
   "metadata": {},
   "source": [
    "## Métodos de los sets "
   ]
  },
  {
   "cell_type": "markdown",
   "id": "23d2219a",
   "metadata": {},
   "source": [
    "`add`: añade un item a un set. Si ya existe no lo añade"
   ]
  },
  {
   "cell_type": "code",
   "execution_count": 259,
   "id": "3783fb63",
   "metadata": {},
   "outputs": [],
   "source": [
    "s.add(2)\n",
    "s.add(4)\n",
    "s.add(9)"
   ]
  },
  {
   "cell_type": "code",
   "execution_count": 260,
   "id": "3be479b5",
   "metadata": {},
   "outputs": [
    {
     "data": {
      "text/plain": [
       "{0, 1, 2, 3, 4, 5, 6, 9, 43, 56, 65}"
      ]
     },
     "execution_count": 260,
     "metadata": {},
     "output_type": "execute_result"
    }
   ],
   "source": [
    "s"
   ]
  },
  {
   "cell_type": "code",
   "execution_count": 261,
   "id": "7b219b30",
   "metadata": {},
   "outputs": [
    {
     "data": {
      "text/plain": [
       "[0, 1, 2, 3, 4, 5, 65, 6, 9, 43, 56]"
      ]
     },
     "execution_count": 261,
     "metadata": {},
     "output_type": "execute_result"
    }
   ],
   "source": [
    "list(s)"
   ]
  },
  {
   "cell_type": "markdown",
   "id": "401ebbcf",
   "metadata": {},
   "source": [
    "`copy`: hace una copia del set"
   ]
  },
  {
   "cell_type": "code",
   "execution_count": 262,
   "id": "a97340d1",
   "metadata": {},
   "outputs": [
    {
     "data": {
      "text/plain": [
       "{0, 1, 2, 3, 4, 5, 6, 9, 43, 56, 65}"
      ]
     },
     "execution_count": 262,
     "metadata": {},
     "output_type": "execute_result"
    }
   ],
   "source": [
    "s2 = s.copy()\n",
    "\n",
    "s2"
   ]
  },
  {
   "cell_type": "markdown",
   "id": "4a9b5569",
   "metadata": {},
   "source": [
    "`discard`: borra un elemento de un set"
   ]
  },
  {
   "cell_type": "code",
   "execution_count": 263,
   "id": "00dc4331",
   "metadata": {},
   "outputs": [],
   "source": [
    "s.discard(0)"
   ]
  },
  {
   "cell_type": "code",
   "execution_count": 264,
   "id": "9702b5d0",
   "metadata": {},
   "outputs": [
    {
     "data": {
      "text/plain": [
       "{1, 2, 3, 4, 5, 6, 9, 43, 56, 65}"
      ]
     },
     "execution_count": 264,
     "metadata": {},
     "output_type": "execute_result"
    }
   ],
   "source": [
    "s"
   ]
  },
  {
   "cell_type": "markdown",
   "id": "39896561",
   "metadata": {},
   "source": [
    "`clear`: borra todos los elementos de un set"
   ]
  },
  {
   "cell_type": "code",
   "execution_count": 265,
   "id": "6455af82",
   "metadata": {},
   "outputs": [],
   "source": [
    "s.clear()"
   ]
  },
  {
   "cell_type": "code",
   "execution_count": 266,
   "id": "d8054b4d",
   "metadata": {},
   "outputs": [
    {
     "data": {
      "text/plain": [
       "set()"
      ]
     },
     "execution_count": 266,
     "metadata": {},
     "output_type": "execute_result"
    }
   ],
   "source": [
    "s"
   ]
  },
  {
   "cell_type": "markdown",
   "id": "6247741e",
   "metadata": {},
   "source": [
    "Los sets tienen una serie de métodos que nos van a permitir realizar comparaciones entre dos sets. Vamos a ver algunos de los más importantes: "
   ]
  },
  {
   "cell_type": "code",
   "execution_count": 267,
   "id": "659b90e4",
   "metadata": {},
   "outputs": [],
   "source": [
    "set1=set([2,2,3,4,4,5,5,5,5,5,5,5,6,7,7,8,98])\n",
    "\n",
    "set2=set([7,8,8,76,6,5,45,54,5,3,56,7,68,8,68,6])"
   ]
  },
  {
   "cell_type": "code",
   "execution_count": 268,
   "id": "9cbea372",
   "metadata": {},
   "outputs": [
    {
     "data": {
      "text/plain": [
       "{2, 3, 4, 5, 6, 7, 8, 98}"
      ]
     },
     "execution_count": 268,
     "metadata": {},
     "output_type": "execute_result"
    }
   ],
   "source": [
    "set1"
   ]
  },
  {
   "cell_type": "code",
   "execution_count": 269,
   "id": "407fba9c",
   "metadata": {},
   "outputs": [
    {
     "data": {
      "text/plain": [
       "{3, 5, 6, 7, 8, 45, 54, 56, 68, 76}"
      ]
     },
     "execution_count": 269,
     "metadata": {},
     "output_type": "execute_result"
    }
   ],
   "source": [
    "set2"
   ]
  },
  {
   "cell_type": "markdown",
   "id": "02799816",
   "metadata": {},
   "source": [
    "`union`: une un set a otro y devuelve el resultado del nuevo conjunto"
   ]
  },
  {
   "cell_type": "code",
   "execution_count": 270,
   "id": "572df028",
   "metadata": {},
   "outputs": [
    {
     "data": {
      "text/plain": [
       "{2, 3, 4, 5, 6, 7, 8, 45, 54, 56, 68, 76, 98}"
      ]
     },
     "execution_count": 270,
     "metadata": {},
     "output_type": "execute_result"
    }
   ],
   "source": [
    "set1.union(set2)"
   ]
  },
  {
   "cell_type": "code",
   "execution_count": 271,
   "id": "320b5647",
   "metadata": {},
   "outputs": [
    {
     "data": {
      "text/plain": [
       "{2, 3, 4, 5, 6, 7, 8, 45, 54, 56, 68, 76, 98}"
      ]
     },
     "execution_count": 271,
     "metadata": {},
     "output_type": "execute_result"
    }
   ],
   "source": [
    "set2.union(set1)"
   ]
  },
  {
   "cell_type": "markdown",
   "id": "767e69fe",
   "metadata": {},
   "source": [
    "`intersection`: devuelve un conjunto con los elementos comunes en los dos conjuntos"
   ]
  },
  {
   "cell_type": "code",
   "execution_count": 272,
   "id": "67aec9bc",
   "metadata": {},
   "outputs": [
    {
     "data": {
      "text/plain": [
       "{3, 5, 6, 7, 8}"
      ]
     },
     "execution_count": 272,
     "metadata": {},
     "output_type": "execute_result"
    }
   ],
   "source": [
    "set1.intersection(set2)"
   ]
  },
  {
   "cell_type": "markdown",
   "id": "95f510e8",
   "metadata": {},
   "source": [
    "`issubset`: comprueba si el set es un subconjunto de otro set, es decir, si sus elementos se encuentran **todos** dentro de otro (contenido)"
   ]
  },
  {
   "cell_type": "code",
   "execution_count": 273,
   "id": "04e91f71",
   "metadata": {},
   "outputs": [
    {
     "data": {
      "text/plain": [
       "False"
      ]
     },
     "execution_count": 273,
     "metadata": {},
     "output_type": "execute_result"
    }
   ],
   "source": [
    "set1.issubset(set2)"
   ]
  },
  {
   "cell_type": "markdown",
   "id": "18ea15f6",
   "metadata": {},
   "source": [
    "`issuperset`: comprueba si el set es un superconjunto de otro set, es decir, si sus elementos se encuentran **todos** dentro de otro (contenedor)"
   ]
  },
  {
   "cell_type": "code",
   "execution_count": 274,
   "id": "220ff1d9",
   "metadata": {},
   "outputs": [
    {
     "data": {
      "text/plain": [
       "False"
      ]
     },
     "execution_count": 274,
     "metadata": {},
     "output_type": "execute_result"
    }
   ],
   "source": [
    "set1.issuperset(set2)"
   ]
  },
  {
   "cell_type": "markdown",
   "id": "a143fb01",
   "metadata": {},
   "source": [
    "`difference`: encuentra los elementos no comunes entre los dos sets"
   ]
  },
  {
   "cell_type": "code",
   "execution_count": 275,
   "id": "436ee7bb",
   "metadata": {},
   "outputs": [
    {
     "data": {
      "text/plain": [
       "{2, 4, 98}"
      ]
     },
     "execution_count": 275,
     "metadata": {},
     "output_type": "execute_result"
    }
   ],
   "source": [
    "set1.difference(set2)"
   ]
  },
  {
   "cell_type": "markdown",
   "id": "9808b58f",
   "metadata": {},
   "source": [
    "📝**Diferencias entre las distintas estructuras de datos** 📝"
   ]
  },
  {
   "cell_type": "markdown",
   "id": "bc105665",
   "metadata": {},
   "source": [
    "![alaaaa.png](https://github.com/Ironhack-Data-Madrid-PartTime-Oct22/imagenes/blob/master/semana-1/estructuras_datos.png?raw=true)"
   ]
  },
  {
   "cell_type": "markdown",
   "id": "c2c798c9",
   "metadata": {},
   "source": [
    "**Material adicional**\n",
    "\n",
    "- [Métodos de los diccionarios](https://j2logo.com/python/tutorial/tipo-dict-python/)\n",
    "\n",
    "\n",
    "- [Métodos de los diccionarios II](https://entrenamiento-python-basico.readthedocs.io/es/latest/leccion3/tipo_diccionarios.html)\n",
    "\n",
    "\n",
    "- [Métodos de los sets](https://docs.hektorprofe.net/python/metodos-de-las-colecciones/metodos-de-los-conjuntos/)"
   ]
  }
 ],
 "metadata": {
  "kernelspec": {
   "display_name": "clase",
   "language": "python",
   "name": "clase"
  },
  "language_info": {
   "codemirror_mode": {
    "name": "ipython",
    "version": 3
   },
   "file_extension": ".py",
   "mimetype": "text/x-python",
   "name": "python",
   "nbconvert_exporter": "python",
   "pygments_lexer": "ipython3",
   "version": "3.9.12"
  },
  "toc": {
   "base_numbering": 1,
   "nav_menu": {},
   "number_sections": true,
   "sideBar": true,
   "skip_h1_title": false,
   "title_cell": "Table of Contents",
   "title_sidebar": "Contents",
   "toc_cell": true,
   "toc_position": {
    "height": "calc(100% - 180px)",
    "left": "10px",
    "top": "150px",
    "width": "384px"
   },
   "toc_section_display": true,
   "toc_window_display": false
  }
 },
 "nbformat": 4,
 "nbformat_minor": 5
}
