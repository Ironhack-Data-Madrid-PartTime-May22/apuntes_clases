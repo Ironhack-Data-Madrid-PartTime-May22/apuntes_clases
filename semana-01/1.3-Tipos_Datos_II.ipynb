{
 "cells": [
  {
   "cell_type": "markdown",
   "id": "c4faa7e5",
   "metadata": {
    "toc": true
   },
   "source": [
    "<h1>Table of Contents<span class=\"tocSkip\"></span></h1>\n",
    "<div class=\"toc\"><ul class=\"toc-item\"><li><span><a href=\"#Listas\" data-toc-modified-id=\"Listas-1\"><span class=\"toc-item-num\">1&nbsp;&nbsp;</span>Listas</a></span><ul class=\"toc-item\"><li><span><a href=\"#Creación-de-listas\" data-toc-modified-id=\"Creación-de-listas-1.1\"><span class=\"toc-item-num\">1.1&nbsp;&nbsp;</span>Creación de listas</a></span></li><li><span><a href=\"#Propiedades-de-las-listas\" data-toc-modified-id=\"Propiedades-de-las-listas-1.2\"><span class=\"toc-item-num\">1.2&nbsp;&nbsp;</span>Propiedades de las listas</a></span></li><li><span><a href=\"#Indexación\" data-toc-modified-id=\"Indexación-1.3\"><span class=\"toc-item-num\">1.3&nbsp;&nbsp;</span>Indexación</a></span></li><li><span><a href=\"#Métodos-de-las-listas\" data-toc-modified-id=\"Métodos-de-las-listas-1.4\"><span class=\"toc-item-num\">1.4&nbsp;&nbsp;</span>Métodos de las listas</a></span></li></ul></li><li><span><a href=\"#Tuplas\" data-toc-modified-id=\"Tuplas-2\"><span class=\"toc-item-num\">2&nbsp;&nbsp;</span>Tuplas</a></span><ul class=\"toc-item\"><li><span><a href=\"#Creación-de-tuplas\" data-toc-modified-id=\"Creación-de-tuplas-2.1\"><span class=\"toc-item-num\">2.1&nbsp;&nbsp;</span>Creación de tuplas</a></span></li><li><span><a href=\"#Propiedades-de-las-tuplas\" data-toc-modified-id=\"Propiedades-de-las-tuplas-2.2\"><span class=\"toc-item-num\">2.2&nbsp;&nbsp;</span>Propiedades de las tuplas</a></span></li><li><span><a href=\"#Indexación\" data-toc-modified-id=\"Indexación-2.3\"><span class=\"toc-item-num\">2.3&nbsp;&nbsp;</span>Indexación</a></span></li><li><span><a href=\"#Métodos-de-las-tuplas\" data-toc-modified-id=\"Métodos-de-las-tuplas-2.4\"><span class=\"toc-item-num\">2.4&nbsp;&nbsp;</span>Métodos de las tuplas</a></span></li></ul></li><li><span><a href=\"#Diccionarios\" data-toc-modified-id=\"Diccionarios-3\"><span class=\"toc-item-num\">3&nbsp;&nbsp;</span>Diccionarios</a></span><ul class=\"toc-item\"><li><span><a href=\"#Creación-de-diccionarios\" data-toc-modified-id=\"Creación-de-diccionarios-3.1\"><span class=\"toc-item-num\">3.1&nbsp;&nbsp;</span>Creación de diccionarios</a></span></li><li><span><a href=\"#Propiedades-de-los-diccionarios\" data-toc-modified-id=\"Propiedades-de-los-diccionarios-3.2\"><span class=\"toc-item-num\">3.2&nbsp;&nbsp;</span>Propiedades de los diccionarios</a></span></li><li><span><a href=\"#Indexación-de-los-diccionarios\" data-toc-modified-id=\"Indexación-de-los-diccionarios-3.3\"><span class=\"toc-item-num\">3.3&nbsp;&nbsp;</span>Indexación de los diccionarios</a></span></li><li><span><a href=\"#Métodos-de-los-diccionarios\" data-toc-modified-id=\"Métodos-de-los-diccionarios-3.4\"><span class=\"toc-item-num\">3.4&nbsp;&nbsp;</span>Métodos de los diccionarios</a></span></li></ul></li><li><span><a href=\"#Sets\" data-toc-modified-id=\"Sets-4\"><span class=\"toc-item-num\">4&nbsp;&nbsp;</span>Sets</a></span><ul class=\"toc-item\"><li><span><a href=\"#Creación-de-sets\" data-toc-modified-id=\"Creación-de-sets-4.1\"><span class=\"toc-item-num\">4.1&nbsp;&nbsp;</span>Creación de <em>sets</em></a></span></li><li><span><a href=\"#Indexación-de-sets\" data-toc-modified-id=\"Indexación-de-sets-4.2\"><span class=\"toc-item-num\">4.2&nbsp;&nbsp;</span>Indexación de <em>sets</em></a></span></li><li><span><a href=\"#Métodos-de-los-sets\" data-toc-modified-id=\"Métodos-de-los-sets-4.3\"><span class=\"toc-item-num\">4.3&nbsp;&nbsp;</span>Métodos de los sets</a></span></li></ul></li></ul></div>"
   ]
  },
  {
   "cell_type": "markdown",
   "id": "60d740cc",
   "metadata": {},
   "source": [
    "-----\n",
    "En Python tenemos las siguientes estructuras de datos: \n",
    "    \n",
    "1. Listas\n",
    "\n",
    "\n",
    "2. Tuplas\n",
    "\n",
    "\n",
    "3. Diccionarios\n",
    "\n",
    "\n",
    "4. Sets\n",
    "-----"
   ]
  },
  {
   "cell_type": "markdown",
   "id": "e34fc82c",
   "metadata": {},
   "source": [
    "# Listas"
   ]
  },
  {
   "cell_type": "markdown",
   "id": "089ce273",
   "metadata": {},
   "source": [
    "La listas son variables que almacenan elementos los cuales pueden ser de distintos tipos (*strings*, *integers*, *floats*, listas, etc.). Por lo tanto, una lista es una estructura de datos formada por una secuencia ordenada de objetos.\n",
    "\n",
    "Algunas propiedades de las listas:\n",
    "\n",
    "- Son ordenadas, mantienen el orden en el que han sido definidas.\n",
    "  \n",
    "- Pueden ser formadas por distintos tipos de datos.\n",
    "\n",
    "- Pueden ser indexadas con [i].\n",
    "  \n",
    "- Se pueden anidar, es decir, meter una dentro de la otra.\n",
    "  \n",
    "- Son mutables, ya que sus elementos pueden ser modificados.Se pueden añadir o eliminar elementos. \n",
    "\n",
    "\n",
    "Para poder usar listas tenemos dos opciones: \n",
    "\n",
    "- Usando los `[]`\n",
    "\n",
    "- Usando el méetodo `list()`"
   ]
  },
  {
   "cell_type": "markdown",
   "id": "868ca499",
   "metadata": {},
   "source": [
    "## Creación de listas"
   ]
  },
  {
   "cell_type": "code",
   "execution_count": 2,
   "id": "d376d1dd",
   "metadata": {},
   "outputs": [],
   "source": [
    "# definimos una lista usando los []\n",
    "lst = [1,2,4,6,8]"
   ]
  },
  {
   "cell_type": "code",
   "execution_count": 3,
   "id": "7641d295",
   "metadata": {},
   "outputs": [
    {
     "name": "stdout",
     "output_type": "stream",
     "text": [
      "[1, 2, 4, 6, 8] <class 'list'>\n"
     ]
    }
   ],
   "source": [
    "# veamos de que tipo es el objetito que acabamos de crear\n",
    "\n",
    "print(lst, type(lst))"
   ]
  },
  {
   "cell_type": "code",
   "execution_count": 13,
   "id": "3101de20",
   "metadata": {},
   "outputs": [
    {
     "data": {
      "text/plain": [
       "[]"
      ]
     },
     "execution_count": 13,
     "metadata": {},
     "output_type": "execute_result"
    }
   ],
   "source": [
    "list()"
   ]
  },
  {
   "cell_type": "code",
   "execution_count": 14,
   "id": "0ef9de33",
   "metadata": {},
   "outputs": [
    {
     "name": "stdout",
     "output_type": "stream",
     "text": [
      "<class 'int'>\n",
      "<class 'int'>\n",
      "<class 'int'>\n",
      "<class 'int'>\n",
      "<class 'int'>\n"
     ]
    }
   ],
   "source": [
    "# si queremos saber cual es el tipo de cada uno de los elementos de nuestra lista \n",
    "# podemos usar un for loop\n",
    "\n",
    "for elemento in lst:\n",
    "    print(type(elemento))"
   ]
  },
  {
   "cell_type": "code",
   "execution_count": 15,
   "id": "bd067feb",
   "metadata": {},
   "outputs": [],
   "source": [
    "# como hemos dicho, las listas son contenedores que pueden almacenar \n",
    "# cualquier tipo de dato, en este caso crearemos una lista con strings dentro\n",
    "\n",
    "lst2 = [\"hola\", 23456, 19.09, 'Adios'] \n"
   ]
  },
  {
   "cell_type": "code",
   "execution_count": 16,
   "id": "b92ae8c5",
   "metadata": {},
   "outputs": [
    {
     "name": "stdout",
     "output_type": "stream",
     "text": [
      "['hola', 23456, 19.09, 'Adios'] <class 'list'>\n"
     ]
    }
   ],
   "source": [
    "print(lst2, type(lst2))"
   ]
  },
  {
   "cell_type": "code",
   "execution_count": 17,
   "id": "fb50198b",
   "metadata": {},
   "outputs": [
    {
     "name": "stdout",
     "output_type": "stream",
     "text": [
      "<class 'str'>\n",
      "<class 'int'>\n",
      "<class 'float'>\n",
      "<class 'str'>\n"
     ]
    }
   ],
   "source": [
    "for elemento in lst2:\n",
    "    print(type(elemento))"
   ]
  },
  {
   "cell_type": "markdown",
   "id": "33d723d8",
   "metadata": {},
   "source": [
    "Hemos dicho que podríamos crear una lista usando también el método `list()`. ¿Cómo lo podríamos hacer? "
   ]
  },
  {
   "cell_type": "code",
   "execution_count": 18,
   "id": "b5eff269",
   "metadata": {},
   "outputs": [],
   "source": [
    "# imaginemos que tenemos una string llamado saludo\n",
    "\n",
    "saludo = \"Hola, que tal\""
   ]
  },
  {
   "cell_type": "code",
   "execution_count": 19,
   "id": "1ce6a073",
   "metadata": {},
   "outputs": [
    {
     "data": {
      "text/plain": [
       "['H', 'o', 'l', 'a', ',', ' ', 'q', 'u', 'e', ' ', 't', 'a', 'l']"
      ]
     },
     "execution_count": 19,
     "metadata": {},
     "output_type": "execute_result"
    }
   ],
   "source": [
    "# lo convertimos en lista\n",
    "\n",
    "list(saludo)"
   ]
  },
  {
   "cell_type": "markdown",
   "id": "518673e8",
   "metadata": {},
   "source": [
    "Lo que ocurre cuando convertimos un *string* a una lista es que cada letra de nuestro *string* se convertirá en un elemento de nuestra lista, por lo que tendremos que tener cuidado cuando apliquemos este método. \n",
    "\n",
    "¿Qué pasaría si lo que quiero es convertir una secuencia de números? 👇🏽"
   ]
  },
  {
   "cell_type": "code",
   "execution_count": 20,
   "id": "d00dab54",
   "metadata": {},
   "outputs": [
    {
     "ename": "TypeError",
     "evalue": "list expected at most 1 argument, got 2",
     "output_type": "error",
     "traceback": [
      "\u001b[0;31m---------------------------------------------------------------------------\u001b[0m",
      "\u001b[0;31mTypeError\u001b[0m                                 Traceback (most recent call last)",
      "Cell \u001b[0;32mIn[20], line 1\u001b[0m\n\u001b[0;32m----> 1\u001b[0m \u001b[38;5;28;43mlist\u001b[39;49m\u001b[43m(\u001b[49m\u001b[38;5;241;43m2\u001b[39;49m\u001b[43m,\u001b[49m\u001b[38;5;241;43m3\u001b[39;49m\u001b[43m)\u001b[49m\n",
      "\u001b[0;31mTypeError\u001b[0m: list expected at most 1 argument, got 2"
     ]
    }
   ],
   "source": [
    "list(2,3)"
   ]
  },
  {
   "cell_type": "markdown",
   "id": "42f45bd6",
   "metadata": {},
   "source": [
    "Vaya... nos devolvió un error, y es que este método solo acepta un elemento y nosotros le estamos pasando dos!!! Por lo tanto, deberemos pasarle un único elemento a este método. Podrá ser un *string* (como vimos en el caso anterior) otra lista, u otro elemento de python, como una tupla o un diccionario (que aprenderemos a lo largo de esta lección)"
   ]
  },
  {
   "cell_type": "code",
   "execution_count": 21,
   "id": "52dde8ab",
   "metadata": {},
   "outputs": [
    {
     "data": {
      "text/plain": [
       "[2, 3]"
      ]
     },
     "execution_count": 21,
     "metadata": {},
     "output_type": "execute_result"
    }
   ],
   "source": [
    "[2, 3]"
   ]
  },
  {
   "cell_type": "code",
   "execution_count": 23,
   "id": "e8841739",
   "metadata": {},
   "outputs": [
    {
     "ename": "TypeError",
     "evalue": "'int' object is not iterable",
     "output_type": "error",
     "traceback": [
      "\u001b[0;31m---------------------------------------------------------------------------\u001b[0m",
      "\u001b[0;31mTypeError\u001b[0m                                 Traceback (most recent call last)",
      "Cell \u001b[0;32mIn[23], line 1\u001b[0m\n\u001b[0;32m----> 1\u001b[0m \u001b[38;5;28;43mlist\u001b[39;49m\u001b[43m(\u001b[49m\u001b[38;5;241;43m1\u001b[39;49m\u001b[43m)\u001b[49m\n",
      "\u001b[0;31mTypeError\u001b[0m: 'int' object is not iterable"
     ]
    }
   ],
   "source": [
    "list(1)"
   ]
  },
  {
   "cell_type": "markdown",
   "id": "ba2476d1",
   "metadata": {},
   "source": [
    "## Propiedades de las listas"
   ]
  },
  {
   "cell_type": "code",
   "execution_count": 24,
   "id": "6793f661",
   "metadata": {},
   "outputs": [
    {
     "data": {
      "text/plain": [
       "5"
      ]
     },
     "execution_count": 24,
     "metadata": {},
     "output_type": "execute_result"
    }
   ],
   "source": [
    "len(lst)"
   ]
  },
  {
   "cell_type": "code",
   "execution_count": 25,
   "id": "31d44641",
   "metadata": {},
   "outputs": [
    {
     "name": "stdout",
     "output_type": "stream",
     "text": [
      "lst tiene 5 elementos\n",
      "lst2 tiene 4 elementos\n"
     ]
    }
   ],
   "source": [
    "# si queremos saber la longitud de nuestra lista, o lo que es lo mismo, \n",
    "# el número de elementos que tiene usaremos el método len\n",
    "\n",
    "print(\"lst tiene\", len(lst), \"elementos\")\n",
    "print(\"lst2 tiene\", len(lst2), \"elementos\")\n"
   ]
  },
  {
   "cell_type": "code",
   "execution_count": 26,
   "id": "0ed06c45",
   "metadata": {},
   "outputs": [
    {
     "data": {
      "text/plain": [
       "8"
      ]
     },
     "execution_count": 26,
     "metadata": {},
     "output_type": "execute_result"
    }
   ],
   "source": [
    "max(lst)"
   ]
  },
  {
   "cell_type": "code",
   "execution_count": 27,
   "id": "e949243c",
   "metadata": {},
   "outputs": [
    {
     "name": "stdout",
     "output_type": "stream",
     "text": [
      "el máximo es: 8\n",
      "el mínimo es: 1\n"
     ]
    }
   ],
   "source": [
    "# también podemos sacar los valores máximos y mínimos de nuestra lista\n",
    "# ⚠️ NOTA: esto solo se podrá hacer si todos los elementos de la lista son numéricos\n",
    "\n",
    "\n",
    "print(\"el máximo es:\", max(lst))\n",
    "print(\"el mínimo es:\", min(lst))"
   ]
  },
  {
   "cell_type": "code",
   "execution_count": 28,
   "id": "ea6fdd28",
   "metadata": {},
   "outputs": [],
   "source": [
    "# veamos un ejemplo combinando string con números\n",
    "\n",
    "lst3 = [\"alumnos\", 3, \"chocolate\"]"
   ]
  },
  {
   "cell_type": "code",
   "execution_count": 29,
   "id": "3465a4ca",
   "metadata": {},
   "outputs": [
    {
     "ename": "TypeError",
     "evalue": "'>' not supported between instances of 'int' and 'str'",
     "output_type": "error",
     "traceback": [
      "\u001b[0;31m---------------------------------------------------------------------------\u001b[0m",
      "\u001b[0;31mTypeError\u001b[0m                                 Traceback (most recent call last)",
      "Cell \u001b[0;32mIn[29], line 1\u001b[0m\n\u001b[0;32m----> 1\u001b[0m \u001b[38;5;28mprint\u001b[39m(\u001b[38;5;124m\"\u001b[39m\u001b[38;5;124mel máximo es:\u001b[39m\u001b[38;5;124m\"\u001b[39m, \u001b[38;5;28;43mmax\u001b[39;49m\u001b[43m(\u001b[49m\u001b[43mlst3\u001b[49m\u001b[43m)\u001b[49m)\n",
      "\u001b[0;31mTypeError\u001b[0m: '>' not supported between instances of 'int' and 'str'"
     ]
    }
   ],
   "source": [
    "print(\"el máximo es:\", max(lst3))"
   ]
  },
  {
   "cell_type": "code",
   "execution_count": 30,
   "id": "606b9177",
   "metadata": {},
   "outputs": [],
   "source": [
    "lst4 = ['hola', 'Zenon', 'CArahiu8evop']"
   ]
  },
  {
   "cell_type": "code",
   "execution_count": 32,
   "id": "e1647218",
   "metadata": {},
   "outputs": [
    {
     "name": "stdout",
     "output_type": "stream",
     "text": [
      "el máximo es: hola\n"
     ]
    }
   ],
   "source": [
    "print(\"el máximo es:\", max(lst4))"
   ]
  },
  {
   "cell_type": "code",
   "execution_count": 34,
   "id": "dc584539",
   "metadata": {},
   "outputs": [
    {
     "name": "stdout",
     "output_type": "stream",
     "text": [
      "el mínimo es: CArahiu8evop\n"
     ]
    }
   ],
   "source": [
    "print(\"el mínimo es:\", min(lst4))"
   ]
  },
  {
   "cell_type": "code",
   "execution_count": 38,
   "id": "afc8dc58",
   "metadata": {},
   "outputs": [
    {
     "name": "stdout",
     "output_type": "stream",
     "text": [
      "el máximo es: caraz\n",
      "el mínimo es: cara\n"
     ]
    }
   ],
   "source": [
    "lst5 = ['cara', 'caraz']\n",
    "print(\"el máximo es:\", max(lst5))\n",
    "print(\"el mínimo es:\", min(lst5))"
   ]
  },
  {
   "cell_type": "code",
   "execution_count": 35,
   "id": "7eac7aeb",
   "metadata": {},
   "outputs": [
    {
     "data": {
      "text/plain": [
       "False"
      ]
     },
     "execution_count": 35,
     "metadata": {},
     "output_type": "execute_result"
    }
   ],
   "source": [
    "'a' < 'A'"
   ]
  },
  {
   "cell_type": "code",
   "execution_count": 36,
   "id": "1c679c82",
   "metadata": {},
   "outputs": [
    {
     "data": {
      "text/plain": [
       "True"
      ]
     },
     "execution_count": 36,
     "metadata": {},
     "output_type": "execute_result"
    }
   ],
   "source": [
    "'A' < 'a'"
   ]
  },
  {
   "cell_type": "code",
   "execution_count": 39,
   "id": "81d61d71",
   "metadata": {},
   "outputs": [
    {
     "name": "stdout",
     "output_type": "stream",
     "text": [
      "False\n",
      "True\n"
     ]
    }
   ],
   "source": [
    "# también podemos chequear si un número dado está incluido en nuestra lista:\n",
    "\n",
    "print(5 in lst)\n",
    "print(1 in lst)"
   ]
  },
  {
   "cell_type": "code",
   "execution_count": 40,
   "id": "0c00d2dc",
   "metadata": {},
   "outputs": [
    {
     "data": {
      "text/plain": [
       "True"
      ]
     },
     "execution_count": 40,
     "metadata": {},
     "output_type": "execute_result"
    }
   ],
   "source": [
    "5 not in lst"
   ]
  },
  {
   "cell_type": "markdown",
   "id": "a2333729",
   "metadata": {},
   "source": [
    "## Indexación\n",
    "\n",
    "\n",
    "Como hemos dicho son objetos que tienen orden, al tener orden podemos acceder a cada uno de sus elementos utilizando los índices"
   ]
  },
  {
   "cell_type": "markdown",
   "id": "8093b3a0",
   "metadata": {},
   "source": [
    "![index_listas.png](https://github.com/Ironhack-Data-Madrid-PartTime-Oct22/imagenes/blob/master/semana-1/listas.png?raw=true)"
   ]
  },
  {
   "cell_type": "code",
   "execution_count": 47,
   "id": "50242a15",
   "metadata": {},
   "outputs": [
    {
     "data": {
      "text/plain": [
       "[58, 29, 42, 43, 93, 49, 11, 50, 27, 84, 66, 86, 57, 53, 82, 1, 32, 78, 35, 52]"
      ]
     },
     "execution_count": 47,
     "metadata": {},
     "output_type": "execute_result"
    }
   ],
   "source": [
    "# vamos a crear una secuencia de números aleatorios usando la librería random. \n",
    "\n",
    "import random\n",
    "\n",
    "aleatoria = random.sample(range(0, 100), 20) \n",
    "# generamos 20 números aleatorios entre el 0-99\n",
    "\n",
    "\n",
    "aleatoria"
   ]
  },
  {
   "cell_type": "code",
   "execution_count": 48,
   "id": "4449489e",
   "metadata": {
    "scrolled": true
   },
   "outputs": [
    {
     "data": {
      "text/plain": [
       "58"
      ]
     },
     "execution_count": 48,
     "metadata": {},
     "output_type": "execute_result"
    }
   ],
   "source": [
    "# accedemos al primer elemento\n",
    "\n",
    "aleatoria[0]"
   ]
  },
  {
   "cell_type": "code",
   "execution_count": 49,
   "id": "4af1ad65",
   "metadata": {},
   "outputs": [
    {
     "data": {
      "text/plain": [
       "int"
      ]
     },
     "execution_count": 49,
     "metadata": {},
     "output_type": "execute_result"
    }
   ],
   "source": [
    "type(aleatoria[0])"
   ]
  },
  {
   "cell_type": "code",
   "execution_count": 50,
   "id": "2243a4f0",
   "metadata": {},
   "outputs": [
    {
     "data": {
      "text/plain": [
       "52"
      ]
     },
     "execution_count": 50,
     "metadata": {},
     "output_type": "execute_result"
    }
   ],
   "source": [
    "# accedemos al último elemento\n",
    "\n",
    "aleatoria[-1]"
   ]
  },
  {
   "cell_type": "code",
   "execution_count": 53,
   "id": "e4ccc2af",
   "metadata": {},
   "outputs": [
    {
     "data": {
      "text/plain": [
       "52"
      ]
     },
     "execution_count": 53,
     "metadata": {},
     "output_type": "execute_result"
    }
   ],
   "source": [
    "# otra forma de acceder al último elemento\n",
    "\n",
    "N = len(aleatoria)\n",
    "\n",
    "aleatoria[N-1]"
   ]
  },
  {
   "cell_type": "code",
   "execution_count": 54,
   "id": "611569eb",
   "metadata": {},
   "outputs": [
    {
     "data": {
      "text/plain": [
       "[58, 29]"
      ]
     },
     "execution_count": 54,
     "metadata": {},
     "output_type": "execute_result"
    }
   ],
   "source": [
    "# accedemos a los dos primero elementos (slicing)\n",
    "\n",
    "aleatoria[0:2]"
   ]
  },
  {
   "cell_type": "code",
   "execution_count": 55,
   "id": "337a1d1c",
   "metadata": {},
   "outputs": [
    {
     "data": {
      "text/plain": [
       "[58, 29]"
      ]
     },
     "execution_count": 55,
     "metadata": {},
     "output_type": "execute_result"
    }
   ],
   "source": [
    "aleatoria[ :2]   #es lo mismo que lo anterior"
   ]
  },
  {
   "cell_type": "code",
   "execution_count": 56,
   "id": "c9f712da",
   "metadata": {},
   "outputs": [
    {
     "data": {
      "text/plain": [
       "[50, 27, 84, 66, 86, 57, 53, 82, 1, 32, 78, 35, 52]"
      ]
     },
     "execution_count": 56,
     "metadata": {},
     "output_type": "execute_result"
    }
   ],
   "source": [
    "# accedemos a todos los elementos menos los siete primeros\n",
    "\n",
    "aleatoria[7:]"
   ]
  },
  {
   "cell_type": "code",
   "execution_count": 57,
   "id": "5c5abb8b",
   "metadata": {},
   "outputs": [
    {
     "data": {
      "text/plain": [
       "[58, 29, 42, 43, 93, 49, 11, 50, 27, 84, 66, 86, 57, 53, 82, 1, 32, 78, 35, 52]"
      ]
     },
     "execution_count": 57,
     "metadata": {},
     "output_type": "execute_result"
    }
   ],
   "source": [
    "aleatoria[:]"
   ]
  },
  {
   "cell_type": "code",
   "execution_count": 58,
   "id": "d589ef08",
   "metadata": {},
   "outputs": [
    {
     "data": {
      "text/plain": [
       "[42, 93, 11, 27]"
      ]
     },
     "execution_count": 58,
     "metadata": {},
     "output_type": "execute_result"
    }
   ],
   "source": [
    "# [start:stop:step]\n",
    "\n",
    "\n",
    "aleatoria[2:9:2]  # desde el segundo al noveno de dos en dos"
   ]
  },
  {
   "cell_type": "code",
   "execution_count": 62,
   "id": "4d89db85",
   "metadata": {},
   "outputs": [
    {
     "data": {
      "text/plain": [
       "[58, 43, 11, 84, 57, 1, 35]"
      ]
     },
     "execution_count": 62,
     "metadata": {},
     "output_type": "execute_result"
    }
   ],
   "source": [
    "aleatoria[::3]   # desde el principio al final de tres en tres"
   ]
  },
  {
   "cell_type": "code",
   "execution_count": 65,
   "id": "e027ca6e",
   "metadata": {},
   "outputs": [
    {
     "data": {
      "text/plain": [
       "[52, 35, 78, 32, 1, 82, 53, 57, 86, 66, 84, 27, 50, 11, 49, 93, 43, 42, 29]"
      ]
     },
     "execution_count": 65,
     "metadata": {},
     "output_type": "execute_result"
    }
   ],
   "source": [
    "aleatoria[-1:0:-1]  # desde el ultimo al primero hacia atras de uno en uno, ultimo queda furra"
   ]
  },
  {
   "cell_type": "code",
   "execution_count": 61,
   "id": "9b36293c",
   "metadata": {},
   "outputs": [
    {
     "data": {
      "text/plain": [
       "[52, 35, 78, 32, 1, 82, 53, 57, 86, 66, 84, 27, 50, 11, 49, 93, 43, 42, 29, 58]"
      ]
     },
     "execution_count": 61,
     "metadata": {},
     "output_type": "execute_result"
    }
   ],
   "source": [
    "aleatoria[::-1]   # desde el ultimo al primero hacia atras de uno en uno, todo, es decir dar la vuelta"
   ]
  },
  {
   "cell_type": "markdown",
   "id": "565e5ecc",
   "metadata": {},
   "source": [
    "## Métodos de las listas\n",
    "El el objeto de tipo lista tiene una serie de métodos integrados. Veamos algunos de los principales:"
   ]
  },
  {
   "cell_type": "code",
   "execution_count": null,
   "id": "b026ac08",
   "metadata": {},
   "outputs": [],
   "source": [
    "# crearemos una lista nueva utilizando el método range\n"
   ]
  },
  {
   "cell_type": "code",
   "execution_count": null,
   "id": "46f8358e",
   "metadata": {},
   "outputs": [],
   "source": []
  },
  {
   "cell_type": "markdown",
   "id": "866e9c8d",
   "metadata": {},
   "source": [
    "`index`: devuelve el índice en el que aparece un elemento"
   ]
  },
  {
   "cell_type": "code",
   "execution_count": null,
   "id": "cdd77b29",
   "metadata": {},
   "outputs": [],
   "source": [
    "# ¿en qué posición aparece el número 9?\n"
   ]
  },
  {
   "cell_type": "code",
   "execution_count": null,
   "id": "f9368542",
   "metadata": {},
   "outputs": [],
   "source": [
    "# ¿en qué posición aparece el número 99?\n"
   ]
  },
  {
   "cell_type": "markdown",
   "id": "8a33c7ab",
   "metadata": {},
   "source": [
    "`append`: añade un elemento al final de la lista"
   ]
  },
  {
   "cell_type": "code",
   "execution_count": null,
   "id": "6c170553",
   "metadata": {},
   "outputs": [],
   "source": [
    "# añadimos un elemento nuevo (en este caso el número 10) en lst4\n"
   ]
  },
  {
   "cell_type": "code",
   "execution_count": null,
   "id": "18b48f81",
   "metadata": {},
   "outputs": [],
   "source": [
    "# si miramos ahora la lista veremos que lst4 tiene un nuevo elemento al final, el número 10. \n"
   ]
  },
  {
   "cell_type": "code",
   "execution_count": null,
   "id": "366d4056",
   "metadata": {},
   "outputs": [],
   "source": [
    "# como las listas aceptan distintos tipos de datos, podríamos añadir un elemento que fuera un string\n"
   ]
  },
  {
   "cell_type": "code",
   "execution_count": null,
   "id": "cd4ec585",
   "metadata": {},
   "outputs": [],
   "source": []
  },
  {
   "cell_type": "code",
   "execution_count": null,
   "id": "40bb1ed1",
   "metadata": {},
   "outputs": [],
   "source": [
    "# también podemos apendear listas. Pero atención ⚠️ toda la lista será un elemento, es decir, tendremos una lista de listas\n",
    "\n"
   ]
  },
  {
   "cell_type": "code",
   "execution_count": null,
   "id": "ad48705f",
   "metadata": {},
   "outputs": [],
   "source": []
  },
  {
   "cell_type": "code",
   "execution_count": null,
   "id": "0e63c1dd",
   "metadata": {},
   "outputs": [],
   "source": [
    "# Como vimos antes, si accedemos al último elemento de lst4 veremos que es la lista completa\n"
   ]
  },
  {
   "cell_type": "code",
   "execution_count": null,
   "id": "b3c20a04",
   "metadata": {},
   "outputs": [],
   "source": [
    "# Si queremos acceder a \"pepe\" tendremos que seleccionar la sublista\n",
    "\n",
    "\n",
    "# dentro de la sublista seleccionar el elemento que está en la posición 0\n"
   ]
  },
  {
   "cell_type": "markdown",
   "id": "91d908ad",
   "metadata": {},
   "source": [
    "`extend`: une una lista a otra"
   ]
  },
  {
   "cell_type": "code",
   "execution_count": null,
   "id": "2694da9c",
   "metadata": {},
   "outputs": [],
   "source": [
    "# creemos de nuevo una lista nueva\n",
    "\n"
   ]
  },
  {
   "cell_type": "code",
   "execution_count": null,
   "id": "7ea39943",
   "metadata": {},
   "outputs": [],
   "source": [
    "# también trabajaremos con la lst3, recordemos como era\n"
   ]
  },
  {
   "cell_type": "code",
   "execution_count": null,
   "id": "25c99590",
   "metadata": {},
   "outputs": [],
   "source": [
    "# juntemos la lst5 con la lst3\n"
   ]
  },
  {
   "cell_type": "markdown",
   "id": "754fc546",
   "metadata": {},
   "source": [
    "¿Qué es lo que ha pasado aquí? ¿Qué diferencia al `append()` del `extend()`? \n",
    "\n",
    "- Si nos fijamos cuando usamos el método `extend()` lo que hacemos es añadir los elementos de una lista a otra de uno en uno. \n",
    "\n",
    "- Por el contrario, con el `append()` lo que hacemos es apendear la lista tal cuál, como un elemento más de la lista de origen. "
   ]
  },
  {
   "cell_type": "markdown",
   "id": "ced73f99",
   "metadata": {},
   "source": [
    "`insert`: agrega un elemento a la lista en un índice específico"
   ]
  },
  {
   "cell_type": "markdown",
   "id": "ac56d324",
   "metadata": {},
   "source": [
    " **¡¡¡ RECORDEMOS !!! para usar este método necesitaremos :** \n",
    "\n",
    "1️⃣ La POSICIÓN donde queremos insertar los datos  \n",
    "\n",
    "\n",
    "2️⃣ El DATO que queremos insertar"
   ]
  },
  {
   "cell_type": "code",
   "execution_count": null,
   "id": "c0a9232a",
   "metadata": {},
   "outputs": [],
   "source": [
    "# insertamos un 90 en la posición 0\n"
   ]
  },
  {
   "cell_type": "code",
   "execution_count": null,
   "id": "8e4bb3c0",
   "metadata": {},
   "outputs": [],
   "source": [
    "# insertamos un \"hola mundo\" en tercera posición\n"
   ]
  },
  {
   "cell_type": "markdown",
   "id": "c8eca285",
   "metadata": {},
   "source": [
    "`count`: cuenta el número de veces que aparece un elemento"
   ]
  },
  {
   "cell_type": "code",
   "execution_count": null,
   "id": "5acf8075",
   "metadata": {},
   "outputs": [],
   "source": []
  },
  {
   "cell_type": "code",
   "execution_count": null,
   "id": "1fefcc96",
   "metadata": {},
   "outputs": [],
   "source": [
    "# para encontrar a pepe tenemos que acceder a la lista primero\n"
   ]
  },
  {
   "cell_type": "markdown",
   "id": "146a74a9",
   "metadata": {},
   "source": [
    "`reverse`: le da la vuelta a la lista"
   ]
  },
  {
   "cell_type": "code",
   "execution_count": null,
   "id": "8020a7ee",
   "metadata": {},
   "outputs": [],
   "source": [
    "# recordemos que es lst3\n"
   ]
  },
  {
   "cell_type": "code",
   "execution_count": null,
   "id": "49de8683",
   "metadata": {},
   "outputs": [],
   "source": []
  },
  {
   "cell_type": "code",
   "execution_count": null,
   "id": "0c6aa290",
   "metadata": {},
   "outputs": [],
   "source": []
  },
  {
   "cell_type": "code",
   "execution_count": null,
   "id": "7e6a1a4c",
   "metadata": {},
   "outputs": [],
   "source": [
    "# vereis en algunas ocasiones esta forma de darle la vuelta a una lista\n"
   ]
  },
  {
   "cell_type": "markdown",
   "id": "85d576ca",
   "metadata": {},
   "source": [
    "`sort`: ordena automáticamente los elementos de una lista por su valor de menor a mayor\n",
    "\n",
    "🚨 Este método sobreescribe la lista original!"
   ]
  },
  {
   "cell_type": "code",
   "execution_count": null,
   "id": "6f7f775b",
   "metadata": {
    "scrolled": true
   },
   "outputs": [],
   "source": []
  },
  {
   "cell_type": "markdown",
   "id": "80ac1371",
   "metadata": {},
   "source": [
    "⚠️ Ojo!!!! Si tenemos en nuestra lista elementos que no todos del mismo tipo no podremos ordenarla. El error que tenemos arriba 👆🏼"
   ]
  },
  {
   "cell_type": "code",
   "execution_count": null,
   "id": "656e54fc",
   "metadata": {
    "scrolled": true
   },
   "outputs": [],
   "source": [
    "# para hacer el ejemplo de ordenar vamos a crearnos una lista nueva\n"
   ]
  },
  {
   "cell_type": "code",
   "execution_count": null,
   "id": "66614f47",
   "metadata": {},
   "outputs": [],
   "source": []
  },
  {
   "cell_type": "code",
   "execution_count": null,
   "id": "1d62fb9f",
   "metadata": {},
   "outputs": [],
   "source": []
  },
  {
   "cell_type": "markdown",
   "id": "5c996957",
   "metadata": {},
   "source": [
    "**NOTA**: si nos fijamos por defecto ordena de menor a mayor. En caso de que querramos ordenar de mayor a menor podremos utilizar el argumento `reverse = True` para indicar que la ordene al revés"
   ]
  },
  {
   "cell_type": "code",
   "execution_count": null,
   "id": "bd4e428d",
   "metadata": {},
   "outputs": [],
   "source": []
  },
  {
   "cell_type": "code",
   "execution_count": null,
   "id": "9410e3a5",
   "metadata": {},
   "outputs": [],
   "source": []
  },
  {
   "cell_type": "markdown",
   "id": "96376202",
   "metadata": {},
   "source": [
    "¿Qué pasaría si nuestra lista estuviera compuesta por *strings*? "
   ]
  },
  {
   "cell_type": "code",
   "execution_count": null,
   "id": "1322a07c",
   "metadata": {},
   "outputs": [],
   "source": []
  },
  {
   "cell_type": "code",
   "execution_count": null,
   "id": "b4b8386d",
   "metadata": {},
   "outputs": [],
   "source": []
  },
  {
   "cell_type": "markdown",
   "id": "7d68c1b1",
   "metadata": {},
   "source": [
    "`sorted`: ordena los elementos de una lista, **pero a diferencia del sort no nos sobreescribe la lista original, tendremos que crearnos una variable nueva**"
   ]
  },
  {
   "cell_type": "code",
   "execution_count": null,
   "id": "70231449",
   "metadata": {},
   "outputs": [],
   "source": []
  },
  {
   "cell_type": "code",
   "execution_count": null,
   "id": "4ba4adf7",
   "metadata": {},
   "outputs": [],
   "source": []
  },
  {
   "cell_type": "code",
   "execution_count": null,
   "id": "6d27f3e7",
   "metadata": {},
   "outputs": [],
   "source": [
    "# si ahora vemos el resultado el método anterior, veremos que la lista no ha sido modificada. \n"
   ]
  },
  {
   "cell_type": "code",
   "execution_count": null,
   "id": "d6ed110f",
   "metadata": {},
   "outputs": [],
   "source": [
    "# para guardar los resultados del sorted tendremos que asignarlo a una nueva variable\n"
   ]
  },
  {
   "cell_type": "markdown",
   "id": "a4411b02",
   "metadata": {},
   "source": [
    "`pop`: elimina un elemento de la lista. \n",
    "\n",
    "🚨 Por defecto elimina un elemento al azar de la lista. "
   ]
  },
  {
   "cell_type": "code",
   "execution_count": null,
   "id": "1254a421",
   "metadata": {},
   "outputs": [],
   "source": []
  },
  {
   "cell_type": "code",
   "execution_count": null,
   "id": "9e99b9f1",
   "metadata": {},
   "outputs": [],
   "source": []
  },
  {
   "cell_type": "code",
   "execution_count": null,
   "id": "feb034c3",
   "metadata": {},
   "outputs": [],
   "source": []
  },
  {
   "cell_type": "code",
   "execution_count": null,
   "id": "3e266b33",
   "metadata": {},
   "outputs": [],
   "source": [
    "# 🚨 también le podemos especificar que elemento queremos eliminar a través de su posición\n"
   ]
  },
  {
   "cell_type": "code",
   "execution_count": null,
   "id": "5348f345",
   "metadata": {},
   "outputs": [],
   "source": []
  },
  {
   "cell_type": "markdown",
   "id": "745ec312",
   "metadata": {},
   "source": [
    "`remove`: borra el primer elemento de la lista cuyo valor concuerde con el que especificamos"
   ]
  },
  {
   "cell_type": "code",
   "execution_count": null,
   "id": "6e554c42",
   "metadata": {},
   "outputs": [],
   "source": []
  },
  {
   "cell_type": "code",
   "execution_count": null,
   "id": "45856329",
   "metadata": {},
   "outputs": [],
   "source": []
  },
  {
   "cell_type": "code",
   "execution_count": null,
   "id": "4c8e4850",
   "metadata": {},
   "outputs": [],
   "source": []
  },
  {
   "cell_type": "code",
   "execution_count": null,
   "id": "c07907b5",
   "metadata": {
    "scrolled": true
   },
   "outputs": [],
   "source": [
    "# si especificamos un valor que no esta en nuestra lista nos dará un value error\n"
   ]
  },
  {
   "cell_type": "markdown",
   "id": "ea592081",
   "metadata": {},
   "source": [
    "`clear`: vacía todos los ítems de una lista"
   ]
  },
  {
   "cell_type": "code",
   "execution_count": null,
   "id": "ca9de4be",
   "metadata": {},
   "outputs": [],
   "source": []
  },
  {
   "cell_type": "code",
   "execution_count": null,
   "id": "247e9cae",
   "metadata": {
    "scrolled": true
   },
   "outputs": [],
   "source": []
  },
  {
   "cell_type": "markdown",
   "id": "5e73166d",
   "metadata": {},
   "source": [
    "# Tuplas "
   ]
  },
  {
   "cell_type": "markdown",
   "id": "303c791e",
   "metadata": {},
   "source": [
    "Las tuplas en Python  son muy similares a las listas, pero con dos diferencias:\n",
    "\n",
    "- Son inmutables, lo que significa que no pueden ser modificadas una vez declaradas. \n",
    "  \n",
    "- En vez de inicializarse con corchetes se hace con (). Dependiendo de lo que queramos hacer, las tuplas pueden ser más rápidas.\n",
    "\n",
    "Al igual que las listas las podemos crear de dos formas diferentes: \n",
    "\n",
    "- Usando los `()` como hemos mencionado\n",
    "\n",
    "- Usando el método `tuple()`\n"
   ]
  },
  {
   "cell_type": "markdown",
   "id": "f67bb970",
   "metadata": {},
   "source": [
    "## Creación de tuplas"
   ]
  },
  {
   "cell_type": "code",
   "execution_count": null,
   "id": "28460aa4",
   "metadata": {},
   "outputs": [],
   "source": []
  },
  {
   "cell_type": "code",
   "execution_count": null,
   "id": "21e58fa6",
   "metadata": {},
   "outputs": [],
   "source": []
  },
  {
   "cell_type": "code",
   "execution_count": null,
   "id": "bda7068b",
   "metadata": {},
   "outputs": [],
   "source": [
    "# otra forma de crear una tupla\n"
   ]
  },
  {
   "cell_type": "code",
   "execution_count": null,
   "id": "39b9bbc2",
   "metadata": {},
   "outputs": [],
   "source": [
    "# otra forma más, lo podemos hacer con números\n"
   ]
  },
  {
   "cell_type": "code",
   "execution_count": null,
   "id": "3b6d7413",
   "metadata": {},
   "outputs": [],
   "source": [
    "# o con strings\n"
   ]
  },
  {
   "cell_type": "markdown",
   "id": "b4ffa6f5",
   "metadata": {},
   "source": [
    "## Propiedades de las tuplas"
   ]
  },
  {
   "cell_type": "code",
   "execution_count": null,
   "id": "fe86625a",
   "metadata": {},
   "outputs": [],
   "source": [
    "# Al igual que en las listas podremo usar len() para conocer el número de elementos de la tupla\n"
   ]
  },
  {
   "cell_type": "code",
   "execution_count": null,
   "id": "bb45b24f",
   "metadata": {},
   "outputs": [],
   "source": [
    "# también podremos sacar sus valores máximos y mínimos\n"
   ]
  },
  {
   "cell_type": "markdown",
   "id": "8b21f734",
   "metadata": {},
   "source": [
    "**¿Qué significa que son inmutables?** "
   ]
  },
  {
   "cell_type": "code",
   "execution_count": null,
   "id": "a4cc4dd2",
   "metadata": {},
   "outputs": [],
   "source": []
  },
  {
   "cell_type": "code",
   "execution_count": null,
   "id": "c68288a0",
   "metadata": {},
   "outputs": [],
   "source": [
    "# Si queremos cambiar el valor de un elemento de una lista solo tendremos que hacer esto\n",
    "# Si queremos reemplazar el 2 (que esta en la posición 0) por un 100\n"
   ]
  },
  {
   "cell_type": "code",
   "execution_count": null,
   "id": "d719fbcd",
   "metadata": {},
   "outputs": [],
   "source": []
  },
  {
   "cell_type": "code",
   "execution_count": null,
   "id": "62009ef2",
   "metadata": {},
   "outputs": [],
   "source": [
    "# si lo intentamos para una tupla nos dará error 🤓, SON INMUTABLES!\n"
   ]
  },
  {
   "cell_type": "markdown",
   "id": "6f2cbeac",
   "metadata": {},
   "source": [
    "Podemos hacerla mutable convirtiendola a lista, cambiando lo queremos y volviendola a hacer tupla"
   ]
  },
  {
   "cell_type": "code",
   "execution_count": null,
   "id": "dbfca797",
   "metadata": {},
   "outputs": [],
   "source": []
  },
  {
   "cell_type": "code",
   "execution_count": null,
   "id": "b5b16b4d",
   "metadata": {},
   "outputs": [],
   "source": [
    "# vamos a cambiar el primer elemento por un 100. \n",
    "# Primero convertimos a lista\n"
   ]
  },
  {
   "cell_type": "code",
   "execution_count": null,
   "id": "030c7911",
   "metadata": {},
   "outputs": [],
   "source": [
    "# cambiamos el valor\n"
   ]
  },
  {
   "cell_type": "code",
   "execution_count": null,
   "id": "a2e1802f",
   "metadata": {},
   "outputs": [],
   "source": [
    "# volvemos a convertir a tupla\n"
   ]
  },
  {
   "cell_type": "code",
   "execution_count": null,
   "id": "9db3d94d",
   "metadata": {},
   "outputs": [],
   "source": [
    "# otra posible forma de modificar una tupla\n"
   ]
  },
  {
   "cell_type": "code",
   "execution_count": null,
   "id": "7d6bf729",
   "metadata": {},
   "outputs": [],
   "source": []
  },
  {
   "cell_type": "markdown",
   "id": "d6f52d70",
   "metadata": {},
   "source": [
    "Pero ojo aquí! 🚨 En realidad no la estamos modificando. Estamos creando una tupla nueva y luego machacando el valor original de nuestra tupla"
   ]
  },
  {
   "cell_type": "markdown",
   "id": "73e7b156",
   "metadata": {},
   "source": [
    " 📌 Como son inmutables, no tienen métodos para añadir elementos ( *append*) o eliminar (*pop* o *remove*)"
   ]
  },
  {
   "cell_type": "markdown",
   "id": "f38d8e81",
   "metadata": {},
   "source": [
    "## Indexación\n",
    "\n",
    "📌 La indexación en las tuplas es igual que en las listas"
   ]
  },
  {
   "cell_type": "code",
   "execution_count": null,
   "id": "17c9ae38",
   "metadata": {},
   "outputs": [],
   "source": [
    "# imaginemos que tenmos la siguiente tupla\n",
    "\n"
   ]
  },
  {
   "cell_type": "code",
   "execution_count": null,
   "id": "91bcaa39",
   "metadata": {},
   "outputs": [],
   "source": []
  },
  {
   "cell_type": "code",
   "execution_count": null,
   "id": "c4908024",
   "metadata": {},
   "outputs": [],
   "source": []
  },
  {
   "cell_type": "code",
   "execution_count": null,
   "id": "9bb04e55",
   "metadata": {},
   "outputs": [],
   "source": []
  },
  {
   "cell_type": "code",
   "execution_count": null,
   "id": "c3805163",
   "metadata": {},
   "outputs": [],
   "source": []
  },
  {
   "cell_type": "code",
   "execution_count": null,
   "id": "456c93d2",
   "metadata": {},
   "outputs": [],
   "source": []
  },
  {
   "cell_type": "markdown",
   "id": "7d4b071c",
   "metadata": {},
   "source": [
    "## Métodos de las tuplas "
   ]
  },
  {
   "cell_type": "code",
   "execution_count": null,
   "id": "dc0d8fb7",
   "metadata": {},
   "outputs": [],
   "source": []
  },
  {
   "cell_type": "markdown",
   "id": "f0a25f2f",
   "metadata": {},
   "source": [
    "`index`: busca un elemento y nos da su posición en la tupla"
   ]
  },
  {
   "cell_type": "code",
   "execution_count": null,
   "id": "699a2fb3",
   "metadata": {},
   "outputs": [],
   "source": []
  },
  {
   "cell_type": "markdown",
   "id": "141cead6",
   "metadata": {},
   "source": [
    "`count`: cuenta cuántas veces aparece un elemento en la tupla"
   ]
  },
  {
   "cell_type": "code",
   "execution_count": null,
   "id": "d6bfda8b",
   "metadata": {},
   "outputs": [],
   "source": []
  },
  {
   "cell_type": "markdown",
   "id": "5e5d1881",
   "metadata": {},
   "source": [
    "**Cómo son inmutables, no tendremos los métodos que teníamos en listas para eliminar elementos o vaciar la tupla)**"
   ]
  },
  {
   "cell_type": "markdown",
   "id": "8ed37a39",
   "metadata": {},
   "source": [
    "# Diccionarios "
   ]
  },
  {
   "cell_type": "markdown",
   "id": "9763cb45",
   "metadata": {},
   "source": [
    "![image.png](https://github.com/Ironhack-Data-Madrid-PartTime-Oct22/imagenes/blob/master/semana-1/diccionarios.png?raw=true)"
   ]
  },
  {
   "cell_type": "markdown",
   "id": "05c3362f",
   "metadata": {},
   "source": [
    "Los diccionarios en Python nos permiten almacenar una serie de mapeos entre dos conjuntos de elementos, llamados keys and values (Claves y Valores).\n",
    "\n",
    "- Todos los elementos en el diccionario se encuentran encerrados en un par de llaves `{}`.\n",
    "\n",
    "\n",
    "- Cada elemento en un diccionario contiene una clave (*key*) y un valor (*value*) - es decir un par de clave-valor.\n",
    "\n",
    "\n",
    "\n",
    "- Cada par de clave-valor es denominado como elemento (item).\n",
    "\n",
    "\n",
    "- Puede almancenar cualquier tipo de tipo o estructura de datos (*integers*, *floats*, *booleanos*, listas, etc.). \n",
    "\n",
    "\n",
    "- Son **mutables** y **sin orden**.\n",
    "\n",
    "\n",
    "- Las keys son **únicas**. "
   ]
  },
  {
   "cell_type": "markdown",
   "id": "519e0082",
   "metadata": {},
   "source": [
    "-----\n",
    "**¿Cómo podemos crear diccionarios?**\n",
    "\n",
    "- Usando el método `dict()`\n",
    "\n",
    "\n",
    "- Usando las `{}` y definiendo nosotros mismos las `keys` y los `values`"
   ]
  },
  {
   "cell_type": "markdown",
   "id": "ef2fa215",
   "metadata": {},
   "source": [
    "## Creación de diccionarios"
   ]
  },
  {
   "cell_type": "code",
   "execution_count": null,
   "id": "4d2cd0f4",
   "metadata": {},
   "outputs": [],
   "source": [
    "# usando dict(). Creamos un diccionario vacio\n",
    "\n"
   ]
  },
  {
   "cell_type": "code",
   "execution_count": null,
   "id": "0457389e",
   "metadata": {
    "scrolled": true
   },
   "outputs": [],
   "source": [
    "# usando las {} creamos un diccionario vacío\n"
   ]
  },
  {
   "cell_type": "code",
   "execution_count": null,
   "id": "cd969624",
   "metadata": {},
   "outputs": [],
   "source": [
    "# usando las {}\n"
   ]
  },
  {
   "cell_type": "code",
   "execution_count": null,
   "id": "ec57119c",
   "metadata": {},
   "outputs": [],
   "source": []
  },
  {
   "cell_type": "markdown",
   "id": "8e5c100b",
   "metadata": {},
   "source": [
    "## Propiedades de los diccionarios"
   ]
  },
  {
   "cell_type": "code",
   "execution_count": null,
   "id": "7589aa5c",
   "metadata": {},
   "outputs": [],
   "source": [
    "# para saber cuantos pares de key:values tenemos usaremos \"len\" como en las listas\n"
   ]
  },
  {
   "cell_type": "code",
   "execution_count": null,
   "id": "061350a8",
   "metadata": {},
   "outputs": [],
   "source": [
    "# para conocer las keys que tiene nuestro diccionario\n"
   ]
  },
  {
   "cell_type": "code",
   "execution_count": null,
   "id": "3099738b",
   "metadata": {},
   "outputs": [],
   "source": [
    "# para acceder a los values de nuestro diccionario\n"
   ]
  },
  {
   "cell_type": "code",
   "execution_count": null,
   "id": "0299a5de",
   "metadata": {},
   "outputs": [],
   "source": []
  },
  {
   "cell_type": "markdown",
   "id": "32d0c980",
   "metadata": {},
   "source": [
    "## Indexación de los diccionarios\n",
    "\n",
    "Ya sabemos crear diccionarios, pero... ¿Cómo accedemos a sus elementos si no tienen orden? "
   ]
  },
  {
   "cell_type": "code",
   "execution_count": null,
   "id": "6b415374",
   "metadata": {},
   "outputs": [],
   "source": []
  },
  {
   "cell_type": "code",
   "execution_count": null,
   "id": "dcc9636a",
   "metadata": {},
   "outputs": [],
   "source": [
    "# podemos acceder a los valores de un diccionario a través de sus keys\n"
   ]
  },
  {
   "cell_type": "code",
   "execution_count": null,
   "id": "7f890feb",
   "metadata": {},
   "outputs": [],
   "source": []
  },
  {
   "cell_type": "code",
   "execution_count": null,
   "id": "bc68b748",
   "metadata": {},
   "outputs": [],
   "source": [
    "# para cambiar el value de una key\n"
   ]
  },
  {
   "cell_type": "code",
   "execution_count": null,
   "id": "ed441f68",
   "metadata": {},
   "outputs": [],
   "source": []
  },
  {
   "cell_type": "code",
   "execution_count": null,
   "id": "2fd801a0",
   "metadata": {},
   "outputs": [],
   "source": []
  },
  {
   "cell_type": "markdown",
   "id": "ec4900c2",
   "metadata": {},
   "source": [
    "## Métodos de los diccionarios"
   ]
  },
  {
   "cell_type": "code",
   "execution_count": null,
   "id": "f080f6f3",
   "metadata": {},
   "outputs": [],
   "source": []
  },
  {
   "cell_type": "markdown",
   "id": "409e87f3",
   "metadata": {},
   "source": [
    "`items`: devuelve una lista de pares de diccionarios(key:values), como tuplas"
   ]
  },
  {
   "cell_type": "code",
   "execution_count": null,
   "id": "946ae091",
   "metadata": {},
   "outputs": [],
   "source": []
  },
  {
   "cell_type": "markdown",
   "id": "add57cbe",
   "metadata": {},
   "source": [
    "`get`: busca un elemento a partir de su clave"
   ]
  },
  {
   "cell_type": "code",
   "execution_count": null,
   "id": "92993a78",
   "metadata": {},
   "outputs": [],
   "source": []
  },
  {
   "cell_type": "code",
   "execution_count": null,
   "id": "4405a47f",
   "metadata": {},
   "outputs": [],
   "source": [
    "# si queremos ver los pares de key values usando un for tenemos que usar\n",
    "## el método .items()\n"
   ]
  },
  {
   "cell_type": "code",
   "execution_count": null,
   "id": "be21d47d",
   "metadata": {},
   "outputs": [],
   "source": [
    "# con este método podemos pasar otro parámetro para que en caso de que no exista la key nos devuelva un valor por defecto\n"
   ]
  },
  {
   "cell_type": "markdown",
   "id": "689d4519",
   "metadata": {},
   "source": [
    "`setdefault`: es similar al `get`. En este caso, si la *key* no existe la crea y asigna el value del valor por defecto que indicamos"
   ]
  },
  {
   "cell_type": "code",
   "execution_count": null,
   "id": "8c50ca7f",
   "metadata": {},
   "outputs": [],
   "source": []
  },
  {
   "cell_type": "code",
   "execution_count": null,
   "id": "2f83152c",
   "metadata": {},
   "outputs": [],
   "source": []
  },
  {
   "cell_type": "code",
   "execution_count": null,
   "id": "ab1e7f84",
   "metadata": {},
   "outputs": [],
   "source": []
  },
  {
   "cell_type": "markdown",
   "id": "6c329766",
   "metadata": {},
   "source": [
    "`update`: actualiza el diccionario añadiendo un nuevo par de key:value en formato diccionario"
   ]
  },
  {
   "cell_type": "code",
   "execution_count": null,
   "id": "120a886e",
   "metadata": {},
   "outputs": [],
   "source": []
  },
  {
   "cell_type": "code",
   "execution_count": null,
   "id": "4abbf296",
   "metadata": {},
   "outputs": [],
   "source": []
  },
  {
   "cell_type": "code",
   "execution_count": null,
   "id": "42e9533f",
   "metadata": {},
   "outputs": [],
   "source": [
    "# lo podemos hacer pasándole directamente el diccionario\n",
    "# podemos incluir todas los key/values que queremos en el update\n"
   ]
  },
  {
   "cell_type": "markdown",
   "id": "8c5f500e",
   "metadata": {},
   "source": [
    "¿Qué pasa si sumamos dos diccionarios? NOS DA ERROR!!!!"
   ]
  },
  {
   "cell_type": "code",
   "execution_count": null,
   "id": "0d1140a7",
   "metadata": {},
   "outputs": [],
   "source": []
  },
  {
   "cell_type": "code",
   "execution_count": null,
   "id": "561b4870",
   "metadata": {},
   "outputs": [],
   "source": []
  },
  {
   "cell_type": "code",
   "execution_count": null,
   "id": "7e7a75b8",
   "metadata": {},
   "outputs": [],
   "source": [
    "# podriamos hacer algo como esto:\n"
   ]
  },
  {
   "cell_type": "markdown",
   "id": "b149d622",
   "metadata": {},
   "source": [
    "⚠️ Pero ojo! Esto 👆 es una lista de diccionarios"
   ]
  },
  {
   "cell_type": "code",
   "execution_count": null,
   "id": "3f1b1ed5",
   "metadata": {},
   "outputs": [],
   "source": []
  },
  {
   "cell_type": "code",
   "execution_count": null,
   "id": "93f095fd",
   "metadata": {},
   "outputs": [],
   "source": [
    "# y cada uno de los elementos de mi lista será un diccionario\n"
   ]
  },
  {
   "cell_type": "code",
   "execution_count": null,
   "id": "3108a300",
   "metadata": {},
   "outputs": [],
   "source": []
  },
  {
   "cell_type": "markdown",
   "id": "d95f68c8",
   "metadata": {},
   "source": [
    "`sorted`: nos ordena el diccionario"
   ]
  },
  {
   "cell_type": "code",
   "execution_count": null,
   "id": "764d761d",
   "metadata": {},
   "outputs": [],
   "source": []
  },
  {
   "cell_type": "code",
   "execution_count": null,
   "id": "a03710fa",
   "metadata": {},
   "outputs": [],
   "source": []
  },
  {
   "cell_type": "code",
   "execution_count": null,
   "id": "52cc4b0d",
   "metadata": {},
   "outputs": [],
   "source": []
  },
  {
   "cell_type": "markdown",
   "id": "cb0c513d",
   "metadata": {},
   "source": [
    "`copy`: hace una copia exacta de nuestro diccionario"
   ]
  },
  {
   "cell_type": "code",
   "execution_count": null,
   "id": "2c8eb7b8",
   "metadata": {},
   "outputs": [],
   "source": []
  },
  {
   "cell_type": "code",
   "execution_count": null,
   "id": "7632cea4",
   "metadata": {},
   "outputs": [],
   "source": []
  },
  {
   "cell_type": "markdown",
   "id": "3dbafb3c",
   "metadata": {},
   "source": [
    "¿Qué pasa si no uso `copy` y hago la igualdad de diccionarios? "
   ]
  },
  {
   "cell_type": "code",
   "execution_count": null,
   "id": "e93ef365",
   "metadata": {},
   "outputs": [],
   "source": []
  },
  {
   "cell_type": "code",
   "execution_count": null,
   "id": "ecdb2564",
   "metadata": {},
   "outputs": [],
   "source": []
  },
  {
   "cell_type": "code",
   "execution_count": null,
   "id": "37faafe9",
   "metadata": {},
   "outputs": [],
   "source": [
    "# vamos a hacer una modificacion en diccionario4\n"
   ]
  },
  {
   "cell_type": "code",
   "execution_count": null,
   "id": "00505cec",
   "metadata": {},
   "outputs": [],
   "source": [
    "# ¿Qué ha pasado con el diccionario original?\n"
   ]
  },
  {
   "cell_type": "markdown",
   "id": "0f76a479",
   "metadata": {},
   "source": [
    "⚠️🚨 SE HA MODIFICADO TAMBIÉN ⚠️🚨. Conclusión, no hacerlo nunca!"
   ]
  },
  {
   "cell_type": "markdown",
   "id": "53cd4081",
   "metadata": {},
   "source": [
    "`pop`: elimina una *key* específica"
   ]
  },
  {
   "cell_type": "code",
   "execution_count": null,
   "id": "d98a3f33",
   "metadata": {},
   "outputs": [],
   "source": []
  },
  {
   "cell_type": "code",
   "execution_count": null,
   "id": "f9eda635",
   "metadata": {},
   "outputs": [],
   "source": []
  },
  {
   "cell_type": "code",
   "execution_count": null,
   "id": "d8ad810f",
   "metadata": {},
   "outputs": [],
   "source": [
    "# si no le pasamos ningún parámetro al pop() nos dará error ya que no sabe que elemento queremos quitar\n"
   ]
  },
  {
   "cell_type": "markdown",
   "id": "239cfa09",
   "metadata": {},
   "source": [
    "`clear`: elimina todos los elementos del diccionario"
   ]
  },
  {
   "cell_type": "code",
   "execution_count": null,
   "id": "7173deea",
   "metadata": {},
   "outputs": [],
   "source": []
  },
  {
   "cell_type": "code",
   "execution_count": null,
   "id": "78264700",
   "metadata": {},
   "outputs": [],
   "source": []
  },
  {
   "cell_type": "markdown",
   "id": "6a72b878",
   "metadata": {},
   "source": [
    "# Sets "
   ]
  },
  {
   "cell_type": "markdown",
   "id": "1752ce28",
   "metadata": {},
   "source": [
    "Un *set* o conjunto es una colección **no ordenada** de elementos únicos. \n",
    "\n",
    "Los conjuntos son ampliamente utilizados en lógica y matemáticas, y desde Python podemos sacar provecho de sus propiedades para crear código más eficiente y legible en menos tiempo. \n",
    "\n",
    "Los *set* en Python son un tipo que permite almacenar varios elementos y acceder a ellos de una forma muy similar a las listas pero con ciertas diferencias:\n",
    "\n",
    "- Los elementos de un *set* son únicos, lo que significa que no puede haber elementos duplicados.\n",
    "\n",
    "- Los *set* son desordenados, lo que significa que no mantienen el orden de cuando son declarados.\n",
    "\n",
    "- Al igual que las tuplas, sus elementos deben ser inmutables.\n",
    "\n",
    "\n",
    "-----\n",
    "**¿Cómo podemos crear un set?**\n",
    "\n",
    "- Usando el método `set()`\n",
    "\n",
    "- Usando `{}`\n",
    "\n",
    "\n",
    "⚠️ NOTA: lo tenemos que crear vacios y luego vamos añadiendo los elementos. \n"
   ]
  },
  {
   "cell_type": "markdown",
   "id": "5aad8c82",
   "metadata": {},
   "source": [
    "## Creación de *sets*"
   ]
  },
  {
   "cell_type": "code",
   "execution_count": null,
   "id": "e10c5062",
   "metadata": {
    "scrolled": true
   },
   "outputs": [],
   "source": []
  },
  {
   "cell_type": "code",
   "execution_count": null,
   "id": "cf3c880e",
   "metadata": {},
   "outputs": [],
   "source": []
  },
  {
   "cell_type": "code",
   "execution_count": null,
   "id": "77c7a92c",
   "metadata": {},
   "outputs": [],
   "source": []
  },
  {
   "cell_type": "code",
   "execution_count": null,
   "id": "c03c32d8",
   "metadata": {},
   "outputs": [],
   "source": []
  },
  {
   "cell_type": "markdown",
   "id": "427474a1",
   "metadata": {},
   "source": [
    "## Indexación de *sets* "
   ]
  },
  {
   "cell_type": "markdown",
   "id": "7258cac9",
   "metadata": {},
   "source": [
    "📌 Como no tienen orden no podemos acceder a sus elementos como en las listas o las tuplas"
   ]
  },
  {
   "cell_type": "code",
   "execution_count": null,
   "id": "984a5143",
   "metadata": {
    "scrolled": true
   },
   "outputs": [],
   "source": []
  },
  {
   "cell_type": "markdown",
   "id": "6ad9cad0",
   "metadata": {},
   "source": [
    "## Métodos de los sets "
   ]
  },
  {
   "cell_type": "markdown",
   "id": "23d2219a",
   "metadata": {},
   "source": [
    "`add`: añade un item a un set. Si ya existe no lo añade"
   ]
  },
  {
   "cell_type": "code",
   "execution_count": null,
   "id": "3783fb63",
   "metadata": {},
   "outputs": [],
   "source": []
  },
  {
   "cell_type": "code",
   "execution_count": null,
   "id": "3be479b5",
   "metadata": {},
   "outputs": [],
   "source": []
  },
  {
   "cell_type": "markdown",
   "id": "401ebbcf",
   "metadata": {},
   "source": [
    "`copy`: hace una copia del set"
   ]
  },
  {
   "cell_type": "code",
   "execution_count": null,
   "id": "a97340d1",
   "metadata": {},
   "outputs": [],
   "source": []
  },
  {
   "cell_type": "markdown",
   "id": "4a9b5569",
   "metadata": {},
   "source": [
    "`discard`: borra un elemento de un set"
   ]
  },
  {
   "cell_type": "code",
   "execution_count": null,
   "id": "00dc4331",
   "metadata": {},
   "outputs": [],
   "source": []
  },
  {
   "cell_type": "code",
   "execution_count": null,
   "id": "9702b5d0",
   "metadata": {},
   "outputs": [],
   "source": []
  },
  {
   "cell_type": "markdown",
   "id": "39896561",
   "metadata": {},
   "source": [
    "`clear`: borra todos los elementos de un set"
   ]
  },
  {
   "cell_type": "code",
   "execution_count": null,
   "id": "6455af82",
   "metadata": {},
   "outputs": [],
   "source": []
  },
  {
   "cell_type": "code",
   "execution_count": null,
   "id": "d8054b4d",
   "metadata": {},
   "outputs": [],
   "source": []
  },
  {
   "cell_type": "markdown",
   "id": "6247741e",
   "metadata": {},
   "source": [
    "Los sets tienen una serie de métodos que nos van a permitir realizar comparaciones entre dos sets. Vamos a ver algunos de los más importantes: "
   ]
  },
  {
   "cell_type": "code",
   "execution_count": null,
   "id": "659b90e4",
   "metadata": {},
   "outputs": [],
   "source": []
  },
  {
   "cell_type": "code",
   "execution_count": null,
   "id": "9cbea372",
   "metadata": {},
   "outputs": [],
   "source": []
  },
  {
   "cell_type": "code",
   "execution_count": null,
   "id": "407fba9c",
   "metadata": {},
   "outputs": [],
   "source": []
  },
  {
   "cell_type": "markdown",
   "id": "02799816",
   "metadata": {},
   "source": [
    "`union`: une un set a otro y devuelve el resultado del nuevo conjunto"
   ]
  },
  {
   "cell_type": "code",
   "execution_count": null,
   "id": "572df028",
   "metadata": {},
   "outputs": [],
   "source": []
  },
  {
   "cell_type": "code",
   "execution_count": null,
   "id": "320b5647",
   "metadata": {},
   "outputs": [],
   "source": []
  },
  {
   "cell_type": "markdown",
   "id": "767e69fe",
   "metadata": {},
   "source": [
    "`intersection`: devuelve un conjunto con los elementos comunes en los dos conjuntos"
   ]
  },
  {
   "cell_type": "code",
   "execution_count": null,
   "id": "67aec9bc",
   "metadata": {},
   "outputs": [],
   "source": []
  },
  {
   "cell_type": "markdown",
   "id": "95f510e8",
   "metadata": {},
   "source": [
    "`issubset`: comprueba si el set es un subconjunto de otro set, es decir, si sus elementos se encuentran **todos** dentro de otro"
   ]
  },
  {
   "cell_type": "code",
   "execution_count": null,
   "id": "04e91f71",
   "metadata": {},
   "outputs": [],
   "source": []
  },
  {
   "cell_type": "markdown",
   "id": "a143fb01",
   "metadata": {},
   "source": [
    "`difference`: encuentra los elementos no comunes entre los dos sets"
   ]
  },
  {
   "cell_type": "code",
   "execution_count": null,
   "id": "436ee7bb",
   "metadata": {},
   "outputs": [],
   "source": []
  },
  {
   "cell_type": "markdown",
   "id": "9808b58f",
   "metadata": {},
   "source": [
    "📝**Diferencias entre las distintas estructuras de datos** 📝"
   ]
  },
  {
   "cell_type": "markdown",
   "id": "bc105665",
   "metadata": {},
   "source": [
    "![alaaaa.png](https://github.com/Ironhack-Data-Madrid-PartTime-Oct22/imagenes/blob/master/semana-1/estructuras_datos.png?raw=true)"
   ]
  },
  {
   "cell_type": "markdown",
   "id": "c2c798c9",
   "metadata": {},
   "source": [
    "**Material adicional**\n",
    "\n",
    "- [Métodos de los diccionarios](https://j2logo.com/python/tutorial/tipo-dict-python/)\n",
    "\n",
    "\n",
    "- [Métodos de los diccionarios II](https://entrenamiento-python-basico.readthedocs.io/es/latest/leccion3/tipo_diccionarios.html)\n",
    "\n",
    "\n",
    "- [Métodos de los sets](https://docs.hektorprofe.net/python/metodos-de-las-colecciones/metodos-de-los-conjuntos/)"
   ]
  }
 ],
 "metadata": {
  "kernelspec": {
   "display_name": "clase",
   "language": "python",
   "name": "clase"
  },
  "language_info": {
   "codemirror_mode": {
    "name": "ipython",
    "version": 3
   },
   "file_extension": ".py",
   "mimetype": "text/x-python",
   "name": "python",
   "nbconvert_exporter": "python",
   "pygments_lexer": "ipython3",
   "version": "3.9.12"
  },
  "toc": {
   "base_numbering": 1,
   "nav_menu": {},
   "number_sections": true,
   "sideBar": true,
   "skip_h1_title": false,
   "title_cell": "Table of Contents",
   "title_sidebar": "Contents",
   "toc_cell": true,
   "toc_position": {
    "height": "calc(100% - 180px)",
    "left": "10px",
    "top": "150px",
    "width": "384px"
   },
   "toc_section_display": true,
   "toc_window_display": false
  }
 },
 "nbformat": 4,
 "nbformat_minor": 5
}
