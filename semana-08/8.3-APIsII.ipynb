{
 "cells": [
  {
   "attachments": {},
   "cell_type": "markdown",
   "metadata": {},
   "source": [
    "# APIs "
   ]
  },
  {
   "attachments": {},
   "cell_type": "markdown",
   "metadata": {},
   "source": [
    "\n",
    "\n",
    "\n",
    "\n",
    "\n",
    "En esta ocasión obtendremos nuestros datos de la Agencia Estatal de Meteorología (AEMET). Este organismo se encargado de la observación, predicción, estudio y difusión de la información meteorológica y climatológica en España. Como entidad de referencia en materia meteorológica, la AEMET despliega una red de estaciones y radares en todo el territorio nacional para recopilar datos meteorológicos en tiempo real.\n",
    "\n",
    "\n",
    "![image-2.png](images/baner.png)\n",
    "\n",
    "\n",
    "\n",
    "\n",
    "\n",
    "- 1.Antes de nada debereis obtener vuestra api key en el siguiente enlace [aqui](https://opendata.aemet.es/centrodedescargas/obtencionAPIKey) .\n",
    "- 2.Dirigete al siguinete enlace [aqui](https://opendata.aemet.es/centrodedescargas/productosAEMET) para encontrar la documentacion referida a la api.\n",
    "- 3.Visita la siguiente pagina para obtener informacion avanzada sobre la api [aqui](https://opendata.aemet.es/dist/index.html?#/) \n",
    "\n",
    "\n"
   ]
  },
  {
   "cell_type": "code",
   "execution_count": 2,
   "metadata": {},
   "outputs": [
    {
     "name": "stdout",
     "output_type": "stream",
     "text": [
      "Requirement already satisfied: python-dotenv in /opt/homebrew/Caskroom/miniconda/base/envs/apis/lib/python3.11/site-packages (1.0.0)\n"
     ]
    }
   ],
   "source": [
    "!pip install python-dotenv"
   ]
  },
  {
   "cell_type": "code",
   "execution_count": 1,
   "metadata": {},
   "outputs": [],
   "source": [
    "\n",
    "import pandas as pd # manipulacion de  datos mediante dataframes\n",
    "pd.options.display.max_columns = None # para que se muestren todas las columnas\n",
    "\n",
    "\n",
    "import requests # para hacer peticiones a la web y obtener datos \n",
    "\n",
    "\n",
    "import os  # para acceder a las variables de entorno del sistema operativo \n",
    "from dotenv import load_dotenv # para cargar las variables de entorno desde el fichero .env \n"
   ]
  },
  {
   "attachments": {},
   "cell_type": "markdown",
   "metadata": {},
   "source": [
    "EL TOKEN\n",
    "\n",
    "⚠️🚨 ¡Cuidado con el token! ⚠️🚨 El token es una credencial personal para acceder a la API, a través de la cual se gestiona tu cuota de solicitudes a ésta. Por ello, lo ideal es seguir un procedimiento de seguridad y guardar el token como variable en un documento .env y almacenar el nombre de este archivo en un .gitignore. De esta forma puedes hacer una llamada a la variable de entorno sin tener que mostrar públicamente el token.\n",
    "\n",
    "Vale... tenemos el token esconidido, pero ¿cómo hago para \"traerlo\" al jupyter? Usaremos las librerías os y dotenv"
   ]
  },
  {
   "attachments": {},
   "cell_type": "markdown",
   "metadata": {},
   "source": [
    "# Carga de Credenciales"
   ]
  },
  {
   "cell_type": "code",
   "execution_count": 10,
   "metadata": {},
   "outputs": [],
   "source": [
    "# para cargar las variables de entorno desde el fichero .env\n",
    "\n",
    "#api_key es el nombre de la variable que almacena el token  en el archivo .env\n"
   ]
  },
  {
   "attachments": {},
   "cell_type": "markdown",
   "metadata": {},
   "source": [
    "# LLamada a la API"
   ]
  },
  {
   "cell_type": "code",
   "execution_count": 3,
   "metadata": {},
   "outputs": [],
   "source": [
    "\n",
    "# funcion para hacer la llamada a la API\n",
    "def get_api(url):\n",
    "    \"\"\"\n",
    "    Realiza una solicitud HTTP GET a una API utilizando la libreria requests. \n",
    "    Si la respuesta tiene un código de estado 200 (éxito), la función devuelve los \n",
    "    datos de la respuesta en formato JSON; de lo contrario, devuelve un mensaje \n",
    "    de error con el código de estado.\n",
    "\n",
    "    Args:\n",
    "        url (str): Endpoint de la API a la que se realiza la solicitud. \n",
    "\n",
    "    Returns:\n",
    "        dict o str: datos de la respuesta en formato JSON o mensaje de error con el código de estado.\n",
    "    \"\"\"\n",
    "    res = requests.get(url) # realizamos la llamada a la API \n",
    "    if res.status_code == 200: # si la respuesta es correcta \n",
    "        return res.json() # devolvemos los datos en formato JSON\n",
    "    else: # si la respuesta no es correcta \n",
    "        return f\"Error {res.status_code}\" # devolvemos un mensaje de error con el código de estado \n"
   ]
  },
  {
   "attachments": {},
   "cell_type": "markdown",
   "metadata": {},
   "source": [
    "### 1. Extraccion de datos: Predicción de montaña para Sierra Nevada"
   ]
  },
  {
   "cell_type": "code",
   "execution_count": null,
   "metadata": {},
   "outputs": [],
   "source": []
  },
  {
   "cell_type": "code",
   "execution_count": 11,
   "metadata": {},
   "outputs": [],
   "source": [
    "# El response nos devuelve un diccionario en el que aparece una url que es la que nos interesa\n",
    "# repetimos la llamada a la API con la nueva url \n"
   ]
  },
  {
   "cell_type": "code",
   "execution_count": 12,
   "metadata": {},
   "outputs": [],
   "source": [
    "# titulo del origen de los datos\n"
   ]
  },
  {
   "cell_type": "code",
   "execution_count": null,
   "metadata": {},
   "outputs": [],
   "source": []
  },
  {
   "cell_type": "code",
   "execution_count": null,
   "metadata": {},
   "outputs": [],
   "source": []
  },
  {
   "cell_type": "code",
   "execution_count": 14,
   "metadata": {},
   "outputs": [],
   "source": [
    "\n",
    "# numero de elementos del diccionario \n"
   ]
  },
  {
   "cell_type": "code",
   "execution_count": 13,
   "metadata": {},
   "outputs": [],
   "source": [
    "# analizamos elk primer elemneto \n"
   ]
  },
  {
   "cell_type": "code",
   "execution_count": 15,
   "metadata": {},
   "outputs": [],
   "source": [
    "# los unicos datos que nos interesan son los que estan en el campo \"texto\"\n"
   ]
  },
  {
   "cell_type": "code",
   "execution_count": 16,
   "metadata": {},
   "outputs": [],
   "source": [
    "\n",
    "# iteramos sobre el diccionario para quedarnos solo con los datos que nos interesan \n"
   ]
  },
  {
   "cell_type": "code",
   "execution_count": 17,
   "metadata": {},
   "outputs": [],
   "source": [
    "# convertimos a df diccionario_limpio\n"
   ]
  },
  {
   "attachments": {},
   "cell_type": "markdown",
   "metadata": {},
   "source": [
    "\n",
    "### 2. Extraccion de datos: Datos de observación horarios de las últimas 24 horas todas las estaciones meteorológicas de las que se han recibido datos en ese período. "
   ]
  },
  {
   "cell_type": "code",
   "execution_count": null,
   "metadata": {},
   "outputs": [],
   "source": [
    "\n"
   ]
  },
  {
   "cell_type": "code",
   "execution_count": null,
   "metadata": {},
   "outputs": [],
   "source": [
    "\n"
   ]
  },
  {
   "attachments": {},
   "cell_type": "markdown",
   "metadata": {},
   "source": [
    "### 3. Extraccion de datos: Predicción para un periodo de 24 horas de las condiciones meteorológicas para el área marítima pasada por parámetro."
   ]
  },
  {
   "cell_type": "code",
   "execution_count": null,
   "metadata": {},
   "outputs": [],
   "source": []
  },
  {
   "cell_type": "code",
   "execution_count": null,
   "metadata": {},
   "outputs": [],
   "source": []
  },
  {
   "cell_type": "code",
   "execution_count": null,
   "metadata": {},
   "outputs": [],
   "source": [
    "\n"
   ]
  },
  {
   "cell_type": "code",
   "execution_count": 18,
   "metadata": {},
   "outputs": [],
   "source": [
    "# ubicacion de los datos \n"
   ]
  },
  {
   "cell_type": "code",
   "execution_count": 19,
   "metadata": {},
   "outputs": [],
   "source": [
    "# alamcenamos el valor de la ubicacion de los datos, de la fecha de inicio y final\n"
   ]
  },
  {
   "cell_type": "code",
   "execution_count": 20,
   "metadata": {},
   "outputs": [],
   "source": [
    "# obtencion de los datos\n"
   ]
  },
  {
   "cell_type": "code",
   "execution_count": null,
   "metadata": {},
   "outputs": [],
   "source": []
  },
  {
   "cell_type": "code",
   "execution_count": 21,
   "metadata": {},
   "outputs": [],
   "source": [
    "# accedemos a la primera zona y analizamos los datos \n"
   ]
  },
  {
   "cell_type": "code",
   "execution_count": null,
   "metadata": {},
   "outputs": [],
   "source": []
  },
  {
   "cell_type": "code",
   "execution_count": null,
   "metadata": {},
   "outputs": [],
   "source": []
  },
  {
   "cell_type": "code",
   "execution_count": 22,
   "metadata": {},
   "outputs": [],
   "source": [
    "# iteramos por todos los valores que tenemos en la key \"zona\" \n"
   ]
  },
  {
   "cell_type": "code",
   "execution_count": null,
   "metadata": {},
   "outputs": [],
   "source": []
  },
  {
   "attachments": {},
   "cell_type": "markdown",
   "metadata": {},
   "source": [
    "### RESUMEN\n"
   ]
  },
  {
   "cell_type": "code",
   "execution_count": 23,
   "metadata": {},
   "outputs": [],
   "source": [
    "# descarga de datos\n",
    "\n"
   ]
  },
  {
   "cell_type": "code",
   "execution_count": 24,
   "metadata": {},
   "outputs": [],
   "source": [
    "# convertimos a df \n"
   ]
  },
  {
   "attachments": {},
   "cell_type": "markdown",
   "metadata": {},
   "source": [
    "### Funcion "
   ]
  },
  {
   "cell_type": "code",
   "execution_count": 25,
   "metadata": {},
   "outputs": [],
   "source": [
    "\n",
    "# descarga de datos\n"
   ]
  },
  {
   "attachments": {},
   "cell_type": "markdown",
   "metadata": {},
   "source": [
    "### Script"
   ]
  },
  {
   "cell_type": "code",
   "execution_count": null,
   "metadata": {},
   "outputs": [],
   "source": [
    "\n",
    "\n",
    "\n",
    "\n"
   ]
  },
  {
   "cell_type": "code",
   "execution_count": null,
   "metadata": {},
   "outputs": [],
   "source": []
  }
 ],
 "metadata": {
  "kernelspec": {
   "display_name": "apis",
   "language": "python",
   "name": "python3"
  },
  "language_info": {
   "codemirror_mode": {
    "name": "ipython",
    "version": 3
   },
   "file_extension": ".py",
   "mimetype": "text/x-python",
   "name": "python",
   "nbconvert_exporter": "python",
   "pygments_lexer": "ipython3",
   "version": "3.11.3"
  },
  "orig_nbformat": 4
 },
 "nbformat": 4,
 "nbformat_minor": 2
}
