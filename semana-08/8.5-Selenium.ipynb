{
 "cells": [
  {
   "attachments": {},
   "cell_type": "markdown",
   "id": "907c9a1d",
   "metadata": {
    "toc": true
   },
   "source": [
    "<h1>Table of Contents<span class=\"tocSkip\"></span></h1>\n",
    "<div class=\"toc\"><ul class=\"toc-item\"><li><span><a href=\"#Selenium\" data-toc-modified-id=\"Selenium-1\"><span class=\"toc-item-num\">1&nbsp;&nbsp;</span>Selenium</a></span><ul class=\"toc-item\"><li><span><a href=\"#Los-drivers\" data-toc-modified-id=\"Los-drivers-1.1\"><span class=\"toc-item-num\">1.1&nbsp;&nbsp;</span>Los drivers</a></span></li><li><span><a href=\"#Capturar-elementos-con-Selenium\" data-toc-modified-id=\"Capturar-elementos-con-Selenium-1.2\"><span class=\"toc-item-num\">1.2&nbsp;&nbsp;</span>Capturar elementos con Selenium</a></span></li></ul></li><li><span><a href=\"#Manos-a-la-obra\" data-toc-modified-id=\"Manos-a-la-obra-2\"><span class=\"toc-item-num\">2&nbsp;&nbsp;</span>Manos a la obra</a></span></li></ul></div>"
   ]
  },
  {
   "attachments": {},
   "cell_type": "markdown",
   "id": "63dcd747",
   "metadata": {},
   "source": [
    "# Selenium"
   ]
  },
  {
   "attachments": {},
   "cell_type": "markdown",
   "id": "f0f4e7d8",
   "metadata": {},
   "source": [
    "Hacer web scraping se ha convertido en una herramienta muy poderosa para la extracción de datos y con ellos alimentar nuestras aplicaciones para realizar tareas increíbles. En esta ocasión usaremos ese poder para obtener las recompensas del mundial de League of Legends.\n",
    "Haremos uso de selenium pues nos permite de manera muy dinámica explorar y obtener elementos de árbol de HTML e interactuar con los resultados de las acciones."
   ]
  },
  {
   "cell_type": "code",
   "execution_count": 14,
   "id": "9dd51aa3",
   "metadata": {},
   "outputs": [],
   "source": [
    "#!pip install selenium\n",
    "#!pip install webdriver-manager"
   ]
  },
  {
   "attachments": {},
   "cell_type": "markdown",
   "id": "a2b191fb",
   "metadata": {},
   "source": [
    "## Los drivers\n",
    "\n",
    "Selenium emplea “drivers” para poder acceder al contenido del sitio web, un driver es solo una versión reducida de un navegador que el código de selenium  utiliza, existen por ejemplo los drivers. Para descargarse los drivers: \n",
    "\n",
    "\n",
    "- [Driver Chrome](https://chromedriver.storage.googleapis.com/index.html?path=2.43/)\n",
    "\n",
    "\n",
    "- [Driver Firefox](https://github.com/mozilla/geckodriver/releases)\n",
    "\n",
    "\n",
    "- [Driver Opera](https://github.com/operasoftware/operachromiumdriver/releases)\n",
    "\n",
    "\n",
    "> Cuando nos hayamos descargado el driver, tendremos un archivo .exe que tendremos que guardar en la misma carpeta de donde estemos trabajando. \n",
    "\n",
    "Podemos cargar los `drivers` de dos formas: \n",
    "\n",
    "```python\n",
    "driver = webdriver.Chrome(\"/RutaAlDriver/chromedriver.exe\")\n",
    "```\n",
    "\n",
    "\n",
    "También lo podemos hacer sin necesidad de descargarnos el driver: \n",
    "\n",
    "```python\n",
    "driver = webdriver.Chrome(ChromeDriverManager().install())\n",
    "```"
   ]
  },
  {
   "attachments": {},
   "cell_type": "markdown",
   "id": "117dc15f",
   "metadata": {},
   "source": [
    "## Capturar elementos con Selenium \n",
    "\n",
    "- Para encontrar un elemento \n",
    "\n",
    "```python\n",
    "find_element(\"en base a que queremos buscar\", \"el elemento\")\n",
    "```\n",
    "- Para encontrar múltiples elementos (este método nos devuelve una lista):\n",
    "\n",
    "```python\n",
    "find_element(\"en base a que queremos buscar\", \"el elemento\")\n",
    "\n",
    "```\n",
    "\n",
    "- Otros mátodos que pueden ser interesantes: \n",
    "\n",
    "```python\n",
    ".click() # simula un click en el navegador\n",
    ".send_keys # va a rellenar un campo\n",
    ".implicitly_wait # # indica al Selenium WebDriver que espere un determinado tiempo antes de lanzar una excepción. Una vez que se establece este tiempo, WebDriver esperará el elemento antes de que se produzca la excepción.\n",
    ".text # obtener el texto del elemento selenio\n",
    "```"
   ]
  },
  {
   "cell_type": "code",
   "execution_count": 21,
   "id": "d4cdcf88",
   "metadata": {},
   "outputs": [],
   "source": [
    "#######################################################\n",
    "# Importamos las librerias necesarias para el proyecto#\n",
    "#######################################################\n",
    "\n",
    "# Manejo de datos \n",
    "import pandas as pd # manejo de datos y dataframes\n",
    "import numpy as np # manejo de arrays y operaciones matematicas \n",
    "\n",
    "\n",
    "# Librerias para realizar web scraping con selenium\n",
    "\n",
    "from selenium import webdriver # webdriver permite manejar un navegador \n",
    "from webdriver_manager.chrome import ChromeDriverManager # permite instalar y mantener actualizado el driver de chrome\n",
    "from selenium.webdriver.common.keys import Keys # permite simular teclas del teclado \n",
    "from selenium.webdriver.chrome.options import Options # permite configurar el driver de chrome como modo incognito o maximizar la ventana\n",
    "from time import sleep # esperas entre ejecuciones de codigo\n",
    "\n",
    "\n",
    "import warnings # permite ignorar los warnings de python \n",
    "warnings.filterwarnings('ignore')\n"
   ]
  },
  {
   "attachments": {},
   "cell_type": "markdown",
   "id": "512631ad",
   "metadata": {},
   "source": [
    "# Manos a la obra "
   ]
  },
  {
   "attachments": {},
   "cell_type": "markdown",
   "id": "81f37f68",
   "metadata": {},
   "source": [
    "Lo primero que vamos a hacer es definir una serie de opciones para trabajar con Selenium"
   ]
  },
  {
   "cell_type": "code",
   "execution_count": 22,
   "id": "fc8e76fd",
   "metadata": {},
   "outputs": [],
   "source": [
    "opciones= Options()\n",
    "opciones.add_experimental_option('excludeSwitches', ['enable-automation'])\n",
    "#para ocultarme como robot\n",
    "opciones.add_experimental_option('useAutomationExtension', False)\n",
    "opciones.add_argument('--start-maximized') #empezar maximizado\n",
    "opciones.add_argument('user.data-dir=selenium') #guarda las cookies\n",
    "opciones.add_argument('--incognito')#incognito window"
   ]
  },
  {
   "cell_type": "code",
   "execution_count": 35,
   "id": "2a6c41ee",
   "metadata": {
    "scrolled": true
   },
   "outputs": [],
   "source": [
    "driver = webdriver.Chrome()\n",
    "\n",
    "driver.get(\"https://www.wunderground.com/history\") \n",
    "driver.implicitly_wait(5)\n",
    "\n",
    "# aceptamos  las cookies \n",
    "driver.find_element(\"css selector\",\"#truste-consent-button\").click()\n",
    "sleep(2)\n",
    "\n",
    "# acemos click en la caja de busqueda \n",
    "driver.find_element(\"css selector\",\"#historySearch\").send_keys(\"Madrid, Madrid, Spain\",Keys.TAB)\n",
    "\n",
    "sleep(2)\n",
    "driver.find_element('xpath','//*[@id=\"dateSubmit\"]').click() \n",
    "\n",
    "sleep(2)\n",
    "driver.find_element('xpath','//*[@id=\"dateSubmit\"]').click() \n",
    "\n",
    "sleep(2)\n",
    "resultado = driver.find_element('css selector','#inner-content > div.region-content-main > div.row > div:nth-child(5) > div:nth-child(1) > div > lib-city-history-observation > div > div.observation-table.ng-star-inserted').text\n",
    "\n"
   ]
  },
  {
   "cell_type": "code",
   "execution_count": 38,
   "id": "0112f9ab",
   "metadata": {
    "scrolled": true
   },
   "outputs": [
    {
     "data": {
      "text/plain": [
       "'Time\\nTemperature\\nDew Point\\nHumidity\\nWind\\nWind Speed\\nWind Gust\\nPressure\\nPrecip.\\nCondition\\n12:00 AM 75 °F 52 °F 44 % W 7 mph 0 mph 27.87 in 0.0 in Fair\\n12:30 AM 73 °F 50 °F 44 % W 6 mph 0 mph 27.87 in 0.0 in Fair\\n1:00 AM 72 °F 52 °F 50 % VAR 1 mph 0 mph 27.87 in 0.0 in Fair\\n1:30 AM 70 °F 52 °F 53 % VAR 2 mph 0 mph 27.87 in 0.0 in Fair\\n2:00 AM 68 °F 54 °F 60 % VAR 1 mph 0 mph 27.87 in 0.0 in Fair\\n2:30 AM 68 °F 54 °F 60 % NE 2 mph 0 mph 27.87 in 0.0 in Fair\\n3:00 AM 68 °F 55 °F 64 % VAR 2 mph 0 mph 27.84 in 0.0 in Fair\\n3:30 AM 66 °F 55 °F 68 % VAR 2 mph 0 mph 27.84 in 0.0 in Fair\\n4:00 AM 64 °F 55 °F 73 % CALM 0 mph 0 mph 27.84 in 0.0 in Partly Cloudy\\n4:30 AM 64 °F 57 °F 77 % N 5 mph 0 mph 27.84 in 0.0 in Partly Cloudy\\n5:00 AM 64 °F 57 °F 77 % NNW 3 mph 0 mph 27.84 in 0.0 in Partly Cloudy\\n5:30 AM 64 °F 57 °F 77 % NNW 5 mph 0 mph 27.84 in 0.0 in Partly Cloudy\\n6:00 AM 63 °F 57 °F 82 % NNW 3 mph 0 mph 27.84 in 0.0 in Fair\\n6:30 AM 63 °F 57 °F 82 % NNW 2 mph 0 mph 27.84 in 0.0 in Fair\\n7:00 AM 63 °F 57 °F 82 % NNW 3 mph 0 mph 27.87 in 0.0 in Fair\\n7:30 AM 63 °F 57 °F 82 % N 2 mph 0 mph 27.87 in 0.0 in Partly Cloudy\\n8:00 AM 63 °F 57 °F 82 % N 3 mph 0 mph 27.87 in 0.0 in Fair\\n8:30 AM 64 °F 57 °F 77 % VAR 2 mph 0 mph 27.87 in 0.0 in Fair\\n9:00 AM 66 °F 57 °F 73 % VAR 1 mph 0 mph 27.87 in 0.0 in Fair\\n9:30 AM 66 °F 59 °F 78 % VAR 2 mph 0 mph 27.87 in 0.0 in Fair\\n10:00 AM 70 °F 57 °F 64 % NNW 5 mph 0 mph 27.87 in 0.0 in Fair\\n10:30 AM 72 °F 57 °F 60 % VAR 2 mph 0 mph 27.87 in 0.0 in Fair\\n11:00 AM 73 °F 57 °F 57 % NNW 3 mph 0 mph 27.87 in 0.0 in Fair\\n11:30 AM 77 °F 55 °F 47 % VAR 2 mph 0 mph 27.87 in 0.0 in Fair\\n12:00 PM 77 °F 54 °F 44 % NW 5 mph 0 mph 27.87 in 0.0 in Fair\\n12:30 PM 79 °F 54 °F 42 % NNW 1 mph 0 mph 27.87 in 0.0 in Fair\\n1:00 PM 82 °F 55 °F 39 % SSW 1 mph 0 mph 27.87 in 0.0 in Fair\\n1:30 PM 81 °F 54 °F 39 % NW 1 mph 0 mph 27.84 in 0.0 in Fair\\n2:00 PM 82 °F 54 °F 37 % WSW 5 mph 0 mph 27.84 in 0.0 in Fair\\n2:30 PM 82 °F 54 °F 37 % N 1 mph 0 mph 27.84 in 0.0 in Partly Cloudy\\n3:00 PM 82 °F 54 °F 37 % NW 5 mph 0 mph 27.84 in 0.0 in Partly Cloudy\\n3:30 PM 82 °F 54 °F 37 % SW 3 mph 16 mph 27.84 in 0.0 in Partly Cloudy\\n4:00 PM 82 °F 54 °F 37 % WSW 5 mph 21 mph 27.81 in 0.0 in Partly Cloudy\\n4:30 PM 82 °F 54 °F 37 % WNW 6 mph 0 mph 27.81 in 0.0 in Fair\\n5:00 PM 82 °F 54 °F 37 % WSW 5 mph 0 mph 27.81 in 0.0 in Fair\\n5:30 PM 84 °F 54 °F 35 % W 5 mph 0 mph 27.81 in 0.0 in Fair\\n6:00 PM 82 °F 52 °F 35 % W 6 mph 0 mph 27.81 in 0.0 in Partly Cloudy\\n6:30 PM 82 °F 52 °F 35 % NW 5 mph 0 mph 27.81 in 0.0 in Showers in the Vicinity\\n7:00 PM 77 °F 59 °F 54 % E 3 mph 0 mph 27.81 in 0.0 in T-Storm'"
      ]
     },
     "execution_count": 38,
     "metadata": {},
     "output_type": "execute_result"
    }
   ],
   "source": [
    "resultado"
   ]
  },
  {
   "attachments": {},
   "cell_type": "markdown",
   "id": "b5b1c341",
   "metadata": {},
   "source": [
    "Hemos accedido a la información de un dia, perfecto! Pero que pasa si queremos más dias? \n"
   ]
  },
  {
   "cell_type": "code",
   "execution_count": 39,
   "id": "985eff26",
   "metadata": {},
   "outputs": [],
   "source": [
    "# sacamos todas las listas que url que necesitamos\n",
    "url_list = []\n",
    "for year in range(2010,2021):\n",
    "    for month in range(1,13):\n",
    "        url_list.append(f'https://www.wunderground.com/history/monthly/es/madrid/LEMD/date/{year}-{month}')\n"
   ]
  },
  {
   "cell_type": "code",
   "execution_count": 40,
   "id": "d359fd24",
   "metadata": {},
   "outputs": [
    {
     "data": {
      "text/plain": [
       "132"
      ]
     },
     "execution_count": 40,
     "metadata": {},
     "output_type": "execute_result"
    }
   ],
   "source": [
    "# ya tenemos la lista de las url que queremos. \n",
    "len(url_list)\n"
   ]
  },
  {
   "cell_type": "code",
   "execution_count": 41,
   "id": "0f2e7952",
   "metadata": {},
   "outputs": [
    {
     "data": {
      "text/plain": [
       "['https://www.wunderground.com/history/monthly/es/madrid/LEMD/date/2010-1',\n",
       " 'https://www.wunderground.com/history/monthly/es/madrid/LEMD/date/2010-2',\n",
       " 'https://www.wunderground.com/history/monthly/es/madrid/LEMD/date/2010-3']"
      ]
     },
     "execution_count": 41,
     "metadata": {},
     "output_type": "execute_result"
    }
   ],
   "source": [
    "# mostramos las 3 primeras \n",
    "url_list[:3]"
   ]
  },
  {
   "cell_type": "code",
   "execution_count": 3,
   "id": "95bc5a5c",
   "metadata": {},
   "outputs": [],
   "source": [
    "# sacamos la tabla para cada una de las url de arriba\n",
    "# limitaremos la extraccion a las 3 primeras url para no tener que esperar mucho tiempo\n"
   ]
  },
  {
   "cell_type": "code",
   "execution_count": 4,
   "id": "8981bacf",
   "metadata": {},
   "outputs": [],
   "source": [
    "# cada uno de los elementos de nuestra lista será una tabla\n",
    "\n"
   ]
  },
  {
   "attachments": {},
   "cell_type": "markdown",
   "id": "82260102",
   "metadata": {},
   "source": [
    "Convertimos toda la lista en dataframe"
   ]
  },
  {
   "cell_type": "code",
   "execution_count": null,
   "id": "c1d98c38",
   "metadata": {},
   "outputs": [],
   "source": []
  },
  {
   "cell_type": "code",
   "execution_count": null,
   "id": "92775412",
   "metadata": {},
   "outputs": [],
   "source": []
  },
  {
   "cell_type": "code",
   "execution_count": 5,
   "id": "e78b680c",
   "metadata": {},
   "outputs": [],
   "source": [
    "# sacamos la primera fila para ver como tenemos la info en cada fila. \n",
    "\n"
   ]
  },
  {
   "cell_type": "code",
   "execution_count": null,
   "id": "3c29e82c",
   "metadata": {},
   "outputs": [],
   "source": []
  },
  {
   "cell_type": "code",
   "execution_count": 7,
   "id": "cb6ec17c",
   "metadata": {},
   "outputs": [],
   "source": [
    "# qué es x?\n",
    "\n"
   ]
  },
  {
   "cell_type": "code",
   "execution_count": null,
   "id": "59af120a",
   "metadata": {},
   "outputs": [],
   "source": []
  },
  {
   "cell_type": "code",
   "execution_count": 8,
   "id": "c469f643",
   "metadata": {},
   "outputs": [],
   "source": [
    "# Transformamos x en un array de numpy para poder trabajar con el.\n",
    "\n"
   ]
  },
  {
   "cell_type": "code",
   "execution_count": 9,
   "id": "e5723b0a",
   "metadata": {},
   "outputs": [],
   "source": [
    "# cuantas dimensiones tiene el array?\n"
   ]
  },
  {
   "cell_type": "code",
   "execution_count": 10,
   "id": "c9abf9d4",
   "metadata": {},
   "outputs": [],
   "source": [
    "# reescalamaos el array a 7 filas y 32 columnas \n"
   ]
  },
  {
   "cell_type": "code",
   "execution_count": 11,
   "id": "ce82aa50",
   "metadata": {},
   "outputs": [],
   "source": [
    "# miramos la pinta del array \n"
   ]
  },
  {
   "cell_type": "code",
   "execution_count": 12,
   "id": "f97bf993",
   "metadata": {
    "scrolled": true
   },
   "outputs": [],
   "source": [
    "# transponemos el array para que tenga la forma de la tabla que queremos.\n",
    "\n"
   ]
  },
  {
   "attachments": {},
   "cell_type": "markdown",
   "id": "c23f4165",
   "metadata": {},
   "source": [
    "Para hacer el `reshape` necesitamos tener en cuenta el número de dias que hay en cada mes. Lo que podemos hacer es sacar el índice del valor `\"Max Avg Min\"` que será el siguiente valor después de terminar la información de los dias del mes \n",
    "\n",
    "**¿Nos acordamos del método `index`?** 👇🏽"
   ]
  },
  {
   "cell_type": "code",
   "execution_count": 13,
   "id": "c6fc96da",
   "metadata": {},
   "outputs": [],
   "source": [
    "# nos devuelve la posición en nuestro dataframe. \n",
    "\n"
   ]
  },
  {
   "cell_type": "code",
   "execution_count": null,
   "id": "553c841e",
   "metadata": {},
   "outputs": [],
   "source": []
  },
  {
   "cell_type": "code",
   "execution_count": 14,
   "id": "48f049ef",
   "metadata": {},
   "outputs": [],
   "source": [
    "# hacemos un dataframe gordote\n",
    "\n",
    "    "
   ]
  },
  {
   "cell_type": "code",
   "execution_count": null,
   "id": "f0d2d73b",
   "metadata": {},
   "outputs": [],
   "source": []
  },
  {
   "cell_type": "code",
   "execution_count": 15,
   "id": "eec6640c",
   "metadata": {},
   "outputs": [],
   "source": [
    "# separamos las columnas que tienen más de un dato \n",
    "\n",
    "\n"
   ]
  },
  {
   "cell_type": "code",
   "execution_count": 16,
   "id": "89a6bf96",
   "metadata": {},
   "outputs": [],
   "source": [
    "# creamos un funcion para separar las columnas que tienen más de un dato en la misma columna\n"
   ]
  },
  {
   "cell_type": "code",
   "execution_count": 17,
   "id": "e850e649",
   "metadata": {},
   "outputs": [],
   "source": [
    "# almacenamos en la variable columnas aquellas columnas que necesiten un spliteo \n",
    "\n"
   ]
  },
  {
   "cell_type": "code",
   "execution_count": 18,
   "id": "b5a34bd9",
   "metadata": {},
   "outputs": [],
   "source": [
    "# generamos una lista de listas que contenga nuestros futuros nombtres de columnas \n"
   ]
  },
  {
   "cell_type": "code",
   "execution_count": null,
   "id": "dbe93829",
   "metadata": {},
   "outputs": [],
   "source": []
  },
  {
   "cell_type": "code",
   "execution_count": 19,
   "id": "89d3b99b",
   "metadata": {},
   "outputs": [],
   "source": [
    "# eliminamos cualquier fila que tenga un índice de 0\n"
   ]
  },
  {
   "cell_type": "code",
   "execution_count": 20,
   "id": "c60f6a04",
   "metadata": {},
   "outputs": [],
   "source": [
    "# volvemos a chequear los resultados\n"
   ]
  },
  {
   "cell_type": "code",
   "execution_count": null,
   "id": "7d80fa9e",
   "metadata": {},
   "outputs": [],
   "source": [
    "\n"
   ]
  },
  {
   "cell_type": "code",
   "execution_count": null,
   "id": "b86e47b5",
   "metadata": {},
   "outputs": [],
   "source": [
    "\n"
   ]
  },
  {
   "cell_type": "code",
   "execution_count": null,
   "id": "975cd330",
   "metadata": {},
   "outputs": [],
   "source": []
  },
  {
   "cell_type": "code",
   "execution_count": null,
   "id": "d0f36711",
   "metadata": {},
   "outputs": [],
   "source": []
  },
  {
   "cell_type": "code",
   "execution_count": null,
   "id": "28d453a8",
   "metadata": {},
   "outputs": [],
   "source": []
  }
 ],
 "metadata": {
  "kernelspec": {
   "display_name": "apis",
   "language": "python",
   "name": "python3"
  },
  "language_info": {
   "codemirror_mode": {
    "name": "ipython",
    "version": 3
   },
   "file_extension": ".py",
   "mimetype": "text/x-python",
   "name": "python",
   "nbconvert_exporter": "python",
   "pygments_lexer": "ipython3",
   "version": "3.11.3"
  },
  "toc": {
   "base_numbering": 1,
   "nav_menu": {},
   "number_sections": true,
   "sideBar": true,
   "skip_h1_title": false,
   "title_cell": "Table of Contents",
   "title_sidebar": "Contents",
   "toc_cell": true,
   "toc_position": {
    "height": "calc(100% - 180px)",
    "left": "10px",
    "top": "150px",
    "width": "288px"
   },
   "toc_section_display": true,
   "toc_window_display": false
  }
 },
 "nbformat": 4,
 "nbformat_minor": 5
}
