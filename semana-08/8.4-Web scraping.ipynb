{
 "cells": [
  {
   "attachments": {},
   "cell_type": "markdown",
   "id": "0fd527e2",
   "metadata": {
    "toc": true
   },
   "source": [
    "<h1>Table of Contents<span class=\"tocSkip\"></span></h1>\n",
    "<div class=\"toc\"><ul class=\"toc-item\"><li><span><a href=\"#HTML,-qué-es\" data-toc-modified-id=\"HTML,-qué-es-1\"><span class=\"toc-item-num\">1&nbsp;&nbsp;</span>HTML, qué es</a></span><ul class=\"toc-item\"><li><span><a href=\"#Tags\" data-toc-modified-id=\"Tags-1.1\"><span class=\"toc-item-num\">1.1&nbsp;&nbsp;</span>Tags</a></span></li><li><span><a href=\"#Atributos\" data-toc-modified-id=\"Atributos-1.2\"><span class=\"toc-item-num\">1.2&nbsp;&nbsp;</span>Atributos</a></span></li></ul></li><li><span><a href=\"#Beautiful-soup\" data-toc-modified-id=\"Beautiful-soup-2\"><span class=\"toc-item-num\">2&nbsp;&nbsp;</span>Beautiful soup</a></span></li><li><span><a href=\"#Diferencia-entre-find_all()-y-select()\" data-toc-modified-id=\"Diferencia-entre-find_all()-y-select()-3\"><span class=\"toc-item-num\">3&nbsp;&nbsp;</span>Diferencia entre find_all() y select()</a></span><ul class=\"toc-item\"><li><span><a href=\"#find_all-o-findAll()\" data-toc-modified-id=\"find_all-o-findAll()-3.1\"><span class=\"toc-item-num\">3.1&nbsp;&nbsp;</span><code>find_all</code> o <code>findAll()</code></a></span></li><li><span><a href=\"#select()\" data-toc-modified-id=\"select()-3.2\"><span class=\"toc-item-num\">3.2&nbsp;&nbsp;</span><code>select()</code></a></span></li></ul></li><li><span><a href=\"#Ejemplo-1:-Página-de-zapatillas-de-baloncesto\" data-toc-modified-id=\"Ejemplo-1:-Página-de-zapatillas-de-baloncesto-4\"><span class=\"toc-item-num\">4&nbsp;&nbsp;</span>Ejemplo 1: Página de zapatillas de baloncesto</a></span></li><li><span><a href=\"#Ejemplo-2:--wikipedia-medallero\" data-toc-modified-id=\"Ejemplo-2:--wikipedia-medallero-5\"><span class=\"toc-item-num\">5&nbsp;&nbsp;</span>Ejemplo 2:  wikipedia medallero</a></span></li></ul></div>"
   ]
  },
  {
   "attachments": {},
   "cell_type": "markdown",
   "id": "e291771d",
   "metadata": {},
   "source": [
    "## HTML, qué es"
   ]
  },
  {
   "attachments": {},
   "cell_type": "markdown",
   "id": "48469cca",
   "metadata": {},
   "source": [
    "\n",
    "El código HTML se compone de contenido `<etiquetado>`      \n",
    "HTML tiene una estructura jeárquica: parent tags, children tags, sibling tags:     \n",
    "\n",
    "```\n",
    "<html>\n",
    "    <head>\n",
    "        <title>Page Title</title>\n",
    "    </head>\n",
    "    <body>\n",
    "        <h1>My First Heading</h1>\n",
    "        <p>My first paragraph.</p>\n",
    "    </body>\n",
    "</html>\n",
    "```"
   ]
  },
  {
   "attachments": {},
   "cell_type": "markdown",
   "id": "887d1c41",
   "metadata": {},
   "source": [
    "### Tags\n",
    "\n",
    "Las etiquetas pueden clasificarse en diferentes grupos, en función del tipo de contenido que se espera que posean\n",
    " * heading: `<h1>`, `<h2>`, `<h3>`, `<hgroup>`...\n",
    " * phrasing: `<b>`, `<sub>`...\n",
    " * embedded: `<audio>`, `<img>`, `<video>`...\n",
    " * tabulated: `<table>`, `<tr>`, `<tbody>`...\n",
    " * sections: `<header>`, `<section>`, `<article>`...\n",
    " * metadata: `<meta>`, `<title>`, `<script>`..."
   ]
  },
  {
   "attachments": {},
   "cell_type": "markdown",
   "id": "25956ae3",
   "metadata": {},
   "source": [
    "### Atributos\n",
    "\n",
    "Las etiquetas HTML pueden contener uno o más atributos. Los atributos se agregan a una etiqueta para proporcionar al navegador más información sobre cómo debe aparecer o comportarse la etiqueta. Los atributos constan de un nombre y un valor separados por un signo igual (=), con el valor entre comillas dobles. Aquí hay un ejemplo style=\"color:black\"\n",
    "\n",
    "Este es un ejemplo de cómo agregar dos atributos al elemento <a> (que se usa para crear un hipervínculo a otra página web).\n",
    "\n",
    "```htlm\n",
    "<a href=\"https://htmldesdecero.es\" title=\"Los mejores tutoriales HTML!\">HTML desde Cero</a>\n",
    "```\n",
    "\n",
    "El atributo `href` especifica la ubicación/dirección de la página web a la que estamos vinculando.\n",
    "\n",
    "También utilizamos el atributo `title` para proporcionar un texto de consulta, en caso de que el usuario no lo supiera…\n",
    "\n",
    "    \n",
    "Lista de los atributos más usados en HTML\n",
    "\n",
    "- Id =” ”: Para identificar un elemento único.\n",
    "\n",
    "\n",
    "- class =” ”: Identificador múltiple.\n",
    "\n",
    "\n",
    "- align =” ”: Alineación de contenido.\n",
    "\n",
    "\n",
    "- border =” ”: Para darle borde al contenido.\n",
    "\n",
    "\n",
    "- style =” ”: Para darle un estilo al contenido.\n",
    "\n",
    "\n",
    "- background-color =” ”: Para color de fondo.\n",
    "\n",
    "\n",
    "- href =” ”: Para enlaces html.\n",
    "\n",
    "\n",
    "- height =” ”: Para determinar altura.\n",
    "\n",
    "\n",
    "- width =” ”: Para determinar ancho.\n",
    "\n",
    "\n",
    "- src=“ ”: Para imágenes."
   ]
  },
  {
   "attachments": {},
   "cell_type": "markdown",
   "id": "ae404a06",
   "metadata": {},
   "source": [
    "## Beautiful soup\n",
    "“Si sólo tratas de sacar datos de una web. Beautiful Soup está aquí para ayudar “.\n",
    "\n",
    "Ya sabeis, para entender como funciona una librería tenemos que leer la documentación.  [Aquí](https://www.crummy.com/software/BeautifulSoup/bs4/doc/) teneís la documentación de Beautiful Soup\n",
    "\n",
    "Beautiful Soup es una librería Python para obtener datos de HTML, XML y otros lenguajes de marcado. \n",
    "\n",
    "Beautiful Soup nos va a ayudar a extraer contenido particular de una página web, guardar la información e incluso la podemos gurdar.\n"
   ]
  },
  {
   "attachments": {},
   "cell_type": "markdown",
   "id": "77ff6f83",
   "metadata": {},
   "source": [
    "## Diferencia entre find_all() y select()"
   ]
  },
  {
   "attachments": {},
   "cell_type": "markdown",
   "id": "5dd4ca03",
   "metadata": {},
   "source": [
    "### `find_all` o `findAll()`\n",
    "[DOCUMENTACIÓN FINDALL](https://www.crummy.com/software/BeautifulSoup/bs4/doc/#calling-a-tag-is-like-calling-find-all)     \n",
    "\n",
    "\n",
    "El método find_all() escanea todo el documento en busca de resultados, pero a veces sólo se quiere encontrar un resultado. Si sabe que un documento sólo tiene una etiqueta <body>, es una pérdida de tiempo escanear todo el documento en busca de más. En lugar de pasar limit=1 cada vez que llame a find_all, puede utilizar el método find(). "
   ]
  },
  {
   "attachments": {},
   "cell_type": "markdown",
   "id": "239bae3d",
   "metadata": {},
   "source": [
    "### `select()`\n",
    "\n",
    "[DOCUMENTACIÓN SELECT](https://www.crummy.com/software/BeautifulSoup/bs4/doc/#css-selectors) \n",
    "\n",
    "\n",
    "BeautifulSoup tiene un método .select() que utiliza el paquete SoupSieve para ejecutar un selector CSS contra un documento analizado y devolver todos los elementos coincidentes. Tag tiene un método similar que ejecuta un selector CSS contra el contenido de una sola etiqueta.\n",
    "\n",
    "(La integración de SoupSieve se añadió en Beautiful Soup 4.7.0.) Las versiones anteriores también tienen el método .select(), pero sólo se soportan los selectores CSS más utilizados. Si instalaste Beautiful Soup a través de pip, SoupSieve fue instalado al mismo tiempo, así que no tienes que hacer nada extra).\n",
    "\n",
    "La documentación de SoupSieve enumera todos los selectores CSS actualmente soportados"
   ]
  },
  {
   "cell_type": "code",
   "execution_count": 2,
   "id": "f3c7fe5d",
   "metadata": {},
   "outputs": [
    {
     "name": "stdout",
     "output_type": "stream",
     "text": [
      "Collecting beautifulsoup4\n",
      "  Using cached beautifulsoup4-4.12.2-py3-none-any.whl (142 kB)\n",
      "Collecting soupsieve>1.2 (from beautifulsoup4)\n",
      "  Using cached soupsieve-2.4.1-py3-none-any.whl (36 kB)\n",
      "Installing collected packages: soupsieve, beautifulsoup4\n",
      "Successfully installed beautifulsoup4-4.12.2 soupsieve-2.4.1\n"
     ]
    }
   ],
   "source": [
    "!pip install beautifulsoup4"
   ]
  },
  {
   "cell_type": "code",
   "execution_count": 3,
   "id": "7f9dfb16",
   "metadata": {},
   "outputs": [],
   "source": [
    "# antes de empezar importamos las librerías que vamos a usar. \n",
    "\n",
    "import requests\n",
    "import re\n",
    "import pandas as pd\n",
    "import numpy as np\n",
    "from bs4 import BeautifulSoup"
   ]
  },
  {
   "attachments": {},
   "cell_type": "markdown",
   "id": "d0bcf95c",
   "metadata": {},
   "source": [
    "## Ejemplo 1: Página de zapatillas de baloncesto"
   ]
  },
  {
   "cell_type": "code",
   "execution_count": 4,
   "id": "d13de550",
   "metadata": {},
   "outputs": [],
   "source": [
    "# vamos a crearnos un diccionario donde luego nos guardaremos todos los resultados de nuestras búsquedas: \n"
   ]
  },
  {
   "cell_type": "code",
   "execution_count": 75,
   "id": "fc261939",
   "metadata": {},
   "outputs": [],
   "source": [
    "# almacenamos la url en una variable "
   ]
  },
  {
   "cell_type": "code",
   "execution_count": 76,
   "id": "11ca3c1b",
   "metadata": {},
   "outputs": [],
   "source": [
    "# hacemos la request a la página de la que queremos sacar la info\n",
    "\n",
    "\n"
   ]
  },
  {
   "cell_type": "code",
   "execution_count": 77,
   "id": "c395804f",
   "metadata": {},
   "outputs": [],
   "source": [
    "# vemos si todo ha ido bien\n",
    "\n"
   ]
  },
  {
   "cell_type": "code",
   "execution_count": 78,
   "id": "d770dcf8",
   "metadata": {},
   "outputs": [],
   "source": [
    "# nos devuelve el contenido de la página en html\n"
   ]
  },
  {
   "cell_type": "code",
   "execution_count": 79,
   "id": "69dfa9d8",
   "metadata": {},
   "outputs": [],
   "source": [
    "# creamos la sopa con el contenido de la página que hemos hecho con beautifulsoup y le decimos que lo haga con html.parser\n"
   ]
  },
  {
   "cell_type": "code",
   "execution_count": 80,
   "id": "4cd5b2ad",
   "metadata": {},
   "outputs": [],
   "source": [
    "# miramos el tipo de objeto creado \n"
   ]
  },
  {
   "cell_type": "code",
   "execution_count": 81,
   "id": "f680a3e9",
   "metadata": {},
   "outputs": [],
   "source": [
    "# miramos el contenido de la sopa \n"
   ]
  },
  {
   "attachments": {},
   "cell_type": "markdown",
   "id": "6aecccad",
   "metadata": {},
   "source": [
    "Ahora queremos extraer el nombre de los productos: "
   ]
  },
  {
   "cell_type": "code",
   "execution_count": 82,
   "id": "1eda4537",
   "metadata": {},
   "outputs": [],
   "source": [
    "# buscamos los valores de las etiquetas identificadas en tras la inspeccion de la web \n"
   ]
  },
  {
   "cell_type": "code",
   "execution_count": 83,
   "id": "f513f27f",
   "metadata": {},
   "outputs": [],
   "source": [
    "# miramos el tipo del objeto generado"
   ]
  },
  {
   "cell_type": "code",
   "execution_count": 84,
   "id": "8c66ea2b",
   "metadata": {},
   "outputs": [],
   "source": [
    "# identificamos el numero de productos \n"
   ]
  },
  {
   "cell_type": "code",
   "execution_count": 85,
   "id": "f7e3d7d4",
   "metadata": {},
   "outputs": [],
   "source": [
    "# accedemos al primer elemento o producto \n"
   ]
  },
  {
   "cell_type": "code",
   "execution_count": 86,
   "id": "e41d47e4",
   "metadata": {},
   "outputs": [],
   "source": [
    "# el metodo .getText permite  extraer el texto de la etiqueta html"
   ]
  },
  {
   "attachments": {},
   "cell_type": "markdown",
   "id": "7f5fb164",
   "metadata": {},
   "source": [
    "Algunos métodos que podemos aplicar: "
   ]
  },
  {
   "cell_type": "code",
   "execution_count": 87,
   "id": "78f64465",
   "metadata": {},
   "outputs": [],
   "source": [
    "# .text es lo mismo que\n",
    "\n"
   ]
  },
  {
   "attachments": {},
   "cell_type": "markdown",
   "id": "a37eb38b",
   "metadata": {},
   "source": [
    "Recordamos que productos es una lista de elementos con todos los nombres de las zapatillas, por lo que tendremos que iterar por la lista. "
   ]
  },
  {
   "cell_type": "code",
   "execution_count": null,
   "id": "a21184e0",
   "metadata": {},
   "outputs": [],
   "source": []
  },
  {
   "cell_type": "code",
   "execution_count": null,
   "id": "cd1048c3",
   "metadata": {},
   "outputs": [],
   "source": []
  },
  {
   "cell_type": "code",
   "execution_count": 88,
   "id": "1d9461dd",
   "metadata": {},
   "outputs": [],
   "source": [
    "# recordamos que teniamos un diccionario creado para almacenar los resultados de nuestras búsquedas.\n"
   ]
  },
  {
   "cell_type": "code",
   "execution_count": 89,
   "id": "a5a1fee8",
   "metadata": {},
   "outputs": [],
   "source": [
    "# iteramos sobre los productos y los vamos guardando en el diccionario creado anteriormente\n",
    "\n"
   ]
  },
  {
   "cell_type": "code",
   "execution_count": 90,
   "id": "f18195ac",
   "metadata": {},
   "outputs": [],
   "source": [
    "# comprobamos el resultado de nuestro diccionario"
   ]
  },
  {
   "attachments": {},
   "cell_type": "markdown",
   "id": "be74f8b6",
   "metadata": {},
   "source": [
    "Sacamos los precios originales y los descuentos de las zapatillas: "
   ]
  },
  {
   "cell_type": "code",
   "execution_count": 91,
   "id": "4c9a9d30",
   "metadata": {},
   "outputs": [],
   "source": [
    "#lista de precios\n"
   ]
  },
  {
   "cell_type": "code",
   "execution_count": 92,
   "id": "19dfac4c",
   "metadata": {},
   "outputs": [],
   "source": [
    "# comprobamos el numero de elementos "
   ]
  },
  {
   "cell_type": "code",
   "execution_count": 93,
   "id": "29d53979",
   "metadata": {},
   "outputs": [],
   "source": [
    "# comprobamos el resultado con el primer elemento de la lista \n"
   ]
  },
  {
   "cell_type": "code",
   "execution_count": 94,
   "id": "293272b9",
   "metadata": {},
   "outputs": [],
   "source": [
    "# aplicamos  regex para extraer el precio de la lista de precios \n",
    "\n"
   ]
  },
  {
   "cell_type": "code",
   "execution_count": null,
   "id": "0f63d88b",
   "metadata": {},
   "outputs": [],
   "source": []
  },
  {
   "cell_type": "code",
   "execution_count": 95,
   "id": "d84f24b8",
   "metadata": {},
   "outputs": [],
   "source": [
    "# limpiamos los resultados: \n",
    "\n",
    "    "
   ]
  },
  {
   "cell_type": "code",
   "execution_count": 96,
   "id": "b32803fb",
   "metadata": {
    "scrolled": false
   },
   "outputs": [],
   "source": [
    "# comprobamos el resultado del precio original \n"
   ]
  },
  {
   "cell_type": "code",
   "execution_count": 97,
   "id": "4913ce86",
   "metadata": {},
   "outputs": [],
   "source": [
    "# comprobamos el resultado del precio rebajado "
   ]
  },
  {
   "attachments": {},
   "cell_type": "markdown",
   "id": "e1a81510",
   "metadata": {},
   "source": [
    "Podemos hacer lo mismo pero usando el método `select`"
   ]
  },
  {
   "cell_type": "code",
   "execution_count": null,
   "id": "ee2985c0",
   "metadata": {},
   "outputs": [],
   "source": []
  },
  {
   "cell_type": "code",
   "execution_count": null,
   "id": "bade1786",
   "metadata": {},
   "outputs": [],
   "source": []
  },
  {
   "attachments": {},
   "cell_type": "markdown",
   "id": "484c309b",
   "metadata": {},
   "source": [
    "Saquemos ahora los precios rebajados usando el select: "
   ]
  },
  {
   "cell_type": "code",
   "execution_count": null,
   "id": "47b3cd68",
   "metadata": {},
   "outputs": [],
   "source": []
  },
  {
   "cell_type": "code",
   "execution_count": null,
   "id": "53e1dfd0",
   "metadata": {},
   "outputs": [],
   "source": []
  },
  {
   "cell_type": "code",
   "execution_count": null,
   "id": "4b63187b",
   "metadata": {},
   "outputs": [],
   "source": []
  },
  {
   "attachments": {},
   "cell_type": "markdown",
   "id": "ab0624e0",
   "metadata": {},
   "source": [
    "Sacamos los enlaces de cada una de las zapatillas: "
   ]
  },
  {
   "cell_type": "code",
   "execution_count": null,
   "id": "ce161918",
   "metadata": {},
   "outputs": [],
   "source": []
  },
  {
   "cell_type": "code",
   "execution_count": 98,
   "id": "6cb141c9",
   "metadata": {},
   "outputs": [],
   "source": [
    "#enlaces[0]"
   ]
  },
  {
   "cell_type": "code",
   "execution_count": null,
   "id": "1f2785f4",
   "metadata": {},
   "outputs": [],
   "source": []
  },
  {
   "cell_type": "code",
   "execution_count": 99,
   "id": "e4bad0d9",
   "metadata": {},
   "outputs": [],
   "source": [
    "#enlaces[0]"
   ]
  },
  {
   "cell_type": "code",
   "execution_count": null,
   "id": "39cf27f9",
   "metadata": {},
   "outputs": [],
   "source": []
  },
  {
   "cell_type": "code",
   "execution_count": 100,
   "id": "619932ea",
   "metadata": {},
   "outputs": [],
   "source": [
    "# ahora sacams los enlaces\n"
   ]
  },
  {
   "cell_type": "code",
   "execution_count": null,
   "id": "b61ba672",
   "metadata": {},
   "outputs": [],
   "source": []
  },
  {
   "cell_type": "code",
   "execution_count": null,
   "id": "8cda68d1",
   "metadata": {},
   "outputs": [],
   "source": []
  },
  {
   "cell_type": "code",
   "execution_count": 101,
   "id": "e2e7a16c",
   "metadata": {},
   "outputs": [],
   "source": [
    "# lo convertimos a dataframe \n"
   ]
  },
  {
   "cell_type": "code",
   "execution_count": 102,
   "id": "df8254ba",
   "metadata": {},
   "outputs": [],
   "source": [
    "# generamos el df \n"
   ]
  },
  {
   "attachments": {},
   "cell_type": "markdown",
   "id": "13f2804f",
   "metadata": {},
   "source": [
    "## Ejemplo 2:  wikipedia medallero"
   ]
  },
  {
   "cell_type": "code",
   "execution_count": 103,
   "id": "520d1605",
   "metadata": {},
   "outputs": [],
   "source": [
    "# establecemos la url\n",
    "\n",
    "\n"
   ]
  },
  {
   "cell_type": "code",
   "execution_count": 104,
   "id": "a1485ec7",
   "metadata": {},
   "outputs": [],
   "source": [
    "# compropbamos el response \n"
   ]
  },
  {
   "cell_type": "code",
   "execution_count": null,
   "id": "a64b581c",
   "metadata": {},
   "outputs": [],
   "source": []
  },
  {
   "cell_type": "code",
   "execution_count": 106,
   "id": "704777f5",
   "metadata": {},
   "outputs": [],
   "source": [
    "# Busco todo lo que tenga la etiqueta \"table\" \n"
   ]
  },
  {
   "cell_type": "code",
   "execution_count": null,
   "id": "ab412afa",
   "metadata": {},
   "outputs": [],
   "source": []
  },
  {
   "cell_type": "code",
   "execution_count": null,
   "id": "3fa09990",
   "metadata": {},
   "outputs": [],
   "source": []
  },
  {
   "cell_type": "code",
   "execution_count": null,
   "id": "e3f1fad7",
   "metadata": {},
   "outputs": [],
   "source": []
  },
  {
   "cell_type": "code",
   "execution_count": 107,
   "id": "9ca6da22",
   "metadata": {},
   "outputs": [],
   "source": [
    "# con esto sacamos todas las filas de nuestra tabla\n",
    "\n",
    "\n"
   ]
  },
  {
   "cell_type": "code",
   "execution_count": 108,
   "id": "d3e3a996",
   "metadata": {},
   "outputs": [],
   "source": [
    "# sacamos las columnas\n"
   ]
  },
  {
   "attachments": {},
   "cell_type": "markdown",
   "id": "25d6797a",
   "metadata": {},
   "source": [
    "Ahora es el momento de sacar las filas (lo haremos con `td`): "
   ]
  },
  {
   "cell_type": "code",
   "execution_count": 109,
   "id": "3feabca7",
   "metadata": {
    "scrolled": true
   },
   "outputs": [],
   "source": [
    "#sacamos filas\n"
   ]
  },
  {
   "cell_type": "code",
   "execution_count": 110,
   "id": "5cdba4ec",
   "metadata": {},
   "outputs": [],
   "source": [
    "# sacamos fila 2 columna 2\n"
   ]
  },
  {
   "cell_type": "code",
   "execution_count": 111,
   "id": "4a6e9185",
   "metadata": {},
   "outputs": [],
   "source": [
    "# sacamos el texto de ese elemento \n"
   ]
  },
  {
   "cell_type": "code",
   "execution_count": 112,
   "id": "3ab90a60",
   "metadata": {},
   "outputs": [],
   "source": [
    "# saquemos la fila 2 columna 3\n"
   ]
  },
  {
   "attachments": {},
   "cell_type": "markdown",
   "id": "3c0ff990",
   "metadata": {},
   "source": [
    "Esto puede ser un dolor si lo hacemos uno a uno. Intentemos hacer un for loop para hacerlo todo del tirón: "
   ]
  },
  {
   "cell_type": "code",
   "execution_count": 113,
   "id": "503dde44",
   "metadata": {},
   "outputs": [],
   "source": [
    "# lo primero que haremos será crear un diccionario donde \n",
    "\n"
   ]
  },
  {
   "cell_type": "code",
   "execution_count": null,
   "id": "6391aaec",
   "metadata": {},
   "outputs": [],
   "source": []
  },
  {
   "cell_type": "code",
   "execution_count": null,
   "id": "fe796121",
   "metadata": {},
   "outputs": [],
   "source": []
  },
  {
   "cell_type": "code",
   "execution_count": null,
   "id": "2c6146a0",
   "metadata": {},
   "outputs": [],
   "source": []
  },
  {
   "cell_type": "code",
   "execution_count": null,
   "id": "0615ec17",
   "metadata": {},
   "outputs": [],
   "source": []
  },
  {
   "cell_type": "code",
   "execution_count": null,
   "id": "a930d2b5",
   "metadata": {},
   "outputs": [],
   "source": []
  }
 ],
 "metadata": {
  "kernelspec": {
   "display_name": "apis",
   "language": "python",
   "name": "python3"
  },
  "language_info": {
   "codemirror_mode": {
    "name": "ipython",
    "version": 3
   },
   "file_extension": ".py",
   "mimetype": "text/x-python",
   "name": "python",
   "nbconvert_exporter": "python",
   "pygments_lexer": "ipython3",
   "version": "3.11.3"
  },
  "toc": {
   "base_numbering": 1,
   "nav_menu": {},
   "number_sections": true,
   "sideBar": true,
   "skip_h1_title": true,
   "title_cell": "Table of Contents",
   "title_sidebar": "Contents",
   "toc_cell": true,
   "toc_position": {},
   "toc_section_display": true,
   "toc_window_display": false
  }
 },
 "nbformat": 4,
 "nbformat_minor": 5
}
